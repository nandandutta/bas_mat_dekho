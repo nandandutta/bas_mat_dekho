{
 "cells": [
  {
   "cell_type": "markdown",
   "metadata": {},
   "source": [
    "Bivariate analysis - Numerical vs Numerical column\n",
    "\n",
    "Regression - Regression attempts to predict one dependent variable (usually denoted by Y) and a series of other changing variables (known as independent variables, usually denoted by X).\n",
    "\n",
    "Linear Regression - Linear Regression is a way of predicting a response Y on the basis of a single predictor variable X. It is assumed that there is approximately a linear relationship between X and Y.\n"
   ]
  },
  {
   "cell_type": "code",
   "execution_count": 1,
   "metadata": {},
   "outputs": [],
   "source": [
    "\n",
    "# Lets import libraries\n",
    "\n",
    "import pandas as pd\n",
    "import matplotlib.pyplot as plt\n",
    "import scipy.stats as stats\n",
    "import sklearn\n",
    "from sklearn.linear_model import LinearRegression"
   ]
  },
  {
   "cell_type": "code",
   "execution_count": 2,
   "metadata": {
    "scrolled": false
   },
   "outputs": [
    {
     "data": {
      "text/html": [
       "<div>\n",
       "<style scoped>\n",
       "    .dataframe tbody tr th:only-of-type {\n",
       "        vertical-align: middle;\n",
       "    }\n",
       "\n",
       "    .dataframe tbody tr th {\n",
       "        vertical-align: top;\n",
       "    }\n",
       "\n",
       "    .dataframe thead th {\n",
       "        text-align: right;\n",
       "    }\n",
       "</style>\n",
       "<table border=\"1\" class=\"dataframe\">\n",
       "  <thead>\n",
       "    <tr style=\"text-align: right;\">\n",
       "      <th></th>\n",
       "      <th>manufacturer</th>\n",
       "      <th>model</th>\n",
       "      <th>displ</th>\n",
       "      <th>year</th>\n",
       "      <th>cyl</th>\n",
       "      <th>trans</th>\n",
       "      <th>cty</th>\n",
       "      <th>hwy</th>\n",
       "      <th>fl</th>\n",
       "      <th>class</th>\n",
       "    </tr>\n",
       "  </thead>\n",
       "  <tbody>\n",
       "    <tr>\n",
       "      <th>0</th>\n",
       "      <td>audi</td>\n",
       "      <td>a4</td>\n",
       "      <td>1.8</td>\n",
       "      <td>1999</td>\n",
       "      <td>4</td>\n",
       "      <td>auto(l5)</td>\n",
       "      <td>18</td>\n",
       "      <td>29</td>\n",
       "      <td>p</td>\n",
       "      <td>compact</td>\n",
       "    </tr>\n",
       "    <tr>\n",
       "      <th>1</th>\n",
       "      <td>audi</td>\n",
       "      <td>a4</td>\n",
       "      <td>1.8</td>\n",
       "      <td>1999</td>\n",
       "      <td>4</td>\n",
       "      <td>manual(m5)</td>\n",
       "      <td>21</td>\n",
       "      <td>29</td>\n",
       "      <td>p</td>\n",
       "      <td>compact</td>\n",
       "    </tr>\n",
       "    <tr>\n",
       "      <th>2</th>\n",
       "      <td>audi</td>\n",
       "      <td>a4</td>\n",
       "      <td>2.0</td>\n",
       "      <td>2008</td>\n",
       "      <td>4</td>\n",
       "      <td>manual(m6)</td>\n",
       "      <td>20</td>\n",
       "      <td>31</td>\n",
       "      <td>p</td>\n",
       "      <td>compact</td>\n",
       "    </tr>\n",
       "    <tr>\n",
       "      <th>3</th>\n",
       "      <td>audi</td>\n",
       "      <td>a4</td>\n",
       "      <td>2.0</td>\n",
       "      <td>2008</td>\n",
       "      <td>4</td>\n",
       "      <td>auto(av)</td>\n",
       "      <td>21</td>\n",
       "      <td>30</td>\n",
       "      <td>p</td>\n",
       "      <td>compact</td>\n",
       "    </tr>\n",
       "    <tr>\n",
       "      <th>4</th>\n",
       "      <td>audi</td>\n",
       "      <td>a4</td>\n",
       "      <td>2.8</td>\n",
       "      <td>1999</td>\n",
       "      <td>6</td>\n",
       "      <td>auto(l5)</td>\n",
       "      <td>16</td>\n",
       "      <td>26</td>\n",
       "      <td>p</td>\n",
       "      <td>compact</td>\n",
       "    </tr>\n",
       "  </tbody>\n",
       "</table>\n",
       "</div>"
      ],
      "text/plain": [
       "  manufacturer model  displ  year  cyl       trans  cty  hwy fl    class\n",
       "0         audi    a4    1.8  1999    4    auto(l5)   18   29  p  compact\n",
       "1         audi    a4    1.8  1999    4  manual(m5)   21   29  p  compact\n",
       "2         audi    a4    2.0  2008    4  manual(m6)   20   31  p  compact\n",
       "3         audi    a4    2.0  2008    4    auto(av)   21   30  p  compact\n",
       "4         audi    a4    2.8  1999    6    auto(l5)   16   26  p  compact"
      ]
     },
     "execution_count": 2,
     "metadata": {},
     "output_type": "execute_result"
    }
   ],
   "source": [
    "# Using the cars data set\n",
    "\n",
    "import os\n",
    "import pandas as pd\n",
    "\n",
    "path =r\"D:\\eda xam\\Batch 6 - EDA\\Cars\"\n",
    "\n",
    "car = pd.read_excel('Cars.xlsx')\n",
    "\n",
    "car.head()"
   ]
  },
  {
   "cell_type": "markdown",
   "metadata": {},
   "source": [
    "Creating a simple linear regression to predict the highway milage given a city milage. We normally do not create the model on whole data. We will learn how to create a more accurate data model in later stage.\n",
    "\n",
    "Right now we are creating the model on whole data"
   ]
  },
  {
   "cell_type": "code",
   "execution_count": 5,
   "metadata": {},
   "outputs": [
    {
     "name": "stdout",
     "output_type": "stream",
     "text": [
      "Estimated intercept: [0.8920411]\n",
      "coefficients: [[1.33745561]]\n"
     ]
    }
   ],
   "source": [
    "# Creating a linear regression object\n",
    "\n",
    "lm = LinearRegression()\n",
    "\n",
    "# Taking only the city milage (X) column and highway milage (Y) column\n",
    "\n",
    "X = car[['cty']]\n",
    "Y = car[['hwy']]\n",
    "\n",
    "# Fitting the model\n",
    "\n",
    "model1 = lm.fit(X, Y) \n",
    "\n",
    "# Printing the intercept value and coefficients value\n",
    "print ('Estimated intercept:', lm.intercept_)\n",
    "print ('coefficients:', lm.coef_)"
   ]
  },
  {
   "cell_type": "code",
   "execution_count": 4,
   "metadata": {},
   "outputs": [
    {
     "data": {
      "text/plain": [
       "array([[35.66588697]])"
      ]
     },
     "execution_count": 4,
     "metadata": {},
     "output_type": "execute_result"
    }
   ],
   "source": [
    "# Thus the linear equation will be Y = 1.33745561 * X + 0.8920411\n",
    "\n",
    "# Lets predict the highway milage if the city milage is 26\n",
    "\n",
    "# Creating a np array \n",
    "\n",
    "val_data = pd.DataFrame.from_dict({'cty' : [26]})\n",
    "\n",
    "# Predicting the highway milage\n",
    "\n",
    "Pred_highway_milage = model1.predict(val_data)\n",
    "\n",
    "Pred_highway_milage"
   ]
  },
  {
   "cell_type": "markdown",
   "metadata": {},
   "source": [
    "Actual model - 4 step process - 1) Split the data into training and testing, 2) train the model on training data, 3) test the model on testing data and 4) predicat the model on the validation data."
   ]
  },
  {
   "cell_type": "code",
   "execution_count": 6,
   "metadata": {},
   "outputs": [
    {
     "data": {
      "text/plain": [
       "(187, 47, 187, 47)"
      ]
     },
     "execution_count": 6,
     "metadata": {},
     "output_type": "execute_result"
    }
   ],
   "source": [
    "# Lets split the data into training and test in the ratio of 80 : 20\n",
    "\n",
    "from sklearn.model_selection import train_test_split\n",
    "\n",
    "X_train, X_test, Y_train, Y_test = train_test_split(X, Y, test_size = 0.2)\n",
    "\n",
    "len(X_train), len(X_test), len(Y_train), len(Y_test)"
   ]
  },
  {
   "cell_type": "code",
   "execution_count": 7,
   "metadata": {},
   "outputs": [
    {
     "name": "stderr",
     "output_type": "stream",
     "text": [
      "C:\\ProgramData\\Anaconda3\\lib\\site-packages\\ipykernel_launcher.py:9: SettingWithCopyWarning: \n",
      "A value is trying to be set on a copy of a slice from a DataFrame.\n",
      "Try using .loc[row_indexer,col_indexer] = value instead\n",
      "\n",
      "See the caveats in the documentation: http://pandas.pydata.org/pandas-docs/stable/indexing.html#indexing-view-versus-copy\n",
      "  if __name__ == '__main__':\n"
     ]
    },
    {
     "data": {
      "text/html": [
       "<div>\n",
       "<style scoped>\n",
       "    .dataframe tbody tr th:only-of-type {\n",
       "        vertical-align: middle;\n",
       "    }\n",
       "\n",
       "    .dataframe tbody tr th {\n",
       "        vertical-align: top;\n",
       "    }\n",
       "\n",
       "    .dataframe thead th {\n",
       "        text-align: right;\n",
       "    }\n",
       "</style>\n",
       "<table border=\"1\" class=\"dataframe\">\n",
       "  <thead>\n",
       "    <tr style=\"text-align: right;\">\n",
       "      <th></th>\n",
       "      <th>hwy</th>\n",
       "      <th>hwy_Pred</th>\n",
       "    </tr>\n",
       "  </thead>\n",
       "  <tbody>\n",
       "    <tr>\n",
       "      <th>85</th>\n",
       "      <td>16</td>\n",
       "      <td>18.40</td>\n",
       "    </tr>\n",
       "    <tr>\n",
       "      <th>155</th>\n",
       "      <td>26</td>\n",
       "      <td>22.35</td>\n",
       "    </tr>\n",
       "    <tr>\n",
       "      <th>97</th>\n",
       "      <td>22</td>\n",
       "      <td>21.03</td>\n",
       "    </tr>\n",
       "    <tr>\n",
       "      <th>175</th>\n",
       "      <td>19</td>\n",
       "      <td>21.03</td>\n",
       "    </tr>\n",
       "    <tr>\n",
       "      <th>200</th>\n",
       "      <td>20</td>\n",
       "      <td>21.03</td>\n",
       "    </tr>\n",
       "  </tbody>\n",
       "</table>\n",
       "</div>"
      ],
      "text/plain": [
       "     hwy  hwy_Pred\n",
       "85    16     18.40\n",
       "155   26     22.35\n",
       "97    22     21.03\n",
       "175   19     21.03\n",
       "200   20     21.03"
      ]
     },
     "execution_count": 7,
     "metadata": {},
     "output_type": "execute_result"
    }
   ],
   "source": [
    "#  Build a linear regression model using my training data sets.\n",
    "\n",
    "lm2 = LinearRegression()\n",
    "\n",
    "model2 = lm2.fit(X_train, Y_train)\n",
    "# Testing the model on test data and storing it in a new column\n",
    "\n",
    "Y_test['hwy_Pred'] = model2.predict(X_test)\n",
    "\n",
    "round(Y_test,2).head()"
   ]
  },
  {
   "cell_type": "code",
   "execution_count": 9,
   "metadata": {},
   "outputs": [
    {
     "data": {
      "text/plain": [
       "array([[35.51212239]])"
      ]
     },
     "execution_count": 9,
     "metadata": {},
     "output_type": "execute_result"
    }
   ],
   "source": [
    "# Lets predict the highway milage for a city milage of 26\n",
    "\n",
    "\n",
    "# Creating the validation data:\n",
    "\n",
    "val_data1 = pd.DataFrame.from_dict({'cty' : [26]})\n",
    "\n",
    "# Predicting the highway milage\n",
    "\n",
    "Pred_highway_milage1 = model2.predict(val_data1)\n",
    "\n",
    "Pred_highway_milage1"
   ]
  },
  {
   "cell_type": "markdown",
   "metadata": {},
   "source": [
    "Exercise - linear regression: The number of visitors to a cycle track and the number of drinks sold by a café at the location are recorded in the dataset - Drinks. Using the data set find the answer for: \n",
    "\n",
    "a) Which particular day does not fit the relationship? \n",
    "b) If one day there were 50 visitors, estimate how many drinks would be sold."
   ]
  },
  {
   "cell_type": "markdown",
   "metadata": {},
   "source": [
    "Univariate analysis - Working with dates column"
   ]
  },
  {
   "cell_type": "code",
   "execution_count": 41,
   "metadata": {},
   "outputs": [
    {
     "data": {
      "text/plain": [
       "Transaction.Date            object\n",
       "Date                datetime64[ns]\n",
       "dtype: object"
      ]
     },
     "execution_count": 41,
     "metadata": {},
     "output_type": "execute_result"
    }
   ],
   "source": [
    "# Importing the data\n",
    "\n",
    "from datetime import date\n",
    "\n",
    "df = pd.read_excel(\"Data and time.xlsx\")\n",
    "\n",
    "# lets check the date column\n",
    "\n",
    "# We can covert any object as datetime object by\n",
    "\n",
    "df['Date'] = pd.to_datetime(df['Transaction.Date'])\n",
    "\n",
    "df.dtypes\n"
   ]
  },
  {
   "cell_type": "code",
   "execution_count": 42,
   "metadata": {},
   "outputs": [],
   "source": [
    "# Lets get few derive columns from date:\n",
    "\n",
    "# 1) Column of month\n",
    "\n",
    "df['Month'] = df['Date'].dt.month\n",
    "\n",
    "# Incase you want Full name of month\n",
    "\n",
    "df['Month'] = df['Date'].dt.month_name()\n",
    "\n",
    "# Incase you want abbrivate form of month\n",
    "\n",
    "df['Month'] = df['Date'].dt.month_name().str.slice(stop = 3)\n",
    "\n",
    "#df.head()"
   ]
  },
  {
   "cell_type": "code",
   "execution_count": 43,
   "metadata": {},
   "outputs": [],
   "source": [
    "# 2) Column of Day\n",
    "\n",
    "df['Day'] = df['Date'].dt.day\n",
    "\n",
    "# Incase you want to extract the weekday name \n",
    "\n",
    "df['Day'] = df['Date'].dt.day_name()\n",
    "\n",
    "# Abbrivate form of day\n",
    "\n",
    "df['Day'] = df['Date'].dt.day_name().str.slice(stop = 3)\n",
    "\n",
    "#df.head(2)"
   ]
  },
  {
   "cell_type": "code",
   "execution_count": 44,
   "metadata": {},
   "outputs": [],
   "source": [
    "# 3) Column of Year\n",
    "\n",
    "df['Year'] = df['Date'].dt.year\n",
    "\n",
    "#df.head(2)"
   ]
  },
  {
   "cell_type": "code",
   "execution_count": 45,
   "metadata": {},
   "outputs": [],
   "source": [
    "# 4) Column of Quarters\n",
    "\n",
    "df['Quarters'] = df['Date'].dt.quarter"
   ]
  },
  {
   "cell_type": "code",
   "execution_count": 46,
   "metadata": {},
   "outputs": [],
   "source": [
    "# You can also use strftime fuction to get the required output\n",
    "\n",
    "df[\"Month2\"] = df['Date'].dt.strftime(\"%m\")\n",
    "\n",
    "#df.head(2)"
   ]
  },
  {
   "cell_type": "code",
   "execution_count": 49,
   "metadata": {},
   "outputs": [],
   "source": [
    "# Lets get few derive columns from time: \n",
    "\n",
    "# 1) Column of time\n",
    "\n",
    "df['Time'] = df['Date'].dt.time\n",
    "\n",
    "#df.head(2)"
   ]
  },
  {
   "cell_type": "code",
   "execution_count": 51,
   "metadata": {},
   "outputs": [],
   "source": [
    "# 2) Column of only hour\n",
    "\n",
    "df['Hour'] = df['Date'].dt.hour\n",
    "\n",
    "#df.head(2)"
   ]
  },
  {
   "cell_type": "code",
   "execution_count": 54,
   "metadata": {},
   "outputs": [],
   "source": [
    "# 3) Column of min and second\n",
    "\n",
    "df['Minute'] = df['Date'].dt.minute\n",
    "\n",
    "df['Second'] = df['Date'].dt.second\n",
    "\n",
    "# df.head(2)"
   ]
  },
  {
   "cell_type": "markdown",
   "metadata": {},
   "source": [
    "Exercise - Date and time: \n",
    "\n",
    "Using the file narendramodi_tweets find the following: \n",
    "\n",
    "1) Month wise tweets\n",
    "2) Hours wise tweets\n",
    "3) Source wise - week day wise tweets"
   ]
  },
  {
   "cell_type": "markdown",
   "metadata": {},
   "source": [
    "Univariate analysis - Text column\n",
    "\n",
    "What can we do in EDA - \n",
    "\n",
    "1) We can identify the lenght of each text\n",
    "2) We can use bag of words concept to identify the top words"
   ]
  },
  {
   "cell_type": "code",
   "execution_count": 3,
   "metadata": {},
   "outputs": [],
   "source": [
    "# Importing the libraries which we will use\n",
    "\n",
    "import numpy as np\n",
    "import pandas as pd\n",
    "import string\n",
    "import nltk\n",
    "#nltk.download('stopwords')\n",
    "from sklearn import preprocessing\n",
    "from sklearn.feature_extraction.text import CountVectorizer\n",
    "from nltk.corpus import stopwords\n",
    "from matplotlib import pyplot as plt"
   ]
  },
  {
   "cell_type": "code",
   "execution_count": 58,
   "metadata": {},
   "outputs": [],
   "source": [
    "# Importing the data\n",
    "\n",
    "df = pd.read_excel('narendramodi_tweets.xlsx')\n",
    "\n",
    "#df.head(2)"
   ]
  },
  {
   "cell_type": "code",
   "execution_count": 59,
   "metadata": {},
   "outputs": [
    {
     "name": "stdout",
     "output_type": "stream",
     "text": [
      "The President's address wonderfully encapsulated India's strengths, aspirations, potential &amp; the efforts towards #TransformingIndia.\n"
     ]
    }
   ],
   "source": [
    "# Subset the column of review.text\n",
    "\n",
    "text = df[['text']]\n",
    "\n",
    "print(text[\"text\"][0])"
   ]
  },
  {
   "cell_type": "code",
   "execution_count": 60,
   "metadata": {},
   "outputs": [
    {
     "name": "stderr",
     "output_type": "stream",
     "text": [
      "E:\\Anacondajupyter\\lib\\site-packages\\ipykernel_launcher.py:3: SettingWithCopyWarning: \n",
      "A value is trying to be set on a copy of a slice from a DataFrame.\n",
      "Try using .loc[row_indexer,col_indexer] = value instead\n",
      "\n",
      "See the caveats in the documentation: http://pandas.pydata.org/pandas-docs/stable/indexing.html#indexing-view-versus-copy\n",
      "  This is separate from the ipykernel package so we can avoid doing imports until\n"
     ]
    },
    {
     "data": {
      "text/html": [
       "<div>\n",
       "<style scoped>\n",
       "    .dataframe tbody tr th:only-of-type {\n",
       "        vertical-align: middle;\n",
       "    }\n",
       "\n",
       "    .dataframe tbody tr th {\n",
       "        vertical-align: top;\n",
       "    }\n",
       "\n",
       "    .dataframe thead th {\n",
       "        text-align: right;\n",
       "    }\n",
       "</style>\n",
       "<table border=\"1\" class=\"dataframe\">\n",
       "  <thead>\n",
       "    <tr style=\"text-align: right;\">\n",
       "      <th></th>\n",
       "      <th>text</th>\n",
       "      <th>Count</th>\n",
       "    </tr>\n",
       "  </thead>\n",
       "  <tbody>\n",
       "    <tr>\n",
       "      <th>0</th>\n",
       "      <td>The President's address wonderfully encapsulat...</td>\n",
       "      <td>14</td>\n",
       "    </tr>\n",
       "    <tr>\n",
       "      <th>1</th>\n",
       "      <td>Rashtrapati Ji's address to both Houses of Par...</td>\n",
       "      <td>16</td>\n",
       "    </tr>\n",
       "    <tr>\n",
       "      <th>2</th>\n",
       "      <td>RT @PMOIndia: Empowering the marginalised. htt...</td>\n",
       "      <td>6</td>\n",
       "    </tr>\n",
       "    <tr>\n",
       "      <th>3</th>\n",
       "      <td>RT @PMOIndia: Commitment to welfare of farmers...</td>\n",
       "      <td>8</td>\n",
       "    </tr>\n",
       "    <tr>\n",
       "      <th>4</th>\n",
       "      <td>RT @PMOIndia: Improving the quality of life fo...</td>\n",
       "      <td>11</td>\n",
       "    </tr>\n",
       "  </tbody>\n",
       "</table>\n",
       "</div>"
      ],
      "text/plain": [
       "                                                text  Count\n",
       "0  The President's address wonderfully encapsulat...     14\n",
       "1  Rashtrapati Ji's address to both Houses of Par...     16\n",
       "2  RT @PMOIndia: Empowering the marginalised. htt...      6\n",
       "3  RT @PMOIndia: Commitment to welfare of farmers...      8\n",
       "4  RT @PMOIndia: Improving the quality of life fo...     11"
      ]
     },
     "execution_count": 60,
     "metadata": {},
     "output_type": "execute_result"
    }
   ],
   "source": [
    "# A very basic features we can extract is the number of words in each review.\n",
    "\n",
    "text[\"Count\"] = text['text'].apply(lambda x : len(str(x).split(\" \")))\n",
    "\n",
    "text.head()"
   ]
  },
  {
   "cell_type": "code",
   "execution_count": 61,
   "metadata": {},
   "outputs": [
    {
     "name": "stdout",
     "output_type": "stream",
     "text": [
      "the presidents address wonderfully encapsulated indias strengths aspirations potential amp the efforts towards transformingindia\n"
     ]
    },
    {
     "name": "stderr",
     "output_type": "stream",
     "text": [
      "E:\\Anacondajupyter\\lib\\site-packages\\ipykernel_launcher.py:3: SettingWithCopyWarning: \n",
      "A value is trying to be set on a copy of a slice from a DataFrame.\n",
      "Try using .loc[row_indexer,col_indexer] = value instead\n",
      "\n",
      "See the caveats in the documentation: http://pandas.pydata.org/pandas-docs/stable/indexing.html#indexing-view-versus-copy\n",
      "  This is separate from the ipykernel package so we can avoid doing imports until\n"
     ]
    }
   ],
   "source": [
    "# Cleaning the data - removing punctuation, numbers, converting everything to lower case etc\n",
    "\n",
    "text['Clean_text'] = text['text'].str.lower().str.replace('[^a-z ]', '')\n",
    "\n",
    "print(text[\"Clean_text\"][0])"
   ]
  },
  {
   "cell_type": "code",
   "execution_count": 62,
   "metadata": {},
   "outputs": [
    {
     "name": "stderr",
     "output_type": "stream",
     "text": [
      "E:\\Anacondajupyter\\lib\\site-packages\\ipykernel_launcher.py:14: SettingWithCopyWarning: \n",
      "A value is trying to be set on a copy of a slice from a DataFrame.\n",
      "Try using .loc[row_indexer,col_indexer] = value instead\n",
      "\n",
      "See the caveats in the documentation: http://pandas.pydata.org/pandas-docs/stable/indexing.html#indexing-view-versus-copy\n",
      "  \n"
     ]
    },
    {
     "data": {
      "text/html": [
       "<div>\n",
       "<style scoped>\n",
       "    .dataframe tbody tr th:only-of-type {\n",
       "        vertical-align: middle;\n",
       "    }\n",
       "\n",
       "    .dataframe tbody tr th {\n",
       "        vertical-align: top;\n",
       "    }\n",
       "\n",
       "    .dataframe thead th {\n",
       "        text-align: right;\n",
       "    }\n",
       "</style>\n",
       "<table border=\"1\" class=\"dataframe\">\n",
       "  <thead>\n",
       "    <tr style=\"text-align: right;\">\n",
       "      <th></th>\n",
       "      <th>text</th>\n",
       "      <th>Count</th>\n",
       "      <th>Clean_text</th>\n",
       "      <th>Split_words</th>\n",
       "    </tr>\n",
       "  </thead>\n",
       "  <tbody>\n",
       "    <tr>\n",
       "      <th>0</th>\n",
       "      <td>The President's address wonderfully encapsulat...</td>\n",
       "      <td>14</td>\n",
       "      <td>the presidents address wonderfully encapsulate...</td>\n",
       "      <td>presidents address wonderfully encapsulated in...</td>\n",
       "    </tr>\n",
       "    <tr>\n",
       "      <th>1</th>\n",
       "      <td>Rashtrapati Ji's address to both Houses of Par...</td>\n",
       "      <td>16</td>\n",
       "      <td>rashtrapati jis address to both houses of parl...</td>\n",
       "      <td>rashtrapati jis address houses parliament inde...</td>\n",
       "    </tr>\n",
       "    <tr>\n",
       "      <th>2</th>\n",
       "      <td>RT @PMOIndia: Empowering the marginalised. htt...</td>\n",
       "      <td>6</td>\n",
       "      <td>rt pmoindia empowering the marginalised httpst...</td>\n",
       "      <td>rt pmoindia empowering marginalised httpstcoww...</td>\n",
       "    </tr>\n",
       "    <tr>\n",
       "      <th>3</th>\n",
       "      <td>RT @PMOIndia: Commitment to welfare of farmers...</td>\n",
       "      <td>8</td>\n",
       "      <td>rt pmoindia commitment to welfare of farmers h...</td>\n",
       "      <td>rt pmoindia commitment welfare farmers httpstc...</td>\n",
       "    </tr>\n",
       "    <tr>\n",
       "      <th>4</th>\n",
       "      <td>RT @PMOIndia: Improving the quality of life fo...</td>\n",
       "      <td>11</td>\n",
       "      <td>rt pmoindia improving the quality of life for ...</td>\n",
       "      <td>rt pmoindia improving quality life poor httpst...</td>\n",
       "    </tr>\n",
       "  </tbody>\n",
       "</table>\n",
       "</div>"
      ],
      "text/plain": [
       "                                                text  Count  \\\n",
       "0  The President's address wonderfully encapsulat...     14   \n",
       "1  Rashtrapati Ji's address to both Houses of Par...     16   \n",
       "2  RT @PMOIndia: Empowering the marginalised. htt...      6   \n",
       "3  RT @PMOIndia: Commitment to welfare of farmers...      8   \n",
       "4  RT @PMOIndia: Improving the quality of life fo...     11   \n",
       "\n",
       "                                          Clean_text  \\\n",
       "0  the presidents address wonderfully encapsulate...   \n",
       "1  rashtrapati jis address to both houses of parl...   \n",
       "2  rt pmoindia empowering the marginalised httpst...   \n",
       "3  rt pmoindia commitment to welfare of farmers h...   \n",
       "4  rt pmoindia improving the quality of life for ...   \n",
       "\n",
       "                                         Split_words  \n",
       "0  presidents address wonderfully encapsulated in...  \n",
       "1  rashtrapati jis address houses parliament inde...  \n",
       "2  rt pmoindia empowering marginalised httpstcoww...  \n",
       "3  rt pmoindia commitment welfare farmers httpstc...  \n",
       "4  rt pmoindia improving quality life poor httpst...  "
      ]
     },
     "execution_count": 62,
     "metadata": {},
     "output_type": "execute_result"
    }
   ],
   "source": [
    "# Removing the stop words\n",
    "\n",
    "stop = set(stopwords.words('english'))\n",
    "\n",
    "# If you want to extend the stopword list\n",
    "\n",
    "# stop.extend(['use', 'im'])\n",
    "\n",
    "def sw(text):\n",
    "    text = [word for word in text.split() if word not in stop]\n",
    "    # joining the list of words with space separator\n",
    "    return \" \".join(text)\n",
    "\n",
    "text['Split_words'] = text['Clean_text'].apply(sw)\n",
    "\n",
    "text.head()"
   ]
  },
  {
   "cell_type": "code",
   "execution_count": 63,
   "metadata": {},
   "outputs": [],
   "source": [
    "# create a count vectorizer object\n",
    "count_vectorizer = CountVectorizer()\n",
    "# fit the count vectorizer using the text data\n",
    "count_vectorizer.fit(text[\"Split_words\"])\n",
    "# collect the vocabulary items used in the vectorizer\n",
    "dictionary = count_vectorizer.vocabulary_.items() "
   ]
  },
  {
   "cell_type": "code",
   "execution_count": 64,
   "metadata": {},
   "outputs": [
    {
     "data": {
      "text/html": [
       "<div>\n",
       "<style scoped>\n",
       "    .dataframe tbody tr th:only-of-type {\n",
       "        vertical-align: middle;\n",
       "    }\n",
       "\n",
       "    .dataframe tbody tr th {\n",
       "        vertical-align: top;\n",
       "    }\n",
       "\n",
       "    .dataframe thead th {\n",
       "        text-align: right;\n",
       "    }\n",
       "</style>\n",
       "<table border=\"1\" class=\"dataframe\">\n",
       "  <thead>\n",
       "    <tr style=\"text-align: right;\">\n",
       "      <th></th>\n",
       "      <th>Word</th>\n",
       "      <th>Freq</th>\n",
       "    </tr>\n",
       "  </thead>\n",
       "  <tbody>\n",
       "    <tr>\n",
       "      <th>256</th>\n",
       "      <td>amp</td>\n",
       "      <td>1477</td>\n",
       "    </tr>\n",
       "    <tr>\n",
       "      <th>6917</th>\n",
       "      <td>rt</td>\n",
       "      <td>573</td>\n",
       "    </tr>\n",
       "    <tr>\n",
       "      <th>4460</th>\n",
       "      <td>india</td>\n",
       "      <td>365</td>\n",
       "    </tr>\n",
       "    <tr>\n",
       "      <th>6108</th>\n",
       "      <td>people</td>\n",
       "      <td>203</td>\n",
       "    </tr>\n",
       "    <tr>\n",
       "      <th>6224</th>\n",
       "      <td>pm</td>\n",
       "      <td>169</td>\n",
       "    </tr>\n",
       "  </tbody>\n",
       "</table>\n",
       "</div>"
      ],
      "text/plain": [
       "        Word  Freq\n",
       "256      amp  1477\n",
       "6917      rt   573\n",
       "4460   india   365\n",
       "6108  people   203\n",
       "6224      pm   169"
      ]
     },
     "execution_count": 64,
     "metadata": {},
     "output_type": "execute_result"
    }
   ],
   "source": [
    "# Creating DTM\n",
    "X = count_vectorizer.fit_transform(text['Split_words'])\n",
    "\n",
    "# Converting a DTM to a DTM data frame\n",
    "DTM = pd.DataFrame(X.toarray(), columns=count_vectorizer.get_feature_names())\n",
    "DTM.head()\n",
    "\n",
    "# Word and they freq\n",
    "\n",
    "word_count_freq = DTM.sum()\n",
    "\n",
    "#word_count_freq.sort_values(ascending=False)\n",
    "\n",
    "Word_table = pd.DataFrame(word_count_freq).reset_index()\n",
    "\n",
    "Word_table = Word_table.rename(columns={\"index\" : 'Word', 0 : \"Freq\"})\n",
    "\n",
    "Word_table.sort_values(by = 'Freq', ascending = False).head()"
   ]
  },
  {
   "cell_type": "code",
   "execution_count": 65,
   "metadata": {},
   "outputs": [
    {
     "data": {
      "image/png": "[encoded data removed]",
      "text/plain": [
       "<Figure size 1080x360 with 1 Axes>"
      ]
     },
     "metadata": {
      "needs_background": "light"
     },
     "output_type": "display_data"
    }
   ],
   "source": [
    "# top 10 words used by customers in review\n",
    "\n",
    "Top_10_words = Word_table.sort_values(by = 'Freq', ascending = False).head(10)\n",
    "\n",
    "Top_10_words\n",
    "\n",
    "# Plotting the top 10 words\n",
    "\n",
    "plt.rcParams['figure.figsize'] = [15, 5]\n",
    "plt.bar(Top_10_words['Word'], Top_10_words['Freq'], width=0.5)\n",
    "plt.xlabel(\"Words\")\n",
    "plt.ylabel(\"Word Frequency\")\n",
    "plt.title(\"Top 10 words\")\n",
    "\n",
    "plt.show()"
   ]
  },
  {
   "cell_type": "code",
   "execution_count": 66,
   "metadata": {},
   "outputs": [
    {
     "data": {
      "image/png": "[encoded data removed]",
      "text/plain": [
       "<Figure size 720x360 with 1 Axes>"
      ]
     },
     "metadata": {
      "needs_background": "light"
     },
     "output_type": "display_data"
    }
   ],
   "source": [
    "# Creating a word cloud\n",
    "\n",
    "# Libraries\n",
    "from wordcloud import WordCloud\n",
    "import matplotlib.pyplot as plt\n",
    "\n",
    "# Step 1: Create the wordcloud object\n",
    "\n",
    "input_string = ' '.join(text['Split_words'])\n",
    "\n",
    "wordcloud = WordCloud(width=480, height=480, margin=0, background_color=\"skyblue\").generate(input_string)\n",
    "\n",
    "# Step 2: Display the generated image\n",
    "\n",
    "plt.rcParams['figure.figsize'] = [10, 5]\n",
    "plt.imshow(wordcloud, interpolation='bilinear')\n",
    "plt.axis(\"off\")\n",
    "plt.margins(x=0, y=0)\n",
    "plt.show()"
   ]
  }
 ],
 "metadata": {
  "kernelspec": {
   "display_name": "Python 3",
   "language": "python",
   "name": "python3"
  },
  "language_info": {
   "codemirror_mode": {
    "name": "ipython",
    "version": 3
   },
   "file_extension": ".py",
   "mimetype": "text/x-python",
   "name": "python",
   "nbconvert_exporter": "python",
   "pygments_lexer": "ipython3",
   "version": "3.7.3"
  }
 },
 "nbformat": 4,
 "nbformat_minor": 2
}
