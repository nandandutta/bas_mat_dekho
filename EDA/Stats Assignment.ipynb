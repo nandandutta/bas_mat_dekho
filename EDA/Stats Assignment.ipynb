{
 "cells": [
  {
   "cell_type": "code",
   "execution_count": null,
   "metadata": {},
   "outputs": [],
   "source": []
  },
  {
   "cell_type": "code",
   "execution_count": 1,
   "metadata": {},
   "outputs": [],
   "source": [
    "import pandas as pd\n",
    "import numpy as np\n",
    "from scipy.stats import chi2_contingency "
   ]
  },
  {
   "cell_type": "code",
   "execution_count": 3,
   "metadata": {},
   "outputs": [
    {
     "data": {
      "text/html": [
       "<div>\n",
       "<style scoped>\n",
       "    .dataframe tbody tr th:only-of-type {\n",
       "        vertical-align: middle;\n",
       "    }\n",
       "\n",
       "    .dataframe tbody tr th {\n",
       "        vertical-align: top;\n",
       "    }\n",
       "\n",
       "    .dataframe thead th {\n",
       "        text-align: right;\n",
       "    }\n",
       "</style>\n",
       "<table border=\"1\" class=\"dataframe\">\n",
       "  <thead>\n",
       "    <tr style=\"text-align: right;\">\n",
       "      <th></th>\n",
       "      <th>Serial number</th>\n",
       "      <th>Age (yrs)</th>\n",
       "      <th>Gender</th>\n",
       "      <th>Occupation</th>\n",
       "      <th>Site of death</th>\n",
       "      <th>Time of death</th>\n",
       "      <th>Alco,Drug etc</th>\n",
       "      <th>Use of helmet</th>\n",
       "      <th>Type of vehicle</th>\n",
       "      <th>Period of coma (hrs)</th>\n",
       "      <th>Person died</th>\n",
       "      <th>Unnamed: 11</th>\n",
       "      <th>Unnamed: 12</th>\n",
       "    </tr>\n",
       "  </thead>\n",
       "  <tbody>\n",
       "    <tr>\n",
       "      <th>0</th>\n",
       "      <td>1</td>\n",
       "      <td>24</td>\n",
       "      <td>Male</td>\n",
       "      <td>Bussinesman</td>\n",
       "      <td>On the way</td>\n",
       "      <td>After 1 hour</td>\n",
       "      <td>Yes</td>\n",
       "      <td>No</td>\n",
       "      <td>Scooter</td>\n",
       "      <td>1.0</td>\n",
       "      <td>Rider</td>\n",
       "      <td>NaN</td>\n",
       "      <td>NaN</td>\n",
       "    </tr>\n",
       "    <tr>\n",
       "      <th>1</th>\n",
       "      <td>2</td>\n",
       "      <td>63</td>\n",
       "      <td>Male</td>\n",
       "      <td>Retired Person</td>\n",
       "      <td>Hospital</td>\n",
       "      <td>After 120  hours</td>\n",
       "      <td>Yes</td>\n",
       "      <td>No</td>\n",
       "      <td>Scooty</td>\n",
       "      <td>120.0</td>\n",
       "      <td>Rider</td>\n",
       "      <td>NaN</td>\n",
       "      <td>NaN</td>\n",
       "    </tr>\n",
       "    <tr>\n",
       "      <th>2</th>\n",
       "      <td>3</td>\n",
       "      <td>23</td>\n",
       "      <td>Female</td>\n",
       "      <td>Student</td>\n",
       "      <td>Spot</td>\n",
       "      <td>Immediately</td>\n",
       "      <td>Yes</td>\n",
       "      <td>No</td>\n",
       "      <td>Scooter</td>\n",
       "      <td>NaN</td>\n",
       "      <td>Pillion</td>\n",
       "      <td>NaN</td>\n",
       "      <td>NaN</td>\n",
       "    </tr>\n",
       "    <tr>\n",
       "      <th>3</th>\n",
       "      <td>4</td>\n",
       "      <td>41</td>\n",
       "      <td>Female</td>\n",
       "      <td>Student</td>\n",
       "      <td>Hospital</td>\n",
       "      <td>After 144  hours</td>\n",
       "      <td>Yes</td>\n",
       "      <td>Na</td>\n",
       "      <td>Kinetic Honda</td>\n",
       "      <td>144.0</td>\n",
       "      <td>Rider</td>\n",
       "      <td>NaN</td>\n",
       "      <td>NaN</td>\n",
       "    </tr>\n",
       "    <tr>\n",
       "      <th>4</th>\n",
       "      <td>5</td>\n",
       "      <td>25</td>\n",
       "      <td>Male</td>\n",
       "      <td>Employee</td>\n",
       "      <td>Hospital</td>\n",
       "      <td>After 192  hours</td>\n",
       "      <td>Yes</td>\n",
       "      <td>Yes</td>\n",
       "      <td>RX 100</td>\n",
       "      <td>192.0</td>\n",
       "      <td>Rider</td>\n",
       "      <td>NaN</td>\n",
       "      <td>NaN</td>\n",
       "    </tr>\n",
       "  </tbody>\n",
       "</table>\n",
       "</div>"
      ],
      "text/plain": [
       "   Serial number  Age (yrs)  Gender      Occupation Site of death  \\\n",
       "0              1         24    Male     Bussinesman    On the way   \n",
       "1              2         63    Male  Retired Person      Hospital   \n",
       "2              3         23  Female         Student          Spot   \n",
       "3              4         41  Female         Student      Hospital   \n",
       "4              5         25    Male        Employee      Hospital   \n",
       "\n",
       "      Time of death Alco,Drug etc Use of helmet Type of vehicle  \\\n",
       "0      After 1 hour           Yes            No         Scooter   \n",
       "1  After 120  hours           Yes            No          Scooty   \n",
       "2       Immediately           Yes            No         Scooter   \n",
       "3  After 144  hours           Yes            Na   Kinetic Honda   \n",
       "4  After 192  hours           Yes           Yes          RX 100   \n",
       "\n",
       "   Period of coma (hrs) Person died  Unnamed: 11  Unnamed: 12  \n",
       "0                   1.0       Rider          NaN          NaN  \n",
       "1                 120.0       Rider          NaN          NaN  \n",
       "2                   NaN     Pillion          NaN          NaN  \n",
       "3                 144.0       Rider          NaN          NaN  \n",
       "4                 192.0       Rider          NaN          NaN  "
      ]
     },
     "execution_count": 3,
     "metadata": {},
     "output_type": "execute_result"
    }
   ],
   "source": [
    "d = pd.read_excel('D:/AVI/Assignments/Stats - Assignment 1 -/Assignment_Batch7_stats.xlsx',skiprows =18)\n",
    "d.head()"
   ]
  },
  {
   "cell_type": "code",
   "execution_count": 127,
   "metadata": {},
   "outputs": [
    {
     "data": {
      "text/plain": [
       "(50, 13)"
      ]
     },
     "execution_count": 127,
     "metadata": {},
     "output_type": "execute_result"
    }
   ],
   "source": [
    "d.shape"
   ]
  },
  {
   "cell_type": "code",
   "execution_count": 125,
   "metadata": {},
   "outputs": [
    {
     "data": {
      "text/html": [
       "<div>\n",
       "<style scoped>\n",
       "    .dataframe tbody tr th:only-of-type {\n",
       "        vertical-align: middle;\n",
       "    }\n",
       "\n",
       "    .dataframe tbody tr th {\n",
       "        vertical-align: top;\n",
       "    }\n",
       "\n",
       "    .dataframe thead th {\n",
       "        text-align: right;\n",
       "    }\n",
       "</style>\n",
       "<table border=\"1\" class=\"dataframe\">\n",
       "  <thead>\n",
       "    <tr style=\"text-align: right;\">\n",
       "      <th></th>\n",
       "      <th>Serial number</th>\n",
       "      <th>Age (yrs)</th>\n",
       "      <th>Period of coma (hrs)</th>\n",
       "      <th>Unnamed: 11</th>\n",
       "      <th>Unnamed: 12</th>\n",
       "    </tr>\n",
       "  </thead>\n",
       "  <tbody>\n",
       "    <tr>\n",
       "      <th>count</th>\n",
       "      <td>50.00000</td>\n",
       "      <td>50.000000</td>\n",
       "      <td>25.000000</td>\n",
       "      <td>0.0</td>\n",
       "      <td>0.0</td>\n",
       "    </tr>\n",
       "    <tr>\n",
       "      <th>mean</th>\n",
       "      <td>25.50000</td>\n",
       "      <td>31.640000</td>\n",
       "      <td>105.200000</td>\n",
       "      <td>NaN</td>\n",
       "      <td>NaN</td>\n",
       "    </tr>\n",
       "    <tr>\n",
       "      <th>std</th>\n",
       "      <td>14.57738</td>\n",
       "      <td>15.372597</td>\n",
       "      <td>112.339144</td>\n",
       "      <td>NaN</td>\n",
       "      <td>NaN</td>\n",
       "    </tr>\n",
       "    <tr>\n",
       "      <th>min</th>\n",
       "      <td>1.00000</td>\n",
       "      <td>5.000000</td>\n",
       "      <td>1.000000</td>\n",
       "      <td>NaN</td>\n",
       "      <td>NaN</td>\n",
       "    </tr>\n",
       "    <tr>\n",
       "      <th>25%</th>\n",
       "      <td>13.25000</td>\n",
       "      <td>22.000000</td>\n",
       "      <td>5.000000</td>\n",
       "      <td>NaN</td>\n",
       "      <td>NaN</td>\n",
       "    </tr>\n",
       "    <tr>\n",
       "      <th>50%</th>\n",
       "      <td>25.50000</td>\n",
       "      <td>31.500000</td>\n",
       "      <td>72.000000</td>\n",
       "      <td>NaN</td>\n",
       "      <td>NaN</td>\n",
       "    </tr>\n",
       "    <tr>\n",
       "      <th>75%</th>\n",
       "      <td>37.75000</td>\n",
       "      <td>39.750000</td>\n",
       "      <td>144.000000</td>\n",
       "      <td>NaN</td>\n",
       "      <td>NaN</td>\n",
       "    </tr>\n",
       "    <tr>\n",
       "      <th>max</th>\n",
       "      <td>50.00000</td>\n",
       "      <td>72.000000</td>\n",
       "      <td>384.000000</td>\n",
       "      <td>NaN</td>\n",
       "      <td>NaN</td>\n",
       "    </tr>\n",
       "  </tbody>\n",
       "</table>\n",
       "</div>"
      ],
      "text/plain": [
       "       Serial number  Age (yrs)  Period of coma (hrs)  Unnamed: 11  \\\n",
       "count       50.00000  50.000000             25.000000          0.0   \n",
       "mean        25.50000  31.640000            105.200000          NaN   \n",
       "std         14.57738  15.372597            112.339144          NaN   \n",
       "min          1.00000   5.000000              1.000000          NaN   \n",
       "25%         13.25000  22.000000              5.000000          NaN   \n",
       "50%         25.50000  31.500000             72.000000          NaN   \n",
       "75%         37.75000  39.750000            144.000000          NaN   \n",
       "max         50.00000  72.000000            384.000000          NaN   \n",
       "\n",
       "       Unnamed: 12  \n",
       "count          0.0  \n",
       "mean           NaN  \n",
       "std            NaN  \n",
       "min            NaN  \n",
       "25%            NaN  \n",
       "50%            NaN  \n",
       "75%            NaN  \n",
       "max            NaN  "
      ]
     },
     "execution_count": 125,
     "metadata": {},
     "output_type": "execute_result"
    }
   ],
   "source": [
    "d.describe()"
   ]
  },
  {
   "cell_type": "code",
   "execution_count": 128,
   "metadata": {},
   "outputs": [
    {
     "data": {
      "text/plain": [
       "Index(['Serial number', 'Age (yrs)', 'Gender', 'Occupation', 'Site of death',\n",
       "       'Time of death', 'Alco,Drug etc', 'Use of helmet', 'Type of vehicle',\n",
       "       'Period of coma (hrs)', 'Person died', 'Unnamed: 11', 'Unnamed: 12'],\n",
       "      dtype='object')"
      ]
     },
     "execution_count": 128,
     "metadata": {},
     "output_type": "execute_result"
    }
   ],
   "source": [
    "d.columns"
   ]
  },
  {
   "cell_type": "markdown",
   "metadata": {},
   "source": [
    "##### Q1 - How many children (<= 18 years) have died in the accident and how many of them are males and females?"
   ]
  },
  {
   "cell_type": "code",
   "execution_count": 4,
   "metadata": {},
   "outputs": [
    {
     "data": {
      "text/plain": [
       "Gender\n",
       "Female    2\n",
       "Male      6\n",
       "Name: Gender, dtype: int64"
      ]
     },
     "execution_count": 4,
     "metadata": {},
     "output_type": "execute_result"
    }
   ],
   "source": [
    "d[d['Age (yrs)'] <= 18].groupby('Gender')['Gender'].count()"
   ]
  },
  {
   "cell_type": "markdown",
   "metadata": {},
   "source": [
    "##### Q2 - How many children had taken alcohol? Were they riders or pillion when they died? "
   ]
  },
  {
   "cell_type": "code",
   "execution_count": 8,
   "metadata": {},
   "outputs": [
    {
     "name": "stdout",
     "output_type": "stream",
     "text": [
      "3\n",
      "Person died\n",
      "Pillion    2\n",
      "Rider      1\n",
      "Name: Person died, dtype: int64\n"
     ]
    }
   ],
   "source": [
    "print(d[(d['Age (yrs)'] <= 18) & (d['Alco,Drug etc'] =='Yes')]['Person died'].count())\n",
    "print(d[(d['Age (yrs)'] <= 18) & (d['Alco,Drug etc'] =='Yes')].groupby('Person died')['Person died'].count())"
   ]
  },
  {
   "cell_type": "markdown",
   "metadata": {},
   "source": [
    "##### Q3 - How many children have died immediately in the accident as pillion riders who had consumed alcolhol? "
   ]
  },
  {
   "cell_type": "code",
   "execution_count": 162,
   "metadata": {},
   "outputs": [
    {
     "data": {
      "text/plain": [
       "2"
      ]
     },
     "execution_count": 162,
     "metadata": {},
     "output_type": "execute_result"
    }
   ],
   "source": [
    "d[(d['Age (yrs)'] <= 18) & (d['Time of death'] =='Immediately') & (d['Person died'] == 'Pillion' ) & (d['Alco,Drug etc'] =='Yes')]['Gender'].count()"
   ]
  },
  {
   "cell_type": "markdown",
   "metadata": {},
   "source": [
    "##### Q4 - How many have died under the influence of alcohol/drug and without wearing helmet?"
   ]
  },
  {
   "cell_type": "code",
   "execution_count": 165,
   "metadata": {},
   "outputs": [
    {
     "data": {
      "text/plain": [
       "19"
      ]
     },
     "execution_count": 165,
     "metadata": {},
     "output_type": "execute_result"
    }
   ],
   "source": [
    "d[(d['Alco,Drug etc']  =='Yes') & (d['Use of helmet'] == 'No')]['Person died'].count()"
   ]
  },
  {
   "cell_type": "markdown",
   "metadata": {},
   "source": [
    "##### Q5 - How many of them have died between the age group of 31 - 40 years inspite of wearing helmet? "
   ]
  },
  {
   "cell_type": "code",
   "execution_count": 49,
   "metadata": {},
   "outputs": [
    {
     "data": {
      "text/plain": [
       "2"
      ]
     },
     "execution_count": 49,
     "metadata": {},
     "output_type": "execute_result"
    }
   ],
   "source": [
    "d[(d['Age (yrs)']>=31) & (d['Age (yrs)']<=40) & (d['Use of helmet'] == 'Yes')]['Person died'].count()"
   ]
  },
  {
   "cell_type": "markdown",
   "metadata": {},
   "source": [
    "##### Q6 - What is the ratio of male and female who died on the spot? "
   ]
  },
  {
   "cell_type": "code",
   "execution_count": 69,
   "metadata": {},
   "outputs": [
    {
     "data": {
      "text/plain": [
       "Gender\n",
       "Female     5\n",
       "Male      14\n",
       "Name: Gender, dtype: int64"
      ]
     },
     "execution_count": 69,
     "metadata": {},
     "output_type": "execute_result"
    }
   ],
   "source": [
    "d[d['Site of death'] == 'Spot'].groupby('Gender')['Gender'].count()"
   ]
  },
  {
   "cell_type": "code",
   "execution_count": null,
   "metadata": {},
   "outputs": [],
   "source": [
    "# Ratio M:F = 14:5"
   ]
  },
  {
   "cell_type": "markdown",
   "metadata": {},
   "source": [
    "##### Q7 - Whai is the medianal survival time  and IQR of RTA victims who died in the hospital? "
   ]
  },
  {
   "cell_type": "code",
   "execution_count": 86,
   "metadata": {},
   "outputs": [
    {
     "data": {
      "text/plain": [
       "72.0"
      ]
     },
     "execution_count": 86,
     "metadata": {},
     "output_type": "execute_result"
    }
   ],
   "source": [
    "d['Period of coma (hrs)'].median()"
   ]
  },
  {
   "cell_type": "code",
   "execution_count": 56,
   "metadata": {},
   "outputs": [
    {
     "data": {
      "text/plain": [
       "150.25"
      ]
     },
     "execution_count": 56,
     "metadata": {},
     "output_type": "execute_result"
    }
   ],
   "source": [
    "q1 =d[d['Site of death'] =='Hospital']['Period of coma (hrs)'].quantile(0.25)\n",
    "q2 =d[d['Site of death'] =='Hospital']['Period of coma (hrs)'].quantile(0.75)\n",
    "iqr = q2-q1\n",
    "iqr\n"
   ]
  },
  {
   "cell_type": "markdown",
   "metadata": {},
   "source": [
    "##### Q8 - How many of them have died in the hospital for whom wearing of helmet details not available? Do you think these people could have wore helmet at the time of accident?"
   ]
  },
  {
   "cell_type": "code",
   "execution_count": 14,
   "metadata": {},
   "outputs": [
    {
     "data": {
      "text/plain": [
       "6"
      ]
     },
     "execution_count": 14,
     "metadata": {},
     "output_type": "execute_result"
    }
   ],
   "source": [
    "d[(d['Site of death']== 'Hospital') & (d['Use of helmet']== 'Na')]['Person died'].count()"
   ]
  },
  {
   "cell_type": "code",
   "execution_count": 28,
   "metadata": {},
   "outputs": [
    {
     "data": {
      "text/plain": [
       "17"
      ]
     },
     "execution_count": 28,
     "metadata": {},
     "output_type": "execute_result"
    }
   ],
   "source": [
    "d[(d['Site of death']== 'Hospital') & (d['Use of helmet']== 'No')]['Person died'].count()"
   ]
  },
  {
   "cell_type": "code",
   "execution_count": 29,
   "metadata": {},
   "outputs": [
    {
     "data": {
      "text/plain": [
       "2"
      ]
     },
     "execution_count": 29,
     "metadata": {},
     "output_type": "execute_result"
    }
   ],
   "source": [
    "d[(d['Site of death']== 'Hospital') & (d['Use of helmet']== 'Yes')]['Person died'].count()"
   ]
  },
  {
   "cell_type": "code",
   "execution_count": 30,
   "metadata": {},
   "outputs": [
    {
     "data": {
      "text/plain": [
       "25"
      ]
     },
     "execution_count": 30,
     "metadata": {},
     "output_type": "execute_result"
    }
   ],
   "source": [
    "d[(d['Site of death']== 'Hospital')]['Person died'].count()"
   ]
  },
  {
   "cell_type": "code",
   "execution_count": null,
   "metadata": {},
   "outputs": [],
   "source": [
    "# Do you think these people could have wore helmet at the time of accident?\n",
    "No ## as the probabilty of person not wearing helmet is more as compared to person wearing helmet"
   ]
  },
  {
   "cell_type": "markdown",
   "metadata": {},
   "source": [
    "##### Q9 - What is the medianal period of coma (hrs) and IQR of RTA victims who died in the hospital? "
   ]
  },
  {
   "cell_type": "code",
   "execution_count": 15,
   "metadata": {},
   "outputs": [
    {
     "data": {
      "text/plain": [
       "72.0"
      ]
     },
     "execution_count": 15,
     "metadata": {},
     "output_type": "execute_result"
    }
   ],
   "source": [
    "d['Period of coma (hrs)'].median()"
   ]
  },
  {
   "cell_type": "code",
   "execution_count": 16,
   "metadata": {},
   "outputs": [
    {
     "data": {
      "text/plain": [
       "150.25"
      ]
     },
     "execution_count": 16,
     "metadata": {},
     "output_type": "execute_result"
    }
   ],
   "source": [
    "q1 =d[d['Site of death'] =='Hospital']['Period of coma (hrs)'].quantile(0.25)\n",
    "q2 =d[d['Site of death'] =='Hospital']['Period of coma (hrs)'].quantile(0.75)\n",
    "iqr = q2-q1\n",
    "iqr"
   ]
  },
  {
   "cell_type": "markdown",
   "metadata": {},
   "source": [
    "##### Q10 - What is the ratio of students to bussinessmen who died in RTA under the influence of alcohol? "
   ]
  },
  {
   "cell_type": "code",
   "execution_count": 63,
   "metadata": {},
   "outputs": [
    {
     "data": {
      "text/plain": [
       "5"
      ]
     },
     "execution_count": 63,
     "metadata": {},
     "output_type": "execute_result"
    }
   ],
   "source": [
    "d[(d['Occupation'] == 'Bussinesman') & (d['Alco,Drug etc'] == 'Yes')]['Person died'].count()"
   ]
  },
  {
   "cell_type": "code",
   "execution_count": 64,
   "metadata": {},
   "outputs": [
    {
     "data": {
      "text/plain": [
       "6"
      ]
     },
     "execution_count": 64,
     "metadata": {},
     "output_type": "execute_result"
    }
   ],
   "source": [
    "d[(d['Occupation'] == 'Student') & (d['Alco,Drug etc'] == 'Yes')]['Person died'].count()"
   ]
  },
  {
   "cell_type": "code",
   "execution_count": null,
   "metadata": {},
   "outputs": [],
   "source": [
    "# Ratio - Students:Businessman = 5:6"
   ]
  },
  {
   "cell_type": "markdown",
   "metadata": {},
   "source": [
    "##### Q11 - State some of the hypothesis which may be formulated based on this data?  And test these hypothesis "
   ]
  },
  {
   "cell_type": "code",
   "execution_count": 31,
   "metadata": {},
   "outputs": [],
   "source": [
    "# H0 : Alcohol and Use of helmet is independent of each other\n",
    "# H1 : Alcohol and Use of helmet is dependent of each other"
   ]
  },
  {
   "cell_type": "markdown",
   "metadata": {},
   "source": [
    "##### Q12 - Is there sufficient data to test these hypothesis? If so use the available and test those hypothesis. "
   ]
  },
  {
   "cell_type": "code",
   "execution_count": null,
   "metadata": {},
   "outputs": [],
   "source": [
    "# YES"
   ]
  },
  {
   "cell_type": "code",
   "execution_count": 32,
   "metadata": {},
   "outputs": [
    {
     "data": {
      "text/plain": [
       "array(['Yes', 'No'], dtype=object)"
      ]
     },
     "execution_count": 32,
     "metadata": {},
     "output_type": "execute_result"
    }
   ],
   "source": [
    "d['Alco,Drug etc'].unique()"
   ]
  },
  {
   "cell_type": "code",
   "execution_count": 33,
   "metadata": {},
   "outputs": [
    {
     "data": {
      "text/plain": [
       "array(['No', 'Na', 'Yes'], dtype=object)"
      ]
     },
     "execution_count": 33,
     "metadata": {},
     "output_type": "execute_result"
    }
   ],
   "source": [
    "d['Use of helmet'].unique()"
   ]
  },
  {
   "cell_type": "code",
   "execution_count": 35,
   "metadata": {},
   "outputs": [
    {
     "data": {
      "text/html": [
       "<div>\n",
       "<style scoped>\n",
       "    .dataframe tbody tr th:only-of-type {\n",
       "        vertical-align: middle;\n",
       "    }\n",
       "\n",
       "    .dataframe tbody tr th {\n",
       "        vertical-align: top;\n",
       "    }\n",
       "\n",
       "    .dataframe thead th {\n",
       "        text-align: right;\n",
       "    }\n",
       "</style>\n",
       "<table border=\"1\" class=\"dataframe\">\n",
       "  <thead>\n",
       "    <tr style=\"text-align: right;\">\n",
       "      <th>Use of helmet</th>\n",
       "      <th>Na</th>\n",
       "      <th>No</th>\n",
       "      <th>Yes</th>\n",
       "    </tr>\n",
       "    <tr>\n",
       "      <th>Alco,Drug etc</th>\n",
       "      <th></th>\n",
       "      <th></th>\n",
       "      <th></th>\n",
       "    </tr>\n",
       "  </thead>\n",
       "  <tbody>\n",
       "    <tr>\n",
       "      <th>No</th>\n",
       "      <td>7</td>\n",
       "      <td>18</td>\n",
       "      <td>2</td>\n",
       "    </tr>\n",
       "    <tr>\n",
       "      <th>Yes</th>\n",
       "      <td>3</td>\n",
       "      <td>19</td>\n",
       "      <td>1</td>\n",
       "    </tr>\n",
       "  </tbody>\n",
       "</table>\n",
       "</div>"
      ],
      "text/plain": [
       "Use of helmet  Na  No  Yes\n",
       "Alco,Drug etc             \n",
       "No              7  18    2\n",
       "Yes             3  19    1"
      ]
     },
     "execution_count": 35,
     "metadata": {},
     "output_type": "execute_result"
    }
   ],
   "source": [
    "tble = pd.crosstab(index=d['Alco,Drug etc'],columns=d['Use of helmet'])\n",
    "tble"
   ]
  },
  {
   "cell_type": "code",
   "execution_count": 36,
   "metadata": {},
   "outputs": [
    {
     "data": {
      "text/plain": [
       "(1.6509262886074478, 0.4380320734185241, 2, array([[ 5.4 , 19.98,  1.62],\n",
       "        [ 4.6 , 17.02,  1.38]]))"
      ]
     },
     "execution_count": 36,
     "metadata": {},
     "output_type": "execute_result"
    }
   ],
   "source": [
    "from scipy.stats import chi2_contingency \n",
    "chi2_contingency(tble)"
   ]
  },
  {
   "cell_type": "code",
   "execution_count": null,
   "metadata": {},
   "outputs": [],
   "source": [
    "# chi-square statistic - 1.6509262886074478 , p-value = 0.4380320734185241\n",
    "# Since the p value > aplha value \n",
    "# Thus we will accept H0"
   ]
  },
  {
   "cell_type": "markdown",
   "metadata": {},
   "source": [
    "#####  Q13 - Use appropriaate graphs to present the data"
   ]
  },
  {
   "cell_type": "code",
   "execution_count": 47,
   "metadata": {},
   "outputs": [
    {
     "data": {
      "text/plain": [
       "<matplotlib.axes._subplots.AxesSubplot at 0x15ddee6e4a8>"
      ]
     },
     "execution_count": 47,
     "metadata": {},
     "output_type": "execute_result"
    },
    {
     "data": {
      "image/png": "[encoded data removed]",
      "text/plain": [
       "<Figure size 432x288 with 1 Axes>"
      ]
     },
     "metadata": {
      "needs_background": "light"
     },
     "output_type": "display_data"
    }
   ],
   "source": [
    "%matplotlib inline\n",
    "from matplotlib import pyplot as plt \n",
    "tble.plot(kind='bar')\n",
    "#plt.bar(dDrug etc'],x)"
   ]
  },
  {
   "cell_type": "markdown",
   "metadata": {},
   "source": [
    "##### Q14 -What are the different types of vehicles used? "
   ]
  },
  {
   "cell_type": "code",
   "execution_count": 39,
   "metadata": {},
   "outputs": [
    {
     "data": {
      "text/plain": [
       "array(['Scooter', 'Scooty', 'Kinetic Honda', 'RX 100', 'Hero Honda',\n",
       "       'TVS Suzuki', 'Yezdi', 'TVS 50'], dtype=object)"
      ]
     },
     "execution_count": 39,
     "metadata": {},
     "output_type": "execute_result"
    }
   ],
   "source": [
    "d['Type of vehicle'].unique()"
   ]
  },
  {
   "cell_type": "markdown",
   "metadata": {},
   "source": [
    "##### Q15 - Considering 0 for survival of Rider and 1 for death fit a Logistic regression model for the data by treating all other variables has explanatory variables"
   ]
  },
  {
   "cell_type": "code",
   "execution_count": null,
   "metadata": {},
   "outputs": [],
   "source": []
  },
  {
   "cell_type": "code",
   "execution_count": 50,
   "metadata": {},
   "outputs": [
    {
     "data": {
      "text/html": [
       "<div>\n",
       "<style scoped>\n",
       "    .dataframe tbody tr th:only-of-type {\n",
       "        vertical-align: middle;\n",
       "    }\n",
       "\n",
       "    .dataframe tbody tr th {\n",
       "        vertical-align: top;\n",
       "    }\n",
       "\n",
       "    .dataframe thead th {\n",
       "        text-align: right;\n",
       "    }\n",
       "</style>\n",
       "<table border=\"1\" class=\"dataframe\">\n",
       "  <thead>\n",
       "    <tr style=\"text-align: right;\">\n",
       "      <th></th>\n",
       "      <th>Serial number</th>\n",
       "      <th>Age (yrs)</th>\n",
       "      <th>Gender</th>\n",
       "      <th>Occupation</th>\n",
       "      <th>Site of death</th>\n",
       "      <th>Time of death</th>\n",
       "      <th>Alco,Drug etc</th>\n",
       "      <th>Use of helmet</th>\n",
       "      <th>Type of vehicle</th>\n",
       "      <th>Period of coma (hrs)</th>\n",
       "      <th>Person died</th>\n",
       "      <th>Unnamed: 11</th>\n",
       "      <th>Unnamed: 12</th>\n",
       "    </tr>\n",
       "  </thead>\n",
       "  <tbody>\n",
       "    <tr>\n",
       "      <th>0</th>\n",
       "      <td>1</td>\n",
       "      <td>24</td>\n",
       "      <td>Male</td>\n",
       "      <td>Bussinesman</td>\n",
       "      <td>On the way</td>\n",
       "      <td>After 1 hour</td>\n",
       "      <td>Yes</td>\n",
       "      <td>No</td>\n",
       "      <td>Scooter</td>\n",
       "      <td>1.0</td>\n",
       "      <td>Rider</td>\n",
       "      <td>NaN</td>\n",
       "      <td>NaN</td>\n",
       "    </tr>\n",
       "    <tr>\n",
       "      <th>1</th>\n",
       "      <td>2</td>\n",
       "      <td>63</td>\n",
       "      <td>Male</td>\n",
       "      <td>Retired Person</td>\n",
       "      <td>Hospital</td>\n",
       "      <td>After 120  hours</td>\n",
       "      <td>Yes</td>\n",
       "      <td>No</td>\n",
       "      <td>Scooty</td>\n",
       "      <td>120.0</td>\n",
       "      <td>Rider</td>\n",
       "      <td>NaN</td>\n",
       "      <td>NaN</td>\n",
       "    </tr>\n",
       "    <tr>\n",
       "      <th>2</th>\n",
       "      <td>3</td>\n",
       "      <td>23</td>\n",
       "      <td>Female</td>\n",
       "      <td>Student</td>\n",
       "      <td>Spot</td>\n",
       "      <td>Immediately</td>\n",
       "      <td>Yes</td>\n",
       "      <td>No</td>\n",
       "      <td>Scooter</td>\n",
       "      <td>NaN</td>\n",
       "      <td>Pillion</td>\n",
       "      <td>NaN</td>\n",
       "      <td>NaN</td>\n",
       "    </tr>\n",
       "    <tr>\n",
       "      <th>3</th>\n",
       "      <td>4</td>\n",
       "      <td>41</td>\n",
       "      <td>Female</td>\n",
       "      <td>Student</td>\n",
       "      <td>Hospital</td>\n",
       "      <td>After 144  hours</td>\n",
       "      <td>Yes</td>\n",
       "      <td>Na</td>\n",
       "      <td>Kinetic Honda</td>\n",
       "      <td>144.0</td>\n",
       "      <td>Rider</td>\n",
       "      <td>NaN</td>\n",
       "      <td>NaN</td>\n",
       "    </tr>\n",
       "    <tr>\n",
       "      <th>4</th>\n",
       "      <td>5</td>\n",
       "      <td>25</td>\n",
       "      <td>Male</td>\n",
       "      <td>Employee</td>\n",
       "      <td>Hospital</td>\n",
       "      <td>After 192  hours</td>\n",
       "      <td>Yes</td>\n",
       "      <td>Yes</td>\n",
       "      <td>RX 100</td>\n",
       "      <td>192.0</td>\n",
       "      <td>Rider</td>\n",
       "      <td>NaN</td>\n",
       "      <td>NaN</td>\n",
       "    </tr>\n",
       "  </tbody>\n",
       "</table>\n",
       "</div>"
      ],
      "text/plain": [
       "   Serial number  Age (yrs)  Gender      Occupation Site of death  \\\n",
       "0              1         24    Male     Bussinesman    On the way   \n",
       "1              2         63    Male  Retired Person      Hospital   \n",
       "2              3         23  Female         Student          Spot   \n",
       "3              4         41  Female         Student      Hospital   \n",
       "4              5         25    Male        Employee      Hospital   \n",
       "\n",
       "      Time of death Alco,Drug etc Use of helmet Type of vehicle  \\\n",
       "0      After 1 hour           Yes            No         Scooter   \n",
       "1  After 120  hours           Yes            No          Scooty   \n",
       "2       Immediately           Yes            No         Scooter   \n",
       "3  After 144  hours           Yes            Na   Kinetic Honda   \n",
       "4  After 192  hours           Yes           Yes          RX 100   \n",
       "\n",
       "   Period of coma (hrs) Person died  Unnamed: 11  Unnamed: 12  \n",
       "0                   1.0       Rider          NaN          NaN  \n",
       "1                 120.0       Rider          NaN          NaN  \n",
       "2                   NaN     Pillion          NaN          NaN  \n",
       "3                 144.0       Rider          NaN          NaN  \n",
       "4                 192.0       Rider          NaN          NaN  "
      ]
     },
     "execution_count": 50,
     "metadata": {},
     "output_type": "execute_result"
    }
   ],
   "source": [
    "d.head()"
   ]
  },
  {
   "cell_type": "code",
   "execution_count": null,
   "metadata": {},
   "outputs": [],
   "source": []
  }
 ],
 "metadata": {
  "kernelspec": {
   "display_name": "Python 3",
   "language": "python",
   "name": "python3"
  },
  "language_info": {
   "codemirror_mode": {
    "name": "ipython",
    "version": 3
   },
   "file_extension": ".py",
   "mimetype": "text/x-python",
   "name": "python",
   "nbconvert_exporter": "python",
   "pygments_lexer": "ipython3",
   "version": "3.7.3"
  }
 },
 "nbformat": 4,
 "nbformat_minor": 2
}
