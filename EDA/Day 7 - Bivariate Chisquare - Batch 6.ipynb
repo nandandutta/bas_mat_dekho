{
 "cells": [
  {
   "cell_type": "markdown",
   "metadata": {},
   "source": [
    "Bivariate analysis - Categorical vs Categorical - Chi-sqaure test\n",
    "\n",
    "There are two main kinds of chi square tests: \n",
    "1) The test of independence, which asks a question of relationship, such as, \"Is there a relationship between gender and SAT scores?\"; \n",
    "2) The goodness-of-fit test, which asks something like \"If a coin is tossed 100 times, will it come up heads 50 times and tails 50 times?\""
   ]
  },
  {
   "cell_type": "markdown",
   "metadata": {},
   "source": [
    "Problem Statement: Test the hypothesis whether the students smoking habit is independent of their exercise level \n",
    "\n",
    "HO : Smoking habit is independent of exercise level\n",
    "H1 : Smoking habit is depend on exercise level"
   ]
  },
  {
   "cell_type": "code",
   "execution_count": 31,
   "metadata": {},
   "outputs": [],
   "source": [
    "# Lets import the data set\n",
    "\n",
    "from pydataset import data\n",
    "\n",
    "survey = data('survey')"
   ]
  },
  {
   "cell_type": "code",
   "execution_count": 32,
   "metadata": {},
   "outputs": [],
   "source": [
    "# Lets explore a bit more about smoking and exercise\n",
    "\n",
    "import pandas as pd\n",
    "\n",
    "tble = pd.crosstab(index= survey['Smoke'], columns=survey['Exer'])\n",
    "\n",
    "#tble"
   ]
  },
  {
   "cell_type": "code",
   "execution_count": 8,
   "metadata": {},
   "outputs": [
    {
     "data": {
      "text/plain": [
       "(5.488545890584232,\n",
       " 0.48284216946545633,\n",
       " 6,\n",
       " array([[ 5.36016949,  1.0720339 ,  4.56779661],\n",
       "        [92.09745763, 18.41949153, 78.48305085],\n",
       "        [ 9.25847458,  1.85169492,  7.88983051],\n",
       "        [ 8.28389831,  1.65677966,  7.05932203]]))"
      ]
     },
     "execution_count": 8,
     "metadata": {},
     "output_type": "execute_result"
    }
   ],
   "source": [
    "from scipy.stats import chi2_contingency\n",
    "\n",
    "chi2_contingency(tble)"
   ]
  },
  {
   "cell_type": "markdown",
   "metadata": {},
   "source": [
    "Interpreting the result:\n",
    "\n",
    "1) The first value (5.488) is the chi-square statistic - test that measures how expectations compare to actual observed data (or model results). We can then look at a chi squared statistic table to see, given the degrees of freedom in our set-up, if the result is statistically significant or not.\n",
    "2) The second value is the p-value - 0.4828 which is greater than my alpha in this case\n",
    "3) The 3rd value is degree of freedom - This can be calculated by taking the number of rows minus one and multiplying this result by the number of columns minus one.\n",
    "4) Finally, the array at the end of the output is the contingency table with expected values based on all of our samples."
   ]
  },
  {
   "cell_type": "markdown",
   "metadata": {},
   "source": [
    "Bivariate analysis - Categorical vs Categorical - Grouped bar chart and stacked bar chart\n",
    "\n",
    "Comparing two categorical column based on a numerical value"
   ]
  },
  {
   "cell_type": "code",
   "execution_count": 10,
   "metadata": {},
   "outputs": [
    {
     "data": {
      "text/html": [
       "<div>\n",
       "<style scoped>\n",
       "    .dataframe tbody tr th:only-of-type {\n",
       "        vertical-align: middle;\n",
       "    }\n",
       "\n",
       "    .dataframe tbody tr th {\n",
       "        vertical-align: top;\n",
       "    }\n",
       "\n",
       "    .dataframe thead th {\n",
       "        text-align: right;\n",
       "    }\n",
       "</style>\n",
       "<table border=\"1\" class=\"dataframe\">\n",
       "  <thead>\n",
       "    <tr style=\"text-align: right;\">\n",
       "      <th></th>\n",
       "      <th>Smoke</th>\n",
       "      <th>Exer</th>\n",
       "      <th>Age</th>\n",
       "    </tr>\n",
       "  </thead>\n",
       "  <tbody>\n",
       "    <tr>\n",
       "      <th>0</th>\n",
       "      <td>Heavy</td>\n",
       "      <td>Freq</td>\n",
       "      <td>22.773714</td>\n",
       "    </tr>\n",
       "    <tr>\n",
       "      <th>1</th>\n",
       "      <td>Heavy</td>\n",
       "      <td>None</td>\n",
       "      <td>20.917000</td>\n",
       "    </tr>\n",
       "    <tr>\n",
       "      <th>2</th>\n",
       "      <td>Heavy</td>\n",
       "      <td>Some</td>\n",
       "      <td>18.333667</td>\n",
       "    </tr>\n",
       "    <tr>\n",
       "      <th>3</th>\n",
       "      <td>Never</td>\n",
       "      <td>Freq</td>\n",
       "      <td>20.151379</td>\n",
       "    </tr>\n",
       "    <tr>\n",
       "      <th>4</th>\n",
       "      <td>Never</td>\n",
       "      <td>None</td>\n",
       "      <td>21.176000</td>\n",
       "    </tr>\n",
       "  </tbody>\n",
       "</table>\n",
       "</div>"
      ],
      "text/plain": [
       "   Smoke  Exer        Age\n",
       "0  Heavy  Freq  22.773714\n",
       "1  Heavy  None  20.917000\n",
       "2  Heavy  Some  18.333667\n",
       "3  Never  Freq  20.151379\n",
       "4  Never  None  21.176000"
      ]
     },
     "execution_count": 10,
     "metadata": {},
     "output_type": "execute_result"
    }
   ],
   "source": [
    "# lets plot the average age for each smoker and exercise person\n",
    "\n",
    "mean_age = survey.groupby(['Smoke', 'Exer'])['Age'].mean().reset_index()"
   ]
  },
  {
   "cell_type": "code",
   "execution_count": 13,
   "metadata": {},
   "outputs": [
    {
     "data": {
      "image/png": "[encoded data removed]",
      "text/plain": [
       "<Figure size 432x288 with 1 Axes>"
      ]
     },
     "metadata": {
      "needs_background": "light"
     },
     "output_type": "display_data"
    }
   ],
   "source": [
    "# Pandas will show grouped bars by columns. \n",
    "# Entries in each row but different columns will constitute a group in the resulting plot. \n",
    "# Hence you need to \"reshape\" your dataframe to have the \"group\" as columns. In this case you can pivot like\n",
    "\n",
    "df = mean_age.pivot('Smoke', 'Exer', 'Age')\n",
    "\n",
    "df.head()\n",
    "\n",
    "# Plotting the grouped bar chart\n",
    "\n",
    "from matplotlib import pyplot as plt\n",
    "\n",
    "df.plot(kind= \"bar\")\n",
    "\n",
    "# Creating a subplot to place lagends\n",
    "\n",
    "ax = plt.subplot(111)\n",
    "\n",
    "ax.legend(loc='upper center', bbox_to_anchor=(0.5, 1.00),\n",
    "          ncol=4, fancybox=True, shadow=True)\n",
    "\n",
    "plt.show()"
   ]
  },
  {
   "cell_type": "code",
   "execution_count": 15,
   "metadata": {},
   "outputs": [
    {
     "data": {
      "image/png": "[encoded data removed]",
      "text/plain": [
       "<Figure size 432x288 with 1 Axes>"
      ]
     },
     "metadata": {
      "needs_background": "light"
     },
     "output_type": "display_data"
    }
   ],
   "source": [
    "# Ploting a stacked bar chart\n",
    "\n",
    "# Plotting the grouped bar chart\n",
    "\n",
    "from matplotlib import pyplot as plt\n",
    "\n",
    "df.plot(kind= \"bar\", stacked = True)\n",
    "\n",
    "# Creating a subplot to place lagends\n",
    "\n",
    "ax = plt.subplot(111)\n",
    "\n",
    "ax.legend(loc='upper center', bbox_to_anchor=(0.5, 1.00),\n",
    "          ncol=4, fancybox=True, shadow=True)\n",
    "\n",
    "plt.show()"
   ]
  },
  {
   "cell_type": "markdown",
   "metadata": {},
   "source": [
    "Bivariate analysis - Time series - Few bivariate analysis on time series data:\n",
    "\n",
    "1) Line chart\n",
    "2) Heat Maps\n",
    "3) Box and Whisker Plots etc"
   ]
  },
  {
   "cell_type": "code",
   "execution_count": 18,
   "metadata": {},
   "outputs": [
    {
     "data": {
      "image/png": "[encoded data removed]",
      "text/plain": [
       "<Figure size 432x288 with 1 Axes>"
      ]
     },
     "metadata": {
      "needs_background": "light"
     },
     "output_type": "display_data"
    }
   ],
   "source": [
    "# Line Chart\n",
    "\n",
    "# Importing the data set \n",
    "\n",
    "temp = pd.read_excel('E:\\\\Training data\\\\PGDS- EDA\\\\Batch 6\\\\daily-minimum-temperatures.xlsx')\n",
    "\n",
    "# ploting the line chart of temperatures\n",
    "\n",
    "from matplotlib import pyplot as plt\n",
    "\n",
    "plt.plot('Date', 'Daily minimum temperatures', data=temp, color='skyblue', linewidth=4)\n",
    "\n",
    "plt.show()"
   ]
  },
  {
   "cell_type": "code",
   "execution_count": 20,
   "metadata": {},
   "outputs": [
    {
     "data": {
      "text/plain": [
       "<matplotlib.axes._subplots.AxesSubplot at 0x828e64d7f0>"
      ]
     },
     "execution_count": 20,
     "metadata": {},
     "output_type": "execute_result"
    },
    {
     "data": {
      "image/png": "[encoded data removed]",
      "text/plain": [
       "<Figure size 432x288 with 1 Axes>"
      ]
     },
     "metadata": {
      "needs_background": "light"
     },
     "output_type": "display_data"
    }
   ],
   "source": [
    "# Lets see the temp. variation year on year using Box plot\n",
    "\n",
    "# Lets create a new colum of Year\n",
    "\n",
    "from datetime import date\n",
    "\n",
    "temp['Year'] = temp['Date'].dt.year\n",
    "\n",
    "# Ploting the box plot for each year\n",
    "\n",
    "import seaborn as sns\n",
    "\n",
    "sns.boxplot(data=temp, x='Year', y='Daily minimum temperatures')"
   ]
  },
  {
   "cell_type": "markdown",
   "metadata": {},
   "source": [
    "Heat map - A heatmap is a graphical representation of data where the individual values contained in a matrix are represented as colors. There are many different color schemes that can be used to illustrate the heatmap, with perceptual advantages and disadvantages for each."
   ]
  },
  {
   "cell_type": "code",
   "execution_count": 30,
   "metadata": {},
   "outputs": [
    {
     "data": {
      "image/png": "[encoded data removed]",
      "text/plain": [
       "<Figure size 432x288 with 2 Axes>"
      ]
     },
     "metadata": {
      "needs_background": "light"
     },
     "output_type": "display_data"
    }
   ],
   "source": [
    "# I would like to see the trend in temp (Average temp) for each month of each year\n",
    "# Lets create a column of month also\n",
    "\n",
    "temp['Month'] = temp['Date'].dt.month_name()\n",
    "\n",
    "# Lets plot the heat map to see the trend in temp for each month of each year\n",
    "\n",
    "# Step1: Groupby the data for Each month of each year with average temp\n",
    "\n",
    "group_temp = temp.groupby(['Year', 'Month'])['Daily minimum temperatures'].mean().reset_index()\n",
    "\n",
    "group_temp.head()\n",
    "\n",
    "# Step 2: Convert the data to a wide data where row contain months and column contain year\n",
    "\n",
    "temp_wide = group_temp.pivot(\"Month\", \"Year\", \"Daily minimum temperatures\")\n",
    "\n",
    "temp_wide.head()\n",
    "\n",
    "# Step 3: Order the index month\n",
    "\n",
    "index_order = ['January', 'February', 'March', 'April', 'May', 'June', 'July', \n",
    "          'August', 'September', 'October', 'November', 'December']\n",
    "\n",
    "temp_wide = temp_wide.reindex(index_order)\n",
    "\n",
    "# Step 4: Lets create a heat map\n",
    "\n",
    "sns.heatmap(temp_wide,linewidths=0.5,cbar=True,cmap=\"Reds\")\n",
    "\n",
    "plt.show()"
   ]
  },
  {
   "cell_type": "markdown",
   "metadata": {},
   "source": [
    "Data Cleaning - Handling missing value\n",
    "\n",
    "There are two types of missing data: 1) MCAR: missing completely at random. This is the desirable scenario in case of missing data. 2) MNAR: missing not at random. Missing not at random data is a more serious issue and in this case it might be wise to check the data gathering process further and try to understand why the information is missing. For instance, if most of the people in a survey did not answer a certain question, why did they do that? Was the question unclear?"
   ]
  },
  {
   "cell_type": "code",
   "execution_count": 1,
   "metadata": {},
   "outputs": [
    {
     "data": {
      "text/html": [
       "<div>\n",
       "<style scoped>\n",
       "    .dataframe tbody tr th:only-of-type {\n",
       "        vertical-align: middle;\n",
       "    }\n",
       "\n",
       "    .dataframe tbody tr th {\n",
       "        vertical-align: top;\n",
       "    }\n",
       "\n",
       "    .dataframe thead th {\n",
       "        text-align: right;\n",
       "    }\n",
       "</style>\n",
       "<table border=\"1\" class=\"dataframe\">\n",
       "  <thead>\n",
       "    <tr style=\"text-align: right;\">\n",
       "      <th></th>\n",
       "      <th>st_name</th>\n",
       "      <th>year</th>\n",
       "      <th>ac_no</th>\n",
       "      <th>ac_name</th>\n",
       "      <th>ac_type</th>\n",
       "      <th>cand_name</th>\n",
       "      <th>cand_sex</th>\n",
       "      <th>partyname</th>\n",
       "      <th>partyabbre</th>\n",
       "      <th>totvotpoll</th>\n",
       "      <th>electors</th>\n",
       "    </tr>\n",
       "  </thead>\n",
       "  <tbody>\n",
       "    <tr>\n",
       "      <th>0</th>\n",
       "      <td>Andhra Pradesh</td>\n",
       "      <td>1978.0</td>\n",
       "      <td>1</td>\n",
       "      <td>Ichapuram</td>\n",
       "      <td>GEN</td>\n",
       "      <td>Manabala Ramarao</td>\n",
       "      <td>M</td>\n",
       "      <td>Independent</td>\n",
       "      <td>IND</td>\n",
       "      <td>813.0</td>\n",
       "      <td>83247</td>\n",
       "    </tr>\n",
       "    <tr>\n",
       "      <th>1</th>\n",
       "      <td>Andhra Pradesh</td>\n",
       "      <td>1978.0</td>\n",
       "      <td>1</td>\n",
       "      <td>Ichapuram</td>\n",
       "      <td>GEN</td>\n",
       "      <td>Appadu Sahu</td>\n",
       "      <td>M</td>\n",
       "      <td>Independent</td>\n",
       "      <td>IND</td>\n",
       "      <td>1743.0</td>\n",
       "      <td>83247</td>\n",
       "    </tr>\n",
       "    <tr>\n",
       "      <th>2</th>\n",
       "      <td>Andhra Pradesh</td>\n",
       "      <td>1978.0</td>\n",
       "      <td>1</td>\n",
       "      <td>Ichapuram</td>\n",
       "      <td>GEN</td>\n",
       "      <td>Uppada Rangababu</td>\n",
       "      <td>M</td>\n",
       "      <td>Indian National Congress</td>\n",
       "      <td>INC</td>\n",
       "      <td>4427.0</td>\n",
       "      <td>83247</td>\n",
       "    </tr>\n",
       "    <tr>\n",
       "      <th>3</th>\n",
       "      <td>Andhra Pradesh</td>\n",
       "      <td>1978.0</td>\n",
       "      <td>1</td>\n",
       "      <td>Ichapuram</td>\n",
       "      <td>GEN</td>\n",
       "      <td>Kalla Balarama Swamy</td>\n",
       "      <td>M</td>\n",
       "      <td>Indian National Congress (I)</td>\n",
       "      <td>INC(I)</td>\n",
       "      <td>19805.0</td>\n",
       "      <td>83247</td>\n",
       "    </tr>\n",
       "    <tr>\n",
       "      <th>4</th>\n",
       "      <td>Andhra Pradesh</td>\n",
       "      <td>1978.0</td>\n",
       "      <td>1</td>\n",
       "      <td>Ichapuram</td>\n",
       "      <td>GEN</td>\n",
       "      <td>Bendalam Venkatesam Sarma</td>\n",
       "      <td>M</td>\n",
       "      <td>Janata Party</td>\n",
       "      <td>JNP</td>\n",
       "      <td>34251.0</td>\n",
       "      <td>83247</td>\n",
       "    </tr>\n",
       "  </tbody>\n",
       "</table>\n",
       "</div>"
      ],
      "text/plain": [
       "          st_name    year  ac_no    ac_name ac_type  \\\n",
       "0  Andhra Pradesh  1978.0      1  Ichapuram     GEN   \n",
       "1  Andhra Pradesh  1978.0      1  Ichapuram     GEN   \n",
       "2  Andhra Pradesh  1978.0      1  Ichapuram     GEN   \n",
       "3  Andhra Pradesh  1978.0      1  Ichapuram     GEN   \n",
       "4  Andhra Pradesh  1978.0      1  Ichapuram     GEN   \n",
       "\n",
       "                   cand_name cand_sex                     partyname  \\\n",
       "0           Manabala Ramarao        M                   Independent   \n",
       "1                Appadu Sahu        M                   Independent   \n",
       "2           Uppada Rangababu        M      Indian National Congress   \n",
       "3       Kalla Balarama Swamy        M  Indian National Congress (I)   \n",
       "4  Bendalam Venkatesam Sarma        M                  Janata Party   \n",
       "\n",
       "  partyabbre  totvotpoll  electors  \n",
       "0        IND       813.0     83247  \n",
       "1        IND      1743.0     83247  \n",
       "2        INC      4427.0     83247  \n",
       "3     INC(I)     19805.0     83247  \n",
       "4        JNP     34251.0     83247  "
      ]
     },
     "execution_count": 1,
     "metadata": {},
     "output_type": "execute_result"
    }
   ],
   "source": [
    "# Lets import the data\n",
    "\n",
    "import pandas as pd\n",
    "import os\n",
    "import numpy as np\n",
    "\n",
    "path = r\"E:\\Training data\\Amit\\Data Set\"\n",
    "\n",
    "os.chdir(path)\n",
    "\n",
    "election = pd.read_excel('Election data base.xlsx')\n",
    "\n",
    "election.head()"
   ]
  },
  {
   "cell_type": "code",
   "execution_count": 4,
   "metadata": {},
   "outputs": [
    {
     "data": {
      "text/plain": [
       "st_name       0.000000\n",
       "year          0.000000\n",
       "ac_no         0.000000\n",
       "ac_name       4.913931\n",
       "ac_type       0.000000\n",
       "cand_name     0.000306\n",
       "cand_sex      1.619950\n",
       "partyname     0.000000\n",
       "partyabbre    0.826780\n",
       "totvotpoll    0.002139\n",
       "electors      0.000000\n",
       "dtype: float64"
      ]
     },
     "execution_count": 4,
     "metadata": {},
     "output_type": "execute_result"
    }
   ],
   "source": [
    "# We can see lot of missing values. Lets check the number rows in each column having missing value\n",
    "\n",
    "Null_value = election.isnull().sum()\n",
    "\n",
    "Null_value\n",
    "\n",
    "# Lets find the percentage of missing values in each column\n",
    "\n",
    "Percent_missing = (Null_value/len(election.index))*100\n",
    "\n",
    "Percent_missing"
   ]
  },
  {
   "cell_type": "code",
   "execution_count": 5,
   "metadata": {},
   "outputs": [
    {
     "data": {
      "text/plain": [
       "<matplotlib.axes._subplots.AxesSubplot at 0xd9348c5630>"
      ]
     },
     "execution_count": 5,
     "metadata": {},
     "output_type": "execute_result"
    }
   ],
   "source": [
    "# We can also use plot the data to find which column have more missing values\n",
    "\n",
    "# Visualizing the patterns of missing value occurrence\n",
    "\n",
    "import seaborn as sns\n",
    "\n",
    "from matplotlib import pyplot as plt\n",
    "\n",
    "sns.heatmap(election.isnull(), cbar=False)"
   ]
  },
  {
   "cell_type": "markdown",
   "metadata": {},
   "source": [
    "Missing Value treatment - We can do following with missing values\n",
    "\n",
    "1) We can replace them - a) by zero b) by a specific value c) by the mean or median of the specific column d) replace them by forward fill e) replace them by back fill\n",
    "\n",
    "2) We can drop them - a) by droping all the rows containing missing values b) by droping all the columns containing missing values\n",
    "\n",
    "3) Imputation of missing values by algorithm like kNN and MICE"
   ]
  },
  {
   "cell_type": "code",
   "execution_count": 6,
   "metadata": {},
   "outputs": [
    {
     "data": {
      "text/plain": [
       "st_name                 0\n",
       "year                    0\n",
       "ac_no                   0\n",
       "ac_name             16083\n",
       "ac_type                 0\n",
       "cand_name               1\n",
       "cand_sex             5302\n",
       "partyname               0\n",
       "partyabbre           2706\n",
       "totvotpoll              7\n",
       "electors                0\n",
       "totvot_zero_fill        0\n",
       "dtype: int64"
      ]
     },
     "execution_count": 6,
     "metadata": {},
     "output_type": "execute_result"
    }
   ],
   "source": [
    "# Replacing the missing value\n",
    "\n",
    "# a) By zero or a specific value\n",
    "\n",
    "election['totvot_zero_fill'] = election['totvotpoll'].fillna(0)\n",
    "\n",
    "election.isnull().sum()\n"
   ]
  },
  {
   "cell_type": "code",
   "execution_count": 7,
   "metadata": {},
   "outputs": [
    {
     "data": {
      "text/plain": [
       "st_name                 0\n",
       "year                    0\n",
       "ac_no                   0\n",
       "ac_name             16083\n",
       "ac_type                 0\n",
       "cand_name               1\n",
       "cand_sex             5302\n",
       "partyname               0\n",
       "partyabbre           2706\n",
       "totvotpoll              7\n",
       "electors                0\n",
       "totvot_zero_fill        0\n",
       "totvot_mean_fill        0\n",
       "dtype: int64"
      ]
     },
     "execution_count": 7,
     "metadata": {},
     "output_type": "execute_result"
    }
   ],
   "source": [
    "# b) By mean / median of the of totvotpoll\n",
    "\n",
    "totvotpoll_mean = election['totvotpoll'].mean()\n",
    "\n",
    "election['totvot_mean_fill'] = election['totvotpoll'].fillna(totvotpoll_mean)\n",
    "\n",
    "election.isnull().sum()"
   ]
  },
  {
   "cell_type": "code",
   "execution_count": 8,
   "metadata": {},
   "outputs": [],
   "source": [
    "# Lets check the impact of imputing missing value by mean\n",
    "\n",
    "# Lets take the state of sikkim as the column have missing value under totvotpoll column\n",
    "\n",
    "sikkim_data = election[election['st_name'] == \"Sikkim\"]\n",
    "\n",
    "# lets check the missing values which are in year 2004\n",
    "\n",
    "sikkim_data_missing = sikkim_data[sikkim_data['year'] == 2004] \n",
    "\n",
    "#sikkim_data_missing"
   ]
  },
  {
   "cell_type": "code",
   "execution_count": 9,
   "metadata": {},
   "outputs": [
    {
     "data": {
      "text/html": [
       "<div>\n",
       "<style scoped>\n",
       "    .dataframe tbody tr th:only-of-type {\n",
       "        vertical-align: middle;\n",
       "    }\n",
       "\n",
       "    .dataframe tbody tr th {\n",
       "        vertical-align: top;\n",
       "    }\n",
       "\n",
       "    .dataframe thead th {\n",
       "        text-align: right;\n",
       "    }\n",
       "</style>\n",
       "<table border=\"1\" class=\"dataframe\">\n",
       "  <thead>\n",
       "    <tr style=\"text-align: right;\">\n",
       "      <th></th>\n",
       "      <th>year</th>\n",
       "      <th>totvot_mean_fill</th>\n",
       "    </tr>\n",
       "  </thead>\n",
       "  <tbody>\n",
       "    <tr>\n",
       "      <th>0</th>\n",
       "      <td>1979.0</td>\n",
       "      <td>72339.0</td>\n",
       "    </tr>\n",
       "    <tr>\n",
       "      <th>1</th>\n",
       "      <td>1985.0</td>\n",
       "      <td>97057.0</td>\n",
       "    </tr>\n",
       "    <tr>\n",
       "      <th>2</th>\n",
       "      <td>1989.0</td>\n",
       "      <td>133619.0</td>\n",
       "    </tr>\n",
       "    <tr>\n",
       "      <th>3</th>\n",
       "      <td>1994.0</td>\n",
       "      <td>173457.0</td>\n",
       "    </tr>\n",
       "    <tr>\n",
       "      <th>4</th>\n",
       "      <td>1999.0</td>\n",
       "      <td>204927.0</td>\n",
       "    </tr>\n",
       "  </tbody>\n",
       "</table>\n",
       "</div>"
      ],
      "text/plain": [
       "     year  totvot_mean_fill\n",
       "0  1979.0           72339.0\n",
       "1  1985.0           97057.0\n",
       "2  1989.0          133619.0\n",
       "3  1994.0          173457.0\n",
       "4  1999.0          204927.0"
      ]
     },
     "execution_count": 9,
     "metadata": {},
     "output_type": "execute_result"
    }
   ],
   "source": [
    "# Lets plot the total vote year wise\n",
    "\n",
    "totvotpoll_line = sikkim_data.groupby(['year'])['totvotpoll'].sum().reset_index()\n",
    "\n",
    "totvotpoll_line.head()\n",
    "\n",
    "# lets get the same for the column where we have imputed the mean values\n",
    "\n",
    "totvotpoll_mean_fill_line = sikkim_data.groupby(['year'])['totvot_mean_fill'].sum().reset_index()\n",
    "\n",
    "totvotpoll_mean_fill_line.head()"
   ]
  },
  {
   "cell_type": "code",
   "execution_count": 10,
   "metadata": {},
   "outputs": [
    {
     "data": {
      "image/png": "[encoded data removed]",
      "text/plain": [
       "<Figure size 432x288 with 1 Axes>"
      ]
     },
     "metadata": {
      "needs_background": "light"
     },
     "output_type": "display_data"
    }
   ],
   "source": [
    "# lets plot these two line chart\n",
    "\n",
    "plt.plot( 'year', 'totvotpoll', data=totvotpoll_line, color='skyblue', linewidth=4)\n",
    "plt.plot( 'year', 'totvot_mean_fill', data=totvotpoll_mean_fill_line, color='olive', linewidth=2)\n",
    "plt.legend()\n",
    "plt.show()\n"
   ]
  },
  {
   "cell_type": "code",
   "execution_count": 11,
   "metadata": {},
   "outputs": [],
   "source": [
    "# d) replace them by forward fill or back fill\n",
    "\n",
    "election['Forward_fill'] = election['totvotpoll'].fillna(method = 'ffill')\n",
    "\n",
    "election.isnull().sum()\n",
    "\n",
    "# lets check how forward fill work\n",
    "\n",
    "sikkim_data = election[election['st_name'] == \"Sikkim\"]\n",
    "\n",
    "# lets check the missing values which are in year 2004\n",
    "\n",
    "sikkim_data_missing = sikkim_data[sikkim_data['year'] == 2004] \n",
    "\n",
    "#sikkim_data_missing\n"
   ]
  }
 ],
 "metadata": {
  "kernelspec": {
   "display_name": "Python 3",
   "language": "python",
   "name": "python3"
  },
  "language_info": {
   "codemirror_mode": {
    "name": "ipython",
    "version": 3
   },
   "file_extension": ".py",
   "mimetype": "text/x-python",
   "name": "python",
   "nbconvert_exporter": "python",
   "pygments_lexer": "ipython3",
   "version": "3.7.3"
  }
 },
 "nbformat": 4,
 "nbformat_minor": 2
}
