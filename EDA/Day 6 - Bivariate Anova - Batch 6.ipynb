{
 "cells": [
  {
   "cell_type": "markdown",
   "metadata": {},
   "source": [
    "Bivariate analysis - Categorical column vs numerical column\n",
    "\n",
    "ANOVA - An ANOVA test is a way to find out if an experiment results is significant or not. In other words, it help you to figure out if you need to reject the null hypothesis or accept the alternate hypothesis. "
   ]
  },
  {
   "cell_type": "code",
   "execution_count": 3,
   "metadata": {},
   "outputs": [],
   "source": [
    "# We will use the inbuild data set from pydataset\n",
    "\n",
    "from pydataset import data\n",
    "\n",
    "df = data('chickwts')\n"
   ]
  },
  {
   "cell_type": "code",
   "execution_count": 6,
   "metadata": {},
   "outputs": [
    {
     "data": {
      "text/html": [
       "<div>\n",
       "<style scoped>\n",
       "    .dataframe tbody tr th:only-of-type {\n",
       "        vertical-align: middle;\n",
       "    }\n",
       "\n",
       "    .dataframe tbody tr th {\n",
       "        vertical-align: top;\n",
       "    }\n",
       "\n",
       "    .dataframe thead th {\n",
       "        text-align: right;\n",
       "    }\n",
       "</style>\n",
       "<table border=\"1\" class=\"dataframe\">\n",
       "  <thead>\n",
       "    <tr style=\"text-align: right;\">\n",
       "      <th></th>\n",
       "      <th>feed</th>\n",
       "      <th>0</th>\n",
       "    </tr>\n",
       "  </thead>\n",
       "  <tbody>\n",
       "    <tr>\n",
       "      <th>0</th>\n",
       "      <td>casein</td>\n",
       "      <td>12</td>\n",
       "    </tr>\n",
       "    <tr>\n",
       "      <th>1</th>\n",
       "      <td>horsebean</td>\n",
       "      <td>10</td>\n",
       "    </tr>\n",
       "    <tr>\n",
       "      <th>2</th>\n",
       "      <td>linseed</td>\n",
       "      <td>12</td>\n",
       "    </tr>\n",
       "    <tr>\n",
       "      <th>3</th>\n",
       "      <td>meatmeal</td>\n",
       "      <td>11</td>\n",
       "    </tr>\n",
       "    <tr>\n",
       "      <th>4</th>\n",
       "      <td>soybean</td>\n",
       "      <td>14</td>\n",
       "    </tr>\n",
       "    <tr>\n",
       "      <th>5</th>\n",
       "      <td>sunflower</td>\n",
       "      <td>12</td>\n",
       "    </tr>\n",
       "  </tbody>\n",
       "</table>\n",
       "</div>"
      ],
      "text/plain": [
       "        feed   0\n",
       "0     casein  12\n",
       "1  horsebean  10\n",
       "2    linseed  12\n",
       "3   meatmeal  11\n",
       "4    soybean  14\n",
       "5  sunflower  12"
      ]
     },
     "execution_count": 6,
     "metadata": {},
     "output_type": "execute_result"
    }
   ],
   "source": [
    "# Lets check the sample size of each feed\n",
    "\n",
    "df.groupby(['feed']).size().reset_index()"
   ]
  },
  {
   "cell_type": "code",
   "execution_count": 7,
   "metadata": {},
   "outputs": [
    {
     "data": {
      "text/html": [
       "<div>\n",
       "<style scoped>\n",
       "    .dataframe tbody tr th:only-of-type {\n",
       "        vertical-align: middle;\n",
       "    }\n",
       "\n",
       "    .dataframe tbody tr th {\n",
       "        vertical-align: top;\n",
       "    }\n",
       "\n",
       "    .dataframe thead th {\n",
       "        text-align: right;\n",
       "    }\n",
       "</style>\n",
       "<table border=\"1\" class=\"dataframe\">\n",
       "  <thead>\n",
       "    <tr style=\"text-align: right;\">\n",
       "      <th></th>\n",
       "      <th>feed</th>\n",
       "      <th>weight</th>\n",
       "    </tr>\n",
       "  </thead>\n",
       "  <tbody>\n",
       "    <tr>\n",
       "      <th>0</th>\n",
       "      <td>casein</td>\n",
       "      <td>323.583333</td>\n",
       "    </tr>\n",
       "    <tr>\n",
       "      <th>1</th>\n",
       "      <td>horsebean</td>\n",
       "      <td>160.200000</td>\n",
       "    </tr>\n",
       "    <tr>\n",
       "      <th>2</th>\n",
       "      <td>linseed</td>\n",
       "      <td>218.750000</td>\n",
       "    </tr>\n",
       "    <tr>\n",
       "      <th>3</th>\n",
       "      <td>meatmeal</td>\n",
       "      <td>276.909091</td>\n",
       "    </tr>\n",
       "    <tr>\n",
       "      <th>4</th>\n",
       "      <td>soybean</td>\n",
       "      <td>246.428571</td>\n",
       "    </tr>\n",
       "    <tr>\n",
       "      <th>5</th>\n",
       "      <td>sunflower</td>\n",
       "      <td>328.916667</td>\n",
       "    </tr>\n",
       "  </tbody>\n",
       "</table>\n",
       "</div>"
      ],
      "text/plain": [
       "        feed      weight\n",
       "0     casein  323.583333\n",
       "1  horsebean  160.200000\n",
       "2    linseed  218.750000\n",
       "3   meatmeal  276.909091\n",
       "4    soybean  246.428571\n",
       "5  sunflower  328.916667"
      ]
     },
     "execution_count": 7,
     "metadata": {},
     "output_type": "execute_result"
    }
   ],
   "source": [
    "# Sample size seems having almost equal Sample Sizes\n",
    "\n",
    "# lets also check the mean weight of each feed\n",
    "\n",
    "df.groupby(['feed'])['weight'].mean().reset_index()"
   ]
  },
  {
   "cell_type": "code",
   "execution_count": 34,
   "metadata": {},
   "outputs": [],
   "source": [
    "# Lets create a Null and alternate hypothesis\n",
    "\n",
    "# H0 : feed has not impact on weight\n",
    "# H1 : feed does impact weight\n",
    "\n",
    "# Input to the ANOVA function is the pandas series of different sample\n",
    "\n",
    "# Lets create pandas series for each group by following below steps\n",
    "\n",
    "# Step 1: Creating pandas series of weight for each group\n",
    "\n",
    "casein = df['weight'][df['feed'] == 'casein']\n",
    "horsebean = df['weight'][df['feed'] == 'horsebean']\n",
    "linseed = df['weight'][df['feed'] == 'linseed']\n",
    "meatmeal = df['weight'][df['feed'] == 'meatmeal']\n",
    "soybean = df['weight'][df['feed'] == 'soybean']\n",
    "sunflower = df['weight'][df['feed'] == 'sunflower']"
   ]
  },
  {
   "cell_type": "code",
   "execution_count": 35,
   "metadata": {},
   "outputs": [
    {
     "data": {
      "text/plain": [
       "F_onewayResult(statistic=15.364799774712534, pvalue=5.936419853471331e-10)"
      ]
     },
     "execution_count": 35,
     "metadata": {},
     "output_type": "execute_result"
    }
   ],
   "source": [
    "# Perform the ANOVA\n",
    "\n",
    "import scipy.stats as stats\n",
    "\n",
    "stats.f_oneway(casein, horsebean, linseed, meatmeal, soybean, sunflower)"
   ]
  },
  {
   "cell_type": "markdown",
   "metadata": {},
   "source": [
    "As the p-value is less than alpha we can reject our null hypothesis - which means that feed have impact on weight"
   ]
  },
  {
   "cell_type": "code",
   "execution_count": 37,
   "metadata": {},
   "outputs": [
    {
     "data": {
      "text/html": [
       "<table class=\"simpletable\">\n",
       "<caption>Multiple Comparison of Means - Tukey HSD,FWER=0.05</caption>\n",
       "<tr>\n",
       "   <th>group1</th>    <th>group2</th>   <th>meandiff</th>    <th>lower</th>     <th>upper</th>  <th>reject</th>\n",
       "</tr>\n",
       "<tr>\n",
       "   <td>casein</td>   <td>horsebean</td> <td>-163.3833</td> <td>-232.3445</td> <td>-94.4222</td>  <td>True</td> \n",
       "</tr>\n",
       "<tr>\n",
       "   <td>casein</td>    <td>linseed</td>  <td>-104.8333</td> <td>-170.5852</td> <td>-39.0814</td>  <td>True</td> \n",
       "</tr>\n",
       "<tr>\n",
       "   <td>casein</td>   <td>meatmeal</td>  <td>-46.6742</td>  <td>-113.9039</td>  <td>20.5554</td>  <td>False</td>\n",
       "</tr>\n",
       "<tr>\n",
       "   <td>casein</td>    <td>soybean</td>  <td>-77.1548</td>  <td>-140.5149</td> <td>-13.7947</td>  <td>True</td> \n",
       "</tr>\n",
       "<tr>\n",
       "   <td>casein</td>   <td>sunflower</td>  <td>5.3333</td>   <td>-60.4186</td>   <td>71.0852</td>  <td>False</td>\n",
       "</tr>\n",
       "<tr>\n",
       "  <td>horsebean</td>  <td>linseed</td>    <td>58.55</td>   <td>-10.4112</td>  <td>127.5112</td>  <td>False</td>\n",
       "</tr>\n",
       "<tr>\n",
       "  <td>horsebean</td> <td>meatmeal</td>  <td>116.7091</td>   <td>46.3375</td>  <td>187.0806</td>  <td>True</td> \n",
       "</tr>\n",
       "<tr>\n",
       "  <td>horsebean</td>  <td>soybean</td>   <td>86.2286</td>   <td>19.544</td>   <td>152.9132</td>  <td>True</td> \n",
       "</tr>\n",
       "<tr>\n",
       "  <td>horsebean</td> <td>sunflower</td> <td>168.7167</td>   <td>99.7555</td>  <td>237.6778</td>  <td>True</td> \n",
       "</tr>\n",
       "<tr>\n",
       "   <td>linseed</td>  <td>meatmeal</td>   <td>58.1591</td>   <td>-9.0705</td>  <td>125.3887</td>  <td>False</td>\n",
       "</tr>\n",
       "<tr>\n",
       "   <td>linseed</td>   <td>soybean</td>   <td>27.6786</td>  <td>-35.6815</td>   <td>91.0387</td>  <td>False</td>\n",
       "</tr>\n",
       "<tr>\n",
       "   <td>linseed</td>  <td>sunflower</td> <td>110.1667</td>   <td>44.4148</td>  <td>175.9186</td>  <td>True</td> \n",
       "</tr>\n",
       "<tr>\n",
       "  <td>meatmeal</td>   <td>soybean</td>  <td>-30.4805</td>  <td>-95.3729</td>   <td>34.4118</td>  <td>False</td>\n",
       "</tr>\n",
       "<tr>\n",
       "  <td>meatmeal</td>  <td>sunflower</td>  <td>52.0076</td>  <td>-15.2221</td>  <td>119.2372</td>  <td>False</td>\n",
       "</tr>\n",
       "<tr>\n",
       "   <td>soybean</td>  <td>sunflower</td>  <td>82.4881</td>   <td>19.128</td>   <td>145.8482</td>  <td>True</td> \n",
       "</tr>\n",
       "</table>"
      ],
      "text/plain": [
       "<class 'statsmodels.iolib.table.SimpleTable'>"
      ]
     },
     "execution_count": 37,
     "metadata": {},
     "output_type": "execute_result"
    }
   ],
   "source": [
    "from statsmodels.stats.multicomp import pairwise_tukeyhsd\n",
    "\n",
    "tukey = pairwise_tukeyhsd(df['weight'], df['feed'], alpha=0.05)\n",
    "\n",
    "tukey.summary()"
   ]
  },
  {
   "cell_type": "markdown",
   "metadata": {},
   "source": [
    "Two way ANOVA - without replication - We can not use stats.f_oneway as stats do not have function for two way test. Thus we will use library know as statsmodels to implement two way ANOVA"
   ]
  },
  {
   "cell_type": "code",
   "execution_count": 12,
   "metadata": {},
   "outputs": [
    {
     "data": {
      "text/html": [
       "<div>\n",
       "<style scoped>\n",
       "    .dataframe tbody tr th:only-of-type {\n",
       "        vertical-align: middle;\n",
       "    }\n",
       "\n",
       "    .dataframe tbody tr th {\n",
       "        vertical-align: top;\n",
       "    }\n",
       "\n",
       "    .dataframe thead th {\n",
       "        text-align: right;\n",
       "    }\n",
       "</style>\n",
       "<table border=\"1\" class=\"dataframe\">\n",
       "  <thead>\n",
       "    <tr style=\"text-align: right;\">\n",
       "      <th></th>\n",
       "      <th>Students</th>\n",
       "      <th>Exam</th>\n",
       "      <th>Marks</th>\n",
       "    </tr>\n",
       "  </thead>\n",
       "  <tbody>\n",
       "    <tr>\n",
       "      <th>0</th>\n",
       "      <td>student1</td>\n",
       "      <td>IA</td>\n",
       "      <td>96</td>\n",
       "    </tr>\n",
       "    <tr>\n",
       "      <th>1</th>\n",
       "      <td>student1</td>\n",
       "      <td>FA</td>\n",
       "      <td>36</td>\n",
       "    </tr>\n",
       "  </tbody>\n",
       "</table>\n",
       "</div>"
      ],
      "text/plain": [
       "   Students Exam  Marks\n",
       "0  student1   IA     96\n",
       "1  student1   FA     36"
      ]
     },
     "execution_count": 12,
     "metadata": {},
     "output_type": "execute_result"
    }
   ],
   "source": [
    "# libraries\n",
    "\n",
    "import statsmodels\n",
    "import pandas as pd\n",
    "from statsmodels.stats.anova import AnovaRM\n",
    "\n",
    "# Data set\n",
    "\n",
    "df_marks = pd.read_excel('E:\\\\Training data\\\\PGDS- EDA\\\\Batch 6\\\\Students Marks.xlsx')\n",
    "\n",
    "df_marks.head(2)"
   ]
  },
  {
   "cell_type": "code",
   "execution_count": 13,
   "metadata": {},
   "outputs": [
    {
     "data": {
      "text/html": [
       "<table class=\"simpletable\">\n",
       "<tr>\n",
       "    <td></td>   <th>Num DF</th> <th>Den DF</th> <th>F Value</th> <th>Pr > F</th>\n",
       "</tr>\n",
       "<tr>\n",
       "  <th>Exam</th> <td>1.0000</td> <td>9.0000</td> <td>3.8012</td>  <td>0.0830</td>\n",
       "</tr>\n",
       "</table>"
      ],
      "text/plain": [
       "<class 'statsmodels.iolib.summary2.Summary'>\n",
       "\"\"\"\n",
       "              Anova\n",
       "=================================\n",
       "     Num DF Den DF F Value Pr > F\n",
       "---------------------------------\n",
       "Exam 1.0000 9.0000  3.8012 0.0830\n",
       "=================================\n",
       "\n",
       "\"\"\""
      ]
     },
     "execution_count": 13,
     "metadata": {},
     "output_type": "execute_result"
    }
   ],
   "source": [
    "# Lets create a Null and alternate hypothesis\n",
    "\n",
    "# H0 : IA has no impact on FA\n",
    "# H1 : IA has impact on FA\n",
    "\n",
    "# Lets create the two way Anova using statsmodels\n",
    "\n",
    "model = AnovaRM(df_marks, 'Marks', 'Students', within=['Exam'])\n",
    "\n",
    "# Fitting the model\n",
    "\n",
    "fit = model.fit()\n",
    "\n",
    "# Printing the summary output\n",
    "\n",
    "fit.summary()"
   ]
  },
  {
   "cell_type": "markdown",
   "metadata": {},
   "source": [
    "As p value is greater than 0.05 we can accept the null hypothesis"
   ]
  }
 ],
 "metadata": {
  "kernelspec": {
   "display_name": "Python 3",
   "language": "python",
   "name": "python3"
  },
  "language_info": {
   "codemirror_mode": {
    "name": "ipython",
    "version": 3
   },
   "file_extension": ".py",
   "mimetype": "text/x-python",
   "name": "python",
   "nbconvert_exporter": "python",
   "pygments_lexer": "ipython3",
   "version": "3.7.3"
  }
 },
 "nbformat": 4,
 "nbformat_minor": 2
}
