{
 "cells": [
  {
   "cell_type": "code",
   "execution_count": 1,
   "metadata": {},
   "outputs": [],
   "source": [
    "import pandas as pd\n",
    "import numpy as np\n",
    "import matplotlib.pyplot as plt"
   ]
  },
  {
   "cell_type": "code",
   "execution_count": 2,
   "metadata": {},
   "outputs": [],
   "source": [
    "df=pd.read_csv('stock.csv')"
   ]
  },
  {
   "cell_type": "code",
   "execution_count": 3,
   "metadata": {},
   "outputs": [
    {
     "data": {
      "text/html": [
       "<div>\n",
       "<style scoped>\n",
       "    .dataframe tbody tr th:only-of-type {\n",
       "        vertical-align: middle;\n",
       "    }\n",
       "\n",
       "    .dataframe tbody tr th {\n",
       "        vertical-align: top;\n",
       "    }\n",
       "\n",
       "    .dataframe thead th {\n",
       "        text-align: right;\n",
       "    }\n",
       "</style>\n",
       "<table border=\"1\" class=\"dataframe\">\n",
       "  <thead>\n",
       "    <tr style=\"text-align: right;\">\n",
       "      <th></th>\n",
       "      <th>Unnamed: 0</th>\n",
       "      <th>Stock Price</th>\n",
       "      <th>Exchange</th>\n",
       "      <th>Name</th>\n",
       "      <th>Price</th>\n",
       "    </tr>\n",
       "  </thead>\n",
       "  <tbody>\n",
       "    <tr>\n",
       "      <th>0</th>\n",
       "      <td>01-01-2109</td>\n",
       "      <td>0.543988</td>\n",
       "      <td>AMEX</td>\n",
       "      <td>American Stock Exchange</td>\n",
       "      <td>43628.00000</td>\n",
       "    </tr>\n",
       "    <tr>\n",
       "      <th>1</th>\n",
       "      <td>02-01-2109</td>\n",
       "      <td>0.301586</td>\n",
       "      <td>ASX</td>\n",
       "      <td>Australian Securities Exchange</td>\n",
       "      <td>43628.67361</td>\n",
       "    </tr>\n",
       "    <tr>\n",
       "      <th>2</th>\n",
       "      <td>03-01-2109</td>\n",
       "      <td>0.665711</td>\n",
       "      <td>CBOT</td>\n",
       "      <td>Chicago Board of Trade</td>\n",
       "      <td>43628.00000</td>\n",
       "    </tr>\n",
       "    <tr>\n",
       "      <th>3</th>\n",
       "      <td>04-01-2109</td>\n",
       "      <td>0.627863</td>\n",
       "      <td>CFE</td>\n",
       "      <td>Chicago Futures Exchange</td>\n",
       "      <td>43628.00000</td>\n",
       "    </tr>\n",
       "    <tr>\n",
       "      <th>4</th>\n",
       "      <td>05-01-2109</td>\n",
       "      <td>0.599877</td>\n",
       "      <td>CME</td>\n",
       "      <td>Chicago Merchantile Exchange</td>\n",
       "      <td>43628.00000</td>\n",
       "    </tr>\n",
       "  </tbody>\n",
       "</table>\n",
       "</div>"
      ],
      "text/plain": [
       "   Unnamed: 0  Stock Price Exchange                            Name  \\\n",
       "0  01-01-2109     0.543988     AMEX         American Stock Exchange   \n",
       "1  02-01-2109     0.301586      ASX  Australian Securities Exchange   \n",
       "2  03-01-2109     0.665711     CBOT          Chicago Board of Trade   \n",
       "3  04-01-2109     0.627863      CFE        Chicago Futures Exchange   \n",
       "4  05-01-2109     0.599877      CME    Chicago Merchantile Exchange   \n",
       "\n",
       "         Price  \n",
       "0  43628.00000  \n",
       "1  43628.67361  \n",
       "2  43628.00000  \n",
       "3  43628.00000  \n",
       "4  43628.00000  "
      ]
     },
     "execution_count": 3,
     "metadata": {},
     "output_type": "execute_result"
    }
   ],
   "source": [
    "df.head()"
   ]
  },
  {
   "cell_type": "code",
   "execution_count": 7,
   "metadata": {},
   "outputs": [
    {
     "data": {
      "text/plain": [
       "0.4947223799583333"
      ]
     },
     "execution_count": 7,
     "metadata": {},
     "output_type": "execute_result"
    }
   ],
   "source": [
    "df['Stock Price'].mean()"
   ]
  },
  {
   "cell_type": "code",
   "execution_count": null,
   "metadata": {},
   "outputs": [],
   "source": [
    "df['Stock Price'].mean()"
   ]
  }
 ],
 "metadata": {
  "kernelspec": {
   "display_name": "Python 3",
   "language": "python",
   "name": "python3"
  },
  "language_info": {
   "codemirror_mode": {
    "name": "ipython",
    "version": 3
   },
   "file_extension": ".py",
   "mimetype": "text/x-python",
   "name": "python",
   "nbconvert_exporter": "python",
   "pygments_lexer": "ipython3",
   "version": "3.7.3"
  }
 },
 "nbformat": 4,
 "nbformat_minor": 2
}
