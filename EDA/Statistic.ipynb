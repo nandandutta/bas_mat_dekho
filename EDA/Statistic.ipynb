{
 "cells": [
  {
   "cell_type": "code",
   "execution_count": 16,
   "metadata": {},
   "outputs": [],
   "source": [
    "from sklearn.svm import SVC\n",
    "from sklearn.datasets import load_digits\n",
    "from sklearn.feature_selection import RFE\n",
    "import matplotlib.pyplot as plt"
   ]
  },
  {
   "cell_type": "code",
   "execution_count": 17,
   "metadata": {},
   "outputs": [
    {
     "data": {
      "text/plain": [
       "{'data': array([[ 0.,  0.,  5., ...,  0.,  0.,  0.],\n",
       "        [ 0.,  0.,  0., ..., 10.,  0.,  0.],\n",
       "        [ 0.,  0.,  0., ..., 16.,  9.,  0.],\n",
       "        ...,\n",
       "        [ 0.,  0.,  1., ...,  6.,  0.,  0.],\n",
       "        [ 0.,  0.,  2., ..., 12.,  0.,  0.],\n",
       "        [ 0.,  0., 10., ..., 12.,  1.,  0.]]),\n",
       " 'target': array([0, 1, 2, ..., 8, 9, 8]),\n",
       " 'target_names': array([0, 1, 2, 3, 4, 5, 6, 7, 8, 9]),\n",
       " 'images': array([[[ 0.,  0.,  5., ...,  1.,  0.,  0.],\n",
       "         [ 0.,  0., 13., ..., 15.,  5.,  0.],\n",
       "         [ 0.,  3., 15., ..., 11.,  8.,  0.],\n",
       "         ...,\n",
       "         [ 0.,  4., 11., ..., 12.,  7.,  0.],\n",
       "         [ 0.,  2., 14., ..., 12.,  0.,  0.],\n",
       "         [ 0.,  0.,  6., ...,  0.,  0.,  0.]],\n",
       " \n",
       "        [[ 0.,  0.,  0., ...,  5.,  0.,  0.],\n",
       "         [ 0.,  0.,  0., ...,  9.,  0.,  0.],\n",
       "         [ 0.,  0.,  3., ...,  6.,  0.,  0.],\n",
       "         ...,\n",
       "         [ 0.,  0.,  1., ...,  6.,  0.,  0.],\n",
       "         [ 0.,  0.,  1., ...,  6.,  0.,  0.],\n",
       "         [ 0.,  0.,  0., ..., 10.,  0.,  0.]],\n",
       " \n",
       "        [[ 0.,  0.,  0., ..., 12.,  0.,  0.],\n",
       "         [ 0.,  0.,  3., ..., 14.,  0.,  0.],\n",
       "         [ 0.,  0.,  8., ..., 16.,  0.,  0.],\n",
       "         ...,\n",
       "         [ 0.,  9., 16., ...,  0.,  0.,  0.],\n",
       "         [ 0.,  3., 13., ..., 11.,  5.,  0.],\n",
       "         [ 0.,  0.,  0., ..., 16.,  9.,  0.]],\n",
       " \n",
       "        ...,\n",
       " \n",
       "        [[ 0.,  0.,  1., ...,  1.,  0.,  0.],\n",
       "         [ 0.,  0., 13., ...,  2.,  1.,  0.],\n",
       "         [ 0.,  0., 16., ..., 16.,  5.,  0.],\n",
       "         ...,\n",
       "         [ 0.,  0., 16., ..., 15.,  0.,  0.],\n",
       "         [ 0.,  0., 15., ..., 16.,  0.,  0.],\n",
       "         [ 0.,  0.,  2., ...,  6.,  0.,  0.]],\n",
       " \n",
       "        [[ 0.,  0.,  2., ...,  0.,  0.,  0.],\n",
       "         [ 0.,  0., 14., ..., 15.,  1.,  0.],\n",
       "         [ 0.,  4., 16., ..., 16.,  7.,  0.],\n",
       "         ...,\n",
       "         [ 0.,  0.,  0., ..., 16.,  2.,  0.],\n",
       "         [ 0.,  0.,  4., ..., 16.,  2.,  0.],\n",
       "         [ 0.,  0.,  5., ..., 12.,  0.,  0.]],\n",
       " \n",
       "        [[ 0.,  0., 10., ...,  1.,  0.,  0.],\n",
       "         [ 0.,  2., 16., ...,  1.,  0.,  0.],\n",
       "         [ 0.,  0., 15., ..., 15.,  0.,  0.],\n",
       "         ...,\n",
       "         [ 0.,  4., 16., ..., 16.,  6.,  0.],\n",
       "         [ 0.,  8., 16., ..., 16.,  8.,  0.],\n",
       "         [ 0.,  1.,  8., ..., 12.,  1.,  0.]]]),\n",
       " 'DESCR': \".. _digits_dataset:\\n\\nOptical recognition of handwritten digits dataset\\n--------------------------------------------------\\n\\n**Data Set Characteristics:**\\n\\n    :Number of Instances: 5620\\n    :Number of Attributes: 64\\n    :Attribute Information: 8x8 image of integer pixels in the range 0..16.\\n    :Missing Attribute Values: None\\n    :Creator: E. Alpaydin (alpaydin '@' boun.edu.tr)\\n    :Date: July; 1998\\n\\nThis is a copy of the test set of the UCI ML hand-written digits datasets\\nhttps://archive.ics.uci.edu/ml/datasets/Optical+Recognition+of+Handwritten+Digits\\n\\nThe data set contains images of hand-written digits: 10 classes where\\neach class refers to a digit.\\n\\nPreprocessing programs made available by NIST were used to extract\\nnormalized bitmaps of handwritten digits from a preprinted form. From a\\ntotal of 43 people, 30 contributed to the training set and different 13\\nto the test set. 32x32 bitmaps are divided into nonoverlapping blocks of\\n4x4 and the number of on pixels are counted in each block. This generates\\nan input matrix of 8x8 where each element is an integer in the range\\n0..16. This reduces dimensionality and gives invariance to small\\ndistortions.\\n\\nFor info on NIST preprocessing routines, see M. D. Garris, J. L. Blue, G.\\nT. Candela, D. L. Dimmick, J. Geist, P. J. Grother, S. A. Janet, and C.\\nL. Wilson, NIST Form-Based Handprint Recognition System, NISTIR 5469,\\n1994.\\n\\n.. topic:: References\\n\\n  - C. Kaynak (1995) Methods of Combining Multiple Classifiers and Their\\n    Applications to Handwritten Digit Recognition, MSc Thesis, Institute of\\n    Graduate Studies in Science and Engineering, Bogazici University.\\n  - E. Alpaydin, C. Kaynak (1998) Cascading Classifiers, Kybernetika.\\n  - Ken Tang and Ponnuthurai N. Suganthan and Xi Yao and A. Kai Qin.\\n    Linear dimensionalityreduction using relevance weighted LDA. School of\\n    Electrical and Electronic Engineering Nanyang Technological University.\\n    2005.\\n  - Claudio Gentile. A New Approximate Maximal Margin Classification\\n    Algorithm. NIPS. 2000.\"}"
      ]
     },
     "execution_count": 17,
     "metadata": {},
     "output_type": "execute_result"
    }
   ],
   "source": [
    "# Load the digits dataset\n",
    "digits = load_digits()\n",
    "digits"
   ]
  },
  {
   "cell_type": "code",
   "execution_count": 18,
   "metadata": {},
   "outputs": [],
   "source": [
    "X = digits.images.reshape((len(digits.images), -1))\n",
    "y = digits.target"
   ]
  },
  {
   "cell_type": "code",
   "execution_count": 19,
   "metadata": {},
   "outputs": [
    {
     "data": {
      "text/plain": [
       "array([[ 0.,  0.,  5., ...,  0.,  0.,  0.],\n",
       "       [ 0.,  0.,  0., ..., 10.,  0.,  0.],\n",
       "       [ 0.,  0.,  0., ..., 16.,  9.,  0.],\n",
       "       ...,\n",
       "       [ 0.,  0.,  1., ...,  6.,  0.,  0.],\n",
       "       [ 0.,  0.,  2., ..., 12.,  0.,  0.],\n",
       "       [ 0.,  0., 10., ..., 12.,  1.,  0.]])"
      ]
     },
     "execution_count": 19,
     "metadata": {},
     "output_type": "execute_result"
    }
   ],
   "source": [
    "X"
   ]
  },
  {
   "cell_type": "code",
   "execution_count": 20,
   "metadata": {},
   "outputs": [],
   "source": [
    "# Create the RFE object and rank each pixel\n",
    "svc = SVC(kernel=\"linear\", C=1)\n",
    "rfe = RFE(estimator=svc, n_features_to_select=1, step=1)\n",
    "rfe.fit(X, y)\n",
    "ranking = rfe.ranking_.reshape(digits.images[0].shape)"
   ]
  },
  {
   "cell_type": "code",
   "execution_count": 21,
   "metadata": {},
   "outputs": [
    {
     "data": {
      "image/png": "[encoded data removed]",
      "text/plain": [
       "<Figure size 288x288 with 2 Axes>"
      ]
     },
     "metadata": {
      "needs_background": "light"
     },
     "output_type": "display_data"
    }
   ],
   "source": [
    "# Plot pixel ranking\n",
    "plt.matshow(ranking, cmap=plt.cm.Blues)\n",
    "plt.colorbar()\n",
    "plt.title(\"Ranking of pixels with RFE\")\n",
    "plt.show()"
   ]
  },
  {
   "cell_type": "markdown",
   "metadata": {},
   "source": [
    "CHI 2 test"
   ]
  },
  {
   "cell_type": "code",
   "execution_count": 43,
   "metadata": {},
   "outputs": [],
   "source": [
    " from sklearn.datasets import load_iris,load_diabetes\n",
    "from sklearn.feature_selection import SelectKBest\n",
    "from sklearn.feature_selection import chi2"
   ]
  },
  {
   "cell_type": "code",
   "execution_count": 47,
   "metadata": {},
   "outputs": [
    {
     "data": {
      "text/html": [
       "<div>\n",
       "<style scoped>\n",
       "    .dataframe tbody tr th:only-of-type {\n",
       "        vertical-align: middle;\n",
       "    }\n",
       "\n",
       "    .dataframe tbody tr th {\n",
       "        vertical-align: top;\n",
       "    }\n",
       "\n",
       "    .dataframe thead th {\n",
       "        text-align: right;\n",
       "    }\n",
       "</style>\n",
       "<table border=\"1\" class=\"dataframe\">\n",
       "  <thead>\n",
       "    <tr style=\"text-align: right;\">\n",
       "      <th></th>\n",
       "      <th>age</th>\n",
       "      <th>sex</th>\n",
       "      <th>bmi</th>\n",
       "      <th>bp</th>\n",
       "      <th>s1</th>\n",
       "      <th>s2</th>\n",
       "      <th>s3</th>\n",
       "      <th>s4</th>\n",
       "      <th>s5</th>\n",
       "      <th>s6</th>\n",
       "    </tr>\n",
       "  </thead>\n",
       "  <tbody>\n",
       "    <tr>\n",
       "      <th>0</th>\n",
       "      <td>0.038076</td>\n",
       "      <td>0.050680</td>\n",
       "      <td>0.061696</td>\n",
       "      <td>0.021872</td>\n",
       "      <td>-0.044223</td>\n",
       "      <td>-0.034821</td>\n",
       "      <td>-0.043401</td>\n",
       "      <td>-0.002592</td>\n",
       "      <td>0.019908</td>\n",
       "      <td>-0.017646</td>\n",
       "    </tr>\n",
       "    <tr>\n",
       "      <th>1</th>\n",
       "      <td>-0.001882</td>\n",
       "      <td>-0.044642</td>\n",
       "      <td>-0.051474</td>\n",
       "      <td>-0.026328</td>\n",
       "      <td>-0.008449</td>\n",
       "      <td>-0.019163</td>\n",
       "      <td>0.074412</td>\n",
       "      <td>-0.039493</td>\n",
       "      <td>-0.068330</td>\n",
       "      <td>-0.092204</td>\n",
       "    </tr>\n",
       "    <tr>\n",
       "      <th>2</th>\n",
       "      <td>0.085299</td>\n",
       "      <td>0.050680</td>\n",
       "      <td>0.044451</td>\n",
       "      <td>-0.005671</td>\n",
       "      <td>-0.045599</td>\n",
       "      <td>-0.034194</td>\n",
       "      <td>-0.032356</td>\n",
       "      <td>-0.002592</td>\n",
       "      <td>0.002864</td>\n",
       "      <td>-0.025930</td>\n",
       "    </tr>\n",
       "    <tr>\n",
       "      <th>3</th>\n",
       "      <td>-0.089063</td>\n",
       "      <td>-0.044642</td>\n",
       "      <td>-0.011595</td>\n",
       "      <td>-0.036656</td>\n",
       "      <td>0.012191</td>\n",
       "      <td>0.024991</td>\n",
       "      <td>-0.036038</td>\n",
       "      <td>0.034309</td>\n",
       "      <td>0.022692</td>\n",
       "      <td>-0.009362</td>\n",
       "    </tr>\n",
       "    <tr>\n",
       "      <th>4</th>\n",
       "      <td>0.005383</td>\n",
       "      <td>-0.044642</td>\n",
       "      <td>-0.036385</td>\n",
       "      <td>0.021872</td>\n",
       "      <td>0.003935</td>\n",
       "      <td>0.015596</td>\n",
       "      <td>0.008142</td>\n",
       "      <td>-0.002592</td>\n",
       "      <td>-0.031991</td>\n",
       "      <td>-0.046641</td>\n",
       "    </tr>\n",
       "  </tbody>\n",
       "</table>\n",
       "</div>"
      ],
      "text/plain": [
       "        age       sex       bmi        bp        s1        s2        s3  \\\n",
       "0  0.038076  0.050680  0.061696  0.021872 -0.044223 -0.034821 -0.043401   \n",
       "1 -0.001882 -0.044642 -0.051474 -0.026328 -0.008449 -0.019163  0.074412   \n",
       "2  0.085299  0.050680  0.044451 -0.005671 -0.045599 -0.034194 -0.032356   \n",
       "3 -0.089063 -0.044642 -0.011595 -0.036656  0.012191  0.024991 -0.036038   \n",
       "4  0.005383 -0.044642 -0.036385  0.021872  0.003935  0.015596  0.008142   \n",
       "\n",
       "         s4        s5        s6  \n",
       "0 -0.002592  0.019908 -0.017646  \n",
       "1 -0.039493 -0.068330 -0.092204  \n",
       "2 -0.002592  0.002864 -0.025930  \n",
       "3  0.034309  0.022692 -0.009362  \n",
       "4 -0.002592 -0.031991 -0.046641  "
      ]
     },
     "execution_count": 47,
     "metadata": {},
     "output_type": "execute_result"
    }
   ],
   "source": [
    "import pandas as pd\n",
    "data=load_diabetes()\n",
    "df = pd.DataFrame(data['data'], columns=data['feature_names'])\n",
    "df.head()"
   ]
  },
  {
   "cell_type": "code",
   "execution_count": 23,
   "metadata": {},
   "outputs": [
    {
     "data": {
      "text/plain": [
       "(150, 4)"
      ]
     },
     "execution_count": 23,
     "metadata": {},
     "output_type": "execute_result"
    }
   ],
   "source": [
    "X, y = load_iris(return_X_y=True)\n",
    "X.shape"
   ]
  },
  {
   "cell_type": "code",
   "execution_count": 49,
   "metadata": {},
   "outputs": [
    {
     "data": {
      "text/html": [
       "<div>\n",
       "<style scoped>\n",
       "    .dataframe tbody tr th:only-of-type {\n",
       "        vertical-align: middle;\n",
       "    }\n",
       "\n",
       "    .dataframe tbody tr th {\n",
       "        vertical-align: top;\n",
       "    }\n",
       "\n",
       "    .dataframe thead th {\n",
       "        text-align: right;\n",
       "    }\n",
       "</style>\n",
       "<table border=\"1\" class=\"dataframe\">\n",
       "  <thead>\n",
       "    <tr style=\"text-align: right;\">\n",
       "      <th></th>\n",
       "      <th>Gender</th>\n",
       "      <th>Age Range</th>\n",
       "      <th>Head Size(cm^3)</th>\n",
       "      <th>Brain Weight(grams)</th>\n",
       "    </tr>\n",
       "  </thead>\n",
       "  <tbody>\n",
       "    <tr>\n",
       "      <th>0</th>\n",
       "      <td>1</td>\n",
       "      <td>1</td>\n",
       "      <td>4512</td>\n",
       "      <td>1530</td>\n",
       "    </tr>\n",
       "    <tr>\n",
       "      <th>1</th>\n",
       "      <td>1</td>\n",
       "      <td>1</td>\n",
       "      <td>3738</td>\n",
       "      <td>1297</td>\n",
       "    </tr>\n",
       "    <tr>\n",
       "      <th>2</th>\n",
       "      <td>1</td>\n",
       "      <td>1</td>\n",
       "      <td>4261</td>\n",
       "      <td>1335</td>\n",
       "    </tr>\n",
       "    <tr>\n",
       "      <th>3</th>\n",
       "      <td>1</td>\n",
       "      <td>1</td>\n",
       "      <td>3777</td>\n",
       "      <td>1282</td>\n",
       "    </tr>\n",
       "    <tr>\n",
       "      <th>4</th>\n",
       "      <td>1</td>\n",
       "      <td>1</td>\n",
       "      <td>4177</td>\n",
       "      <td>1590</td>\n",
       "    </tr>\n",
       "  </tbody>\n",
       "</table>\n",
       "</div>"
      ],
      "text/plain": [
       "   Gender  Age Range  Head Size(cm^3)  Brain Weight(grams)\n",
       "0       1          1             4512                 1530\n",
       "1       1          1             3738                 1297\n",
       "2       1          1             4261                 1335\n",
       "3       1          1             3777                 1282\n",
       "4       1          1             4177                 1590"
      ]
     },
     "execution_count": 49,
     "metadata": {},
     "output_type": "execute_result"
    }
   ],
   "source": [
    "headbrain=pd.read_csv('headbrain.csv')\n",
    "headbrain.head()"
   ]
  },
  {
   "cell_type": "code",
   "execution_count": 54,
   "metadata": {},
   "outputs": [],
   "source": [
    "x=headbrain.drop(columns=['Brain Weight(grams)'])\n",
    "y=headbrain['Brain Weight(grams)']"
   ]
  },
  {
   "cell_type": "code",
   "execution_count": 55,
   "metadata": {},
   "outputs": [
    {
     "data": {
      "text/plain": [
       "array([[   1, 4512],\n",
       "       [   1, 3738],\n",
       "       [   1, 4261],\n",
       "       [   1, 3777],\n",
       "       [   1, 4177],\n",
       "       [   1, 3585],\n",
       "       [   1, 3785],\n",
       "       [   1, 3559],\n",
       "       [   1, 3613],\n",
       "       [   1, 3982],\n",
       "       [   1, 3443],\n",
       "       [   1, 3993],\n",
       "       [   1, 3640],\n",
       "       [   1, 4208],\n",
       "       [   1, 3832],\n",
       "       [   1, 3876],\n",
       "       [   1, 3497],\n",
       "       [   1, 3466],\n",
       "       [   1, 3095],\n",
       "       [   1, 4424],\n",
       "       [   1, 3878],\n",
       "       [   1, 4046],\n",
       "       [   1, 3804],\n",
       "       [   1, 3710],\n",
       "       [   1, 4747],\n",
       "       [   1, 4423],\n",
       "       [   1, 4036],\n",
       "       [   1, 4022],\n",
       "       [   1, 3454],\n",
       "       [   1, 4175],\n",
       "       [   1, 3787],\n",
       "       [   1, 3796],\n",
       "       [   1, 4103],\n",
       "       [   1, 4161],\n",
       "       [   1, 4158],\n",
       "       [   1, 3814],\n",
       "       [   1, 3527],\n",
       "       [   1, 3748],\n",
       "       [   1, 3334],\n",
       "       [   1, 3492],\n",
       "       [   1, 3962],\n",
       "       [   1, 3505],\n",
       "       [   1, 4315],\n",
       "       [   1, 3804],\n",
       "       [   1, 3863],\n",
       "       [   1, 4034],\n",
       "       [   1, 4308],\n",
       "       [   1, 3165],\n",
       "       [   1, 3641],\n",
       "       [   1, 3644],\n",
       "       [   1, 3891],\n",
       "       [   1, 3793],\n",
       "       [   1, 4270],\n",
       "       [   1, 4063],\n",
       "       [   1, 4012],\n",
       "       [   1, 3458],\n",
       "       [   1, 3890],\n",
       "       [   1, 4166],\n",
       "       [   1, 3935],\n",
       "       [   1, 3669],\n",
       "       [   1, 3866],\n",
       "       [   1, 3393],\n",
       "       [   1, 4442],\n",
       "       [   1, 4253],\n",
       "       [   1, 3727],\n",
       "       [   1, 3329],\n",
       "       [   1, 3415],\n",
       "       [   1, 3372],\n",
       "       [   1, 4430],\n",
       "       [   1, 4381],\n",
       "       [   1, 4008],\n",
       "       [   1, 3858],\n",
       "       [   1, 4121],\n",
       "       [   1, 4057],\n",
       "       [   1, 3824],\n",
       "       [   1, 3394],\n",
       "       [   1, 3558],\n",
       "       [   1, 3362],\n",
       "       [   1, 3930],\n",
       "       [   1, 3835],\n",
       "       [   1, 3830],\n",
       "       [   1, 3856],\n",
       "       [   1, 3249],\n",
       "       [   1, 3577],\n",
       "       [   1, 3933],\n",
       "       [   1, 3850],\n",
       "       [   1, 3309],\n",
       "       [   1, 3406],\n",
       "       [   1, 3506],\n",
       "       [   1, 3907],\n",
       "       [   1, 4160],\n",
       "       [   1, 3318],\n",
       "       [   1, 3662],\n",
       "       [   1, 3899],\n",
       "       [   1, 3700],\n",
       "       [   1, 3779],\n",
       "       [   1, 3473],\n",
       "       [   1, 3490],\n",
       "       [   1, 3654],\n",
       "       [   1, 3478],\n",
       "       [   1, 3495],\n",
       "       [   1, 3834],\n",
       "       [   1, 3876],\n",
       "       [   1, 3661],\n",
       "       [   1, 3618],\n",
       "       [   1, 3648],\n",
       "       [   1, 4032],\n",
       "       [   1, 3399],\n",
       "       [   1, 3916],\n",
       "       [   1, 4430],\n",
       "       [   1, 3695],\n",
       "       [   1, 3524],\n",
       "       [   1, 3571],\n",
       "       [   1, 3594],\n",
       "       [   1, 3383],\n",
       "       [   1, 3499],\n",
       "       [   1, 3589],\n",
       "       [   1, 3900],\n",
       "       [   1, 4114],\n",
       "       [   1, 3937],\n",
       "       [   1, 3399],\n",
       "       [   1, 4200],\n",
       "       [   1, 4488],\n",
       "       [   1, 3614],\n",
       "       [   1, 4051],\n",
       "       [   1, 3782],\n",
       "       [   1, 3391],\n",
       "       [   1, 3124],\n",
       "       [   1, 4053],\n",
       "       [   1, 3582],\n",
       "       [   1, 3666],\n",
       "       [   1, 3532],\n",
       "       [   1, 4046],\n",
       "       [   1, 3667],\n",
       "       [   2, 2857],\n",
       "       [   2, 3436],\n",
       "       [   2, 3791],\n",
       "       [   2, 3302],\n",
       "       [   2, 3104],\n",
       "       [   2, 3171],\n",
       "       [   2, 3572],\n",
       "       [   2, 3530],\n",
       "       [   2, 3175],\n",
       "       [   2, 3438],\n",
       "       [   2, 3903],\n",
       "       [   2, 3899],\n",
       "       [   2, 3401],\n",
       "       [   2, 3267],\n",
       "       [   2, 3451],\n",
       "       [   2, 3090],\n",
       "       [   2, 3413],\n",
       "       [   2, 3323],\n",
       "       [   2, 3680],\n",
       "       [   2, 3439],\n",
       "       [   2, 3853],\n",
       "       [   2, 3156],\n",
       "       [   2, 3279],\n",
       "       [   2, 3707],\n",
       "       [   2, 4006],\n",
       "       [   2, 3269],\n",
       "       [   2, 3071],\n",
       "       [   2, 3779],\n",
       "       [   2, 3548],\n",
       "       [   2, 3292],\n",
       "       [   2, 3497],\n",
       "       [   2, 3082],\n",
       "       [   2, 3248],\n",
       "       [   2, 3358],\n",
       "       [   2, 3803],\n",
       "       [   2, 3566],\n",
       "       [   2, 3145],\n",
       "       [   2, 3503],\n",
       "       [   2, 3571],\n",
       "       [   2, 3724],\n",
       "       [   2, 3615],\n",
       "       [   2, 3203],\n",
       "       [   2, 3609],\n",
       "       [   2, 3561],\n",
       "       [   2, 3979],\n",
       "       [   2, 3533],\n",
       "       [   2, 3689],\n",
       "       [   2, 3158],\n",
       "       [   2, 4005],\n",
       "       [   2, 3181],\n",
       "       [   2, 3479],\n",
       "       [   2, 3642],\n",
       "       [   2, 3632],\n",
       "       [   2, 3069],\n",
       "       [   2, 3394],\n",
       "       [   2, 3703],\n",
       "       [   2, 3165],\n",
       "       [   2, 3354],\n",
       "       [   2, 3000],\n",
       "       [   2, 3687],\n",
       "       [   2, 3556],\n",
       "       [   2, 2773],\n",
       "       [   2, 3058],\n",
       "       [   2, 3344],\n",
       "       [   2, 3493],\n",
       "       [   2, 3297],\n",
       "       [   2, 3360],\n",
       "       [   2, 3228],\n",
       "       [   2, 3277],\n",
       "       [   2, 3851],\n",
       "       [   2, 3067],\n",
       "       [   2, 3692],\n",
       "       [   2, 3402],\n",
       "       [   2, 3995],\n",
       "       [   2, 3318],\n",
       "       [   2, 2720],\n",
       "       [   2, 2937],\n",
       "       [   2, 3580],\n",
       "       [   2, 2939],\n",
       "       [   2, 2989],\n",
       "       [   2, 3586],\n",
       "       [   2, 3156],\n",
       "       [   2, 3246],\n",
       "       [   2, 3170],\n",
       "       [   2, 3268],\n",
       "       [   2, 3389],\n",
       "       [   2, 3381],\n",
       "       [   2, 2864],\n",
       "       [   2, 3740],\n",
       "       [   2, 3479],\n",
       "       [   2, 3647],\n",
       "       [   2, 3716],\n",
       "       [   2, 3284],\n",
       "       [   2, 4204],\n",
       "       [   2, 3735],\n",
       "       [   2, 3218],\n",
       "       [   2, 3685],\n",
       "       [   2, 3704],\n",
       "       [   2, 3214],\n",
       "       [   2, 3394],\n",
       "       [   2, 3233],\n",
       "       [   2, 3352],\n",
       "       [   2, 3391]], dtype=int64)"
      ]
     },
     "execution_count": 55,
     "metadata": {},
     "output_type": "execute_result"
    }
   ],
   "source": [
    "X_new = SelectKBest(chi2, k=2).fit_transform(x, y)\n",
    "X_new"
   ]
  },
  {
   "cell_type": "code",
   "execution_count": 56,
   "metadata": {},
   "outputs": [],
   "source": [
    "from sklearn.feature_selection import mutual_info_classif,f_classif"
   ]
  },
  {
   "cell_type": "code",
   "execution_count": 57,
   "metadata": {},
   "outputs": [
    {
     "data": {
      "text/plain": [
       "array([1.84304478, 1.10562415, 0.36149124])"
      ]
     },
     "execution_count": 57,
     "metadata": {},
     "output_type": "execute_result"
    }
   ],
   "source": [
    "m=mutual_info_classif(x, y, discrete_features='auto', n_neighbors=3, copy=True, random_state=None)\n",
    "m"
   ]
  },
  {
   "cell_type": "code",
   "execution_count": 58,
   "metadata": {},
   "outputs": [
    {
     "data": {
      "text/plain": [
       "(array([  27.55911765,   23.26277473, 7618.11498239]), array([1., 1., 0.]))"
      ]
     },
     "execution_count": 58,
     "metadata": {},
     "output_type": "execute_result"
    }
   ],
   "source": [
    "ch=chi2(x, y)\n",
    "ch"
   ]
  },
  {
   "cell_type": "code",
   "execution_count": 59,
   "metadata": {},
   "outputs": [
    {
     "data": {
      "text/plain": [
       "(array([1.32686783, 0.96580195, 4.56976679]),\n",
       " array([7.22112390e-02, 5.78580727e-01, 1.46289285e-13]))"
      ]
     },
     "execution_count": 59,
     "metadata": {},
     "output_type": "execute_result"
    }
   ],
   "source": [
    "fc=f_classif(x, y)\n",
    "fc"
   ]
  },
  {
   "cell_type": "code",
   "execution_count": null,
   "metadata": {},
   "outputs": [],
   "source": []
  }
 ],
 "metadata": {
  "kernelspec": {
   "display_name": "Python 3",
   "language": "python",
   "name": "python3"
  },
  "language_info": {
   "codemirror_mode": {
    "name": "ipython",
    "version": 3
   },
   "file_extension": ".py",
   "mimetype": "text/x-python",
   "name": "python",
   "nbconvert_exporter": "python",
   "pygments_lexer": "ipython3",
   "version": "3.7.3"
  }
 },
 "nbformat": 4,
 "nbformat_minor": 2
}
