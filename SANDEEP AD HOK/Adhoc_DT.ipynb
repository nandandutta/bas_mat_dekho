{
 "cells": [
  {
   "cell_type": "code",
   "execution_count": 2,
   "metadata": {},
   "outputs": [],
   "source": [
    "import pandas as pd"
   ]
  },
  {
   "cell_type": "code",
   "execution_count": 4,
   "metadata": {},
   "outputs": [
    {
     "data": {
      "text/html": [
       "<div>\n",
       "<style scoped>\n",
       "    .dataframe tbody tr th:only-of-type {\n",
       "        vertical-align: middle;\n",
       "    }\n",
       "\n",
       "    .dataframe tbody tr th {\n",
       "        vertical-align: top;\n",
       "    }\n",
       "\n",
       "    .dataframe thead th {\n",
       "        text-align: right;\n",
       "    }\n",
       "</style>\n",
       "<table border=\"1\" class=\"dataframe\">\n",
       "  <thead>\n",
       "    <tr style=\"text-align: right;\">\n",
       "      <th></th>\n",
       "      <th>Unnamed: 0</th>\n",
       "      <th>pos_x</th>\n",
       "      <th>pos_y</th>\n",
       "      <th>pos_z</th>\n",
       "      <th>spd_x</th>\n",
       "      <th>spd_y</th>\n",
       "      <th>spd_z</th>\n",
       "      <th>Density_Level</th>\n",
       "      <th>Attacker_Density</th>\n",
       "      <th>AttackerType</th>\n",
       "    </tr>\n",
       "  </thead>\n",
       "  <tbody>\n",
       "    <tr>\n",
       "      <th>0</th>\n",
       "      <td>0</td>\n",
       "      <td>3597.152086</td>\n",
       "      <td>5542.199221</td>\n",
       "      <td>1.895</td>\n",
       "      <td>-3.178366</td>\n",
       "      <td>38.798969</td>\n",
       "      <td>0.0</td>\n",
       "      <td>3</td>\n",
       "      <td>0.1</td>\n",
       "      <td>0</td>\n",
       "    </tr>\n",
       "    <tr>\n",
       "      <th>1</th>\n",
       "      <td>1</td>\n",
       "      <td>3596.805861</td>\n",
       "      <td>5692.113417</td>\n",
       "      <td>1.895</td>\n",
       "      <td>1.282467</td>\n",
       "      <td>-29.864003</td>\n",
       "      <td>0.0</td>\n",
       "      <td>3</td>\n",
       "      <td>0.1</td>\n",
       "      <td>0</td>\n",
       "    </tr>\n",
       "    <tr>\n",
       "      <th>2</th>\n",
       "      <td>2</td>\n",
       "      <td>3597.770493</td>\n",
       "      <td>5764.800893</td>\n",
       "      <td>1.895</td>\n",
       "      <td>-0.020161</td>\n",
       "      <td>-34.568848</td>\n",
       "      <td>0.0</td>\n",
       "      <td>3</td>\n",
       "      <td>0.1</td>\n",
       "      <td>0</td>\n",
       "    </tr>\n",
       "    <tr>\n",
       "      <th>3</th>\n",
       "      <td>3</td>\n",
       "      <td>3822.892006</td>\n",
       "      <td>5266.806009</td>\n",
       "      <td>1.895</td>\n",
       "      <td>1.305362</td>\n",
       "      <td>-0.988730</td>\n",
       "      <td>0.0</td>\n",
       "      <td>3</td>\n",
       "      <td>0.1</td>\n",
       "      <td>0</td>\n",
       "    </tr>\n",
       "    <tr>\n",
       "      <th>4</th>\n",
       "      <td>4</td>\n",
       "      <td>3617.100034</td>\n",
       "      <td>5417.782781</td>\n",
       "      <td>1.895</td>\n",
       "      <td>4.937950</td>\n",
       "      <td>-39.877578</td>\n",
       "      <td>0.0</td>\n",
       "      <td>3</td>\n",
       "      <td>0.1</td>\n",
       "      <td>0</td>\n",
       "    </tr>\n",
       "  </tbody>\n",
       "</table>\n",
       "</div>"
      ],
      "text/plain": [
       "   Unnamed: 0        pos_x        pos_y  pos_z     spd_x      spd_y  spd_z  \\\n",
       "0           0  3597.152086  5542.199221  1.895 -3.178366  38.798969    0.0   \n",
       "1           1  3596.805861  5692.113417  1.895  1.282467 -29.864003    0.0   \n",
       "2           2  3597.770493  5764.800893  1.895 -0.020161 -34.568848    0.0   \n",
       "3           3  3822.892006  5266.806009  1.895  1.305362  -0.988730    0.0   \n",
       "4           4  3617.100034  5417.782781  1.895  4.937950 -39.877578    0.0   \n",
       "\n",
       "   Density_Level  Attacker_Density  AttackerType  \n",
       "0              3               0.1             0  \n",
       "1              3               0.1             0  \n",
       "2              3               0.1             0  \n",
       "3              3               0.1             0  \n",
       "4              3               0.1             0  "
      ]
     },
     "execution_count": 4,
     "metadata": {},
     "output_type": "execute_result"
    }
   ],
   "source": [
    "data = pd.read_csv('D:/sanjay/nandan/model.csv')\n",
    "data.head()"
   ]
  },
  {
   "cell_type": "code",
   "execution_count": 6,
   "metadata": {},
   "outputs": [],
   "source": [
    "data = data.drop('Unnamed: 0',axis=1)"
   ]
  },
  {
   "cell_type": "code",
   "execution_count": 7,
   "metadata": {},
   "outputs": [
    {
     "data": {
      "text/html": [
       "<div>\n",
       "<style scoped>\n",
       "    .dataframe tbody tr th:only-of-type {\n",
       "        vertical-align: middle;\n",
       "    }\n",
       "\n",
       "    .dataframe tbody tr th {\n",
       "        vertical-align: top;\n",
       "    }\n",
       "\n",
       "    .dataframe thead th {\n",
       "        text-align: right;\n",
       "    }\n",
       "</style>\n",
       "<table border=\"1\" class=\"dataframe\">\n",
       "  <thead>\n",
       "    <tr style=\"text-align: right;\">\n",
       "      <th></th>\n",
       "      <th>pos_x</th>\n",
       "      <th>pos_y</th>\n",
       "      <th>pos_z</th>\n",
       "      <th>spd_x</th>\n",
       "      <th>spd_y</th>\n",
       "      <th>spd_z</th>\n",
       "      <th>Density_Level</th>\n",
       "      <th>Attacker_Density</th>\n",
       "      <th>AttackerType</th>\n",
       "    </tr>\n",
       "  </thead>\n",
       "  <tbody>\n",
       "    <tr>\n",
       "      <th>0</th>\n",
       "      <td>3597.152086</td>\n",
       "      <td>5542.199221</td>\n",
       "      <td>1.895</td>\n",
       "      <td>-3.178366</td>\n",
       "      <td>38.798969</td>\n",
       "      <td>0.0</td>\n",
       "      <td>3</td>\n",
       "      <td>0.1</td>\n",
       "      <td>0</td>\n",
       "    </tr>\n",
       "    <tr>\n",
       "      <th>1</th>\n",
       "      <td>3596.805861</td>\n",
       "      <td>5692.113417</td>\n",
       "      <td>1.895</td>\n",
       "      <td>1.282467</td>\n",
       "      <td>-29.864003</td>\n",
       "      <td>0.0</td>\n",
       "      <td>3</td>\n",
       "      <td>0.1</td>\n",
       "      <td>0</td>\n",
       "    </tr>\n",
       "    <tr>\n",
       "      <th>2</th>\n",
       "      <td>3597.770493</td>\n",
       "      <td>5764.800893</td>\n",
       "      <td>1.895</td>\n",
       "      <td>-0.020161</td>\n",
       "      <td>-34.568848</td>\n",
       "      <td>0.0</td>\n",
       "      <td>3</td>\n",
       "      <td>0.1</td>\n",
       "      <td>0</td>\n",
       "    </tr>\n",
       "    <tr>\n",
       "      <th>3</th>\n",
       "      <td>3822.892006</td>\n",
       "      <td>5266.806009</td>\n",
       "      <td>1.895</td>\n",
       "      <td>1.305362</td>\n",
       "      <td>-0.988730</td>\n",
       "      <td>0.0</td>\n",
       "      <td>3</td>\n",
       "      <td>0.1</td>\n",
       "      <td>0</td>\n",
       "    </tr>\n",
       "    <tr>\n",
       "      <th>4</th>\n",
       "      <td>3617.100034</td>\n",
       "      <td>5417.782781</td>\n",
       "      <td>1.895</td>\n",
       "      <td>4.937950</td>\n",
       "      <td>-39.877578</td>\n",
       "      <td>0.0</td>\n",
       "      <td>3</td>\n",
       "      <td>0.1</td>\n",
       "      <td>0</td>\n",
       "    </tr>\n",
       "  </tbody>\n",
       "</table>\n",
       "</div>"
      ],
      "text/plain": [
       "         pos_x        pos_y  pos_z     spd_x      spd_y  spd_z  Density_Level  \\\n",
       "0  3597.152086  5542.199221  1.895 -3.178366  38.798969    0.0              3   \n",
       "1  3596.805861  5692.113417  1.895  1.282467 -29.864003    0.0              3   \n",
       "2  3597.770493  5764.800893  1.895 -0.020161 -34.568848    0.0              3   \n",
       "3  3822.892006  5266.806009  1.895  1.305362  -0.988730    0.0              3   \n",
       "4  3617.100034  5417.782781  1.895  4.937950 -39.877578    0.0              3   \n",
       "\n",
       "   Attacker_Density  AttackerType  \n",
       "0               0.1             0  \n",
       "1               0.1             0  \n",
       "2               0.1             0  \n",
       "3               0.1             0  \n",
       "4               0.1             0  "
      ]
     },
     "execution_count": 7,
     "metadata": {},
     "output_type": "execute_result"
    }
   ],
   "source": [
    "data.head()"
   ]
  },
  {
   "cell_type": "code",
   "execution_count": 8,
   "metadata": {},
   "outputs": [],
   "source": [
    "x = data.drop('AttackerType',axis=1)\n",
    "y = data['AttackerType']"
   ]
  },
  {
   "cell_type": "code",
   "execution_count": 9,
   "metadata": {},
   "outputs": [],
   "source": [
    "from sklearn.model_selection import train_test_split"
   ]
  },
  {
   "cell_type": "code",
   "execution_count": 10,
   "metadata": {},
   "outputs": [],
   "source": [
    "x_train,x_test,y_train,y_test = train_test_split(x,y,test_size=0.3,random_state=0)"
   ]
  },
  {
   "cell_type": "code",
   "execution_count": 11,
   "metadata": {},
   "outputs": [],
   "source": [
    "from sklearn.tree import DecisionTreeClassifier"
   ]
  },
  {
   "cell_type": "code",
   "execution_count": null,
   "metadata": {
    "scrolled": true
   },
   "outputs": [],
   "source": [
    "from sklearn.ensemble import RandomForestClassifier,AdaBoostClassifier,GradientBoostingClassifier"
   ]
  },
  {
   "cell_type": "code",
   "execution_count": 12,
   "metadata": {},
   "outputs": [
    {
     "data": {
      "text/plain": [
       "DecisionTreeClassifier(class_weight=None, criterion='entropy', max_depth=None,\n",
       "                       max_features=None, max_leaf_nodes=None,\n",
       "                       min_impurity_decrease=0.0, min_impurity_split=None,\n",
       "                       min_samples_leaf=1, min_samples_split=2,\n",
       "                       min_weight_fraction_leaf=0.0, presort=False,\n",
       "                       random_state=None, splitter='best')"
      ]
     },
     "execution_count": 12,
     "metadata": {},
     "output_type": "execute_result"
    }
   ],
   "source": [
    "model=DecisionTreeClassifier(criterion='entropy')\n",
    "model.fit(x_train,y_train)"
   ]
  },
  {
   "cell_type": "code",
   "execution_count": 13,
   "metadata": {},
   "outputs": [
    {
     "data": {
      "text/plain": [
       "array([0, 0, 0, ..., 0, 0, 1], dtype=int64)"
      ]
     },
     "execution_count": 13,
     "metadata": {},
     "output_type": "execute_result"
    }
   ],
   "source": [
    "pred = model.predict(x_test)\n",
    "pred"
   ]
  },
  {
   "cell_type": "code",
   "execution_count": 24,
   "metadata": {},
   "outputs": [],
   "source": [
    "result = pd.concat([x_test,y_test],axis=1)"
   ]
  },
  {
   "cell_type": "code",
   "execution_count": 29,
   "metadata": {},
   "outputs": [],
   "source": [
    "#pd.concat([result,pd.Series(pred)],axis=1)\n",
    "result['Pred'] = pred"
   ]
  },
  {
   "cell_type": "code",
   "execution_count": 30,
   "metadata": {},
   "outputs": [
    {
     "data": {
      "text/html": [
       "<div>\n",
       "<style scoped>\n",
       "    .dataframe tbody tr th:only-of-type {\n",
       "        vertical-align: middle;\n",
       "    }\n",
       "\n",
       "    .dataframe tbody tr th {\n",
       "        vertical-align: top;\n",
       "    }\n",
       "\n",
       "    .dataframe thead th {\n",
       "        text-align: right;\n",
       "    }\n",
       "</style>\n",
       "<table border=\"1\" class=\"dataframe\">\n",
       "  <thead>\n",
       "    <tr style=\"text-align: right;\">\n",
       "      <th></th>\n",
       "      <th>pos_x</th>\n",
       "      <th>pos_y</th>\n",
       "      <th>pos_z</th>\n",
       "      <th>spd_x</th>\n",
       "      <th>spd_y</th>\n",
       "      <th>spd_z</th>\n",
       "      <th>Density_Level</th>\n",
       "      <th>Attacker_Density</th>\n",
       "      <th>AttackerType</th>\n",
       "      <th>Pred</th>\n",
       "    </tr>\n",
       "  </thead>\n",
       "  <tbody>\n",
       "    <tr>\n",
       "      <th>4252376</th>\n",
       "      <td>3541.263585</td>\n",
       "      <td>5194.103974</td>\n",
       "      <td>1.895</td>\n",
       "      <td>-14.851689</td>\n",
       "      <td>-1.827537</td>\n",
       "      <td>0.0</td>\n",
       "      <td>7</td>\n",
       "      <td>0.2</td>\n",
       "      <td>0</td>\n",
       "      <td>0</td>\n",
       "    </tr>\n",
       "    <tr>\n",
       "      <th>50606</th>\n",
       "      <td>3597.437334</td>\n",
       "      <td>5677.408712</td>\n",
       "      <td>1.895</td>\n",
       "      <td>1.303350</td>\n",
       "      <td>-30.350278</td>\n",
       "      <td>0.0</td>\n",
       "      <td>3</td>\n",
       "      <td>0.3</td>\n",
       "      <td>0</td>\n",
       "      <td>0</td>\n",
       "    </tr>\n",
       "    <tr>\n",
       "      <th>7592227</th>\n",
       "      <td>5849.291447</td>\n",
       "      <td>5710.268528</td>\n",
       "      <td>1.895</td>\n",
       "      <td>0.005426</td>\n",
       "      <td>0.000440</td>\n",
       "      <td>0.0</td>\n",
       "      <td>7</td>\n",
       "      <td>0.1</td>\n",
       "      <td>0</td>\n",
       "      <td>0</td>\n",
       "    </tr>\n",
       "    <tr>\n",
       "      <th>2358063</th>\n",
       "      <td>6089.953209</td>\n",
       "      <td>5649.545566</td>\n",
       "      <td>1.895</td>\n",
       "      <td>0.869610</td>\n",
       "      <td>12.702007</td>\n",
       "      <td>0.0</td>\n",
       "      <td>7</td>\n",
       "      <td>0.1</td>\n",
       "      <td>0</td>\n",
       "      <td>0</td>\n",
       "    </tr>\n",
       "    <tr>\n",
       "      <th>3695291</th>\n",
       "      <td>5568.168166</td>\n",
       "      <td>5674.438950</td>\n",
       "      <td>1.895</td>\n",
       "      <td>15.973052</td>\n",
       "      <td>2.049196</td>\n",
       "      <td>0.0</td>\n",
       "      <td>7</td>\n",
       "      <td>0.2</td>\n",
       "      <td>0</td>\n",
       "      <td>0</td>\n",
       "    </tr>\n",
       "  </tbody>\n",
       "</table>\n",
       "</div>"
      ],
      "text/plain": [
       "               pos_x        pos_y  pos_z      spd_x      spd_y  spd_z  \\\n",
       "4252376  3541.263585  5194.103974  1.895 -14.851689  -1.827537    0.0   \n",
       "50606    3597.437334  5677.408712  1.895   1.303350 -30.350278    0.0   \n",
       "7592227  5849.291447  5710.268528  1.895   0.005426   0.000440    0.0   \n",
       "2358063  6089.953209  5649.545566  1.895   0.869610  12.702007    0.0   \n",
       "3695291  5568.168166  5674.438950  1.895  15.973052   2.049196    0.0   \n",
       "\n",
       "         Density_Level  Attacker_Density  AttackerType  Pred  \n",
       "4252376              7               0.2             0     0  \n",
       "50606                3               0.3             0     0  \n",
       "7592227              7               0.1             0     0  \n",
       "2358063              7               0.1             0     0  \n",
       "3695291              7               0.2             0     0  "
      ]
     },
     "execution_count": 30,
     "metadata": {},
     "output_type": "execute_result"
    }
   ],
   "source": [
    "result.head()"
   ]
  },
  {
   "cell_type": "code",
   "execution_count": 14,
   "metadata": {},
   "outputs": [],
   "source": [
    "from sklearn.metrics import accuracy_score,confusion_matrix,classification_report"
   ]
  },
  {
   "cell_type": "code",
   "execution_count": 15,
   "metadata": {},
   "outputs": [
    {
     "name": "stdout",
     "output_type": "stream",
     "text": [
      " Accuarcy Score is  0.9995743389313837\n"
     ]
    }
   ],
   "source": [
    "print(' Accuarcy Score is ', accuracy_score(y_test,pred))"
   ]
  },
  {
   "cell_type": "code",
   "execution_count": 16,
   "metadata": {},
   "outputs": [
    {
     "data": {
      "text/plain": [
       "array([[2076021,     223],\n",
       "       [    805,  338018]], dtype=int64)"
      ]
     },
     "execution_count": 16,
     "metadata": {},
     "output_type": "execute_result"
    }
   ],
   "source": [
    "confusion_matrix(y_test,pred)"
   ]
  },
  {
   "cell_type": "code",
   "execution_count": 18,
   "metadata": {},
   "outputs": [
    {
     "name": "stdout",
     "output_type": "stream",
     "text": [
      "              precision    recall  f1-score   support\n",
      "\n",
      "           0       1.00      1.00      1.00   2076244\n",
      "           1       1.00      1.00      1.00    338823\n",
      "\n",
      "    accuracy                           1.00   2415067\n",
      "   macro avg       1.00      1.00      1.00   2415067\n",
      "weighted avg       1.00      1.00      1.00   2415067\n",
      "\n"
     ]
    }
   ],
   "source": [
    "report = classification_report(y_test,pred)\n",
    "print(report)"
   ]
  }
 ],
 "metadata": {
  "kernelspec": {
   "display_name": "Python 3",
   "language": "python",
   "name": "python3"
  },
  "language_info": {
   "codemirror_mode": {
    "name": "ipython",
    "version": 3
   },
   "file_extension": ".py",
   "mimetype": "text/x-python",
   "name": "python",
   "nbconvert_exporter": "python",
   "pygments_lexer": "ipython3",
   "version": "3.7.3"
  }
 },
 "nbformat": 4,
 "nbformat_minor": 2
}
