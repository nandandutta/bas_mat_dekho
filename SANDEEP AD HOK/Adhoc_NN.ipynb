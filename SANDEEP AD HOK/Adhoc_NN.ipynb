{
 "cells": [
  {
   "cell_type": "code",
   "execution_count": 1,
   "metadata": {},
   "outputs": [],
   "source": [
    "import pandas as pd\n",
    "data = pd.read_csv('D:/Nandan/Veins/model.csv')"
   ]
  },
  {
   "cell_type": "code",
   "execution_count": 2,
   "metadata": {},
   "outputs": [
    {
     "data": {
      "text/html": [
       "<div>\n",
       "<style scoped>\n",
       "    .dataframe tbody tr th:only-of-type {\n",
       "        vertical-align: middle;\n",
       "    }\n",
       "\n",
       "    .dataframe tbody tr th {\n",
       "        vertical-align: top;\n",
       "    }\n",
       "\n",
       "    .dataframe thead th {\n",
       "        text-align: right;\n",
       "    }\n",
       "</style>\n",
       "<table border=\"1\" class=\"dataframe\">\n",
       "  <thead>\n",
       "    <tr style=\"text-align: right;\">\n",
       "      <th></th>\n",
       "      <th>Unnamed: 0</th>\n",
       "      <th>pos_x</th>\n",
       "      <th>pos_y</th>\n",
       "      <th>pos_z</th>\n",
       "      <th>spd_x</th>\n",
       "      <th>spd_y</th>\n",
       "      <th>spd_z</th>\n",
       "      <th>Density_Level</th>\n",
       "      <th>Attacker_Density</th>\n",
       "      <th>AttackerType</th>\n",
       "    </tr>\n",
       "  </thead>\n",
       "  <tbody>\n",
       "    <tr>\n",
       "      <th>0</th>\n",
       "      <td>0</td>\n",
       "      <td>3597.152086</td>\n",
       "      <td>5542.199221</td>\n",
       "      <td>1.895</td>\n",
       "      <td>-3.178366</td>\n",
       "      <td>38.798969</td>\n",
       "      <td>0.0</td>\n",
       "      <td>3</td>\n",
       "      <td>0.1</td>\n",
       "      <td>0</td>\n",
       "    </tr>\n",
       "    <tr>\n",
       "      <th>1</th>\n",
       "      <td>1</td>\n",
       "      <td>3596.805861</td>\n",
       "      <td>5692.113417</td>\n",
       "      <td>1.895</td>\n",
       "      <td>1.282467</td>\n",
       "      <td>-29.864003</td>\n",
       "      <td>0.0</td>\n",
       "      <td>3</td>\n",
       "      <td>0.1</td>\n",
       "      <td>0</td>\n",
       "    </tr>\n",
       "    <tr>\n",
       "      <th>2</th>\n",
       "      <td>2</td>\n",
       "      <td>3597.770493</td>\n",
       "      <td>5764.800893</td>\n",
       "      <td>1.895</td>\n",
       "      <td>-0.020161</td>\n",
       "      <td>-34.568848</td>\n",
       "      <td>0.0</td>\n",
       "      <td>3</td>\n",
       "      <td>0.1</td>\n",
       "      <td>0</td>\n",
       "    </tr>\n",
       "    <tr>\n",
       "      <th>3</th>\n",
       "      <td>3</td>\n",
       "      <td>3822.892006</td>\n",
       "      <td>5266.806009</td>\n",
       "      <td>1.895</td>\n",
       "      <td>1.305362</td>\n",
       "      <td>-0.988730</td>\n",
       "      <td>0.0</td>\n",
       "      <td>3</td>\n",
       "      <td>0.1</td>\n",
       "      <td>0</td>\n",
       "    </tr>\n",
       "    <tr>\n",
       "      <th>4</th>\n",
       "      <td>4</td>\n",
       "      <td>3617.100034</td>\n",
       "      <td>5417.782781</td>\n",
       "      <td>1.895</td>\n",
       "      <td>4.937950</td>\n",
       "      <td>-39.877578</td>\n",
       "      <td>0.0</td>\n",
       "      <td>3</td>\n",
       "      <td>0.1</td>\n",
       "      <td>0</td>\n",
       "    </tr>\n",
       "  </tbody>\n",
       "</table>\n",
       "</div>"
      ],
      "text/plain": [
       "   Unnamed: 0        pos_x        pos_y  pos_z     spd_x      spd_y  spd_z  \\\n",
       "0           0  3597.152086  5542.199221  1.895 -3.178366  38.798969    0.0   \n",
       "1           1  3596.805861  5692.113417  1.895  1.282467 -29.864003    0.0   \n",
       "2           2  3597.770493  5764.800893  1.895 -0.020161 -34.568848    0.0   \n",
       "3           3  3822.892006  5266.806009  1.895  1.305362  -0.988730    0.0   \n",
       "4           4  3617.100034  5417.782781  1.895  4.937950 -39.877578    0.0   \n",
       "\n",
       "   Density_Level  Attacker_Density  AttackerType  \n",
       "0              3               0.1             0  \n",
       "1              3               0.1             0  \n",
       "2              3               0.1             0  \n",
       "3              3               0.1             0  \n",
       "4              3               0.1             0  "
      ]
     },
     "execution_count": 2,
     "metadata": {},
     "output_type": "execute_result"
    }
   ],
   "source": [
    "data.head()"
   ]
  },
  {
   "cell_type": "code",
   "execution_count": 3,
   "metadata": {},
   "outputs": [],
   "source": [
    "data = data.drop('Unnamed: 0',axis=1)"
   ]
  },
  {
   "cell_type": "code",
   "execution_count": 5,
   "metadata": {},
   "outputs": [],
   "source": [
    "x = data.drop('AttackerType',axis=is=1)\n",
    "y = data['AttackerType']"
   ]
  },
  {
   "cell_type": "code",
   "execution_count": 6,
   "metadata": {},
   "outputs": [],
   "source": [
    "from sklearn.model_selection import train_test_split\n",
    "\n",
    "x_train,x_test,y_train,y_test = train_test_split(x,y,test_size=0.3,random_state=0)"
   ]
  },
  {
   "cell_type": "code",
   "execution_count": 7,
   "metadata": {},
   "outputs": [
    {
     "name": "stderr",
     "output_type": "stream",
     "text": [
      "Using TensorFlow backend.\n"
     ]
    }
   ],
   "source": [
    "from keras import models\n",
    "from keras import layers"
   ]
  },
  {
   "cell_type": "code",
   "execution_count": 34,
   "metadata": {},
   "outputs": [],
   "source": [
    "model = models.Sequential()\n",
    "model.add(layers.Dense(64, activation='relu', input_shape=(8,)))\n",
    "model.add(layers.Dense(32, activation='relu'))\n",
    "model.add(layers.Dense(16, activation='relu'))\n",
    "model.add(layers.Dense(1, activation='sigmoid'))"
   ]
  },
  {
   "cell_type": "code",
   "execution_count": 35,
   "metadata": {},
   "outputs": [],
   "source": [
    "model.compile(optimizer='adam',\n",
    "              loss='binary_crossentropy',\n",
    "              metrics=['accuracy'])"
   ]
  },
  {
   "cell_type": "code",
   "execution_count": 36,
   "metadata": {},
   "outputs": [
    {
     "name": "stdout",
     "output_type": "stream",
     "text": [
      "Epoch 1/10\n",
      "5635154/5635154 [==============================] - 74s 13us/step - loss: 0.5066 - accuracy: 0.8890\n",
      "Epoch 2/10\n",
      "5635154/5635154 [==============================] - 32s 6us/step - loss: 0.2262 - accuracy: 0.9291\n",
      "Epoch 3/10\n",
      "5635154/5635154 [==============================] - 31s 6us/step - loss: 0.1934 - accuracy: 0.9407\n",
      "Epoch 4/10\n",
      "5635154/5635154 [==============================] - 30s 5us/step - loss: 0.1766 - accuracy: 0.9465\n",
      "Epoch 5/10\n",
      "5635154/5635154 [==============================] - 29s 5us/step - loss: 0.1674 - accuracy: 0.9493\n",
      "Epoch 6/10\n",
      "5635154/5635154 [==============================] - 31s 6us/step - loss: 0.1638 - accuracy: 0.9499\n",
      "Epoch 7/10\n",
      "5635154/5635154 [==============================] - 33s 6us/step - loss: 0.1613 - accuracy: 0.9503\n",
      "Epoch 8/10\n",
      "5635154/5635154 [==============================] - 34s 6us/step - loss: 0.1619 - accuracy: 0.9495\n",
      "Epoch 9/10\n",
      "5635154/5635154 [==============================] - 30s 5us/step - loss: 0.1532 - accuracy: 0.9532\n",
      "Epoch 10/10\n",
      "5635154/5635154 [==============================] - 29s 5us/step - loss: 0.1522 - accuracy: 0.9538\n"
     ]
    },
    {
     "data": {
      "text/plain": [
       "<keras.callbacks.callbacks.History at 0x299f3baa5f8>"
      ]
     },
     "execution_count": 36,
     "metadata": {},
     "output_type": "execute_result"
    }
   ],
   "source": [
    "model.fit(x_train, y_train, epochs=10, batch_size=512)\n"
   ]
  },
  {
   "cell_type": "code",
   "execution_count": null,
   "metadata": {},
   "outputs": [],
   "source": [
    "results = model.evaluate(x_test, y_test)"
   ]
  },
  {
   "cell_type": "code",
   "execution_count": 37,
   "metadata": {},
   "outputs": [
    {
     "data": {
      "text/plain": [
       "array([[0.00546682],\n",
       "       [0.00377497],\n",
       "       [0.05539012],\n",
       "       ...,\n",
       "       [0.01633804],\n",
       "       [0.04728981],\n",
       "       [0.7940043 ]], dtype=float32)"
      ]
     },
     "execution_count": 37,
     "metadata": {},
     "output_type": "execute_result"
    }
   ],
   "source": [
    "pred = model.predict(x_test)\n",
    "pred"
   ]
  },
  {
   "cell_type": "code",
   "execution_count": 16,
   "metadata": {},
   "outputs": [],
   "source": [
    "from sklearn.metrics import accuracy_score,confusion_matrix,classification_report"
   ]
  },
  {
   "cell_type": "code",
   "execution_count": 38,
   "metadata": {},
   "outputs": [],
   "source": [
    "pred = pred.ravel()"
   ]
  },
  {
   "cell_type": "code",
   "execution_count": 39,
   "metadata": {},
   "outputs": [],
   "source": [
    "pred = pred.round()"
   ]
  },
  {
   "cell_type": "code",
   "execution_count": 40,
   "metadata": {},
   "outputs": [
    {
     "name": "stdout",
     "output_type": "stream",
     "text": [
      "Accuracy Score is  0.9560865185106666\n"
     ]
    }
   ],
   "source": [
    "print('Accuracy Score is ', accuracy_score(y_test,pred))"
   ]
  },
  {
   "cell_type": "code",
   "execution_count": 41,
   "metadata": {},
   "outputs": [
    {
     "data": {
      "text/plain": [
       "array([[2054443,   21801],\n",
       "       [  84253,  254570]], dtype=int64)"
      ]
     },
     "execution_count": 41,
     "metadata": {},
     "output_type": "execute_result"
    }
   ],
   "source": [
    "confusion_matrix(y_test,pred)"
   ]
  },
  {
   "cell_type": "code",
   "execution_count": 42,
   "metadata": {},
   "outputs": [
    {
     "name": "stdout",
     "output_type": "stream",
     "text": [
      "              precision    recall  f1-score   support\n",
      "\n",
      "           0       0.96      0.99      0.97   2076244\n",
      "           1       0.92      0.75      0.83    338823\n",
      "\n",
      "    accuracy                           0.96   2415067\n",
      "   macro avg       0.94      0.87      0.90   2415067\n",
      "weighted avg       0.96      0.96      0.95   2415067\n",
      "\n"
     ]
    }
   ],
   "source": [
    "report = classification_report(y_test,pred)\n",
    "print(report)"
   ]
  },
  {
   "cell_type": "code",
   "execution_count": null,
   "metadata": {},
   "outputs": [],
   "source": []
  }
 ],
 "metadata": {
  "kernelspec": {
   "display_name": "Python 3",
   "language": "python",
   "name": "python3"
  },
  "language_info": {
   "codemirror_mode": {
    "name": "ipython",
    "version": 3
   },
   "file_extension": ".py",
   "mimetype": "text/x-python",
   "name": "python",
   "nbconvert_exporter": "python",
   "pygments_lexer": "ipython3",
   "version": "3.7.3"
  }
 },
 "nbformat": 4,
 "nbformat_minor": 4
}
