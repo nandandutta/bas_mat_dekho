{
 "cells": [
  {
   "cell_type": "code",
   "execution_count": 161,
   "metadata": {},
   "outputs": [],
   "source": [
    "import pandas as pd"
   ]
  },
  {
   "cell_type": "code",
   "execution_count": 162,
   "metadata": {},
   "outputs": [],
   "source": [
    "from sklearn.model_selection import train_test_split"
   ]
  },
  {
   "cell_type": "code",
   "execution_count": 163,
   "metadata": {},
   "outputs": [],
   "source": [
    "#from sklearn import svm \n",
    "from sklearn.linear_model import LogisticRegression"
   ]
  },
  {
   "cell_type": "code",
   "execution_count": 4,
   "metadata": {},
   "outputs": [],
   "source": [
    "from sklearn.metrics import accuracy_score,confusion_matrix,classification_report"
   ]
  },
  {
   "cell_type": "code",
   "execution_count": null,
   "metadata": {
    "colab": {},
    "colab_type": "code",
    "id": "LbUyjebgYEXo"
   },
   "outputs": [],
   "source": [
    "#from google.colab import files    \\n   upload = files.upload()\n",
    "## Importing libraries\n",
    "import pandas as pd\n",
    "from sklearn.model_selection import train_test_split\n",
    "from sklearn import svm \n",
    "from sklearn.metrics import accuracy_score,confusion_matrix,classification_report"
   ]
  },
  {
   "cell_type": "code",
   "execution_count": 164,
   "metadata": {
    "colab": {},
    "colab_type": "code",
    "id": "peqNVfBJZ9HY"
   },
   "outputs": [],
   "source": [
    "## Reading data\n",
    "data = pd.read_csv('D:/Nandan/Veins/model.csv') # 'D:/Nandan/Veins/model.csv'"
   ]
  },
  {
   "cell_type": "code",
   "execution_count": null,
   "metadata": {
    "colab": {
     "base_uri": "https://localhost:8080/",
     "height": 197
    },
    "colab_type": "code",
    "executionInfo": {
     "elapsed": 1510,
     "status": "ok",
     "timestamp": 1593514781403,
     "user": {
      "displayName": "Sampath Sampath",
      "photoUrl": "https://lh3.googleusercontent.com/a-/AOh14Gip83uGbOrhTC5E5zZvrIwLDqaM-1bEPB8e4eEg5g=s64",
      "userId": "01828029530078145206"
     },
     "user_tz": -330
    },
    "id": "EOSRSmS4xVtQ",
    "outputId": "fbe596bf-a8b3-47c1-9d4a-aa0f5f377723"
   },
   "outputs": [],
   "source": [
    "## Displaying top 5 records of data\n",
    "data.head()"
   ]
  },
  {
   "cell_type": "code",
   "execution_count": 145,
   "metadata": {
    "colab": {},
    "colab_type": "code",
    "id": "-nlxQdd8xYJs"
   },
   "outputs": [],
   "source": [
    "# Dropped unnecessary columns\n",
    "data = data.drop('Unnamed: 0',axis=1)"
   ]
  },
  {
   "cell_type": "code",
   "execution_count": 146,
   "metadata": {},
   "outputs": [],
   "source": [
    "data = data.drop(['spd_x','spd_y','spd_z'],axis=1)"
   ]
  },
  {
   "cell_type": "code",
   "execution_count": 133,
   "metadata": {},
   "outputs": [],
   "source": [
    "#data =data.drop(['Density_Level','Attacker_Density'],axis=1)"
   ]
  },
  {
   "cell_type": "code",
   "execution_count": 147,
   "metadata": {
    "colab": {},
    "colab_type": "code",
    "id": "0SUiOC2j4w8K"
   },
   "outputs": [],
   "source": [
    "# Preparing data as per model requirement\n",
    "X = data.drop('AttackerType',axis=1)\n",
    "Y = data['AttackerType']"
   ]
  },
  {
   "cell_type": "code",
   "execution_count": 148,
   "metadata": {},
   "outputs": [
    {
     "data": {
      "text/html": [
       "<div>\n",
       "<style scoped>\n",
       "    .dataframe tbody tr th:only-of-type {\n",
       "        vertical-align: middle;\n",
       "    }\n",
       "\n",
       "    .dataframe tbody tr th {\n",
       "        vertical-align: top;\n",
       "    }\n",
       "\n",
       "    .dataframe thead th {\n",
       "        text-align: right;\n",
       "    }\n",
       "</style>\n",
       "<table border=\"1\" class=\"dataframe\">\n",
       "  <thead>\n",
       "    <tr style=\"text-align: right;\">\n",
       "      <th></th>\n",
       "      <th>pos_x</th>\n",
       "      <th>pos_y</th>\n",
       "      <th>pos_z</th>\n",
       "      <th>Density_Level</th>\n",
       "      <th>Attacker_Density</th>\n",
       "    </tr>\n",
       "  </thead>\n",
       "  <tbody>\n",
       "    <tr>\n",
       "      <th>0</th>\n",
       "      <td>3597.152086</td>\n",
       "      <td>5542.199221</td>\n",
       "      <td>1.895</td>\n",
       "      <td>3</td>\n",
       "      <td>0.1</td>\n",
       "    </tr>\n",
       "    <tr>\n",
       "      <th>1</th>\n",
       "      <td>3596.805861</td>\n",
       "      <td>5692.113417</td>\n",
       "      <td>1.895</td>\n",
       "      <td>3</td>\n",
       "      <td>0.1</td>\n",
       "    </tr>\n",
       "    <tr>\n",
       "      <th>2</th>\n",
       "      <td>3597.770493</td>\n",
       "      <td>5764.800893</td>\n",
       "      <td>1.895</td>\n",
       "      <td>3</td>\n",
       "      <td>0.1</td>\n",
       "    </tr>\n",
       "    <tr>\n",
       "      <th>3</th>\n",
       "      <td>3822.892006</td>\n",
       "      <td>5266.806009</td>\n",
       "      <td>1.895</td>\n",
       "      <td>3</td>\n",
       "      <td>0.1</td>\n",
       "    </tr>\n",
       "    <tr>\n",
       "      <th>4</th>\n",
       "      <td>3617.100034</td>\n",
       "      <td>5417.782781</td>\n",
       "      <td>1.895</td>\n",
       "      <td>3</td>\n",
       "      <td>0.1</td>\n",
       "    </tr>\n",
       "    <tr>\n",
       "      <th>...</th>\n",
       "      <td>...</td>\n",
       "      <td>...</td>\n",
       "      <td>...</td>\n",
       "      <td>...</td>\n",
       "      <td>...</td>\n",
       "    </tr>\n",
       "    <tr>\n",
       "      <th>8050216</th>\n",
       "      <td>5859.831516</td>\n",
       "      <td>5813.510273</td>\n",
       "      <td>1.895</td>\n",
       "      <td>7</td>\n",
       "      <td>0.1</td>\n",
       "    </tr>\n",
       "    <tr>\n",
       "      <th>8050217</th>\n",
       "      <td>6202.799907</td>\n",
       "      <td>5727.697175</td>\n",
       "      <td>1.895</td>\n",
       "      <td>7</td>\n",
       "      <td>0.1</td>\n",
       "    </tr>\n",
       "    <tr>\n",
       "      <th>8050218</th>\n",
       "      <td>5990.008607</td>\n",
       "      <td>5817.952650</td>\n",
       "      <td>1.895</td>\n",
       "      <td>7</td>\n",
       "      <td>0.1</td>\n",
       "    </tr>\n",
       "    <tr>\n",
       "      <th>8050219</th>\n",
       "      <td>5990.760789</td>\n",
       "      <td>5811.393046</td>\n",
       "      <td>1.895</td>\n",
       "      <td>7</td>\n",
       "      <td>0.1</td>\n",
       "    </tr>\n",
       "    <tr>\n",
       "      <th>8050220</th>\n",
       "      <td>6093.904430</td>\n",
       "      <td>5707.259296</td>\n",
       "      <td>1.895</td>\n",
       "      <td>7</td>\n",
       "      <td>0.1</td>\n",
       "    </tr>\n",
       "  </tbody>\n",
       "</table>\n",
       "<p>8050221 rows × 5 columns</p>\n",
       "</div>"
      ],
      "text/plain": [
       "               pos_x        pos_y  pos_z  Density_Level  Attacker_Density\n",
       "0        3597.152086  5542.199221  1.895              3               0.1\n",
       "1        3596.805861  5692.113417  1.895              3               0.1\n",
       "2        3597.770493  5764.800893  1.895              3               0.1\n",
       "3        3822.892006  5266.806009  1.895              3               0.1\n",
       "4        3617.100034  5417.782781  1.895              3               0.1\n",
       "...              ...          ...    ...            ...               ...\n",
       "8050216  5859.831516  5813.510273  1.895              7               0.1\n",
       "8050217  6202.799907  5727.697175  1.895              7               0.1\n",
       "8050218  5990.008607  5817.952650  1.895              7               0.1\n",
       "8050219  5990.760789  5811.393046  1.895              7               0.1\n",
       "8050220  6093.904430  5707.259296  1.895              7               0.1\n",
       "\n",
       "[8050221 rows x 5 columns]"
      ]
     },
     "execution_count": 148,
     "metadata": {},
     "output_type": "execute_result"
    }
   ],
   "source": [
    "X"
   ]
  },
  {
   "cell_type": "code",
   "execution_count": 149,
   "metadata": {
    "colab": {},
    "colab_type": "code",
    "id": "vd1NGr3YxJ5X"
   },
   "outputs": [],
   "source": [
    "# Splitting data into train and test\n",
    "x_train,x_test,y_train,y_test = train_test_split(X,Y,test_size=0.3,random_state=21)"
   ]
  },
  {
   "cell_type": "code",
   "execution_count": 157,
   "metadata": {},
   "outputs": [],
   "source": [
    "from sklearn.preprocessing import normalize\n",
    "norm_xtrain = normalize(x_train)\n",
    "norm_xtest = normalize(x_test)"
   ]
  },
  {
   "cell_type": "code",
   "execution_count": 151,
   "metadata": {},
   "outputs": [
    {
     "data": {
      "text/plain": [
       "numpy.ndarray"
      ]
     },
     "execution_count": 151,
     "metadata": {},
     "output_type": "execute_result"
    }
   ],
   "source": [
    "type(norm_xtrain)"
   ]
  },
  {
   "cell_type": "code",
   "execution_count": 158,
   "metadata": {},
   "outputs": [],
   "source": [
    "# Building model\n",
    "model = LogisticRegression().fit(norm_xtrain,y_train) #x_train"
   ]
  },
  {
   "cell_type": "code",
   "execution_count": 153,
   "metadata": {
    "colab": {
     "base_uri": "https://localhost:8080/",
     "height": 87
    },
    "colab_type": "code",
    "executionInfo": {
     "elapsed": 1529,
     "status": "ok",
     "timestamp": 1593515581415,
     "user": {
      "displayName": "Sampath Sampath",
      "photoUrl": "https://lh3.googleusercontent.com/a-/AOh14Gip83uGbOrhTC5E5zZvrIwLDqaM-1bEPB8e4eEg5g=s64",
      "userId": "01828029530078145206"
     },
     "user_tz": -330
    },
    "id": "8QTPKmA-6VAU",
    "outputId": "53ecef53-2c47-4dee-b825-b2779520a8e2"
   },
   "outputs": [
    {
     "data": {
      "text/plain": [
       "'model = svm.SVC()\\nmodel.fit(x_train,y_train)'"
      ]
     },
     "execution_count": 153,
     "metadata": {},
     "output_type": "execute_result"
    }
   ],
   "source": [
    "'''model = svm.SVC()\n",
    "model.fit(x_train,y_train)'''"
   ]
  },
  {
   "cell_type": "code",
   "execution_count": 159,
   "metadata": {
    "colab": {
     "base_uri": "https://localhost:8080/",
     "height": 34
    },
    "colab_type": "code",
    "executionInfo": {
     "elapsed": 1809,
     "status": "ok",
     "timestamp": 1593515665278,
     "user": {
      "displayName": "Sampath Sampath",
      "photoUrl": "https://lh3.googleusercontent.com/a-/AOh14Gip83uGbOrhTC5E5zZvrIwLDqaM-1bEPB8e4eEg5g=s64",
      "userId": "01828029530078145206"
     },
     "user_tz": -330
    },
    "id": "XGvexiZw6bBy",
    "outputId": "933adc3c-278f-4d66-9320-67371fe6cb34"
   },
   "outputs": [
    {
     "data": {
      "text/plain": [
       "array([0, 0, 0, ..., 0, 0, 0], dtype=int64)"
      ]
     },
     "execution_count": 159,
     "metadata": {},
     "output_type": "execute_result"
    }
   ],
   "source": [
    "# Predicting the values\n",
    "pred = model.predict(norm_xtest)# x_test\n",
    "pred"
   ]
  },
  {
   "cell_type": "code",
   "execution_count": 160,
   "metadata": {
    "colab": {
     "base_uri": "https://localhost:8080/",
     "height": 34
    },
    "colab_type": "code",
    "executionInfo": {
     "elapsed": 1449,
     "status": "ok",
     "timestamp": 1593515743299,
     "user": {
      "displayName": "Sampath Sampath",
      "photoUrl": "https://lh3.googleusercontent.com/a-/AOh14Gip83uGbOrhTC5E5zZvrIwLDqaM-1bEPB8e4eEg5g=s64",
      "userId": "01828029530078145206"
     },
     "user_tz": -330
    },
    "id": "NToxUQxW8A4_",
    "outputId": "9aa28dea-64c9-43d3-80d6-ee693320d3a8"
   },
   "outputs": [
    {
     "name": "stdout",
     "output_type": "stream",
     "text": [
      "Accuracy Score is  0.8597115525159343\n"
     ]
    }
   ],
   "source": [
    "## Accuracy\n",
    "print('Accuracy Score is ', accuracy_score(y_test,pred))"
   ]
  },
  {
   "cell_type": "code",
   "execution_count": 156,
   "metadata": {
    "colab": {
     "base_uri": "https://localhost:8080/",
     "height": 52
    },
    "colab_type": "code",
    "executionInfo": {
     "elapsed": 816,
     "status": "ok",
     "timestamp": 1593515763398,
     "user": {
      "displayName": "Sampath Sampath",
      "photoUrl": "https://lh3.googleusercontent.com/a-/AOh14Gip83uGbOrhTC5E5zZvrIwLDqaM-1bEPB8e4eEg5g=s64",
      "userId": "01828029530078145206"
     },
     "user_tz": -330
    },
    "id": "A0nbwYlc8JIW",
    "outputId": "3d4c14f3-9384-407b-8643-ce1246e6810a"
   },
   "outputs": [
    {
     "data": {
      "text/plain": [
       "array([[2075025,    1236],\n",
       "       [ 335737,    3069]], dtype=int64)"
      ]
     },
     "execution_count": 156,
     "metadata": {},
     "output_type": "execute_result"
    }
   ],
   "source": [
    "## Confusion Matrix\n",
    "confusion_matrix(y_test,pred)"
   ]
  },
  {
   "cell_type": "code",
   "execution_count": 22,
   "metadata": {
    "colab": {
     "base_uri": "https://localhost:8080/",
     "height": 176
    },
    "colab_type": "code",
    "executionInfo": {
     "elapsed": 1352,
     "status": "ok",
     "timestamp": 1593515814016,
     "user": {
      "displayName": "Sampath Sampath",
      "photoUrl": "https://lh3.googleusercontent.com/a-/AOh14Gip83uGbOrhTC5E5zZvrIwLDqaM-1bEPB8e4eEg5g=s64",
      "userId": "01828029530078145206"
     },
     "user_tz": -330
    },
    "id": "IBxET4bD8OCB",
    "outputId": "4c48beab-c251-4373-dbce-5e589ed589f3"
   },
   "outputs": [
    {
     "name": "stdout",
     "output_type": "stream",
     "text": [
      "              precision    recall  f1-score   support\n",
      "\n",
      "           0       0.86      1.00      0.92   2075453\n",
      "           1       0.33      0.01      0.02    339614\n",
      "\n",
      "    accuracy                           0.86   2415067\n",
      "   macro avg       0.59      0.50      0.47   2415067\n",
      "weighted avg       0.79      0.86      0.80   2415067\n",
      "\n"
     ]
    }
   ],
   "source": [
    "## Classification Report\n",
    "report = classification_report(y_test,pred)\n",
    "print(report)"
   ]
  },
  {
   "cell_type": "code",
   "execution_count": 17,
   "metadata": {},
   "outputs": [],
   "source": [
    "train_test_split?"
   ]
  },
  {
   "cell_type": "code",
   "execution_count": null,
   "metadata": {},
   "outputs": [],
   "source": []
  }
 ],
 "metadata": {
  "colab": {
   "authorship_tag": "ABX9TyPoEVwrvfLvwZGuIs5z4mCC",
   "collapsed_sections": [],
   "name": "Adhoc.ipynb",
   "provenance": []
  },
  "kernelspec": {
   "display_name": "Python 3",
   "language": "python",
   "name": "python3"
  },
  "language_info": {
   "codemirror_mode": {
    "name": "ipython",
    "version": 3
   },
   "file_extension": ".py",
   "mimetype": "text/x-python",
   "name": "python",
   "nbconvert_exporter": "python",
   "pygments_lexer": "ipython3",
   "version": "3.7.3"
  }
 },
 "nbformat": 4,
 "nbformat_minor": 1
}
