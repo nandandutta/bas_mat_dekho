{
 "cells": [
  {
   "cell_type": "code",
   "execution_count": 1,
   "metadata": {},
   "outputs": [],
   "source": [
    "from flask import Flask,render_template,url_for,request\n",
    "import re\n",
    "import pandas as pd\n",
    "import spacy\n",
    "from spacy import displacy\n",
    "import en_core_web_sm\n",
    "nlp = spacy.load('en_core_web_sm')"
   ]
  },
  {
   "cell_type": "code",
   "execution_count": 2,
   "metadata": {},
   "outputs": [],
   "source": [
    "app = Flask(__name__)\n",
    "\n",
    "@app.route('/')\n",
    "def index():\n",
    "    return render_template(\"index.html\")"
   ]
  },
  {
   "cell_type": "code",
   "execution_count": 3,
   "metadata": {},
   "outputs": [],
   "source": [
    "@app.route('/process',methods=[\"POST\"])\n",
    "def process():\n",
    "    if request.method == 'POST':\n",
    "        choice = request.form['taskoption']\n",
    "        rawtext = request.form['rawtext']\n",
    "        doc = nlp(rawtext)\n",
    "        d = []\n",
    "        for ent in doc.ents:\n",
    "            d.append((ent.label_, ent.text))\n",
    "            df = pd.DataFrame(d, columns=('named entity', 'output'))\n",
    "            ORG_named_entity = df.loc[df['named entity'] == 'ORG']['output']\n",
    "            PERSON_named_entity = df.loc[df['named entity'] == 'PERSON']['output']\n",
    "            GPE_named_entity = df.loc[df['named entity'] == 'GPE']['output']\n",
    "            MONEY_named_entity = df.loc[df['named entity'] == 'MONEY']['output']\n",
    "            FAC_named_entity = df.loc[df['named entity'] == 'FAC']['output']\n",
    "            PRODUCT_named_entity = df.loc[df['named entity'] == 'PRODUCT']['output']\n",
    "            EVENT_named_entity = df.loc[df['named entity'] == 'EVENT']['output']\n",
    "        if choice == 'organization':\n",
    "            results = ORG_named_entity\n",
    "            num_of_results = len(results)\n",
    "        elif choice == 'person':\n",
    "            results = PERSON_named_entity\n",
    "            num_of_results = len(results)\n",
    "        elif choice == 'geopolitical':\n",
    "            results = GPE_named_entity\n",
    "            num_of_results = len(results)\n",
    "        elif choice == 'money':\n",
    "            results = MONEY_named_entity\n",
    "            num_of_results = len(results)\n",
    "        elif choice == 'fact':\n",
    "            results = FAC_named_entity\n",
    "            num_of_results = len(results)\n",
    "        elif choice == 'topic':\n",
    "            results = PRODUCT_named_entity\n",
    "            num_of_results = len(results)\n",
    "        elif choice == 'event':\n",
    "            results = EVENT_named_entity\n",
    "            num_of_results = len(results)\n",
    "\n",
    "    return render_template(\"index.html\",results=results,num_of_results = num_of_results)"
   ]
  },
  {
   "cell_type": "code",
   "execution_count": null,
   "metadata": {},
   "outputs": [
    {
     "name": "stdout",
     "output_type": "stream",
     "text": [
      " * Serving Flask app \"__main__\" (lazy loading)\n",
      " * Environment: production\n",
      "   WARNING: Do not use the development server in a production environment.\n",
      "   Use a production WSGI server instead.\n",
      " * Debug mode: off\n"
     ]
    },
    {
     "name": "stderr",
     "output_type": "stream",
     "text": [
      " * Running on http://127.0.0.1:5000/ (Press CTRL+C to quit)\n",
      "127.0.0.1 - - [06/Jul/2020 17:01:56] \"GET / HTTP/1.1\" 200 -\n",
      "127.0.0.1 - - [06/Jul/2020 17:01:57] \"GET /main.css HTTP/1.1\" 404 -\n",
      "127.0.0.1 - - [06/Jul/2020 17:01:57] \"GET /main.js HTTP/1.1\" 404 -\n",
      "127.0.0.1 - - [06/Jul/2020 17:02:37] \"POST /process HTTP/1.1\" 200 -\n",
      "127.0.0.1 - - [06/Jul/2020 17:02:37] \"GET /main.css HTTP/1.1\" 404 -\n",
      "127.0.0.1 - - [06/Jul/2020 17:02:37] \"GET /main.js HTTP/1.1\" 404 -\n",
      "127.0.0.1 - - [06/Jul/2020 17:02:50] \"POST /process HTTP/1.1\" 200 -\n",
      "127.0.0.1 - - [06/Jul/2020 17:02:50] \"GET /main.css HTTP/1.1\" 404 -\n",
      "127.0.0.1 - - [06/Jul/2020 17:02:50] \"GET /main.js HTTP/1.1\" 404 -\n",
      "127.0.0.1 - - [06/Jul/2020 17:02:58] \"POST /process HTTP/1.1\" 200 -\n",
      "127.0.0.1 - - [06/Jul/2020 17:02:58] \"GET /main.css HTTP/1.1\" 404 -\n",
      "127.0.0.1 - - [06/Jul/2020 17:02:58] \"GET /main.js HTTP/1.1\" 404 -\n",
      "127.0.0.1 - - [06/Jul/2020 17:03:15] \"POST /process HTTP/1.1\" 200 -\n",
      "127.0.0.1 - - [06/Jul/2020 17:03:15] \"GET /main.css HTTP/1.1\" 404 -\n",
      "127.0.0.1 - - [06/Jul/2020 17:03:15] \"GET /main.js HTTP/1.1\" 404 -\n",
      "127.0.0.1 - - [06/Jul/2020 17:03:21] \"POST /process HTTP/1.1\" 200 -\n",
      "127.0.0.1 - - [06/Jul/2020 17:03:21] \"GET /main.css HTTP/1.1\" 404 -\n",
      "127.0.0.1 - - [06/Jul/2020 17:03:21] \"GET /main.js HTTP/1.1\" 404 -\n",
      "127.0.0.1 - - [06/Jul/2020 17:03:28] \"POST /process HTTP/1.1\" 200 -\n",
      "127.0.0.1 - - [06/Jul/2020 17:03:28] \"GET /main.css HTTP/1.1\" 404 -\n",
      "127.0.0.1 - - [06/Jul/2020 17:03:28] \"GET /main.js HTTP/1.1\" 404 -\n"
     ]
    }
   ],
   "source": [
    "if __name__ == '__main__':\n",
    "    app.run()"
   ]
  },
  {
   "cell_type": "code",
   "execution_count": null,
   "metadata": {},
   "outputs": [],
   "source": []
  }
 ],
 "metadata": {
  "kernelspec": {
   "display_name": "Python 3",
   "language": "python",
   "name": "python3"
  },
  "language_info": {
   "codemirror_mode": {
    "name": "ipython",
    "version": 3
   },
   "file_extension": ".py",
   "mimetype": "text/x-python",
   "name": "python",
   "nbconvert_exporter": "python",
   "pygments_lexer": "ipython3",
   "version": "3.7.3"
  }
 },
 "nbformat": 4,
 "nbformat_minor": 2
}
