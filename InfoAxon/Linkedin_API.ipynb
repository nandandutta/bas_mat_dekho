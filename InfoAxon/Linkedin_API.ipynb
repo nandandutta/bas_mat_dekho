{
 "cells": [
  {
   "cell_type": "code",
   "execution_count": 1,
   "metadata": {},
   "outputs": [
    {
     "name": "stdout",
     "output_type": "stream",
     "text": [
      "Collecting python-linkedin\n",
      "  Downloading https://files.pythonhosted.org/packages/16/b3/c91e371df70cbb7c377c338625f1d8bc7464a9b6eef17ce4ba1bffd47a09/python-linkedin-4.1.tar.gz\n",
      "Requirement already satisfied: requests>=1.1.0 in c:\\users\\administrator\\.conda\\envs\\tensorflow\\lib\\site-packages (from python-linkedin) (2.24.0)\n",
      "Requirement already satisfied: requests-oauthlib>=0.3 in c:\\users\\administrator\\.conda\\envs\\tensorflow\\lib\\site-packages (from python-linkedin) (1.3.0)\n",
      "Requirement already satisfied: urllib3!=1.25.0,!=1.25.1,<1.26,>=1.21.1 in c:\\users\\administrator\\.conda\\envs\\tensorflow\\lib\\site-packages (from requests>=1.1.0->python-linkedin) (1.24.2)\n",
      "Requirement already satisfied: idna<3,>=2.5 in c:\\users\\administrator\\.conda\\envs\\tensorflow\\lib\\site-packages (from requests>=1.1.0->python-linkedin) (2.8)\n",
      "Requirement already satisfied: certifi>=2017.4.17 in c:\\users\\administrator\\.conda\\envs\\tensorflow\\lib\\site-packages (from requests>=1.1.0->python-linkedin) (2020.6.20)\n",
      "Requirement already satisfied: chardet<4,>=3.0.2 in c:\\users\\administrator\\.conda\\envs\\tensorflow\\lib\\site-packages (from requests>=1.1.0->python-linkedin) (3.0.4)\n",
      "Requirement already satisfied: oauthlib>=3.0.0 in c:\\users\\administrator\\.conda\\envs\\tensorflow\\lib\\site-packages (from requests-oauthlib>=0.3->python-linkedin) (3.1.0)\n",
      "Building wheels for collected packages: python-linkedin\n",
      "  Building wheel for python-linkedin (setup.py): started\n",
      "  Building wheel for python-linkedin (setup.py): finished with status 'done'\n",
      "  Stored in directory: C:\\Users\\Administrator\\AppData\\Local\\pip\\Cache\\wheels\\ce\\83\\3c\\5369dcdfd37667f91f376eac9915d629a2cf20da907435e0b3\n",
      "Successfully built python-linkedin\n",
      "Installing collected packages: python-linkedin\n",
      "Successfully installed python-linkedin-4.1\n",
      "Note: you may need to restart the kernel to use updated packages.\n"
     ]
    }
   ],
   "source": [
    "pip install python3-linkedin"
   ]
  },
  {
   "cell_type": "code",
   "execution_count": 3,
   "metadata": {},
   "outputs": [],
   "source": [
    "import linkedin"
   ]
  },
  {
   "cell_type": "code",
   "execution_count": 5,
   "metadata": {},
   "outputs": [],
   "source": [
    "APPLICATON_KEY    = '77tk9d36pbedqi'\n",
    "APPLICATON_SECRET = 's3hMsIqSCej7Nvoq'\n",
    "\n",
    "RETURN_URL = 'http://localhost:8000'"
   ]
  },
  {
   "cell_type": "code",
   "execution_count": 7,
   "metadata": {},
   "outputs": [
    {
     "ename": "AttributeError",
     "evalue": "module 'linkedin' has no attribute 'LinkedInDeveloperAuthentication'",
     "output_type": "error",
     "traceback": [
      "\u001b[1;31m---------------------------------------------------------------------------\u001b[0m",
      "\u001b[1;31mAttributeError\u001b[0m                            Traceback (most recent call last)",
      "\u001b[1;32m<ipython-input-7-653ce131a7d7>\u001b[0m in \u001b[0;36m<module>\u001b[1;34m\u001b[0m\n\u001b[1;32m----> 1\u001b[1;33m authentication = linkedin.LinkedInDeveloperAuthentication(\n\u001b[0m\u001b[0;32m      2\u001b[0m                     \u001b[0mCONSUMER_KEY\u001b[0m\u001b[1;33m,\u001b[0m\u001b[1;33m\u001b[0m\u001b[1;33m\u001b[0m\u001b[0m\n\u001b[0;32m      3\u001b[0m                     \u001b[0mCONSUMER_SECRET\u001b[0m\u001b[1;33m,\u001b[0m\u001b[1;33m\u001b[0m\u001b[1;33m\u001b[0m\u001b[0m\n\u001b[0;32m      4\u001b[0m                     \u001b[0mUSER_TOKEN\u001b[0m\u001b[1;33m,\u001b[0m\u001b[1;33m\u001b[0m\u001b[1;33m\u001b[0m\u001b[0m\n\u001b[0;32m      5\u001b[0m                     \u001b[0mUSER_SECRET\u001b[0m\u001b[1;33m,\u001b[0m\u001b[1;33m\u001b[0m\u001b[1;33m\u001b[0m\u001b[0m\n",
      "\u001b[1;31mAttributeError\u001b[0m: module 'linkedin' has no attribute 'LinkedInDeveloperAuthentication'"
     ]
    }
   ],
   "source": [
    "authentication = linkedin.LinkedInDeveloperAuthentication(\n",
    "                    CONSUMER_KEY,\n",
    "                    CONSUMER_SECRET,\n",
    "                    USER_TOKEN,\n",
    "                    USER_SECRET,\n",
    "                    RETURN_URL,\n",
    "                    linkedin.PERMISSIONS.enums.values()\n",
    "                )\n",
    "authentication.authorization_code = '#############################################'\n",
    "result = authentication.get_access_token()"
   ]
  },
  {
   "cell_type": "code",
   "execution_count": 8,
   "metadata": {},
   "outputs": [
    {
     "name": "stdout",
     "output_type": "stream",
     "text": [
      "Collecting python3-linkedin\n",
      "  Downloading https://files.pythonhosted.org/packages/cc/82/eb274d7366e126484d62f07c5ba4e23c99f4d388464aa5f3750b5d417df6/python3_linkedin-1.0.2-py2.py3-none-any.whl\n",
      "Requirement already satisfied: requests>=2.8.1 in c:\\users\\administrator\\.conda\\envs\\tensorflow\\lib\\site-packages (from python3-linkedin) (2.24.0)\n",
      "Requirement already satisfied: requests-oauthlib>=0.5.0 in c:\\users\\administrator\\.conda\\envs\\tensorflow\\lib\\site-packages (from python3-linkedin) (1.3.0)\n",
      "Requirement already satisfied: certifi>=2017.4.17 in c:\\users\\administrator\\.conda\\envs\\tensorflow\\lib\\site-packages (from requests>=2.8.1->python3-linkedin) (2020.6.20)\n",
      "Requirement already satisfied: chardet<4,>=3.0.2 in c:\\users\\administrator\\.conda\\envs\\tensorflow\\lib\\site-packages (from requests>=2.8.1->python3-linkedin) (3.0.4)\n",
      "Requirement already satisfied: urllib3!=1.25.0,!=1.25.1,<1.26,>=1.21.1 in c:\\users\\administrator\\.conda\\envs\\tensorflow\\lib\\site-packages (from requests>=2.8.1->python3-linkedin) (1.24.2)\n",
      "Requirement already satisfied: idna<3,>=2.5 in c:\\users\\administrator\\.conda\\envs\\tensorflow\\lib\\site-packages (from requests>=2.8.1->python3-linkedin) (2.8)\n",
      "Requirement already satisfied: oauthlib>=3.0.0 in c:\\users\\administrator\\.conda\\envs\\tensorflow\\lib\\site-packages (from requests-oauthlib>=0.5.0->python3-linkedin) (3.1.0)\n",
      "Installing collected packages: python3-linkedin\n",
      "Successfully installed python3-linkedin-1.0.2\n",
      "Note: you may need to restart the kernel to use updated packages.\n"
     ]
    }
   ],
   "source": [
    "pip install python3-linkedin"
   ]
  },
  {
   "cell_type": "code",
   "execution_count": 9,
   "metadata": {},
   "outputs": [
    {
     "name": "stdout",
     "output_type": "stream",
     "text": [
      "Collecting python-linkedin-v2\n",
      "  Downloading https://files.pythonhosted.org/packages/19/ab/bc44856c6ce9476627fc424e53220f6e13ab26f66e7b5237083c9553fb05/python-linkedin-v2-0.9.4.tar.gz\n",
      "Requirement already satisfied: requests>=1.1.0 in c:\\users\\administrator\\.conda\\envs\\tensorflow\\lib\\site-packages (from python-linkedin-v2) (2.24.0)\n",
      "Requirement already satisfied: requests-oauthlib>=0.3 in c:\\users\\administrator\\.conda\\envs\\tensorflow\\lib\\site-packages (from python-linkedin-v2) (1.3.0)\n",
      "Requirement already satisfied: idna<3,>=2.5 in c:\\users\\administrator\\.conda\\envs\\tensorflow\\lib\\site-packages (from requests>=1.1.0->python-linkedin-v2) (2.8)\n",
      "Requirement already satisfied: urllib3!=1.25.0,!=1.25.1,<1.26,>=1.21.1 in c:\\users\\administrator\\.conda\\envs\\tensorflow\\lib\\site-packages (from requests>=1.1.0->python-linkedin-v2) (1.24.2)\n",
      "Requirement already satisfied: certifi>=2017.4.17 in c:\\users\\administrator\\.conda\\envs\\tensorflow\\lib\\site-packages (from requests>=1.1.0->python-linkedin-v2) (2020.6.20)\n",
      "Requirement already satisfied: chardet<4,>=3.0.2 in c:\\users\\administrator\\.conda\\envs\\tensorflow\\lib\\site-packages (from requests>=1.1.0->python-linkedin-v2) (3.0.4)\n",
      "Requirement already satisfied: oauthlib>=3.0.0 in c:\\users\\administrator\\.conda\\envs\\tensorflow\\lib\\site-packages (from requests-oauthlib>=0.3->python-linkedin-v2) (3.1.0)\n",
      "Building wheels for collected packages: python-linkedin-v2\n",
      "  Building wheel for python-linkedin-v2 (setup.py): started\n",
      "  Building wheel for python-linkedin-v2 (setup.py): finished with status 'done'\n",
      "  Stored in directory: C:\\Users\\Administrator\\AppData\\Local\\pip\\Cache\\wheels\\de\\74\\fc\\5f53d643215109ca255c4c272102aec19a8822e9a8685e415c\n",
      "Successfully built python-linkedin-v2\n",
      "Installing collected packages: python-linkedin-v2\n",
      "Successfully installed python-linkedin-v2-0.9.4\n",
      "Note: you may need to restart the kernel to use updated packages.\n"
     ]
    }
   ],
   "source": [
    "pip install python-linkedin-v2"
   ]
  },
  {
   "cell_type": "code",
   "execution_count": 10,
   "metadata": {},
   "outputs": [
    {
     "ename": "NameError",
     "evalue": "name 'CONSUMER_KEY' is not defined",
     "output_type": "error",
     "traceback": [
      "\u001b[1;31m---------------------------------------------------------------------------\u001b[0m",
      "\u001b[1;31mNameError\u001b[0m                                 Traceback (most recent call last)",
      "\u001b[1;32m<ipython-input-10-4d2b7e9a4bbf>\u001b[0m in \u001b[0;36m<module>\u001b[1;34m\u001b[0m\n\u001b[0;32m      4\u001b[0m \u001b[0mAPPLICATON_SECRET\u001b[0m \u001b[1;33m=\u001b[0m \u001b[1;34m's3hMsIqSCej7Nvoq'\u001b[0m\u001b[1;33m\u001b[0m\u001b[1;33m\u001b[0m\u001b[0m\n\u001b[0;32m      5\u001b[0m \u001b[1;33m\u001b[0m\u001b[0m\n\u001b[1;32m----> 6\u001b[1;33m authentication = linkedin.LinkedInDeveloperAuthentication(CONSUMER_KEY, CONSUMER_SECRET, \n\u001b[0m\u001b[0;32m      7\u001b[0m                                                           \u001b[0mUSER_TOKEN\u001b[0m\u001b[1;33m,\u001b[0m \u001b[0mUSER_SECRET\u001b[0m\u001b[1;33m,\u001b[0m\u001b[1;33m\u001b[0m\u001b[1;33m\u001b[0m\u001b[0m\n\u001b[0;32m      8\u001b[0m                                                           RETURN_URL, linkedin.PERMISSIONS.enums.values())\n",
      "\u001b[1;31mNameError\u001b[0m: name 'CONSUMER_KEY' is not defined"
     ]
    }
   ],
   "source": [
    "from linkedin_v2 import linkedin\n",
    "\n",
    "APPLICATON_KEY    = '77tk9d36pbedqi'\n",
    "APPLICATON_SECRET = 's3hMsIqSCej7Nvoq'\n",
    "\n",
    "authentication = linkedin.LinkedInDeveloperAuthentication(CONSUMER_KEY, CONSUMER_SECRET, \n",
    "                                                          USER_TOKEN, USER_SECRET, \n",
    "                                                          RETURN_URL, linkedin.PERMISSIONS.enums.values())\n",
    "\n",
    "# Pass it in to the app...\n",
    "\n",
    "application = linkedin.LinkedInApplication(authentication)\n",
    "\n",
    "# Use the app....\n",
    "\n",
    "application.get_profile()"
   ]
  },
  {
   "cell_type": "code",
   "execution_count": 11,
   "metadata": {},
   "outputs": [
    {
     "ename": "ModuleNotFoundError",
     "evalue": "No module named 'linkedin_api'",
     "output_type": "error",
     "traceback": [
      "\u001b[1;31m---------------------------------------------------------------------------\u001b[0m",
      "\u001b[1;31mModuleNotFoundError\u001b[0m                       Traceback (most recent call last)",
      "\u001b[1;32m<ipython-input-11-5b0b966872fb>\u001b[0m in \u001b[0;36m<module>\u001b[1;34m\u001b[0m\n\u001b[1;32m----> 1\u001b[1;33m \u001b[1;32mfrom\u001b[0m \u001b[0mlinkedin_api\u001b[0m \u001b[1;32mimport\u001b[0m \u001b[0mLinkedin\u001b[0m\u001b[1;33m\u001b[0m\u001b[1;33m\u001b[0m\u001b[0m\n\u001b[0m\u001b[0;32m      2\u001b[0m \u001b[1;33m\u001b[0m\u001b[0m\n\u001b[0;32m      3\u001b[0m \u001b[1;31m# Authenticate using any Linkedin account credentials\u001b[0m\u001b[1;33m\u001b[0m\u001b[1;33m\u001b[0m\u001b[1;33m\u001b[0m\u001b[0m\n\u001b[0;32m      4\u001b[0m \u001b[0mapi\u001b[0m \u001b[1;33m=\u001b[0m \u001b[0mLinkedin\u001b[0m\u001b[1;33m(\u001b[0m\u001b[1;34m'reedhoffman@linkedin.com'\u001b[0m\u001b[1;33m,\u001b[0m \u001b[1;34m'*******'\u001b[0m\u001b[1;33m)\u001b[0m\u001b[1;33m\u001b[0m\u001b[1;33m\u001b[0m\u001b[0m\n\u001b[0;32m      5\u001b[0m \u001b[1;33m\u001b[0m\u001b[0m\n",
      "\u001b[1;31mModuleNotFoundError\u001b[0m: No module named 'linkedin_api'"
     ]
    }
   ],
   "source": [
    "from linkedin_api import Linkedin\n",
    "\n",
    "# Authenticate using any Linkedin account credentials\n",
    "api = Linkedin('reedhoffman@linkedin.com', '*******')\n",
    "\n",
    "# GET a profile\n",
    "profile = api.get_profile('billy-g')"
   ]
  },
  {
   "cell_type": "code",
   "execution_count": 14,
   "metadata": {},
   "outputs": [
    {
     "name": "stdout",
     "output_type": "stream",
     "text": [
      "Collecting linkedin-api~=2.0.0a\n",
      "  Downloading https://files.pythonhosted.org/packages/22/cb/214f85e04d225ce85de7076a850483b4b76cdc67efb7a071bb5ccdd316f1/linkedin_api-2.0.0a3-py3-none-any.whl\n",
      "Requirement already satisfied: requests in c:\\users\\administrator\\.conda\\envs\\tensorflow\\lib\\site-packages (from linkedin-api~=2.0.0a) (2.24.0)\n",
      "Requirement already satisfied: chardet<4,>=3.0.2 in c:\\users\\administrator\\.conda\\envs\\tensorflow\\lib\\site-packages (from requests->linkedin-api~=2.0.0a) (3.0.4)\n",
      "Requirement already satisfied: urllib3!=1.25.0,!=1.25.1,<1.26,>=1.21.1 in c:\\users\\administrator\\.conda\\envs\\tensorflow\\lib\\site-packages (from requests->linkedin-api~=2.0.0a) (1.24.2)\n",
      "Requirement already satisfied: certifi>=2017.4.17 in c:\\users\\administrator\\.conda\\envs\\tensorflow\\lib\\site-packages (from requests->linkedin-api~=2.0.0a) (2020.6.20)\n",
      "Requirement already satisfied: idna<3,>=2.5 in c:\\users\\administrator\\.conda\\envs\\tensorflow\\lib\\site-packages (from requests->linkedin-api~=2.0.0a) (2.8)\n",
      "Installing collected packages: linkedin-api\n",
      "Successfully installed linkedin-api-2.0.0a3\n",
      "Note: you may need to restart the kernel to use updated packages.\n"
     ]
    }
   ],
   "source": [
    "pip install linkedin-api~=2.0.0a"
   ]
  },
  {
   "cell_type": "code",
   "execution_count": 17,
   "metadata": {},
   "outputs": [
    {
     "ename": "ChallengeException",
     "evalue": "CHALLENGE",
     "output_type": "error",
     "traceback": [
      "\u001b[1;31m---------------------------------------------------------------------------\u001b[0m",
      "\u001b[1;31mChallengeException\u001b[0m                        Traceback (most recent call last)",
      "\u001b[1;32m<ipython-input-17-59dfb1d2c20d>\u001b[0m in \u001b[0;36m<module>\u001b[1;34m\u001b[0m\n\u001b[0;32m      2\u001b[0m \u001b[1;33m\u001b[0m\u001b[0m\n\u001b[0;32m      3\u001b[0m \u001b[1;31m# Authenticate using any Linkedin account credentials\u001b[0m\u001b[1;33m\u001b[0m\u001b[1;33m\u001b[0m\u001b[1;33m\u001b[0m\u001b[0m\n\u001b[1;32m----> 4\u001b[1;33m \u001b[0mapi\u001b[0m \u001b[1;33m=\u001b[0m \u001b[0mLinkedin\u001b[0m\u001b[1;33m(\u001b[0m\u001b[1;34m'vineet.dahiya@infoaxon.com'\u001b[0m\u001b[1;33m,\u001b[0m\u001b[1;34m'&a91b@39'\u001b[0m\u001b[1;33m)\u001b[0m\u001b[1;33m\u001b[0m\u001b[1;33m\u001b[0m\u001b[0m\n\u001b[0m\u001b[0;32m      5\u001b[0m \u001b[1;33m\u001b[0m\u001b[0m\n\u001b[0;32m      6\u001b[0m \u001b[1;31m# GET a profile\u001b[0m\u001b[1;33m\u001b[0m\u001b[1;33m\u001b[0m\u001b[1;33m\u001b[0m\u001b[0m\n",
      "\u001b[1;32m~\\.conda\\envs\\tensorflow\\lib\\site-packages\\linkedin_api\\linkedin.py\u001b[0m in \u001b[0;36m__init__\u001b[1;34m(self, username, password, authenticate, refresh_cookies, debug, proxies, cookies)\u001b[0m\n\u001b[0;32m     56\u001b[0m                 \u001b[0mself\u001b[0m\u001b[1;33m.\u001b[0m\u001b[0mclient\u001b[0m\u001b[1;33m.\u001b[0m\u001b[0m_set_session_cookies\u001b[0m\u001b[1;33m(\u001b[0m\u001b[0mcookies\u001b[0m\u001b[1;33m)\u001b[0m\u001b[1;33m\u001b[0m\u001b[1;33m\u001b[0m\u001b[0m\n\u001b[0;32m     57\u001b[0m             \u001b[1;32melse\u001b[0m\u001b[1;33m:\u001b[0m\u001b[1;33m\u001b[0m\u001b[1;33m\u001b[0m\u001b[0m\n\u001b[1;32m---> 58\u001b[1;33m                 \u001b[0mself\u001b[0m\u001b[1;33m.\u001b[0m\u001b[0mclient\u001b[0m\u001b[1;33m.\u001b[0m\u001b[0mauthenticate\u001b[0m\u001b[1;33m(\u001b[0m\u001b[0musername\u001b[0m\u001b[1;33m,\u001b[0m \u001b[0mpassword\u001b[0m\u001b[1;33m)\u001b[0m\u001b[1;33m\u001b[0m\u001b[1;33m\u001b[0m\u001b[0m\n\u001b[0m\u001b[0;32m     59\u001b[0m \u001b[1;33m\u001b[0m\u001b[0m\n\u001b[0;32m     60\u001b[0m     \u001b[1;32mdef\u001b[0m \u001b[0m_fetch\u001b[0m\u001b[1;33m(\u001b[0m\u001b[0mself\u001b[0m\u001b[1;33m,\u001b[0m \u001b[0muri\u001b[0m\u001b[1;33m,\u001b[0m \u001b[0mevade\u001b[0m\u001b[1;33m=\u001b[0m\u001b[0mdefault_evade\u001b[0m\u001b[1;33m,\u001b[0m \u001b[0mbase_request\u001b[0m\u001b[1;33m=\u001b[0m\u001b[1;32mFalse\u001b[0m\u001b[1;33m,\u001b[0m \u001b[1;33m**\u001b[0m\u001b[0mkwargs\u001b[0m\u001b[1;33m)\u001b[0m\u001b[1;33m:\u001b[0m\u001b[1;33m\u001b[0m\u001b[1;33m\u001b[0m\u001b[0m\n",
      "\u001b[1;32m~\\.conda\\envs\\tensorflow\\lib\\site-packages\\linkedin_api\\client.py\u001b[0m in \u001b[0;36mauthenticate\u001b[1;34m(self, username, password)\u001b[0m\n\u001b[0;32m     98\u001b[0m                 \u001b[1;32mreturn\u001b[0m\u001b[1;33m\u001b[0m\u001b[1;33m\u001b[0m\u001b[0m\n\u001b[0;32m     99\u001b[0m \u001b[1;33m\u001b[0m\u001b[0m\n\u001b[1;32m--> 100\u001b[1;33m         \u001b[0mself\u001b[0m\u001b[1;33m.\u001b[0m\u001b[0m_do_authentication_request\u001b[0m\u001b[1;33m(\u001b[0m\u001b[0musername\u001b[0m\u001b[1;33m,\u001b[0m \u001b[0mpassword\u001b[0m\u001b[1;33m)\u001b[0m\u001b[1;33m\u001b[0m\u001b[1;33m\u001b[0m\u001b[0m\n\u001b[0m\u001b[0;32m    101\u001b[0m         \u001b[0mself\u001b[0m\u001b[1;33m.\u001b[0m\u001b[0m_fetch_metadata\u001b[0m\u001b[1;33m(\u001b[0m\u001b[1;33m)\u001b[0m\u001b[1;33m\u001b[0m\u001b[1;33m\u001b[0m\u001b[0m\n\u001b[0;32m    102\u001b[0m \u001b[1;33m\u001b[0m\u001b[0m\n",
      "\u001b[1;32m~\\.conda\\envs\\tensorflow\\lib\\site-packages\\linkedin_api\\client.py\u001b[0m in \u001b[0;36m_do_authentication_request\u001b[1;34m(self, username, password)\u001b[0m\n\u001b[0;32m    153\u001b[0m \u001b[1;33m\u001b[0m\u001b[0m\n\u001b[0;32m    154\u001b[0m         \u001b[1;32mif\u001b[0m \u001b[0mdata\u001b[0m \u001b[1;32mand\u001b[0m \u001b[0mdata\u001b[0m\u001b[1;33m[\u001b[0m\u001b[1;34m\"login_result\"\u001b[0m\u001b[1;33m]\u001b[0m \u001b[1;33m!=\u001b[0m \u001b[1;34m\"PASS\"\u001b[0m\u001b[1;33m:\u001b[0m\u001b[1;33m\u001b[0m\u001b[1;33m\u001b[0m\u001b[0m\n\u001b[1;32m--> 155\u001b[1;33m             \u001b[1;32mraise\u001b[0m \u001b[0mChallengeException\u001b[0m\u001b[1;33m(\u001b[0m\u001b[0mdata\u001b[0m\u001b[1;33m[\u001b[0m\u001b[1;34m\"login_result\"\u001b[0m\u001b[1;33m]\u001b[0m\u001b[1;33m)\u001b[0m\u001b[1;33m\u001b[0m\u001b[1;33m\u001b[0m\u001b[0m\n\u001b[0m\u001b[0;32m    156\u001b[0m \u001b[1;33m\u001b[0m\u001b[0m\n\u001b[0;32m    157\u001b[0m         \u001b[1;32mif\u001b[0m \u001b[0mres\u001b[0m\u001b[1;33m.\u001b[0m\u001b[0mstatus_code\u001b[0m \u001b[1;33m==\u001b[0m \u001b[1;36m401\u001b[0m\u001b[1;33m:\u001b[0m\u001b[1;33m\u001b[0m\u001b[1;33m\u001b[0m\u001b[0m\n",
      "\u001b[1;31mChallengeException\u001b[0m: CHALLENGE"
     ]
    }
   ],
   "source": [
    "from linkedin_api import Linkedin\n",
    "\n",
    "# Authenticate using any Linkedin account credentials\n",
    "api = Linkedin('vineet.dahiya@infoaxon.com','&a91b@39')\n",
    "\n",
    "# GET a profile\n",
    "profile = api.get_profile('billy-g')"
   ]
  },
  {
   "cell_type": "code",
   "execution_count": 18,
   "metadata": {},
   "outputs": [
    {
     "name": "stdout",
     "output_type": "stream",
     "text": [
      "Collecting linkedin-sdk\n",
      "  Downloading https://files.pythonhosted.org/packages/ff/a9/f5ef9e531c716639896fef86ce12719f15b7d84f983ac3d008bbf90b7356/linkedin-sdk-0.0.3.tar.gz\n",
      "Requirement already satisfied: requests>=2.8.1 in c:\\users\\administrator\\.conda\\envs\\tensorflow\\lib\\site-packages (from linkedin-sdk) (2.24.0)\n",
      "Requirement already satisfied: requests-oauthlib>=0.5.0 in c:\\users\\administrator\\.conda\\envs\\tensorflow\\lib\\site-packages (from linkedin-sdk) (1.3.0)\n",
      "Requirement already satisfied: chardet<4,>=3.0.2 in c:\\users\\administrator\\.conda\\envs\\tensorflow\\lib\\site-packages (from requests>=2.8.1->linkedin-sdk) (3.0.4)\n",
      "Requirement already satisfied: urllib3!=1.25.0,!=1.25.1,<1.26,>=1.21.1 in c:\\users\\administrator\\.conda\\envs\\tensorflow\\lib\\site-packages (from requests>=2.8.1->linkedin-sdk) (1.24.2)\n",
      "Requirement already satisfied: certifi>=2017.4.17 in c:\\users\\administrator\\.conda\\envs\\tensorflow\\lib\\site-packages (from requests>=2.8.1->linkedin-sdk) (2020.6.20)\n",
      "Requirement already satisfied: idna<3,>=2.5 in c:\\users\\administrator\\.conda\\envs\\tensorflow\\lib\\site-packages (from requests>=2.8.1->linkedin-sdk) (2.8)\n",
      "Requirement already satisfied: oauthlib>=3.0.0 in c:\\users\\administrator\\.conda\\envs\\tensorflow\\lib\\site-packages (from requests-oauthlib>=0.5.0->linkedin-sdk) (3.1.0)\n",
      "Building wheels for collected packages: linkedin-sdk\n",
      "  Building wheel for linkedin-sdk (setup.py): started\n",
      "  Building wheel for linkedin-sdk (setup.py): finished with status 'done'\n",
      "  Stored in directory: C:\\Users\\Administrator\\AppData\\Local\\pip\\Cache\\wheels\\aa\\24\\2b\\98ee9f69ef45b8c052d6ff75c2a7fda7dc9b0b19cdaf42f7c9\n",
      "Successfully built linkedin-sdk\n",
      "Installing collected packages: linkedin-sdk\n",
      "Successfully installed linkedin-sdk-0.0.3\n",
      "Note: you may need to restart the kernel to use updated packages.\n"
     ]
    }
   ],
   "source": [
    "pip install linkedin-sdk"
   ]
  },
  {
   "cell_type": "code",
   "execution_count": null,
   "metadata": {},
   "outputs": [],
   "source": []
  }
 ],
 "metadata": {
  "kernelspec": {
   "display_name": "Python 3",
   "language": "python",
   "name": "python3"
  },
  "language_info": {
   "codemirror_mode": {
    "name": "ipython",
    "version": 3
   },
   "file_extension": ".py",
   "mimetype": "text/x-python",
   "name": "python",
   "nbconvert_exporter": "python",
   "pygments_lexer": "ipython3",
   "version": "3.7.3"
  }
 },
 "nbformat": 4,
 "nbformat_minor": 2
}
