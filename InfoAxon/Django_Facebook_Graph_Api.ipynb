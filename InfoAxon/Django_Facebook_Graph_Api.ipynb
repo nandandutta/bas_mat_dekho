{
 "cells": [
  {
   "cell_type": "code",
   "execution_count": 1,
   "metadata": {},
   "outputs": [],
   "source": [
    "#facebook user access token\n",
    "USER_ACCESS_TOKEN = 'EAAEDdNZCNQMABALCHiqYlpYEGZCy02jny4QSEUPafJsWSWoeqmQ5RZC98YdoYcDjqziW5htNquTfMNRYZChFysLtHKxAoyLLKXyE5wDQ5jiNOMtjPcWnxD5kbqsX2YyhZAIPNkWTbxQ4ykZAM9ZCtSt0EESdv8pRizeQ6NZCGHtbWLZACx2CxTSEmEvdu9z1nodQZD'"
   ]
  },
  {
   "cell_type": "code",
   "execution_count": 4,
   "metadata": {},
   "outputs": [],
   "source": [
    "#facebook group ID\n",
    "\n",
    "GROUP_ID = '2709640489282846'"
   ]
  },
  {
   "cell_type": "code",
   "execution_count": 3,
   "metadata": {},
   "outputs": [
    {
     "name": "stdout",
     "output_type": "stream",
     "text": [
      "Requirement already satisfied: urllib3 in c:\\programdata\\anaconda3\\lib\\site-packages (1.24.1)\n",
      "Note: you may need to restart the kernel to use updated packages.\n"
     ]
    }
   ],
   "source": [
    "pip install urllib3"
   ]
  },
  {
   "cell_type": "code",
   "execution_count": 7,
   "metadata": {},
   "outputs": [
    {
     "ename": "TypeError",
     "evalue": "%d format: a number is required, not str",
     "output_type": "error",
     "traceback": [
      "\u001b[1;31m---------------------------------------------------------------------------\u001b[0m",
      "\u001b[1;31mTypeError\u001b[0m                                 Traceback (most recent call last)",
      "\u001b[1;32m<ipython-input-7-cf5d48fce979>\u001b[0m in \u001b[0;36m<module>\u001b[1;34m\u001b[0m\n\u001b[0;32m      1\u001b[0m \u001b[0mparameters\u001b[0m \u001b[1;33m=\u001b[0m \u001b[1;33m{\u001b[0m\u001b[1;34m'access_token'\u001b[0m\u001b[1;33m:\u001b[0m \u001b[0mUSER_ACCESS_TOKEN\u001b[0m\u001b[1;33m}\u001b[0m\u001b[1;33m\u001b[0m\u001b[1;33m\u001b[0m\u001b[0m\n\u001b[0;32m      2\u001b[0m \u001b[1;33m\u001b[0m\u001b[0m\n\u001b[1;32m----> 3\u001b[1;33m \u001b[0mgroup_url\u001b[0m \u001b[1;33m=\u001b[0m \u001b[1;34m'https://graph.facebook.com/%d/'\u001b[0m \u001b[1;33m%\u001b[0m \u001b[0mGROUP_ID\u001b[0m\u001b[1;33m\u001b[0m\u001b[1;33m\u001b[0m\u001b[0m\n\u001b[0m\u001b[0;32m      4\u001b[0m \u001b[1;33m\u001b[0m\u001b[0m\n\u001b[0;32m      5\u001b[0m \u001b[0mr\u001b[0m \u001b[1;33m=\u001b[0m \u001b[0mrequests\u001b[0m\u001b[1;33m.\u001b[0m\u001b[0mget\u001b[0m\u001b[1;33m(\u001b[0m\u001b[0mgroup_url\u001b[0m\u001b[1;33m,\u001b[0m \u001b[0mparams\u001b[0m\u001b[1;33m=\u001b[0m\u001b[0mparameters\u001b[0m\u001b[1;33m)\u001b[0m\u001b[1;33m\u001b[0m\u001b[1;33m\u001b[0m\u001b[0m\n",
      "\u001b[1;31mTypeError\u001b[0m: %d format: a number is required, not str"
     ]
    }
   ],
   "source": [
    "parameters = {'access_token': USER_ACCESS_TOKEN}\n",
    "\n",
    "group_url = 'https://graph.facebook.com/%d/' % GROUP_ID\n",
    "\n",
    "r = requests.get(group_url, params=parameters)"
   ]
  },
  {
   "cell_type": "code",
   "execution_count": 8,
   "metadata": {},
   "outputs": [
    {
     "ename": "NameError",
     "evalue": "name 'client_id' is not defined",
     "output_type": "error",
     "traceback": [
      "\u001b[1;31m---------------------------------------------------------------------------\u001b[0m",
      "\u001b[1;31mNameError\u001b[0m                                 Traceback (most recent call last)",
      "\u001b[1;32m<ipython-input-8-707ff8f3632c>\u001b[0m in \u001b[0;36m<module>\u001b[1;34m\u001b[0m\n\u001b[0;32m      3\u001b[0m \u001b[0murl\u001b[0m \u001b[1;33m=\u001b[0m \u001b[1;34m\"https://graph.facebook.com/oauth/access_token?grant_type=\"\u001b[0m\u001b[0;31m \u001b[0m\u001b[0;31m\\\u001b[0m\u001b[1;33m\u001b[0m\u001b[1;33m\u001b[0m\u001b[0m\n\u001b[0;32m      4\u001b[0m     \u001b[1;34m\"client_credentials&client_id=%s&client_secret=%s\"\u001b[0m \u001b[1;33m%\u001b[0m\u001b[0;31m \u001b[0m\u001b[0;31m\\\u001b[0m\u001b[1;33m\u001b[0m\u001b[1;33m\u001b[0m\u001b[0m\n\u001b[1;32m----> 5\u001b[1;33m     \u001b[1;33m(\u001b[0m\u001b[0mclient_id\u001b[0m\u001b[1;33m,\u001b[0m \u001b[0mclient_secret\u001b[0m\u001b[1;33m)\u001b[0m\u001b[1;33m\u001b[0m\u001b[1;33m\u001b[0m\u001b[0m\n\u001b[0m\u001b[0;32m      6\u001b[0m \u001b[0mr\u001b[0m \u001b[1;33m=\u001b[0m \u001b[0mrequests\u001b[0m\u001b[1;33m.\u001b[0m\u001b[0mget\u001b[0m\u001b[1;33m(\u001b[0m\u001b[0murl\u001b[0m\u001b[1;33m)\u001b[0m\u001b[1;33m\u001b[0m\u001b[1;33m\u001b[0m\u001b[0m\n\u001b[0;32m      7\u001b[0m \u001b[1;33m\u001b[0m\u001b[0m\n",
      "\u001b[1;31mNameError\u001b[0m: name 'client_id' is not defined"
     ]
    }
   ],
   "source": [
    "app_id = '285275482570944'\n",
    "app_secret = '082f1b26a80803f4095be755e339e859'\n",
    "url = \"https://graph.facebook.com/oauth/access_token?grant_type=\" \\\n",
    "    \"client_credentials&client_id=%s&client_secret=%s\" % \\\n",
    "    (client_id, client_secret)\n",
    "r = requests.get(url)\n",
    "\n",
    "access_token = r.text.split('=')[1]"
   ]
  },
  {
   "cell_type": "code",
   "execution_count": 9,
   "metadata": {},
   "outputs": [
    {
     "name": "stdout",
     "output_type": "stream",
     "text": [
      "Collecting django-allauth\n",
      "  Downloading https://files.pythonhosted.org/packages/5c/fc/ada953944ad773b5953677adfbc3c7bc6c7a853502fde12843e780e29535/django-allauth-0.42.0.tar.gz (549kB)\n",
      "Collecting Django>=2.0 (from django-allauth)\n",
      "  Using cached https://files.pythonhosted.org/packages/01/a5/fb3dad18422fcd4241d18460a1fe17542bfdeadcf74e3861d1a2dfc9e459/Django-3.1.1-py3-none-any.whl\n",
      "Collecting python3-openid>=3.0.8 (from django-allauth)\n",
      "  Downloading https://files.pythonhosted.org/packages/e0/a5/c6ba13860bdf5525f1ab01e01cc667578d6f1efc8a1dba355700fb04c29b/python3_openid-3.2.0-py3-none-any.whl (133kB)\n",
      "Requirement already satisfied: requests-oauthlib>=0.3.0 in c:\\programdata\\anaconda3\\lib\\site-packages (from django-allauth) (1.3.0)\n",
      "Requirement already satisfied: requests in c:\\programdata\\anaconda3\\lib\\site-packages (from django-allauth) (2.21.0)\n",
      "Requirement already satisfied: pytz in c:\\programdata\\anaconda3\\lib\\site-packages (from Django>=2.0->django-allauth) (2018.9)\n",
      "Collecting asgiref~=3.2.10 (from Django>=2.0->django-allauth)\n",
      "  Downloading https://files.pythonhosted.org/packages/d5/eb/64725b25f991010307fd18a9e0c1f0e6dff2f03622fc4bcbcdb2244f60d6/asgiref-3.2.10-py3-none-any.whl\n",
      "Collecting sqlparse>=0.2.2 (from Django>=2.0->django-allauth)\n",
      "  Downloading https://files.pythonhosted.org/packages/85/ee/6e821932f413a5c4b76be9c5936e313e4fc626b33f16e027866e1d60f588/sqlparse-0.3.1-py2.py3-none-any.whl (40kB)\n",
      "Requirement already satisfied: defusedxml in c:\\programdata\\anaconda3\\lib\\site-packages (from python3-openid>=3.0.8->django-allauth) (0.5.0)\n",
      "Requirement already satisfied: oauthlib>=3.0.0 in c:\\programdata\\anaconda3\\lib\\site-packages (from requests-oauthlib>=0.3.0->django-allauth) (3.1.0)\n",
      "Requirement already satisfied: urllib3<1.25,>=1.21.1 in c:\\programdata\\anaconda3\\lib\\site-packages (from requests->django-allauth) (1.24.1)\n",
      "Requirement already satisfied: idna<2.9,>=2.5 in c:\\programdata\\anaconda3\\lib\\site-packages (from requests->django-allauth) (2.8)\n",
      "Requirement already satisfied: chardet<3.1.0,>=3.0.2 in c:\\programdata\\anaconda3\\lib\\site-packages (from requests->django-allauth) (3.0.4)\n",
      "Requirement already satisfied: certifi>=2017.4.17 in c:\\programdata\\anaconda3\\lib\\site-packages (from requests->django-allauth) (2020.6.20)\n",
      "Building wheels for collected packages: django-allauth\n",
      "  Building wheel for django-allauth (setup.py): started\n",
      "  Building wheel for django-allauth (setup.py): finished with status 'done'\n",
      "  Stored in directory: C:\\Users\\Administrator\\AppData\\Local\\pip\\Cache\\wheels\\46\\3e\\b4\\592ed6417e7bba12cb05f68f8387384932b87327719e80a40d\n",
      "Successfully built django-allauth\n",
      "Installing collected packages: asgiref, sqlparse, Django, python3-openid, django-allauth\n",
      "Successfully installed Django-3.1.1 asgiref-3.2.10 django-allauth-0.42.0 python3-openid-3.2.0 sqlparse-0.3.1\n",
      "Note: you may need to restart the kernel to use updated packages.\n"
     ]
    }
   ],
   "source": [
    "pip install django-allauth"
   ]
  },
  {
   "cell_type": "code",
   "execution_count": 2,
   "metadata": {},
   "outputs": [
    {
     "name": "stdout",
     "output_type": "stream",
     "text": [
      "Collecting requirements.txt\n",
      "Note: you may need to restart the kernel to use updated packages.\n"
     ]
    },
    {
     "name": "stderr",
     "output_type": "stream",
     "text": [
      "  Could not find a version that satisfies the requirement requirements.txt (from versions: )\n",
      "No matching distribution found for requirements.txt\n"
     ]
    }
   ],
   "source": [
    "pip install requirements.txt"
   ]
  },
  {
   "cell_type": "code",
   "execution_count": 3,
   "metadata": {},
   "outputs": [],
   "source": [
    "from openpyxl import Workbook"
   ]
  },
  {
   "cell_type": "code",
   "execution_count": 4,
   "metadata": {},
   "outputs": [],
   "source": [
    "import json\n",
    "import facebook\n",
    "from openpyxl import load_workbook\n",
    "from urllib.parse import urlencode\n",
    "from urllib.request import urlopen\n",
    "import os.path"
   ]
  },
  {
   "cell_type": "code",
   "execution_count": 29,
   "metadata": {},
   "outputs": [
    {
     "data": {
      "text/plain": [
       "'C:\\\\Users\\\\Administrator\\\\Desktop\\\\Company Hire\\\\InfoAxon'"
      ]
     },
     "execution_count": 29,
     "metadata": {},
     "output_type": "execute_result"
    }
   ],
   "source": [
    "pwd"
   ]
  },
  {
   "cell_type": "code",
   "execution_count": 34,
   "metadata": {},
   "outputs": [],
   "source": [
    "filename_root ='C:/Users/Administrator/Desktop/Company Hire/InfoAxon'"
   ]
  },
  {
   "cell_type": "code",
   "execution_count": null,
   "metadata": {},
   "outputs": [],
   "source": []
  },
  {
   "cell_type": "code",
   "execution_count": 35,
   "metadata": {},
   "outputs": [],
   "source": [
    " #Function that gets all sustainability keywords from an excel file and returns in a list\n",
    "def getSustainabilityKeywords(filename):\n",
    "\n",
    "    # open the keyword excel workbook\n",
    "    kw_wb_input = load_workbook(filename=filename)\n",
    "\n",
    "    # select SusMon_Keywords.xlsx\n",
    "    kw_sheet = kw_wb_input.active\n",
    "\n",
    "    # Get all the keywords from the first column\n",
    "    m_row = kw_sheet.max_row\n",
    "\n",
    "    # Initialize keyword list\n",
    "    keywordList = []\n",
    "\n",
    "    for i in range(1, m_row + 1):\n",
    "        cell_obj = kw_sheet.cell(row=i, column=1)\n",
    "        keywordList.append(cell_obj.value)\n",
    "\n",
    "    return keywordList"
   ]
  },
  {
   "cell_type": "code",
   "execution_count": 36,
   "metadata": {},
   "outputs": [],
   "source": [
    "def getInputData(filename):\n",
    "\n",
    "    # open the excel input workbook\n",
    "    wb_input = load_workbook(filename=filename, read_only=True)\n",
    "\n",
    "    # select FBPage_Input.xlsx\n",
    "    sheet = wb_input.active\n",
    "\n",
    "    # get Page ID\n",
    "    pageIdLabel = sheet['B1']\n",
    "    pageIdValue = sheet['B2']\n",
    "    pageIdValue = round(pageIdValue.value)\n",
    "\n",
    "    # get Brand name\n",
    "    pageNameLabel = sheet['C1']\n",
    "    pageNameValue = sheet['C2']\n",
    "    pageNameValue = pageNameValue.value\n",
    "\n",
    "    # get Access Token\n",
    "    pageAccessTokenLabel = sheet['D1']\n",
    "    pageAccessTokenValue = sheet['D2']\n",
    "    pageAccessTokenValue = pageAccessTokenValue.value\n",
    "\n",
    "    # Store ID and Access token in a dictionary\n",
    "    d = dict()\n",
    "    d['brands'] = [{'id':pageIdValue}] #at the moment we are only expecting a single brand, but the rest of the code expects multiuple brands\n",
    "    d['accessToken'] = pageAccessTokenValue\n",
    "    return d"
   ]
  },
  {
   "cell_type": "code",
   "execution_count": 37,
   "metadata": {},
   "outputs": [],
   "source": [
    "# Function that calls Input Data and Keywords functions \n",
    "def loadConfig():\n",
    "    input_filename = filename_root + '/FBPage_Input.xlsx'\n",
    "    keyword_filename = filename_root + '/SusMon_Keywords.xlsx'\n",
    "    config = getInputData(input_filename)\n",
    "    config['keywords'] = getSustainabilityKeywords(keyword_filename)\n",
    "    return config"
   ]
  },
  {
   "cell_type": "code",
   "execution_count": 38,
   "metadata": {},
   "outputs": [],
   "source": [
    "# Function that calls Facebook's Graph API to grab all the posts for a particular brand page\n",
    "def getPostsForBrand(brandID, token):\n",
    "    uri=\"https://graph.facebook.com/v4.0/{}/posts/\".format(str(brandID))\n",
    "    fields = \"id,created_time,message,shares.summary(true).limit(0),comments,likes.summary(true),reactions.type(LOVE).limit(0).summary(total_count).as(Love),reactions.type(WOW).limit(0).summary(total_count).as(Wow),reactions.type(HAHA).limit(0).summary(total_count).as(Haha),reactions.type(SAD).limit(0).summary(1).as(Sad),reactions.type(ANGRY).limit(0).summary(1).as(Angry)\"\n",
    "    url= \"{uri}?fields={fields}&access_token={token}&limit={limit}\"\\\n",
    "    .format(**{'uri':uri,'fields':fields,'token': str(token), 'limit':50 })\n",
    "    \n",
    "  #url = \"https://graph.facebook.com/v4.0/{pageID}/posts/?fields=id,created_time,message,shares.summary(true).limit(0),comments.summary(true).limit(0),likes.summary(true),reactions.type(LOVE).limit(0).summary(total_count).as(Love),reactions.type(WOW).limit(0).summary(total_count).as(Wow),reactions.type(HAHA).limit(0).summary(total_count).as(Haha),reactions.type(SAD).limit(0).summary(1).as(Sad),reactions.type(ANGRY).limit(0).summary(1).as(Angry)&access_token={token}&limit=50\".format(**{'pageID': str(pageId), 'token': str(token)})\n",
    "    try:\n",
    "        facebook_connection = urlopen(url)\n",
    "        data = facebook_connection.read().decode('utf8')\n",
    "        json_object = json.loads(data)\n",
    "        \n",
    "    except Exception as ex:\n",
    "        print(ex)\n",
    "    return json_object[\"data\"]"
   ]
  },
  {
   "cell_type": "code",
   "execution_count": 39,
   "metadata": {},
   "outputs": [],
   "source": [
    "# Exports post data to a csv\n",
    "def exportResultsToSCV(results):\n",
    "    \n",
    "    wb = Workbook()\n",
    "\n",
    "  # List for all post wtih comments\n",
    "    postWithComments = []\n",
    "\n",
    "  # set file path\n",
    "    filePath = filename_root+'/FBOutput.xlsx'\n",
    "\n",
    "  # Save file in the path\n",
    "    wb.save(filePath)\n",
    "\n",
    "  # Load workbook\n",
    "    wb = load_workbook(filePath)\n",
    "\n",
    "    sheet = wb.active\n",
    "\n",
    "  # Create Headers in created output file in a row\n",
    "    sheet['A1'] = 'Brand ID'\n",
    "    sheet['B1'] = 'Post ID'\n",
    "    sheet['C1'] = 'Created Time'\n",
    "    sheet['D1'] = '#Comments'\n",
    "    sheet['E1'] = '#like'\n",
    "    sheet['F1'] = '#love'\n",
    "    sheet['G1'] = '#wow'\n",
    "    sheet['H1'] = '#haha'\n",
    "    sheet['I1'] = '#sad'\n",
    "    sheet['J1'] = '#angry'\n",
    "    sheet['K1'] = 'message'\n",
    "    sheet['L1'] = 'Shares'\n",
    "\n",
    "  # Save data retreived from Facebook in next row\n",
    "    row = 2\n",
    "\n",
    "    for brand in results:\n",
    "        brandID = brand['brandId']\n",
    "\n",
    "        for post in brand['posts']:\n",
    "            sheet['A'+str(row)] = brandID\n",
    "            sheet['B'+str(row)] = post['id']\n",
    "            sheet['C'+str(row)] = post['created_time']\n",
    "        if 'comments' in post:\n",
    "            sheet['D'+str(row)] = len(post['comments']['data'])\n",
    "        else:\n",
    "            sheet['D'+str(row)] = '0'\n",
    "            sheet['E'+str(row)] = len(post['likes']['data'])\n",
    "            sheet['F'+str(row)] = post['Love']['summary']['total_count']\n",
    "            sheet['G'+str(row)] = post['Wow']['summary']['total_count']\n",
    "            sheet['H'+str(row)] = post['Haha']['summary']['total_count']\n",
    "            sheet['I'+str(row)] = post['Sad']['summary']['total_count']\n",
    "            sheet['J'+str(row)] = post['Angry']['summary']['total_count']\n",
    "            sheet['K'+str(row)] = post['message']\n",
    "            if 'shares' in post:\n",
    "                sheet['L'+str(row)] = post['shares']['count']\n",
    "            else:\n",
    "                sheet['L'+str(row)] = '0'\n",
    "            if 'comments' in post:\n",
    "                for comment in post['comments']['data']:\n",
    "                    postWithComments.append(comment)          \n",
    "            row = row + 1 \n",
    "\n",
    "    storePostComments(postWithComments)\n",
    "\n",
    "    wb.save(filePath)\n"
   ]
  },
  {
   "cell_type": "code",
   "execution_count": 43,
   "metadata": {},
   "outputs": [],
   "source": [
    "# Function that store Post comments in an excel file\n",
    "def storePostComments(commentDetails):\n",
    "    wb = Workbook()\n",
    "    filePath = filename_root+'/PostComments.xlsx'\n",
    "    wb.save(filePath)\n",
    "    wb = load_workbook(filePath)\n",
    "    sheet = wb.active\n",
    "    sheet['A1'] = 'Post ID'\n",
    "    sheet['B1'] = 'Comment Datetime'\n",
    "    sheet['C1'] = 'Comment Content'\n",
    "    row = 2\n",
    "    for commentDetail in commentDetails:\n",
    "        sheet['A'+str(row)] = commentDetail['id']\n",
    "        sheet['B'+str(row)] = commentDetail['created_time']\n",
    "        sheet['C'+str(row)] = commentDetail['message']\n",
    "        row += 1\n",
    "\n",
    "    wb.save(filePath)"
   ]
  },
  {
   "cell_type": "code",
   "execution_count": 44,
   "metadata": {},
   "outputs": [
    {
     "ename": "FileNotFoundError",
     "evalue": "[Errno 2] No such file or directory: 'C:/Users/Administrator/Desktop/Company Hire/InfoAxon/FBPage_Input.xlsx'",
     "output_type": "error",
     "traceback": [
      "\u001b[1;31m---------------------------------------------------------------------------\u001b[0m",
      "\u001b[1;31mFileNotFoundError\u001b[0m                         Traceback (most recent call last)",
      "\u001b[1;32m<ipython-input-44-1230c7f566ef>\u001b[0m in \u001b[0;36m<module>\u001b[1;34m\u001b[0m\n\u001b[0;32m     14\u001b[0m \u001b[1;33m\u001b[0m\u001b[0m\n\u001b[0;32m     15\u001b[0m \u001b[1;32mif\u001b[0m \u001b[0m__name__\u001b[0m \u001b[1;33m==\u001b[0m \u001b[1;34m'__main__'\u001b[0m\u001b[1;33m:\u001b[0m\u001b[1;33m\u001b[0m\u001b[1;33m\u001b[0m\u001b[0m\n\u001b[1;32m---> 16\u001b[1;33m     \u001b[0mmain\u001b[0m\u001b[1;33m(\u001b[0m\u001b[1;33m)\u001b[0m\u001b[1;33m\u001b[0m\u001b[1;33m\u001b[0m\u001b[0m\n\u001b[0m",
      "\u001b[1;32m<ipython-input-44-1230c7f566ef>\u001b[0m in \u001b[0;36mmain\u001b[1;34m()\u001b[0m\n\u001b[0;32m      1\u001b[0m \u001b[1;32mdef\u001b[0m \u001b[0mmain\u001b[0m\u001b[1;33m(\u001b[0m\u001b[1;33m)\u001b[0m\u001b[1;33m:\u001b[0m\u001b[1;33m\u001b[0m\u001b[1;33m\u001b[0m\u001b[0m\n\u001b[1;32m----> 2\u001b[1;33m     \u001b[0mconfig\u001b[0m \u001b[1;33m=\u001b[0m \u001b[0mloadConfig\u001b[0m\u001b[1;33m(\u001b[0m\u001b[1;33m)\u001b[0m\u001b[1;33m\u001b[0m\u001b[1;33m\u001b[0m\u001b[0m\n\u001b[0m\u001b[0;32m      3\u001b[0m     \u001b[0mresults\u001b[0m \u001b[1;33m=\u001b[0m \u001b[1;33m[\u001b[0m\u001b[1;33m]\u001b[0m\u001b[1;33m\u001b[0m\u001b[1;33m\u001b[0m\u001b[0m\n\u001b[0;32m      4\u001b[0m     \u001b[1;32mfor\u001b[0m \u001b[0mbrand\u001b[0m \u001b[1;32min\u001b[0m \u001b[0mconfig\u001b[0m\u001b[1;33m[\u001b[0m\u001b[1;34m'brands'\u001b[0m\u001b[1;33m]\u001b[0m\u001b[1;33m:\u001b[0m\u001b[1;33m\u001b[0m\u001b[1;33m\u001b[0m\u001b[0m\n\u001b[0;32m      5\u001b[0m         \u001b[0mrelevantPosts\u001b[0m \u001b[1;33m=\u001b[0m \u001b[1;33m[\u001b[0m\u001b[1;33m]\u001b[0m\u001b[1;33m\u001b[0m\u001b[1;33m\u001b[0m\u001b[0m\n",
      "\u001b[1;32m<ipython-input-37-f180c333c698>\u001b[0m in \u001b[0;36mloadConfig\u001b[1;34m()\u001b[0m\n\u001b[0;32m      3\u001b[0m     \u001b[0minput_filename\u001b[0m \u001b[1;33m=\u001b[0m \u001b[0mfilename_root\u001b[0m \u001b[1;33m+\u001b[0m \u001b[1;34m'/FBPage_Input.xlsx'\u001b[0m\u001b[1;33m\u001b[0m\u001b[1;33m\u001b[0m\u001b[0m\n\u001b[0;32m      4\u001b[0m     \u001b[0mkeyword_filename\u001b[0m \u001b[1;33m=\u001b[0m \u001b[0mfilename_root\u001b[0m \u001b[1;33m+\u001b[0m \u001b[1;34m'/SusMon_Keywords.xlsx'\u001b[0m\u001b[1;33m\u001b[0m\u001b[1;33m\u001b[0m\u001b[0m\n\u001b[1;32m----> 5\u001b[1;33m     \u001b[0mconfig\u001b[0m \u001b[1;33m=\u001b[0m \u001b[0mgetInputData\u001b[0m\u001b[1;33m(\u001b[0m\u001b[0minput_filename\u001b[0m\u001b[1;33m)\u001b[0m\u001b[1;33m\u001b[0m\u001b[1;33m\u001b[0m\u001b[0m\n\u001b[0m\u001b[0;32m      6\u001b[0m     \u001b[0mconfig\u001b[0m\u001b[1;33m[\u001b[0m\u001b[1;34m'keywords'\u001b[0m\u001b[1;33m]\u001b[0m \u001b[1;33m=\u001b[0m \u001b[0mgetSustainabilityKeywords\u001b[0m\u001b[1;33m(\u001b[0m\u001b[0mkeyword_filename\u001b[0m\u001b[1;33m)\u001b[0m\u001b[1;33m\u001b[0m\u001b[1;33m\u001b[0m\u001b[0m\n\u001b[0;32m      7\u001b[0m     \u001b[1;32mreturn\u001b[0m \u001b[0mconfig\u001b[0m\u001b[1;33m\u001b[0m\u001b[1;33m\u001b[0m\u001b[0m\n",
      "\u001b[1;32m<ipython-input-36-e84664c11289>\u001b[0m in \u001b[0;36mgetInputData\u001b[1;34m(filename)\u001b[0m\n\u001b[0;32m      2\u001b[0m \u001b[1;33m\u001b[0m\u001b[0m\n\u001b[0;32m      3\u001b[0m     \u001b[1;31m# open the excel input workbook\u001b[0m\u001b[1;33m\u001b[0m\u001b[1;33m\u001b[0m\u001b[1;33m\u001b[0m\u001b[0m\n\u001b[1;32m----> 4\u001b[1;33m     \u001b[0mwb_input\u001b[0m \u001b[1;33m=\u001b[0m \u001b[0mload_workbook\u001b[0m\u001b[1;33m(\u001b[0m\u001b[0mfilename\u001b[0m\u001b[1;33m=\u001b[0m\u001b[0mfilename\u001b[0m\u001b[1;33m,\u001b[0m \u001b[0mread_only\u001b[0m\u001b[1;33m=\u001b[0m\u001b[1;32mTrue\u001b[0m\u001b[1;33m)\u001b[0m\u001b[1;33m\u001b[0m\u001b[1;33m\u001b[0m\u001b[0m\n\u001b[0m\u001b[0;32m      5\u001b[0m \u001b[1;33m\u001b[0m\u001b[0m\n\u001b[0;32m      6\u001b[0m     \u001b[1;31m# select FBPage_Input.xlsx\u001b[0m\u001b[1;33m\u001b[0m\u001b[1;33m\u001b[0m\u001b[1;33m\u001b[0m\u001b[0m\n",
      "\u001b[1;32mC:\\ProgramData\\Anaconda3\\lib\\site-packages\\openpyxl\\reader\\excel.py\u001b[0m in \u001b[0;36mload_workbook\u001b[1;34m(filename, read_only, keep_vba, data_only, keep_links)\u001b[0m\n\u001b[0;32m    309\u001b[0m     \"\"\"\n\u001b[0;32m    310\u001b[0m     reader = ExcelReader(filename, read_only, keep_vba,\n\u001b[1;32m--> 311\u001b[1;33m                         data_only, keep_links)\n\u001b[0m\u001b[0;32m    312\u001b[0m     \u001b[0mreader\u001b[0m\u001b[1;33m.\u001b[0m\u001b[0mread\u001b[0m\u001b[1;33m(\u001b[0m\u001b[1;33m)\u001b[0m\u001b[1;33m\u001b[0m\u001b[1;33m\u001b[0m\u001b[0m\n\u001b[0;32m    313\u001b[0m     \u001b[1;32mreturn\u001b[0m \u001b[0mreader\u001b[0m\u001b[1;33m.\u001b[0m\u001b[0mwb\u001b[0m\u001b[1;33m\u001b[0m\u001b[1;33m\u001b[0m\u001b[0m\n",
      "\u001b[1;32mC:\\ProgramData\\Anaconda3\\lib\\site-packages\\openpyxl\\reader\\excel.py\u001b[0m in \u001b[0;36m__init__\u001b[1;34m(self, fn, read_only, keep_vba, data_only, keep_links)\u001b[0m\n\u001b[0;32m    124\u001b[0m     def __init__(self,  fn, read_only=False, keep_vba=KEEP_VBA,\n\u001b[0;32m    125\u001b[0m                   data_only=False, keep_links=True):\n\u001b[1;32m--> 126\u001b[1;33m         \u001b[0mself\u001b[0m\u001b[1;33m.\u001b[0m\u001b[0marchive\u001b[0m \u001b[1;33m=\u001b[0m \u001b[0m_validate_archive\u001b[0m\u001b[1;33m(\u001b[0m\u001b[0mfn\u001b[0m\u001b[1;33m)\u001b[0m\u001b[1;33m\u001b[0m\u001b[1;33m\u001b[0m\u001b[0m\n\u001b[0m\u001b[0;32m    127\u001b[0m         \u001b[0mself\u001b[0m\u001b[1;33m.\u001b[0m\u001b[0mvalid_files\u001b[0m \u001b[1;33m=\u001b[0m \u001b[0mself\u001b[0m\u001b[1;33m.\u001b[0m\u001b[0marchive\u001b[0m\u001b[1;33m.\u001b[0m\u001b[0mnamelist\u001b[0m\u001b[1;33m(\u001b[0m\u001b[1;33m)\u001b[0m\u001b[1;33m\u001b[0m\u001b[1;33m\u001b[0m\u001b[0m\n\u001b[0;32m    128\u001b[0m         \u001b[0mself\u001b[0m\u001b[1;33m.\u001b[0m\u001b[0mread_only\u001b[0m \u001b[1;33m=\u001b[0m \u001b[0mread_only\u001b[0m\u001b[1;33m\u001b[0m\u001b[1;33m\u001b[0m\u001b[0m\n",
      "\u001b[1;32mC:\\ProgramData\\Anaconda3\\lib\\site-packages\\openpyxl\\reader\\excel.py\u001b[0m in \u001b[0;36m_validate_archive\u001b[1;34m(filename)\u001b[0m\n\u001b[0;32m     96\u001b[0m             \u001b[1;32mraise\u001b[0m \u001b[0mInvalidFileException\u001b[0m\u001b[1;33m(\u001b[0m\u001b[0mmsg\u001b[0m\u001b[1;33m)\u001b[0m\u001b[1;33m\u001b[0m\u001b[1;33m\u001b[0m\u001b[0m\n\u001b[0;32m     97\u001b[0m \u001b[1;33m\u001b[0m\u001b[0m\n\u001b[1;32m---> 98\u001b[1;33m     \u001b[0marchive\u001b[0m \u001b[1;33m=\u001b[0m \u001b[0mZipFile\u001b[0m\u001b[1;33m(\u001b[0m\u001b[0mfilename\u001b[0m\u001b[1;33m,\u001b[0m \u001b[1;34m'r'\u001b[0m\u001b[1;33m)\u001b[0m\u001b[1;33m\u001b[0m\u001b[1;33m\u001b[0m\u001b[0m\n\u001b[0m\u001b[0;32m     99\u001b[0m     \u001b[1;32mreturn\u001b[0m \u001b[0marchive\u001b[0m\u001b[1;33m\u001b[0m\u001b[1;33m\u001b[0m\u001b[0m\n\u001b[0;32m    100\u001b[0m \u001b[1;33m\u001b[0m\u001b[0m\n",
      "\u001b[1;32mC:\\ProgramData\\Anaconda3\\lib\\zipfile.py\u001b[0m in \u001b[0;36m__init__\u001b[1;34m(self, file, mode, compression, allowZip64, compresslevel)\u001b[0m\n\u001b[0;32m   1202\u001b[0m             \u001b[1;32mwhile\u001b[0m \u001b[1;32mTrue\u001b[0m\u001b[1;33m:\u001b[0m\u001b[1;33m\u001b[0m\u001b[1;33m\u001b[0m\u001b[0m\n\u001b[0;32m   1203\u001b[0m                 \u001b[1;32mtry\u001b[0m\u001b[1;33m:\u001b[0m\u001b[1;33m\u001b[0m\u001b[1;33m\u001b[0m\u001b[0m\n\u001b[1;32m-> 1204\u001b[1;33m                     \u001b[0mself\u001b[0m\u001b[1;33m.\u001b[0m\u001b[0mfp\u001b[0m \u001b[1;33m=\u001b[0m \u001b[0mio\u001b[0m\u001b[1;33m.\u001b[0m\u001b[0mopen\u001b[0m\u001b[1;33m(\u001b[0m\u001b[0mfile\u001b[0m\u001b[1;33m,\u001b[0m \u001b[0mfilemode\u001b[0m\u001b[1;33m)\u001b[0m\u001b[1;33m\u001b[0m\u001b[1;33m\u001b[0m\u001b[0m\n\u001b[0m\u001b[0;32m   1205\u001b[0m                 \u001b[1;32mexcept\u001b[0m \u001b[0mOSError\u001b[0m\u001b[1;33m:\u001b[0m\u001b[1;33m\u001b[0m\u001b[1;33m\u001b[0m\u001b[0m\n\u001b[0;32m   1206\u001b[0m                     \u001b[1;32mif\u001b[0m \u001b[0mfilemode\u001b[0m \u001b[1;32min\u001b[0m \u001b[0mmodeDict\u001b[0m\u001b[1;33m:\u001b[0m\u001b[1;33m\u001b[0m\u001b[1;33m\u001b[0m\u001b[0m\n",
      "\u001b[1;31mFileNotFoundError\u001b[0m: [Errno 2] No such file or directory: 'C:/Users/Administrator/Desktop/Company Hire/InfoAxon/FBPage_Input.xlsx'"
     ]
    }
   ],
   "source": [
    "def main():\n",
    "    config = loadConfig()\n",
    "    results = []\n",
    "    for brand in config['brands']:\n",
    "        relevantPosts = []\n",
    "        posts = getPostsForBrand(brand['id'], config['accessToken'])\n",
    "        for post in posts:\n",
    "            if isRelevant(post, config['keywords']):\n",
    "                relevantPosts.append(post)\n",
    "\n",
    "        results.append({'brandId':brand['id'], 'posts':relevantPosts})\n",
    "\n",
    "    exportResultsToSCV(results)\n",
    "\n",
    "if __name__ == '__main__':\n",
    "    main()"
   ]
  },
  {
   "cell_type": "code",
   "execution_count": null,
   "metadata": {},
   "outputs": [],
   "source": []
  }
 ],
 "metadata": {
  "kernelspec": {
   "display_name": "Python 3",
   "language": "python",
   "name": "python3"
  },
  "language_info": {
   "codemirror_mode": {
    "name": "ipython",
    "version": 3
   },
   "file_extension": ".py",
   "mimetype": "text/x-python",
   "name": "python",
   "nbconvert_exporter": "python",
   "pygments_lexer": "ipython3",
   "version": "3.7.3"
  }
 },
 "nbformat": 4,
 "nbformat_minor": 2
}
