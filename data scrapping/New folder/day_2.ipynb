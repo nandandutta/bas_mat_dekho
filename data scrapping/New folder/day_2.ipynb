{
 "cells": [
  {
   "cell_type": "code",
   "execution_count": 1,
   "metadata": {},
   "outputs": [],
   "source": [
    "url=\"https://www.naukri.com/data-science-jobs\"\n",
    "from selenium import webdriver\n",
    "from bs4 import BeautifulSoup\n",
    "import pandas as pd\n",
    "exp=[]\n",
    "salary=[]\n",
    "title=[]\n",
    "loc=[]\n",
    "comp_name=[]\n",
    "skills=[]\n",
    "def get_data(soup):\n",
    "    for i in soup.find_all(\"li\",class_=\"desig\"):\n",
    "        title.append(i['title'])\n",
    "    for i in soup.find_all(\"span\",class_=\"org\"):\n",
    "        comp_name.append(i.text)\n",
    "    for i in soup.find_all(\"span\",class_='exp'):\n",
    "        exp.append(i.text)\n",
    "    for i in soup.find_all(\"span\",class_=\"loc\"):\n",
    "        loc.append(i.text)\n",
    "    for i in soup.find_all(\"span\",class_='salary'):\n",
    "        salary.append(i.text)\n",
    "    for i in soup.find_all(\"span\",class_='skill'):\n",
    "        skills.append(i.text)\n",
    "    table=pd.DataFrame()\n",
    "    table['title']=title\n",
    "    table['company']=comp_name\n",
    "    table['exp']=exp\n",
    "    table['loc']=loc\n",
    "    table['salary']=salary\n",
    "    table['skills']=skills\n",
    "    return table"
   ]
  },
  {
   "cell_type": "code",
   "execution_count": 2,
   "metadata": {},
   "outputs": [],
   "source": [
    "browser=webdriver.Firefox()\n",
    "browser.get(url)\n",
    "html=browser.page_source\n",
    "soup=BeautifulSoup(html,'html.parser')"
   ]
  },
  {
   "cell_type": "code",
   "execution_count": 5,
   "metadata": {},
   "outputs": [],
   "source": [
    "browser=webdriver.Firefox()"
   ]
  },
  {
   "cell_type": "code",
   "execution_count": 8,
   "metadata": {},
   "outputs": [],
   "source": [
    "base_url=\"https://www.naukri.com/data-science-jobs-{}\"\n",
    "master={}\n",
    "for idx,key in enumerate(range(1,5)):\n",
    "    url=base_url.format(key)\n",
    "    browser.get(url)\n",
    "    html=browser.page_source\n",
    "    soup=BeautifulSoup(html,'html.parser')\n",
    "    master[idx]=get_data(soup)    "
   ]
  },
  {
   "cell_type": "code",
   "execution_count": 10,
   "metadata": {},
   "outputs": [
    {
     "data": {
      "text/plain": [
       "dict_keys([0, 1, 2, 3])"
      ]
     },
     "execution_count": 10,
     "metadata": {},
     "output_type": "execute_result"
    }
   ],
   "source": [
    "master.keys()"
   ]
  },
  {
   "cell_type": "code",
   "execution_count": 18,
   "metadata": {},
   "outputs": [],
   "source": [
    "main=pd.concat([master[i] for i in master],axis=0)"
   ]
  },
  {
   "cell_type": "code",
   "execution_count": 19,
   "metadata": {},
   "outputs": [],
   "source": [
    "browser.close()"
   ]
  },
  {
   "cell_type": "code",
   "execution_count": 20,
   "metadata": {},
   "outputs": [
    {
     "ename": "KeyboardInterrupt",
     "evalue": "",
     "output_type": "error",
     "traceback": [
      "\u001b[0;31m---------------------------------------------------------------------------\u001b[0m",
      "\u001b[0;31mTypeError\u001b[0m                                 Traceback (most recent call last)",
      "\u001b[0;32m~/miniconda3/lib/python3.7/site-packages/urllib3/connectionpool.py\u001b[0m in \u001b[0;36m_make_request\u001b[0;34m(self, conn, method, url, timeout, chunked, **httplib_request_kw)\u001b[0m\n\u001b[1;32m    376\u001b[0m             \u001b[0;32mtry\u001b[0m\u001b[0;34m:\u001b[0m  \u001b[0;31m# Python 2.7, use buffering of HTTP responses\u001b[0m\u001b[0;34m\u001b[0m\u001b[0;34m\u001b[0m\u001b[0m\n\u001b[0;32m--> 377\u001b[0;31m                 \u001b[0mhttplib_response\u001b[0m \u001b[0;34m=\u001b[0m \u001b[0mconn\u001b[0m\u001b[0;34m.\u001b[0m\u001b[0mgetresponse\u001b[0m\u001b[0;34m(\u001b[0m\u001b[0mbuffering\u001b[0m\u001b[0;34m=\u001b[0m\u001b[0;32mTrue\u001b[0m\u001b[0;34m)\u001b[0m\u001b[0;34m\u001b[0m\u001b[0;34m\u001b[0m\u001b[0m\n\u001b[0m\u001b[1;32m    378\u001b[0m             \u001b[0;32mexcept\u001b[0m \u001b[0mTypeError\u001b[0m\u001b[0;34m:\u001b[0m  \u001b[0;31m# Python 3\u001b[0m\u001b[0;34m\u001b[0m\u001b[0;34m\u001b[0m\u001b[0m\n",
      "\u001b[0;31mTypeError\u001b[0m: getresponse() got an unexpected keyword argument 'buffering'",
      "\nDuring handling of the above exception, another exception occurred:\n",
      "\u001b[0;31mKeyboardInterrupt\u001b[0m                         Traceback (most recent call last)",
      "\u001b[0;32m<ipython-input-20-25eac435bcd7>\u001b[0m in \u001b[0;36m<module>\u001b[0;34m\u001b[0m\n\u001b[1;32m      7\u001b[0m     \u001b[0;32mfor\u001b[0m \u001b[0mbtn\u001b[0m \u001b[0;32min\u001b[0m \u001b[0mbtns\u001b[0m\u001b[0;34m:\u001b[0m\u001b[0;34m\u001b[0m\u001b[0;34m\u001b[0m\u001b[0m\n\u001b[1;32m      8\u001b[0m         \u001b[0;32mif\u001b[0m \u001b[0mbtn\u001b[0m\u001b[0;34m.\u001b[0m\u001b[0mtext\u001b[0m\u001b[0;34m==\u001b[0m\u001b[0;34m\"Next\"\u001b[0m\u001b[0;34m:\u001b[0m\u001b[0;34m\u001b[0m\u001b[0;34m\u001b[0m\u001b[0m\n\u001b[0;32m----> 9\u001b[0;31m             \u001b[0mbtn\u001b[0m\u001b[0;34m.\u001b[0m\u001b[0mclick\u001b[0m\u001b[0;34m(\u001b[0m\u001b[0;34m)\u001b[0m\u001b[0;34m\u001b[0m\u001b[0;34m\u001b[0m\u001b[0m\n\u001b[0m\u001b[1;32m     10\u001b[0m             \u001b[0mhtml\u001b[0m\u001b[0;34m=\u001b[0m\u001b[0mdriver\u001b[0m\u001b[0;34m.\u001b[0m\u001b[0mpage_source\u001b[0m\u001b[0;34m\u001b[0m\u001b[0;34m\u001b[0m\u001b[0m\n\u001b[1;32m     11\u001b[0m             \u001b[0msoup\u001b[0m\u001b[0;34m=\u001b[0m\u001b[0mBeautifulSoup\u001b[0m\u001b[0;34m(\u001b[0m\u001b[0mhtml\u001b[0m\u001b[0;34m,\u001b[0m\u001b[0;34m'html.parser'\u001b[0m\u001b[0;34m)\u001b[0m\u001b[0;34m\u001b[0m\u001b[0;34m\u001b[0m\u001b[0m\n",
      "\u001b[0;32m~/miniconda3/lib/python3.7/site-packages/selenium/webdriver/remote/webelement.py\u001b[0m in \u001b[0;36mclick\u001b[0;34m(self)\u001b[0m\n\u001b[1;32m     78\u001b[0m     \u001b[0;32mdef\u001b[0m \u001b[0mclick\u001b[0m\u001b[0;34m(\u001b[0m\u001b[0mself\u001b[0m\u001b[0;34m)\u001b[0m\u001b[0;34m:\u001b[0m\u001b[0;34m\u001b[0m\u001b[0;34m\u001b[0m\u001b[0m\n\u001b[1;32m     79\u001b[0m         \u001b[0;34m\"\"\"Clicks the element.\"\"\"\u001b[0m\u001b[0;34m\u001b[0m\u001b[0;34m\u001b[0m\u001b[0m\n\u001b[0;32m---> 80\u001b[0;31m         \u001b[0mself\u001b[0m\u001b[0;34m.\u001b[0m\u001b[0m_execute\u001b[0m\u001b[0;34m(\u001b[0m\u001b[0mCommand\u001b[0m\u001b[0;34m.\u001b[0m\u001b[0mCLICK_ELEMENT\u001b[0m\u001b[0;34m)\u001b[0m\u001b[0;34m\u001b[0m\u001b[0;34m\u001b[0m\u001b[0m\n\u001b[0m\u001b[1;32m     81\u001b[0m \u001b[0;34m\u001b[0m\u001b[0m\n\u001b[1;32m     82\u001b[0m     \u001b[0;32mdef\u001b[0m \u001b[0msubmit\u001b[0m\u001b[0;34m(\u001b[0m\u001b[0mself\u001b[0m\u001b[0;34m)\u001b[0m\u001b[0;34m:\u001b[0m\u001b[0;34m\u001b[0m\u001b[0;34m\u001b[0m\u001b[0m\n",
      "\u001b[0;32m~/miniconda3/lib/python3.7/site-packages/selenium/webdriver/remote/webelement.py\u001b[0m in \u001b[0;36m_execute\u001b[0;34m(self, command, params)\u001b[0m\n\u001b[1;32m    631\u001b[0m             \u001b[0mparams\u001b[0m \u001b[0;34m=\u001b[0m \u001b[0;34m{\u001b[0m\u001b[0;34m}\u001b[0m\u001b[0;34m\u001b[0m\u001b[0;34m\u001b[0m\u001b[0m\n\u001b[1;32m    632\u001b[0m         \u001b[0mparams\u001b[0m\u001b[0;34m[\u001b[0m\u001b[0;34m'id'\u001b[0m\u001b[0;34m]\u001b[0m \u001b[0;34m=\u001b[0m \u001b[0mself\u001b[0m\u001b[0;34m.\u001b[0m\u001b[0m_id\u001b[0m\u001b[0;34m\u001b[0m\u001b[0;34m\u001b[0m\u001b[0m\n\u001b[0;32m--> 633\u001b[0;31m         \u001b[0;32mreturn\u001b[0m \u001b[0mself\u001b[0m\u001b[0;34m.\u001b[0m\u001b[0m_parent\u001b[0m\u001b[0;34m.\u001b[0m\u001b[0mexecute\u001b[0m\u001b[0;34m(\u001b[0m\u001b[0mcommand\u001b[0m\u001b[0;34m,\u001b[0m \u001b[0mparams\u001b[0m\u001b[0;34m)\u001b[0m\u001b[0;34m\u001b[0m\u001b[0;34m\u001b[0m\u001b[0m\n\u001b[0m\u001b[1;32m    634\u001b[0m \u001b[0;34m\u001b[0m\u001b[0m\n\u001b[1;32m    635\u001b[0m     \u001b[0;32mdef\u001b[0m \u001b[0mfind_element\u001b[0m\u001b[0;34m(\u001b[0m\u001b[0mself\u001b[0m\u001b[0;34m,\u001b[0m \u001b[0mby\u001b[0m\u001b[0;34m=\u001b[0m\u001b[0mBy\u001b[0m\u001b[0;34m.\u001b[0m\u001b[0mID\u001b[0m\u001b[0;34m,\u001b[0m \u001b[0mvalue\u001b[0m\u001b[0;34m=\u001b[0m\u001b[0;32mNone\u001b[0m\u001b[0;34m)\u001b[0m\u001b[0;34m:\u001b[0m\u001b[0;34m\u001b[0m\u001b[0;34m\u001b[0m\u001b[0m\n",
      "\u001b[0;32m~/miniconda3/lib/python3.7/site-packages/selenium/webdriver/remote/webdriver.py\u001b[0m in \u001b[0;36mexecute\u001b[0;34m(self, driver_command, params)\u001b[0m\n\u001b[1;32m    317\u001b[0m \u001b[0;34m\u001b[0m\u001b[0m\n\u001b[1;32m    318\u001b[0m         \u001b[0mparams\u001b[0m \u001b[0;34m=\u001b[0m \u001b[0mself\u001b[0m\u001b[0;34m.\u001b[0m\u001b[0m_wrap_value\u001b[0m\u001b[0;34m(\u001b[0m\u001b[0mparams\u001b[0m\u001b[0;34m)\u001b[0m\u001b[0;34m\u001b[0m\u001b[0;34m\u001b[0m\u001b[0m\n\u001b[0;32m--> 319\u001b[0;31m         \u001b[0mresponse\u001b[0m \u001b[0;34m=\u001b[0m \u001b[0mself\u001b[0m\u001b[0;34m.\u001b[0m\u001b[0mcommand_executor\u001b[0m\u001b[0;34m.\u001b[0m\u001b[0mexecute\u001b[0m\u001b[0;34m(\u001b[0m\u001b[0mdriver_command\u001b[0m\u001b[0;34m,\u001b[0m \u001b[0mparams\u001b[0m\u001b[0;34m)\u001b[0m\u001b[0;34m\u001b[0m\u001b[0;34m\u001b[0m\u001b[0m\n\u001b[0m\u001b[1;32m    320\u001b[0m         \u001b[0;32mif\u001b[0m \u001b[0mresponse\u001b[0m\u001b[0;34m:\u001b[0m\u001b[0;34m\u001b[0m\u001b[0;34m\u001b[0m\u001b[0m\n\u001b[1;32m    321\u001b[0m             \u001b[0mself\u001b[0m\u001b[0;34m.\u001b[0m\u001b[0merror_handler\u001b[0m\u001b[0;34m.\u001b[0m\u001b[0mcheck_response\u001b[0m\u001b[0;34m(\u001b[0m\u001b[0mresponse\u001b[0m\u001b[0;34m)\u001b[0m\u001b[0;34m\u001b[0m\u001b[0;34m\u001b[0m\u001b[0m\n",
      "\u001b[0;32m~/miniconda3/lib/python3.7/site-packages/selenium/webdriver/remote/remote_connection.py\u001b[0m in \u001b[0;36mexecute\u001b[0;34m(self, command, params)\u001b[0m\n\u001b[1;32m    372\u001b[0m         \u001b[0mdata\u001b[0m \u001b[0;34m=\u001b[0m \u001b[0mutils\u001b[0m\u001b[0;34m.\u001b[0m\u001b[0mdump_json\u001b[0m\u001b[0;34m(\u001b[0m\u001b[0mparams\u001b[0m\u001b[0;34m)\u001b[0m\u001b[0;34m\u001b[0m\u001b[0;34m\u001b[0m\u001b[0m\n\u001b[1;32m    373\u001b[0m         \u001b[0murl\u001b[0m \u001b[0;34m=\u001b[0m \u001b[0;34m'%s%s'\u001b[0m \u001b[0;34m%\u001b[0m \u001b[0;34m(\u001b[0m\u001b[0mself\u001b[0m\u001b[0;34m.\u001b[0m\u001b[0m_url\u001b[0m\u001b[0;34m,\u001b[0m \u001b[0mpath\u001b[0m\u001b[0;34m)\u001b[0m\u001b[0;34m\u001b[0m\u001b[0;34m\u001b[0m\u001b[0m\n\u001b[0;32m--> 374\u001b[0;31m         \u001b[0;32mreturn\u001b[0m \u001b[0mself\u001b[0m\u001b[0;34m.\u001b[0m\u001b[0m_request\u001b[0m\u001b[0;34m(\u001b[0m\u001b[0mcommand_info\u001b[0m\u001b[0;34m[\u001b[0m\u001b[0;36m0\u001b[0m\u001b[0;34m]\u001b[0m\u001b[0;34m,\u001b[0m \u001b[0murl\u001b[0m\u001b[0;34m,\u001b[0m \u001b[0mbody\u001b[0m\u001b[0;34m=\u001b[0m\u001b[0mdata\u001b[0m\u001b[0;34m)\u001b[0m\u001b[0;34m\u001b[0m\u001b[0;34m\u001b[0m\u001b[0m\n\u001b[0m\u001b[1;32m    375\u001b[0m \u001b[0;34m\u001b[0m\u001b[0m\n\u001b[1;32m    376\u001b[0m     \u001b[0;32mdef\u001b[0m \u001b[0m_request\u001b[0m\u001b[0;34m(\u001b[0m\u001b[0mself\u001b[0m\u001b[0;34m,\u001b[0m \u001b[0mmethod\u001b[0m\u001b[0;34m,\u001b[0m \u001b[0murl\u001b[0m\u001b[0;34m,\u001b[0m \u001b[0mbody\u001b[0m\u001b[0;34m=\u001b[0m\u001b[0;32mNone\u001b[0m\u001b[0;34m)\u001b[0m\u001b[0;34m:\u001b[0m\u001b[0;34m\u001b[0m\u001b[0;34m\u001b[0m\u001b[0m\n",
      "\u001b[0;32m~/miniconda3/lib/python3.7/site-packages/selenium/webdriver/remote/remote_connection.py\u001b[0m in \u001b[0;36m_request\u001b[0;34m(self, method, url, body)\u001b[0m\n\u001b[1;32m    395\u001b[0m \u001b[0;34m\u001b[0m\u001b[0m\n\u001b[1;32m    396\u001b[0m         \u001b[0;32mif\u001b[0m \u001b[0mself\u001b[0m\u001b[0;34m.\u001b[0m\u001b[0mkeep_alive\u001b[0m\u001b[0;34m:\u001b[0m\u001b[0;34m\u001b[0m\u001b[0;34m\u001b[0m\u001b[0m\n\u001b[0;32m--> 397\u001b[0;31m             \u001b[0mresp\u001b[0m \u001b[0;34m=\u001b[0m \u001b[0mself\u001b[0m\u001b[0;34m.\u001b[0m\u001b[0m_conn\u001b[0m\u001b[0;34m.\u001b[0m\u001b[0mrequest\u001b[0m\u001b[0;34m(\u001b[0m\u001b[0mmethod\u001b[0m\u001b[0;34m,\u001b[0m \u001b[0murl\u001b[0m\u001b[0;34m,\u001b[0m \u001b[0mbody\u001b[0m\u001b[0;34m=\u001b[0m\u001b[0mbody\u001b[0m\u001b[0;34m,\u001b[0m \u001b[0mheaders\u001b[0m\u001b[0;34m=\u001b[0m\u001b[0mheaders\u001b[0m\u001b[0;34m)\u001b[0m\u001b[0;34m\u001b[0m\u001b[0;34m\u001b[0m\u001b[0m\n\u001b[0m\u001b[1;32m    398\u001b[0m \u001b[0;34m\u001b[0m\u001b[0m\n\u001b[1;32m    399\u001b[0m             \u001b[0mstatuscode\u001b[0m \u001b[0;34m=\u001b[0m \u001b[0mresp\u001b[0m\u001b[0;34m.\u001b[0m\u001b[0mstatus\u001b[0m\u001b[0;34m\u001b[0m\u001b[0;34m\u001b[0m\u001b[0m\n",
      "\u001b[0;32m~/miniconda3/lib/python3.7/site-packages/urllib3/request.py\u001b[0m in \u001b[0;36mrequest\u001b[0;34m(self, method, url, fields, headers, **urlopen_kw)\u001b[0m\n\u001b[1;32m     70\u001b[0m             return self.request_encode_body(method, url, fields=fields,\n\u001b[1;32m     71\u001b[0m                                             \u001b[0mheaders\u001b[0m\u001b[0;34m=\u001b[0m\u001b[0mheaders\u001b[0m\u001b[0;34m,\u001b[0m\u001b[0;34m\u001b[0m\u001b[0;34m\u001b[0m\u001b[0m\n\u001b[0;32m---> 72\u001b[0;31m                                             **urlopen_kw)\n\u001b[0m\u001b[1;32m     73\u001b[0m \u001b[0;34m\u001b[0m\u001b[0m\n\u001b[1;32m     74\u001b[0m     def request_encode_url(self, method, url, fields=None, headers=None,\n",
      "\u001b[0;32m~/miniconda3/lib/python3.7/site-packages/urllib3/request.py\u001b[0m in \u001b[0;36mrequest_encode_body\u001b[0;34m(self, method, url, fields, headers, encode_multipart, multipart_boundary, **urlopen_kw)\u001b[0m\n\u001b[1;32m    148\u001b[0m         \u001b[0mextra_kw\u001b[0m\u001b[0;34m.\u001b[0m\u001b[0mupdate\u001b[0m\u001b[0;34m(\u001b[0m\u001b[0murlopen_kw\u001b[0m\u001b[0;34m)\u001b[0m\u001b[0;34m\u001b[0m\u001b[0;34m\u001b[0m\u001b[0m\n\u001b[1;32m    149\u001b[0m \u001b[0;34m\u001b[0m\u001b[0m\n\u001b[0;32m--> 150\u001b[0;31m         \u001b[0;32mreturn\u001b[0m \u001b[0mself\u001b[0m\u001b[0;34m.\u001b[0m\u001b[0murlopen\u001b[0m\u001b[0;34m(\u001b[0m\u001b[0mmethod\u001b[0m\u001b[0;34m,\u001b[0m \u001b[0murl\u001b[0m\u001b[0;34m,\u001b[0m \u001b[0;34m**\u001b[0m\u001b[0mextra_kw\u001b[0m\u001b[0;34m)\u001b[0m\u001b[0;34m\u001b[0m\u001b[0;34m\u001b[0m\u001b[0m\n\u001b[0m",
      "\u001b[0;32m~/miniconda3/lib/python3.7/site-packages/urllib3/poolmanager.py\u001b[0m in \u001b[0;36murlopen\u001b[0;34m(self, method, url, redirect, **kw)\u001b[0m\n\u001b[1;32m    322\u001b[0m             \u001b[0mresponse\u001b[0m \u001b[0;34m=\u001b[0m \u001b[0mconn\u001b[0m\u001b[0;34m.\u001b[0m\u001b[0murlopen\u001b[0m\u001b[0;34m(\u001b[0m\u001b[0mmethod\u001b[0m\u001b[0;34m,\u001b[0m \u001b[0murl\u001b[0m\u001b[0;34m,\u001b[0m \u001b[0;34m**\u001b[0m\u001b[0mkw\u001b[0m\u001b[0;34m)\u001b[0m\u001b[0;34m\u001b[0m\u001b[0;34m\u001b[0m\u001b[0m\n\u001b[1;32m    323\u001b[0m         \u001b[0;32melse\u001b[0m\u001b[0;34m:\u001b[0m\u001b[0;34m\u001b[0m\u001b[0;34m\u001b[0m\u001b[0m\n\u001b[0;32m--> 324\u001b[0;31m             \u001b[0mresponse\u001b[0m \u001b[0;34m=\u001b[0m \u001b[0mconn\u001b[0m\u001b[0;34m.\u001b[0m\u001b[0murlopen\u001b[0m\u001b[0;34m(\u001b[0m\u001b[0mmethod\u001b[0m\u001b[0;34m,\u001b[0m \u001b[0mu\u001b[0m\u001b[0;34m.\u001b[0m\u001b[0mrequest_uri\u001b[0m\u001b[0;34m,\u001b[0m \u001b[0;34m**\u001b[0m\u001b[0mkw\u001b[0m\u001b[0;34m)\u001b[0m\u001b[0;34m\u001b[0m\u001b[0;34m\u001b[0m\u001b[0m\n\u001b[0m\u001b[1;32m    325\u001b[0m \u001b[0;34m\u001b[0m\u001b[0m\n\u001b[1;32m    326\u001b[0m         \u001b[0mredirect_location\u001b[0m \u001b[0;34m=\u001b[0m \u001b[0mredirect\u001b[0m \u001b[0;32mand\u001b[0m \u001b[0mresponse\u001b[0m\u001b[0;34m.\u001b[0m\u001b[0mget_redirect_location\u001b[0m\u001b[0;34m(\u001b[0m\u001b[0;34m)\u001b[0m\u001b[0;34m\u001b[0m\u001b[0;34m\u001b[0m\u001b[0m\n",
      "\u001b[0;32m~/miniconda3/lib/python3.7/site-packages/urllib3/connectionpool.py\u001b[0m in \u001b[0;36murlopen\u001b[0;34m(self, method, url, body, headers, retries, redirect, assert_same_host, timeout, pool_timeout, release_conn, chunked, body_pos, **response_kw)\u001b[0m\n\u001b[1;32m    598\u001b[0m                                                   \u001b[0mtimeout\u001b[0m\u001b[0;34m=\u001b[0m\u001b[0mtimeout_obj\u001b[0m\u001b[0;34m,\u001b[0m\u001b[0;34m\u001b[0m\u001b[0;34m\u001b[0m\u001b[0m\n\u001b[1;32m    599\u001b[0m                                                   \u001b[0mbody\u001b[0m\u001b[0;34m=\u001b[0m\u001b[0mbody\u001b[0m\u001b[0;34m,\u001b[0m \u001b[0mheaders\u001b[0m\u001b[0;34m=\u001b[0m\u001b[0mheaders\u001b[0m\u001b[0;34m,\u001b[0m\u001b[0;34m\u001b[0m\u001b[0;34m\u001b[0m\u001b[0m\n\u001b[0;32m--> 600\u001b[0;31m                                                   chunked=chunked)\n\u001b[0m\u001b[1;32m    601\u001b[0m \u001b[0;34m\u001b[0m\u001b[0m\n\u001b[1;32m    602\u001b[0m             \u001b[0;31m# If we're going to release the connection in ``finally:``, then\u001b[0m\u001b[0;34m\u001b[0m\u001b[0;34m\u001b[0m\u001b[0;34m\u001b[0m\u001b[0m\n",
      "\u001b[0;32m~/miniconda3/lib/python3.7/site-packages/urllib3/connectionpool.py\u001b[0m in \u001b[0;36m_make_request\u001b[0;34m(self, conn, method, url, timeout, chunked, **httplib_request_kw)\u001b[0m\n\u001b[1;32m    378\u001b[0m             \u001b[0;32mexcept\u001b[0m \u001b[0mTypeError\u001b[0m\u001b[0;34m:\u001b[0m  \u001b[0;31m# Python 3\u001b[0m\u001b[0;34m\u001b[0m\u001b[0;34m\u001b[0m\u001b[0m\n\u001b[1;32m    379\u001b[0m                 \u001b[0;32mtry\u001b[0m\u001b[0;34m:\u001b[0m\u001b[0;34m\u001b[0m\u001b[0;34m\u001b[0m\u001b[0m\n\u001b[0;32m--> 380\u001b[0;31m                     \u001b[0mhttplib_response\u001b[0m \u001b[0;34m=\u001b[0m \u001b[0mconn\u001b[0m\u001b[0;34m.\u001b[0m\u001b[0mgetresponse\u001b[0m\u001b[0;34m(\u001b[0m\u001b[0;34m)\u001b[0m\u001b[0;34m\u001b[0m\u001b[0;34m\u001b[0m\u001b[0m\n\u001b[0m\u001b[1;32m    381\u001b[0m                 \u001b[0;32mexcept\u001b[0m \u001b[0mException\u001b[0m \u001b[0;32mas\u001b[0m \u001b[0me\u001b[0m\u001b[0;34m:\u001b[0m\u001b[0;34m\u001b[0m\u001b[0;34m\u001b[0m\u001b[0m\n\u001b[1;32m    382\u001b[0m                     \u001b[0;31m# Remove the TypeError from the exception chain in Python 3;\u001b[0m\u001b[0;34m\u001b[0m\u001b[0;34m\u001b[0m\u001b[0;34m\u001b[0m\u001b[0m\n",
      "\u001b[0;32m~/miniconda3/lib/python3.7/http/client.py\u001b[0m in \u001b[0;36mgetresponse\u001b[0;34m(self)\u001b[0m\n\u001b[1;32m   1319\u001b[0m         \u001b[0;32mtry\u001b[0m\u001b[0;34m:\u001b[0m\u001b[0;34m\u001b[0m\u001b[0;34m\u001b[0m\u001b[0m\n\u001b[1;32m   1320\u001b[0m             \u001b[0;32mtry\u001b[0m\u001b[0;34m:\u001b[0m\u001b[0;34m\u001b[0m\u001b[0;34m\u001b[0m\u001b[0m\n\u001b[0;32m-> 1321\u001b[0;31m                 \u001b[0mresponse\u001b[0m\u001b[0;34m.\u001b[0m\u001b[0mbegin\u001b[0m\u001b[0;34m(\u001b[0m\u001b[0;34m)\u001b[0m\u001b[0;34m\u001b[0m\u001b[0;34m\u001b[0m\u001b[0m\n\u001b[0m\u001b[1;32m   1322\u001b[0m             \u001b[0;32mexcept\u001b[0m \u001b[0mConnectionError\u001b[0m\u001b[0;34m:\u001b[0m\u001b[0;34m\u001b[0m\u001b[0;34m\u001b[0m\u001b[0m\n\u001b[1;32m   1323\u001b[0m                 \u001b[0mself\u001b[0m\u001b[0;34m.\u001b[0m\u001b[0mclose\u001b[0m\u001b[0;34m(\u001b[0m\u001b[0;34m)\u001b[0m\u001b[0;34m\u001b[0m\u001b[0;34m\u001b[0m\u001b[0m\n",
      "\u001b[0;32m~/miniconda3/lib/python3.7/http/client.py\u001b[0m in \u001b[0;36mbegin\u001b[0;34m(self)\u001b[0m\n\u001b[1;32m    294\u001b[0m         \u001b[0;31m# read until we get a non-100 response\u001b[0m\u001b[0;34m\u001b[0m\u001b[0;34m\u001b[0m\u001b[0;34m\u001b[0m\u001b[0m\n\u001b[1;32m    295\u001b[0m         \u001b[0;32mwhile\u001b[0m \u001b[0;32mTrue\u001b[0m\u001b[0;34m:\u001b[0m\u001b[0;34m\u001b[0m\u001b[0;34m\u001b[0m\u001b[0m\n\u001b[0;32m--> 296\u001b[0;31m             \u001b[0mversion\u001b[0m\u001b[0;34m,\u001b[0m \u001b[0mstatus\u001b[0m\u001b[0;34m,\u001b[0m \u001b[0mreason\u001b[0m \u001b[0;34m=\u001b[0m \u001b[0mself\u001b[0m\u001b[0;34m.\u001b[0m\u001b[0m_read_status\u001b[0m\u001b[0;34m(\u001b[0m\u001b[0;34m)\u001b[0m\u001b[0;34m\u001b[0m\u001b[0;34m\u001b[0m\u001b[0m\n\u001b[0m\u001b[1;32m    297\u001b[0m             \u001b[0;32mif\u001b[0m \u001b[0mstatus\u001b[0m \u001b[0;34m!=\u001b[0m \u001b[0mCONTINUE\u001b[0m\u001b[0;34m:\u001b[0m\u001b[0;34m\u001b[0m\u001b[0;34m\u001b[0m\u001b[0m\n\u001b[1;32m    298\u001b[0m                 \u001b[0;32mbreak\u001b[0m\u001b[0;34m\u001b[0m\u001b[0;34m\u001b[0m\u001b[0m\n",
      "\u001b[0;32m~/miniconda3/lib/python3.7/http/client.py\u001b[0m in \u001b[0;36m_read_status\u001b[0;34m(self)\u001b[0m\n\u001b[1;32m    255\u001b[0m \u001b[0;34m\u001b[0m\u001b[0m\n\u001b[1;32m    256\u001b[0m     \u001b[0;32mdef\u001b[0m \u001b[0m_read_status\u001b[0m\u001b[0;34m(\u001b[0m\u001b[0mself\u001b[0m\u001b[0;34m)\u001b[0m\u001b[0;34m:\u001b[0m\u001b[0;34m\u001b[0m\u001b[0;34m\u001b[0m\u001b[0m\n\u001b[0;32m--> 257\u001b[0;31m         \u001b[0mline\u001b[0m \u001b[0;34m=\u001b[0m \u001b[0mstr\u001b[0m\u001b[0;34m(\u001b[0m\u001b[0mself\u001b[0m\u001b[0;34m.\u001b[0m\u001b[0mfp\u001b[0m\u001b[0;34m.\u001b[0m\u001b[0mreadline\u001b[0m\u001b[0;34m(\u001b[0m\u001b[0m_MAXLINE\u001b[0m \u001b[0;34m+\u001b[0m \u001b[0;36m1\u001b[0m\u001b[0;34m)\u001b[0m\u001b[0;34m,\u001b[0m \u001b[0;34m\"iso-8859-1\"\u001b[0m\u001b[0;34m)\u001b[0m\u001b[0;34m\u001b[0m\u001b[0;34m\u001b[0m\u001b[0m\n\u001b[0m\u001b[1;32m    258\u001b[0m         \u001b[0;32mif\u001b[0m \u001b[0mlen\u001b[0m\u001b[0;34m(\u001b[0m\u001b[0mline\u001b[0m\u001b[0;34m)\u001b[0m \u001b[0;34m>\u001b[0m \u001b[0m_MAXLINE\u001b[0m\u001b[0;34m:\u001b[0m\u001b[0;34m\u001b[0m\u001b[0;34m\u001b[0m\u001b[0m\n\u001b[1;32m    259\u001b[0m             \u001b[0;32mraise\u001b[0m \u001b[0mLineTooLong\u001b[0m\u001b[0;34m(\u001b[0m\u001b[0;34m\"status line\"\u001b[0m\u001b[0;34m)\u001b[0m\u001b[0;34m\u001b[0m\u001b[0;34m\u001b[0m\u001b[0m\n",
      "\u001b[0;32m~/miniconda3/lib/python3.7/socket.py\u001b[0m in \u001b[0;36mreadinto\u001b[0;34m(self, b)\u001b[0m\n\u001b[1;32m    587\u001b[0m         \u001b[0;32mwhile\u001b[0m \u001b[0;32mTrue\u001b[0m\u001b[0;34m:\u001b[0m\u001b[0;34m\u001b[0m\u001b[0;34m\u001b[0m\u001b[0m\n\u001b[1;32m    588\u001b[0m             \u001b[0;32mtry\u001b[0m\u001b[0;34m:\u001b[0m\u001b[0;34m\u001b[0m\u001b[0;34m\u001b[0m\u001b[0m\n\u001b[0;32m--> 589\u001b[0;31m                 \u001b[0;32mreturn\u001b[0m \u001b[0mself\u001b[0m\u001b[0;34m.\u001b[0m\u001b[0m_sock\u001b[0m\u001b[0;34m.\u001b[0m\u001b[0mrecv_into\u001b[0m\u001b[0;34m(\u001b[0m\u001b[0mb\u001b[0m\u001b[0;34m)\u001b[0m\u001b[0;34m\u001b[0m\u001b[0;34m\u001b[0m\u001b[0m\n\u001b[0m\u001b[1;32m    590\u001b[0m             \u001b[0;32mexcept\u001b[0m \u001b[0mtimeout\u001b[0m\u001b[0;34m:\u001b[0m\u001b[0;34m\u001b[0m\u001b[0;34m\u001b[0m\u001b[0m\n\u001b[1;32m    591\u001b[0m                 \u001b[0mself\u001b[0m\u001b[0;34m.\u001b[0m\u001b[0m_timeout_occurred\u001b[0m \u001b[0;34m=\u001b[0m \u001b[0;32mTrue\u001b[0m\u001b[0;34m\u001b[0m\u001b[0;34m\u001b[0m\u001b[0m\n",
      "\u001b[0;31mKeyboardInterrupt\u001b[0m: "
     ]
    }
   ],
   "source": [
    "browser=webdriver.Firefox()\n",
    "browser.get(url)\n",
    "flag=True\n",
    "master={}\n",
    "while flag:\n",
    "    btns=browser.find_elements_by_class_name(\"grayBtn\")\n",
    "    for btn in btns:\n",
    "        if btn.text==\"Next\":\n",
    "            btn.click()\n",
    "            html=driver.page_source\n",
    "            soup=BeautifulSoup(html,'html.parser')\n",
    "            master[btn]=get_data(soup)        "
   ]
  },
  {
   "cell_type": "code",
   "execution_count": 21,
   "metadata": {},
   "outputs": [],
   "source": [
    "### Scraping tables\n",
    "url=\"https://www.imdb.com/chart/toptv/?ref_=nv_tvv_250\"\n",
    "browser=webdriver.Firefox()\n",
    "browser.get(url)"
   ]
  },
  {
   "cell_type": "code",
   "execution_count": 22,
   "metadata": {},
   "outputs": [],
   "source": [
    "html=browser.page_source\n",
    "soup=BeautifulSoup(html,'html.parser')"
   ]
  },
  {
   "cell_type": "code",
   "execution_count": 23,
   "metadata": {},
   "outputs": [],
   "source": [
    "tables=soup.find_all(\"table\",class_=\"chart full-width\")"
   ]
  },
  {
   "cell_type": "code",
   "execution_count": 24,
   "metadata": {},
   "outputs": [
    {
     "data": {
      "text/plain": [
       "1"
      ]
     },
     "execution_count": 24,
     "metadata": {},
     "output_type": "execute_result"
    }
   ],
   "source": [
    "len(tables)"
   ]
  },
  {
   "cell_type": "code",
   "execution_count": 32,
   "metadata": {},
   "outputs": [],
   "source": [
    "title=[]\n",
    "year=[]\n",
    "rating=[]\n",
    "for row in tables[0].find_all(\"tr\")[1:]:\n",
    "    data=row.find_all(\"td\")\n",
    "    title.append(data[1].a.text)\n",
    "    year.append(data[1].span.text)\n",
    "    rating.append(data[2].text.strip())"
   ]
  },
  {
   "cell_type": "code",
   "execution_count": 33,
   "metadata": {},
   "outputs": [],
   "source": [
    "table=pd.DataFrame({'title':title,'year':year,'rating':rating})"
   ]
  },
  {
   "cell_type": "code",
   "execution_count": 34,
   "metadata": {},
   "outputs": [
    {
     "data": {
      "text/html": [
       "<div>\n",
       "<style scoped>\n",
       "    .dataframe tbody tr th:only-of-type {\n",
       "        vertical-align: middle;\n",
       "    }\n",
       "\n",
       "    .dataframe tbody tr th {\n",
       "        vertical-align: top;\n",
       "    }\n",
       "\n",
       "    .dataframe thead th {\n",
       "        text-align: right;\n",
       "    }\n",
       "</style>\n",
       "<table border=\"1\" class=\"dataframe\">\n",
       "  <thead>\n",
       "    <tr style=\"text-align: right;\">\n",
       "      <th></th>\n",
       "      <th>title</th>\n",
       "      <th>year</th>\n",
       "      <th>rating</th>\n",
       "    </tr>\n",
       "  </thead>\n",
       "  <tbody>\n",
       "    <tr>\n",
       "      <th>0</th>\n",
       "      <td>Planet Earth II</td>\n",
       "      <td>(2016)</td>\n",
       "      <td>9.5</td>\n",
       "    </tr>\n",
       "    <tr>\n",
       "      <th>1</th>\n",
       "      <td>Planet Earth</td>\n",
       "      <td>(2006)</td>\n",
       "      <td>9.4</td>\n",
       "    </tr>\n",
       "    <tr>\n",
       "      <th>2</th>\n",
       "      <td>Band of Brothers</td>\n",
       "      <td>(2001)</td>\n",
       "      <td>9.4</td>\n",
       "    </tr>\n",
       "    <tr>\n",
       "      <th>3</th>\n",
       "      <td>Chernobyl</td>\n",
       "      <td>(2019)</td>\n",
       "      <td>9.4</td>\n",
       "    </tr>\n",
       "    <tr>\n",
       "      <th>4</th>\n",
       "      <td>Breaking Bad</td>\n",
       "      <td>(2008)</td>\n",
       "      <td>9.4</td>\n",
       "    </tr>\n",
       "  </tbody>\n",
       "</table>\n",
       "</div>"
      ],
      "text/plain": [
       "              title    year rating\n",
       "0   Planet Earth II  (2016)    9.5\n",
       "1      Planet Earth  (2006)    9.4\n",
       "2  Band of Brothers  (2001)    9.4\n",
       "3         Chernobyl  (2019)    9.4\n",
       "4      Breaking Bad  (2008)    9.4"
      ]
     },
     "execution_count": 34,
     "metadata": {},
     "output_type": "execute_result"
    }
   ],
   "source": [
    "table.head()"
   ]
  },
  {
   "cell_type": "code",
   "execution_count": 35,
   "metadata": {},
   "outputs": [],
   "source": [
    "url=\"https://en.wikipedia.org/wiki/List_of_terrorist_incidents_in_August_2019\"\n",
    "browser=webdriver.Firefox()\n",
    "browser.get(url)\n",
    "html=browser.page_source\n",
    "soup=BeautifulSoup(html,'html.parser')"
   ]
  },
  {
   "cell_type": "code",
   "execution_count": 37,
   "metadata": {},
   "outputs": [
    {
     "data": {
      "text/plain": [
       "1"
      ]
     },
     "execution_count": 37,
     "metadata": {},
     "output_type": "execute_result"
    }
   ],
   "source": [
    "len(soup.find_all(\"table\",class_='wikitable'))"
   ]
  },
  {
   "cell_type": "code",
   "execution_count": 39,
   "metadata": {},
   "outputs": [
    {
     "data": {
      "text/plain": [
       "1"
      ]
     },
     "execution_count": 39,
     "metadata": {},
     "output_type": "execute_result"
    }
   ],
   "source": [
    "len(soup.find_all(\"table\",attrs={'id':'terrorIncidents2019August'}))"
   ]
  },
  {
   "cell_type": "code",
   "execution_count": 40,
   "metadata": {},
   "outputs": [],
   "source": [
    "tables=soup.find_all(\"table\",class_='wikitable')"
   ]
  },
  {
   "cell_type": "code",
   "execution_count": 41,
   "metadata": {},
   "outputs": [
    {
     "data": {
      "text/plain": [
       "1"
      ]
     },
     "execution_count": 41,
     "metadata": {},
     "output_type": "execute_result"
    }
   ],
   "source": [
    "len(tables)"
   ]
  },
  {
   "cell_type": "code",
   "execution_count": 64,
   "metadata": {},
   "outputs": [],
   "source": [
    "date=[]\n",
    "typ=[]\n",
    "dead=[]\n",
    "inj=[]\n",
    "loc=[]\n",
    "details=[]\n",
    "perp=[]\n",
    "partof=[]\n",
    "for row in tables[0].find_all(\"tr\")[1:]:\n",
    "    data=row.find_all(\"td\")\n",
    "    date.append(data[0].text.strip())\n",
    "    typ.append(data[1].text.strip())\n",
    "    dead.append(data[2].text.strip())\n",
    "    inj.append(data[3].text.strip())\n",
    "    loc.append(data[4].text.strip())\n",
    "    details.append(data[5].text.strip())\n",
    "    perp.append(data[6].text.strip())\n",
    "    partof.append(data[7].text.strip())\n",
    "terror=pd.DataFrame()\n",
    "terror['date']=date\n",
    "terror['type']=typ\n",
    "terror['dead']=dead\n",
    "terror['inj']=inj\n",
    "terror['loc']=loc\n",
    "terror['details']=details\n",
    "terror['perp']=perp\n",
    "terror['partof']=partof"
   ]
  },
  {
   "cell_type": "code",
   "execution_count": 65,
   "metadata": {},
   "outputs": [],
   "source": [
    "### Extracting links:\n",
    "url=\"https://en.wikipedia.org/wiki/List_of_terrorist_incidents\"\n",
    "browser=webdriver.Firefox()\n",
    "browser.get(url)\n",
    "html=browser.page_source\n",
    "soup=BeautifulSoup(html,'html.parser')"
   ]
  },
  {
   "cell_type": "code",
   "execution_count": 66,
   "metadata": {},
   "outputs": [],
   "source": [
    "links=soup.find_all(\"div\",class_=\"div-col columns column-width\")"
   ]
  },
  {
   "cell_type": "code",
   "execution_count": 67,
   "metadata": {},
   "outputs": [
    {
     "data": {
      "text/plain": [
       "2"
      ]
     },
     "execution_count": 67,
     "metadata": {},
     "output_type": "execute_result"
    }
   ],
   "source": [
    "len(links)"
   ]
  },
  {
   "cell_type": "code",
   "execution_count": 72,
   "metadata": {},
   "outputs": [],
   "source": [
    "partial_links=[]\n",
    "for link in links[0].find_all(\"li\"):\n",
    "    partial_links.append(link.a['href'])"
   ]
  },
  {
   "cell_type": "code",
   "execution_count": 73,
   "metadata": {},
   "outputs": [],
   "source": [
    "partial_links=pd.Series(partial_links)"
   ]
  },
  {
   "cell_type": "code",
   "execution_count": 75,
   "metadata": {},
   "outputs": [
    {
     "data": {
      "text/plain": [
       "49    /wiki/List_of_terrorist_incidents_in_January_2015\n",
       "dtype: object"
      ]
     },
     "execution_count": 75,
     "metadata": {},
     "output_type": "execute_result"
    }
   ],
   "source": [
    "partial_links[partial_links==\"/wiki/List_of_terrorist_incidents_in_January_2015\"]"
   ]
  },
  {
   "cell_type": "code",
   "execution_count": 77,
   "metadata": {},
   "outputs": [],
   "source": [
    "rel_partial_links=partial_links[49:]"
   ]
  },
  {
   "cell_type": "code",
   "execution_count": 78,
   "metadata": {},
   "outputs": [],
   "source": [
    "base_url=\"https://en.wikipedia.org{}\""
   ]
  },
  {
   "cell_type": "code",
   "execution_count": 84,
   "metadata": {},
   "outputs": [],
   "source": [
    "def get_data(soup,i):\n",
    "    tables=soup.find_all(\"table\",class_='wikitable')\n",
    "    date=[]\n",
    "    typ=[]\n",
    "    dead=[]\n",
    "    inj=[]\n",
    "    loc=[]\n",
    "    details=[]\n",
    "    perp=[]\n",
    "    partof=[]\n",
    "    for row in tables[0].find_all(\"tr\")[1:]:\n",
    "        data=row.find_all(\"td\")\n",
    "        date.append(data[0].text.strip())\n",
    "        typ.append(data[1].text.strip())\n",
    "        dead.append(data[2].text.strip())\n",
    "        inj.append(data[3].text.strip())\n",
    "        loc.append(data[4].text.strip())\n",
    "        details.append(data[5].text.strip())\n",
    "        perp.append(data[6].text.strip())\n",
    "        try:\n",
    "            partof.append(data[7].text.strip())\n",
    "        except:\n",
    "            partof.append(\"none\")\n",
    "    terror=pd.DataFrame()\n",
    "    terror['date']=date\n",
    "    terror['type']=typ\n",
    "    terror['dead']=dead\n",
    "    terror['inj']=inj\n",
    "    terror['loc']=loc\n",
    "    terror['details']=details\n",
    "    terror['perp']=perp\n",
    "    terror['partof']=partof\n",
    "    terror['url']=i\n",
    "    return terror"
   ]
  },
  {
   "cell_type": "code",
   "execution_count": 85,
   "metadata": {},
   "outputs": [
    {
     "name": "stderr",
     "output_type": "stream",
     "text": [
      "100%|██████████| 57/57 [01:12<00:00,  1.87s/it]\n"
     ]
    }
   ],
   "source": [
    "master={}\n",
    "from tqdm import tqdm\n",
    "for i in tqdm(rel_partial_links):\n",
    "    url=base_url.format(i)\n",
    "    browser.get(url)\n",
    "    html=browser.page_source\n",
    "    soup=BeautifulSoup(html,'html.parser')\n",
    "    master[i]=get_data(soup,i)    "
   ]
  },
  {
   "cell_type": "code",
   "execution_count": 86,
   "metadata": {},
   "outputs": [],
   "source": [
    "big_table=pd.concat([master[i] for i in master],axis=0)"
   ]
  },
  {
   "cell_type": "code",
   "execution_count": 87,
   "metadata": {},
   "outputs": [
    {
     "data": {
      "text/html": [
       "<div>\n",
       "<style scoped>\n",
       "    .dataframe tbody tr th:only-of-type {\n",
       "        vertical-align: middle;\n",
       "    }\n",
       "\n",
       "    .dataframe tbody tr th {\n",
       "        vertical-align: top;\n",
       "    }\n",
       "\n",
       "    .dataframe thead th {\n",
       "        text-align: right;\n",
       "    }\n",
       "</style>\n",
       "<table border=\"1\" class=\"dataframe\">\n",
       "  <thead>\n",
       "    <tr style=\"text-align: right;\">\n",
       "      <th></th>\n",
       "      <th>date</th>\n",
       "      <th>type</th>\n",
       "      <th>dead</th>\n",
       "      <th>inj</th>\n",
       "      <th>loc</th>\n",
       "      <th>details</th>\n",
       "      <th>perp</th>\n",
       "      <th>partof</th>\n",
       "      <th>url</th>\n",
       "    </tr>\n",
       "  </thead>\n",
       "  <tbody>\n",
       "    <tr>\n",
       "      <th>0</th>\n",
       "      <td>1</td>\n",
       "      <td>Shooting</td>\n",
       "      <td>15–25+</td>\n",
       "      <td>10+</td>\n",
       "      <td>Waza Region, Cameroon</td>\n",
       "      <td>A group of militants attacked a crowded bus tr...</td>\n",
       "      <td>Boko Haram (suspected)</td>\n",
       "      <td>Boko Haram insurgency</td>\n",
       "      <td>/wiki/List_of_terrorist_incidents_in_January_2015</td>\n",
       "    </tr>\n",
       "    <tr>\n",
       "      <th>1</th>\n",
       "      <td>3</td>\n",
       "      <td>Attack</td>\n",
       "      <td>1</td>\n",
       "      <td>3</td>\n",
       "      <td>Maguindanao and Sultan Kudarat, Philippines</td>\n",
       "      <td>An undetermined number of Bangsamoro Islamic F...</td>\n",
       "      <td>BIFF</td>\n",
       "      <td>Moro conflict</td>\n",
       "      <td>/wiki/List_of_terrorist_incidents_in_January_2015</td>\n",
       "    </tr>\n",
       "    <tr>\n",
       "      <th>2</th>\n",
       "      <td>3</td>\n",
       "      <td>Shooting</td>\n",
       "      <td>3</td>\n",
       "      <td>2</td>\n",
       "      <td>Basra Governorate, Iraq</td>\n",
       "      <td>Shooting in Basra Governorate left 5 people de...</td>\n",
       "      <td>Unknown</td>\n",
       "      <td>Iraqi Civil War</td>\n",
       "      <td>/wiki/List_of_terrorist_incidents_in_January_2015</td>\n",
       "    </tr>\n",
       "    <tr>\n",
       "      <th>3</th>\n",
       "      <td>3</td>\n",
       "      <td>Melee attack</td>\n",
       "      <td>1</td>\n",
       "      <td>0</td>\n",
       "      <td>El Fahs, Tunisia</td>\n",
       "      <td>A Tunisian policeman was ambushed by a group o...</td>\n",
       "      <td>Islamist militants</td>\n",
       "      <td>Insurgency in the Maghreb</td>\n",
       "      <td>/wiki/List_of_terrorist_incidents_in_January_2015</td>\n",
       "    </tr>\n",
       "    <tr>\n",
       "      <th>4</th>\n",
       "      <td>3–7</td>\n",
       "      <td>Massacre</td>\n",
       "      <td>UnknownEst. 2000+</td>\n",
       "      <td>Unknown</td>\n",
       "      <td>Baga, Borno State, Nigeria</td>\n",
       "      <td>2015 Baga massacre: Boko Haram militants opene...</td>\n",
       "      <td>Boko Haram</td>\n",
       "      <td>Boko Haram insurgency</td>\n",
       "      <td>/wiki/List_of_terrorist_incidents_in_January_2015</td>\n",
       "    </tr>\n",
       "  </tbody>\n",
       "</table>\n",
       "</div>"
      ],
      "text/plain": [
       "  date          type               dead      inj  \\\n",
       "0    1      Shooting             15–25+      10+   \n",
       "1    3        Attack                  1        3   \n",
       "2    3      Shooting                  3        2   \n",
       "3    3  Melee attack                  1        0   \n",
       "4  3–7      Massacre  UnknownEst. 2000+  Unknown   \n",
       "\n",
       "                                           loc  \\\n",
       "0                        Waza Region, Cameroon   \n",
       "1  Maguindanao and Sultan Kudarat, Philippines   \n",
       "2                      Basra Governorate, Iraq   \n",
       "3                             El Fahs, Tunisia   \n",
       "4                   Baga, Borno State, Nigeria   \n",
       "\n",
       "                                             details                    perp  \\\n",
       "0  A group of militants attacked a crowded bus tr...  Boko Haram (suspected)   \n",
       "1  An undetermined number of Bangsamoro Islamic F...                    BIFF   \n",
       "2  Shooting in Basra Governorate left 5 people de...                 Unknown   \n",
       "3  A Tunisian policeman was ambushed by a group o...      Islamist militants   \n",
       "4  2015 Baga massacre: Boko Haram militants opene...              Boko Haram   \n",
       "\n",
       "                      partof  \\\n",
       "0      Boko Haram insurgency   \n",
       "1              Moro conflict   \n",
       "2            Iraqi Civil War   \n",
       "3  Insurgency in the Maghreb   \n",
       "4      Boko Haram insurgency   \n",
       "\n",
       "                                                 url  \n",
       "0  /wiki/List_of_terrorist_incidents_in_January_2015  \n",
       "1  /wiki/List_of_terrorist_incidents_in_January_2015  \n",
       "2  /wiki/List_of_terrorist_incidents_in_January_2015  \n",
       "3  /wiki/List_of_terrorist_incidents_in_January_2015  \n",
       "4  /wiki/List_of_terrorist_incidents_in_January_2015  "
      ]
     },
     "execution_count": 87,
     "metadata": {},
     "output_type": "execute_result"
    }
   ],
   "source": [
    "big_table.head()"
   ]
  },
  {
   "cell_type": "code",
   "execution_count": 92,
   "metadata": {},
   "outputs": [],
   "source": [
    "### By, year, month,date how many terror incidents have happened\n",
    "big_table['month']=big_table['url'].map(lambda x:x.split(\"_\")[5])"
   ]
  },
  {
   "cell_type": "code",
   "execution_count": 94,
   "metadata": {},
   "outputs": [],
   "source": [
    "big_table['year']=big_table['url'].map(lambda x:x.split(\"_\")[-1])"
   ]
  },
  {
   "cell_type": "code",
   "execution_count": 96,
   "metadata": {},
   "outputs": [],
   "source": [
    "big_table.head()\n",
    "big_table['country']=big_table['loc'].map(lambda x:x.split(\",\")[-1])"
   ]
  },
  {
   "cell_type": "code",
   "execution_count": 97,
   "metadata": {},
   "outputs": [
    {
     "data": {
      "text/html": [
       "<div>\n",
       "<style scoped>\n",
       "    .dataframe tbody tr th:only-of-type {\n",
       "        vertical-align: middle;\n",
       "    }\n",
       "\n",
       "    .dataframe tbody tr th {\n",
       "        vertical-align: top;\n",
       "    }\n",
       "\n",
       "    .dataframe thead th {\n",
       "        text-align: right;\n",
       "    }\n",
       "</style>\n",
       "<table border=\"1\" class=\"dataframe\">\n",
       "  <thead>\n",
       "    <tr style=\"text-align: right;\">\n",
       "      <th></th>\n",
       "      <th>date</th>\n",
       "      <th>type</th>\n",
       "      <th>dead</th>\n",
       "      <th>inj</th>\n",
       "      <th>loc</th>\n",
       "      <th>details</th>\n",
       "      <th>perp</th>\n",
       "      <th>partof</th>\n",
       "      <th>url</th>\n",
       "      <th>year</th>\n",
       "      <th>month</th>\n",
       "      <th>country</th>\n",
       "    </tr>\n",
       "  </thead>\n",
       "  <tbody>\n",
       "    <tr>\n",
       "      <th>0</th>\n",
       "      <td>1</td>\n",
       "      <td>Shooting</td>\n",
       "      <td>15–25+</td>\n",
       "      <td>10+</td>\n",
       "      <td>Waza Region, Cameroon</td>\n",
       "      <td>A group of militants attacked a crowded bus tr...</td>\n",
       "      <td>Boko Haram (suspected)</td>\n",
       "      <td>Boko Haram insurgency</td>\n",
       "      <td>/wiki/List_of_terrorist_incidents_in_January_2015</td>\n",
       "      <td>2015</td>\n",
       "      <td>January</td>\n",
       "      <td>Cameroon</td>\n",
       "    </tr>\n",
       "    <tr>\n",
       "      <th>1</th>\n",
       "      <td>3</td>\n",
       "      <td>Attack</td>\n",
       "      <td>1</td>\n",
       "      <td>3</td>\n",
       "      <td>Maguindanao and Sultan Kudarat, Philippines</td>\n",
       "      <td>An undetermined number of Bangsamoro Islamic F...</td>\n",
       "      <td>BIFF</td>\n",
       "      <td>Moro conflict</td>\n",
       "      <td>/wiki/List_of_terrorist_incidents_in_January_2015</td>\n",
       "      <td>2015</td>\n",
       "      <td>January</td>\n",
       "      <td>Philippines</td>\n",
       "    </tr>\n",
       "    <tr>\n",
       "      <th>2</th>\n",
       "      <td>3</td>\n",
       "      <td>Shooting</td>\n",
       "      <td>3</td>\n",
       "      <td>2</td>\n",
       "      <td>Basra Governorate, Iraq</td>\n",
       "      <td>Shooting in Basra Governorate left 5 people de...</td>\n",
       "      <td>Unknown</td>\n",
       "      <td>Iraqi Civil War</td>\n",
       "      <td>/wiki/List_of_terrorist_incidents_in_January_2015</td>\n",
       "      <td>2015</td>\n",
       "      <td>January</td>\n",
       "      <td>Iraq</td>\n",
       "    </tr>\n",
       "    <tr>\n",
       "      <th>3</th>\n",
       "      <td>3</td>\n",
       "      <td>Melee attack</td>\n",
       "      <td>1</td>\n",
       "      <td>0</td>\n",
       "      <td>El Fahs, Tunisia</td>\n",
       "      <td>A Tunisian policeman was ambushed by a group o...</td>\n",
       "      <td>Islamist militants</td>\n",
       "      <td>Insurgency in the Maghreb</td>\n",
       "      <td>/wiki/List_of_terrorist_incidents_in_January_2015</td>\n",
       "      <td>2015</td>\n",
       "      <td>January</td>\n",
       "      <td>Tunisia</td>\n",
       "    </tr>\n",
       "    <tr>\n",
       "      <th>4</th>\n",
       "      <td>3–7</td>\n",
       "      <td>Massacre</td>\n",
       "      <td>UnknownEst. 2000+</td>\n",
       "      <td>Unknown</td>\n",
       "      <td>Baga, Borno State, Nigeria</td>\n",
       "      <td>2015 Baga massacre: Boko Haram militants opene...</td>\n",
       "      <td>Boko Haram</td>\n",
       "      <td>Boko Haram insurgency</td>\n",
       "      <td>/wiki/List_of_terrorist_incidents_in_January_2015</td>\n",
       "      <td>2015</td>\n",
       "      <td>January</td>\n",
       "      <td>Nigeria</td>\n",
       "    </tr>\n",
       "  </tbody>\n",
       "</table>\n",
       "</div>"
      ],
      "text/plain": [
       "  date          type               dead      inj  \\\n",
       "0    1      Shooting             15–25+      10+   \n",
       "1    3        Attack                  1        3   \n",
       "2    3      Shooting                  3        2   \n",
       "3    3  Melee attack                  1        0   \n",
       "4  3–7      Massacre  UnknownEst. 2000+  Unknown   \n",
       "\n",
       "                                           loc  \\\n",
       "0                        Waza Region, Cameroon   \n",
       "1  Maguindanao and Sultan Kudarat, Philippines   \n",
       "2                      Basra Governorate, Iraq   \n",
       "3                             El Fahs, Tunisia   \n",
       "4                   Baga, Borno State, Nigeria   \n",
       "\n",
       "                                             details                    perp  \\\n",
       "0  A group of militants attacked a crowded bus tr...  Boko Haram (suspected)   \n",
       "1  An undetermined number of Bangsamoro Islamic F...                    BIFF   \n",
       "2  Shooting in Basra Governorate left 5 people de...                 Unknown   \n",
       "3  A Tunisian policeman was ambushed by a group o...      Islamist militants   \n",
       "4  2015 Baga massacre: Boko Haram militants opene...              Boko Haram   \n",
       "\n",
       "                      partof  \\\n",
       "0      Boko Haram insurgency   \n",
       "1              Moro conflict   \n",
       "2            Iraqi Civil War   \n",
       "3  Insurgency in the Maghreb   \n",
       "4      Boko Haram insurgency   \n",
       "\n",
       "                                                 url  year    month  \\\n",
       "0  /wiki/List_of_terrorist_incidents_in_January_2015  2015  January   \n",
       "1  /wiki/List_of_terrorist_incidents_in_January_2015  2015  January   \n",
       "2  /wiki/List_of_terrorist_incidents_in_January_2015  2015  January   \n",
       "3  /wiki/List_of_terrorist_incidents_in_January_2015  2015  January   \n",
       "4  /wiki/List_of_terrorist_incidents_in_January_2015  2015  January   \n",
       "\n",
       "        country  \n",
       "0      Cameroon  \n",
       "1   Philippines  \n",
       "2          Iraq  \n",
       "3       Tunisia  \n",
       "4       Nigeria  "
      ]
     },
     "execution_count": 97,
     "metadata": {},
     "output_type": "execute_result"
    }
   ],
   "source": [
    "big_table.head()\n",
    "### By, year, month,date how many terror incidents have happened, how many got injured"
   ]
  },
  {
   "cell_type": "code",
   "execution_count": 98,
   "metadata": {},
   "outputs": [
    {
     "data": {
      "text/plain": [
       "array(['10+', '3', '2', '0', 'Unknown', '6', '4', '8', '31', 'n/a', '5',\n",
       "       '21', '1', '66', '11', '9', '36', '20+', '46', '18', '12', '',\n",
       "       '48', '108', '500+', '17', '26', '60', '19', '10–12', '7',\n",
       "       'unknown', '139', 'Dozens', '1 (+2)', '70', '40+', '10', '351',\n",
       "       '25', '28', '79', '45', '55', '20', '1 (+1)', '115', '14 (+2)',\n",
       "       '16', '15', '37', '30', '13', '42', '90+', '63', '27', '100', '40',\n",
       "       '300+', '24', '227', '34', '51', '22', '67+', '32', '80', '81',\n",
       "       '130', '104', '50', '3 (+1)', '80+', '212', '101+', '123', '29',\n",
       "       '60+', '100+', '92', '70+', '97-150+', '36+', 'Unknown1 kidnapped',\n",
       "       '33', '41', '508', '15 (+1)', '4 (+1)', '96', '50–80', '14',\n",
       "       '1(+1)', '240', '368', '123+', '2 (+1)', '23', '90', '35', '54',\n",
       "       '11 (+1)', '3–12', '85', '50+', '35+', '200', '56+', '65', '110',\n",
       "       '58', '8-14', '78', '4 (+3)', '61', '112', '11+', '180', '38',\n",
       "       '2-10', '0(+1)', '2 (+2)', '95', 'Unknown (+6)', '800+', '125',\n",
       "       '340', '300 kidnapped', '52', '2 (+6)', '347', '86', '75',\n",
       "       '45-60+', '8-9', 'Hundreds', '16+', '5+', '87', '12+', '30+',\n",
       "       'Unknown (over 29)', '194+', '2+', '10 (4 critical)',\n",
       "       '5 (disputed)', '~15', '3+', 'Around 220 kidnapped', 'Unknwon',\n",
       "       'Unlnown', '67', '37+', '90 arrested', '18 (+1)',\n",
       "       '42+ more kidnapped', '32+', '93', '~60', '6 (+7)', '53',\n",
       "       '7-\"dozens\"', '1+ (4 or \"several\" kidnapped, vigilante injured)',\n",
       "       '8+', '4+', '7+', 'Several', 'Unknown (210 kidnapped)[140]',\n",
       "       'dozens', '27+', '25+', '91', '15+', '239', '15 kidnapped',\n",
       "       '\"dozens\"', '246+', '9+', '75+', '0 (+1)', '143+', 'Unknown (+5)',\n",
       "       '6+', '434', 'Unknown (+25)', '5 kidnapped', '0 (+2)', '260+',\n",
       "       'Unknown (+9)', '171+', '24+', '19+', '1 kidnapping', '77 (+3)',\n",
       "       '20-70', '25-33', '5 (+?)', '0 (+6)', 'Unknown (+10)',\n",
       "       'Unknown injured, over 3000 kidnapped', '130+', '1 (1)', '217',\n",
       "       '4 Kidnapped', '~28', '109', '39', '39[35]', '2 Kidnapped',\n",
       "       '10-13', '5-10', '32 (+1)', '21+', '6 (+unknown)', '52+',\n",
       "       '0 (+16)', '1 Kidnaped', '57', '25-30', '1 kidnapped', '44+',\n",
       "       '3 Missing', '4 Captured', '133+', '117+', '8 (+Unknown)',\n",
       "       '0 (+32)', 'Unknown (+Unknown)', '4+ kidnapped', '119',\n",
       "       '6 kidnapped', '102+', '1+', '30 (+17)', '38+', '177', '155', '47',\n",
       "       '2 (+?)', '56', '3 (3 Captured)', '122', '43+', '6 (+1)', '14+',\n",
       "       '7 kidnapped', '63+', '120+', '0 (+Unknown)', '13+',\n",
       "       '2 Disappeared', '64', '10-12', '160+', '4 kidnapped',\n",
       "       '0 (+4 captured)', '6 (+4 kidnapped)', '?', '2 kidnapped', '76',\n",
       "       '800+\\xa0[138]', '413+', '118', '200+', '3 kidnapped', '26+',\n",
       "       '3 (+7)', '83', '152', '1 (+3)', '4 (+4)', '43', '316', '158+',\n",
       "       'At least 13', '140', '15 (+25)', 'Dozens (+21)', '128+', '+1',\n",
       "       '1 (+dozens)', '3 Kidnapped', '1 Kidnapped', '31 abducted', '105',\n",
       "       '235', '44', '143', '84', '120', '170', '+8', '+20', '5 Kidnapped',\n",
       "       '+4', '0 (+15)', '156', '5 (+3)', '186', '107', '9 (+Several)',\n",
       "       '+1 (+Unknown)', '6 Kidnapped', '7 (+1)', '13 (abducted)',\n",
       "       '7 Kidnapped', '25 (abducted)', '6 (+14)', '27 (+many)', '165',\n",
       "       '30 Kidnapped', '17(+6)', 'Several (+16)', '3 (abducted)',\n",
       "       '1 (abducted)', '157', '2 (kidnapped)', '7 (kidnapped)',\n",
       "       '14 (kidnapped)', '15 Kidnapped', '6 (kidnapped)', '62',\n",
       "       '12 (kidnapped)', '125 (kidnapped)', '18 (kidnapped)', '106',\n",
       "       '10 (kidnapped)', '2 (+5)', '15 (kidnapped)', '0 (+several)',\n",
       "       '16 (missing)', '0 (+3)', '11 (+8)', '1 Kidnapping', '+26',\n",
       "       '5 (kidnapped)', '19 (+3)', '35 (missing)', '13 Kidnapped',\n",
       "       '2 (+16)', '3 (+5)', '153', '50 (kidnapped)', '9 Kidnapped', '94',\n",
       "       '+12 Kidnapped', '10 (+8)', '8 (+12)', '+14 Kidnapped', '2 (+3)',\n",
       "       '5(+3)', '13 (+dozens)', '9 (+10)', '3 (+several)', '113',\n",
       "       '3 (+2)', '68', '4 (+unknown)', '4 (+several)', '16 (+1)', '58–70',\n",
       "       '2 (+13)', '0 (+21)', '102', '7 (+13)', '0 (+5)', '5 (+5)',\n",
       "       '9 (+7)', '12 abducted', '2 (+9)', '6 (+8)', '176', '49',\n",
       "       '14 (+1)', '7–8', '~22', '7 (+Unknown)', '2 (+Unknown)',\n",
       "       '270–400+', '3-10', '11 (+Unknown)', '6[111]', '3 (+12)',\n",
       "       'several', '+Several', '33 (+13)', '11-15', '3 (+4)', '11 (+3)',\n",
       "       '7 (+3)', '4 (+5)', '3 (+Unknown)', '7 (abducted)',\n",
       "       '10 (abducted)', '650+', '7 (+?)', '6 (+?)', '5 (abducted)',\n",
       "       '26 (+1)', '10 Kidnapped', '1 (+Unknown)', '1 (+1 Kidnapped)',\n",
       "       '16 (+?)', '8 (+?)', '10 (+Unknown)', '17 (+?)', '11 ( 32)', '3–6',\n",
       "       '140+', '2 (+8)', '12 kidnapped', '40 (+13)', '6 (+5)'],\n",
       "      dtype=object)"
      ]
     },
     "execution_count": 98,
     "metadata": {},
     "output_type": "execute_result"
    }
   ],
   "source": [
    "big_table['inj'].unique()"
   ]
  },
  {
   "cell_type": "code",
   "execution_count": 99,
   "metadata": {},
   "outputs": [],
   "source": [
    "import re"
   ]
  },
  {
   "cell_type": "code",
   "execution_count": 100,
   "metadata": {},
   "outputs": [],
   "source": [
    "pattern=re.compile(r'\\d{1,3}')"
   ]
  },
  {
   "cell_type": "code",
   "execution_count": 103,
   "metadata": {},
   "outputs": [],
   "source": [
    "import numpy as np\n",
    "def get_injured(row):\n",
    "    if len(re.findall(pattern,row))==0:\n",
    "        return np.nan\n",
    "    elif len(re.findall(pattern,row))==1:\n",
    "        return re.findall(pattern,row)[0]\n",
    "    else:\n",
    "        els=re.findall(pattern,row)\n",
    "        els=list(map(lambda x:float(x),els))\n",
    "        els=np.mean(els)\n",
    "        return els"
   ]
  },
  {
   "cell_type": "code",
   "execution_count": 104,
   "metadata": {},
   "outputs": [
    {
     "data": {
      "text/plain": [
       "0    [10]\n",
       "1     [3]\n",
       "Name: inj, dtype: object"
      ]
     },
     "execution_count": 104,
     "metadata": {},
     "output_type": "execute_result"
    }
   ],
   "source": [
    "big_table['inj'].map(lambda x: re.findall(pattern,x)).head(2)"
   ]
  },
  {
   "cell_type": "code",
   "execution_count": 109,
   "metadata": {},
   "outputs": [
    {
     "data": {
      "text/plain": [
       "0     10\n",
       "1      3\n",
       "2      2\n",
       "3      0\n",
       "4    NaN\n",
       "Name: inj, dtype: object"
      ]
     },
     "execution_count": 109,
     "metadata": {},
     "output_type": "execute_result"
    }
   ],
   "source": [
    "big_table['inj'].map(get_injured).head()"
   ]
  },
  {
   "cell_type": "code",
   "execution_count": 110,
   "metadata": {},
   "outputs": [],
   "source": [
    "matches=['12','13','16']"
   ]
  },
  {
   "cell_type": "code",
   "execution_count": 112,
   "metadata": {},
   "outputs": [],
   "source": [
    "matches=list(map(lambda x:float(x),matches))"
   ]
  },
  {
   "cell_type": "code",
   "execution_count": 113,
   "metadata": {},
   "outputs": [
    {
     "data": {
      "text/plain": [
       "[12.0, 13.0, 16.0]"
      ]
     },
     "execution_count": 113,
     "metadata": {},
     "output_type": "execute_result"
    }
   ],
   "source": [
    "matches"
   ]
  },
  {
   "cell_type": "code",
   "execution_count": 115,
   "metadata": {},
   "outputs": [],
   "source": [
    "### oyo rooms\n",
    "url=\"https://www.oyorooms.com/hotels-in-coimbatore/\"\n",
    "browser=webdriver.Firefox()\n",
    "browser.get(url)\n",
    "html=browser.page_source\n",
    "soup=BeautifulSoup(html,'html.parser')"
   ]
  },
  {
   "cell_type": "code",
   "execution_count": 117,
   "metadata": {},
   "outputs": [
    {
     "name": "stdout",
     "output_type": "stream",
     "text": [
      "Coimbatore, Coimbatore\n",
      "Coimbatore, Coimbatore\n",
      "Near JP Hospital, Coimbatore\n",
      "Near Milk Company, R.S.Puram, Coimbatore\n",
      "Coimbatore., Coimbatore\n",
      "Ram Nagar, Coimbatore\n",
      "Nehru St Near senthil Kumaran theater Ram Nagar Coimbatore, Coimbatore\n",
      "Kurudampalayam, Coimbatore\n",
      "Near Gandhi Park, Coimbatore\n",
      "Near Ganapathy Bus Stop, Ganapathypudur, Coimbatore\n",
      "Ram Nagar, Coimbatore\n",
      "Near Karpagam University, Madukkarai market, Coimbatore\n",
      "Ram Nagar, Coimbatore\n",
      "Near Kaliyappa Complex, Coimbatore\n",
      "Near Airport, Coimbatore\n",
      "Near Balaji Nagar, Coimbatore\n",
      "Near Ram Nagar, Coimbatore\n",
      "Near Tatabad, Coimbatore\n",
      "Near Gandhipuram Bus Stand, Coimbatore\n",
      "4th Extension, 100 Feet Road, Coimbatore\n"
     ]
    }
   ],
   "source": [
    "for i in soup.find_all(\"span\",attrs={'itemprop':'streetAddress'}):\n",
    "    print(i['title'])"
   ]
  },
  {
   "cell_type": "code",
   "execution_count": null,
   "metadata": {},
   "outputs": [],
   "source": []
  }
 ],
 "metadata": {
  "kernelspec": {
   "display_name": "Python 3",
   "language": "python",
   "name": "python3"
  },
  "language_info": {
   "codemirror_mode": {
    "name": "ipython",
    "version": 3
   },
   "file_extension": ".py",
   "mimetype": "text/x-python",
   "name": "python",
   "nbconvert_exporter": "python",
   "pygments_lexer": "ipython3",
   "version": "3.7.3"
  }
 },
 "nbformat": 4,
 "nbformat_minor": 2
}
