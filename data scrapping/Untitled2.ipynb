{
 "cells": [
  {
   "cell_type": "code",
   "execution_count": 15,
   "metadata": {},
   "outputs": [],
   "source": [
    "import re\n",
    "from selenium import webdriver\n",
    "from bs4 import BeautifulSoup\n",
    "import os\n",
    "import pandas as pd"
   ]
  },
  {
   "cell_type": "code",
   "execution_count": 20,
   "metadata": {},
   "outputs": [],
   "source": [
    "path= 'C:/Users/Administrator/Desktop/python/data scrapping/new.html'\n",
    "con= open(path, 'r')\n",
    "html = con.read()\n",
    "con.close()\n",
    "soup = BeautifulSoup(html, 'html.parser')"
   ]
  },
  {
   "cell_type": "code",
   "execution_count": 36,
   "metadata": {},
   "outputs": [
    {
     "data": {
      "text/html": [
       "<div>\n",
       "<style scoped>\n",
       "    .dataframe tbody tr th:only-of-type {\n",
       "        vertical-align: middle;\n",
       "    }\n",
       "\n",
       "    .dataframe tbody tr th {\n",
       "        vertical-align: top;\n",
       "    }\n",
       "\n",
       "    .dataframe thead th {\n",
       "        text-align: right;\n",
       "    }\n",
       "</style>\n",
       "<table border=\"1\" class=\"dataframe\">\n",
       "  <thead>\n",
       "    <tr style=\"text-align: right;\">\n",
       "      <th></th>\n",
       "      <th>Title</th>\n",
       "      <th>Author</th>\n",
       "      <th>Price</th>\n",
       "      <th>Description</th>\n",
       "      <th>Category</th>\n",
       "    </tr>\n",
       "  </thead>\n",
       "  <tbody>\n",
       "    <tr>\n",
       "      <th>0</th>\n",
       "      <td>The person you mean to be</td>\n",
       "      <td>Dolly</td>\n",
       "      <td>10$</td>\n",
       "      <td>An inspiring guide form Dolly Chugh,\\n\\t\\t\\tan...</td>\n",
       "      <td>self-help</td>\n",
       "    </tr>\n",
       "    <tr>\n",
       "      <th>1</th>\n",
       "      <td>Imperfect courage</td>\n",
       "      <td>Tom</td>\n",
       "      <td>15$</td>\n",
       "      <td>An inspiring guide form Tom Chugh,\\n\\t\\t\\tan a...</td>\n",
       "      <td>society</td>\n",
       "    </tr>\n",
       "  </tbody>\n",
       "</table>\n",
       "</div>"
      ],
      "text/plain": [
       "                        Title Author Price  \\\n",
       "0  The person you mean to be   Dolly   10$   \n",
       "1           Imperfect courage    Tom   15$   \n",
       "\n",
       "                                         Description   Category  \n",
       "0  An inspiring guide form Dolly Chugh,\\n\\t\\t\\tan...  self-help  \n",
       "1  An inspiring guide form Tom Chugh,\\n\\t\\t\\tan a...    society  "
      ]
     },
     "execution_count": 36,
     "metadata": {},
     "output_type": "execute_result"
    }
   ],
   "source": [
    "title=[]\n",
    "author=[]\n",
    "price=[]\n",
    "description=[]\n",
    "category=[]\n",
    "for i in soup.find_all('h4',class_='title'):\n",
    "    title.append(i.text)\n",
    "for i in soup.find_all('div',class_='author'):\n",
    "    author.append(i.text)\n",
    "for i in soup.find_all('li',type='price'):\n",
    "    price.append(i.text)\n",
    "for i in soup.find_all('div',class_='desc'):\n",
    "    description.append(i.text.strip())\n",
    "for i in soup.find_all('div', class_='category'):\n",
    "    category.append(i['type'])\n",
    "df2=pd.DataFrame({'Title':title,'Author':author,'Price':price,'Description':description,'Category':category})\n",
    "df2"
   ]
  },
  {
   "cell_type": "code",
   "execution_count": 39,
   "metadata": {},
   "outputs": [
    {
     "name": "stdout",
     "output_type": "stream",
     "text": [
      "['An inspiring guide form Dolly Chugh', '\\n\\t\\t\\tan award-winning social pyschologist']\n",
      "['An inspiring guide form Tom Chugh', '\\n\\t\\t\\tan award-winning social pyschologist']\n"
     ]
    }
   ],
   "source": [
    "for i in soup.find_all('div',class_='desc'):\n",
    "    print(i.text.strip().split(','))"
   ]
  },
  {
   "cell_type": "code",
   "execution_count": 37,
   "metadata": {},
   "outputs": [
    {
     "data": {
      "text/plain": [
       "['An inspiring guide form Dolly Chugh,\\n\\t\\t\\tan award-winning social pyschologist',\n",
       " 'An inspiring guide form Tom Chugh,\\n\\t\\t\\tan award-winning social pyschologist']"
      ]
     },
     "execution_count": 37,
     "metadata": {},
     "output_type": "execute_result"
    }
   ],
   "source": [
    "description"
   ]
  },
  {
   "cell_type": "code",
   "execution_count": 47,
   "metadata": {},
   "outputs": [
    {
     "data": {
      "text/plain": [
       "'price'"
      ]
     },
     "execution_count": 47,
     "metadata": {},
     "output_type": "execute_result"
    }
   ],
   "source": [
    "soup.li.type"
   ]
  },
  {
   "cell_type": "code",
   "execution_count": null,
   "metadata": {},
   "outputs": [],
   "source": []
  }
 ],
 "metadata": {
  "kernelspec": {
   "display_name": "Python 3",
   "language": "python",
   "name": "python3"
  },
  "language_info": {
   "codemirror_mode": {
    "name": "ipython",
    "version": 3
   },
   "file_extension": ".py",
   "mimetype": "text/x-python",
   "name": "python",
   "nbconvert_exporter": "python",
   "pygments_lexer": "ipython3",
   "version": "3.7.3"
  }
 },
 "nbformat": 4,
 "nbformat_minor": 2
}
