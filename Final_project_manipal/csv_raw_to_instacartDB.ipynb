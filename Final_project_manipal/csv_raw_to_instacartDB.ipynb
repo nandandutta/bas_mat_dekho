{
 "cells": [
  {
   "cell_type": "markdown",
   "metadata": {},
   "source": [
    "# ## Inserting raw csv Instacart data into sqlite database"
   ]
  },
  {
   "cell_type": "markdown",
   "metadata": {},
   "source": [
    "## Importing the libraries needed for this activity"
   ]
  },
  {
   "cell_type": "code",
   "execution_count": 1,
   "metadata": {},
   "outputs": [],
   "source": [
    "import pandas as pd\n",
    "import csv\n",
    "import sqlite3 as db\n",
    "from sqlite3 import Error"
   ]
  },
  {
   "cell_type": "markdown",
   "metadata": {},
   "source": [
    "## Define a function to create connection to sqlite database"
   ]
  },
  {
   "cell_type": "code",
   "execution_count": 2,
   "metadata": {},
   "outputs": [],
   "source": [
    "def create_connection(db_file):\n",
    "    \"\"\" create a database connection to a SQLite database \"\"\"\n",
    "    try:\n",
    "        conn = db.connect(db_file)\n",
    "        return conn\n",
    "    except Error as e:\n",
    "        print(e)\n",
    "        #conn.close()\n",
    "    return None"
   ]
  },
  {
   "cell_type": "markdown",
   "metadata": {},
   "source": [
    "## Define a function to Write records stored in a CSV to the SQLite database"
   ]
  },
  {
   "cell_type": "code",
   "execution_count": 3,
   "metadata": {},
   "outputs": [],
   "source": [
    "def insert_csv_data(conn, csvFile, table_name, sql=None):\n",
    "    \"\"\" Write records stored in a CSV to the SQLite database \"\"\"\n",
    "    cur = conn.cursor()\n",
    "    cur.execute(''' SELECT count(name) FROM sqlite_master WHERE type='table' AND name='{0}' '''.format(table_name))\n",
    "    #if the count is 1, then table exists\n",
    "    if cur.fetchone()[0] == 1:\n",
    "       \tprint('Table exists.')\n",
    "    else:\n",
    "        print('Table does not exist')\n",
    "        dataset_df = pd.read_csv(csvFile)\n",
    "        dataset_df.to_sql(name=table_name, con=conn, if_exists='fail', index = False)"
   ]
  },
  {
   "cell_type": "markdown",
   "metadata": {},
   "source": [
    "# ##Main execution"
   ]
  },
  {
   "cell_type": "code",
   "execution_count": 11,
   "metadata": {},
   "outputs": [
    {
     "name": "stdout",
     "output_type": "stream",
     "text": [
      " Volume in drive C is Windows\n",
      " Volume Serial Number is 0A54-81D5\n",
      "\n",
      " Directory of C:\\Users\\mohamed.h.osman\\dataScience_Workspace\\Nutrition\\Instacart\n",
      "\n",
      "08/03/2019  11:56 AM    <DIR>          .\n",
      "08/03/2019  11:56 AM    <DIR>          ..\n",
      "06/20/2018  05:38 AM             2,603 aisles.csv\n",
      "07/06/2019  04:47 PM             1,416 data_description.txt\n",
      "07/06/2019  04:47 PM               292 departments.csv\n",
      "06/20/2018  05:39 AM       108,968,645 orders.csv\n",
      "06/20/2018  05:38 AM       577,550,706 order_products__prior.csv\n",
      "07/06/2019  04:47 PM        26,064,765 order_products__train.csv\n",
      "07/06/2019  04:47 PM         2,216,642 products.csv\n",
      "               7 File(s)    714,805,069 bytes\n",
      "               2 Dir(s)  63,936,393,216 bytes free\n"
     ]
    }
   ],
   "source": [
    "!dir ..\\Instacart\\"
   ]
  },
  {
   "cell_type": "code",
   "execution_count": 12,
   "metadata": {},
   "outputs": [
    {
     "name": "stdout",
     "output_type": "stream",
     "text": [
      "Table does not exist\n",
      "Table does not exist\n",
      "Table does not exist\n",
      "Table does not exist\n",
      "Table does not exist\n",
      "Table does not exist\n"
     ]
    }
   ],
   "source": [
    "if __name__ == '__main__':\n",
    "    \n",
    "    database = '..\\\\database\\\\InstacartData.db'\n",
    "    path = '..\\\\Instacart\\\\'\n",
    "    datasetList = ['aisles','departments', 'products','orders','order_products__prior', 'order_products__train']\n",
    "    conn = create_connection(database)\n",
    "    if conn is not None:\n",
    "        for dataset in datasetList:\n",
    "            insert_csv_data(conn, path+dataset+'.csv', dataset)\n",
    "    else:\n",
    "        print(\"Error! cannot create the database connection.\")\n",
    "    conn.close()"
   ]
  }
 ],
 "metadata": {
  "kernelspec": {
   "display_name": "Python 3",
   "language": "python",
   "name": "python3"
  },
  "language_info": {
   "codemirror_mode": {
    "name": "ipython",
    "version": 3
   },
   "file_extension": ".py",
   "mimetype": "text/x-python",
   "name": "python",
   "nbconvert_exporter": "python",
   "pygments_lexer": "ipython3",
   "version": "3.7.3"
  }
 },
 "nbformat": 4,
 "nbformat_minor": 2
}
