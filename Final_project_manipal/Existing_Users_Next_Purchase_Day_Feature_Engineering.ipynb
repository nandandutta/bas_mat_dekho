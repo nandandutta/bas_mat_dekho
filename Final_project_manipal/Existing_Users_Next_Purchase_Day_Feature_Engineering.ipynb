{
 "cells": [
  {
   "cell_type": "markdown",
   "metadata": {},
   "source": [
    "# Import  libraries"
   ]
  },
  {
   "cell_type": "code",
   "execution_count": 4,
   "metadata": {},
   "outputs": [],
   "source": [
    "%matplotlib inline\n",
    "import os\n",
    "import matplotlib\n",
    "import numpy as np\n",
    "import pandas as pd \n",
    "import sqlite3 as db\n",
    "from sqlite3 import Error\n",
    "import seaborn as sns\n",
    "import matplotlib.pyplot as plt\n",
    "from pandas.plotting import scatter_matrix\n",
    "from scipy.stats import circmean,circvar "
   ]
  },
  {
   "cell_type": "markdown",
   "metadata": {},
   "source": [
    "# Connect to sqlite database where Instacart data is stored"
   ]
  },
  {
   "cell_type": "code",
   "execution_count": 5,
   "metadata": {},
   "outputs": [],
   "source": [
    "def create_connection(db_file):\n",
    "    \"\"\" create a database connection to a SQLite database \"\"\"\n",
    "    try:\n",
    "        conn = db.connect(db_file)\n",
    "        return conn\n",
    "    except Error as e:\n",
    "        print(e)\n",
    "        #conn.close()\n",
    "    return None\n",
    "database = '..\\\\database\\\\InstacartData.db'\n",
    "conn = create_connection(database)\n"
   ]
  },
  {
   "cell_type": "markdown",
   "metadata": {},
   "source": [
    "# Use days_since_prior_order from last Order for each user as our label\n",
    "(eval_set labeled == train or test)"
   ]
  },
  {
   "cell_type": "code",
   "execution_count": 4,
   "metadata": {},
   "outputs": [
    {
     "data": {
      "text/html": [
       "<div>\n",
       "<style scoped>\n",
       "    .dataframe tbody tr th:only-of-type {\n",
       "        vertical-align: middle;\n",
       "    }\n",
       "\n",
       "    .dataframe tbody tr th {\n",
       "        vertical-align: top;\n",
       "    }\n",
       "\n",
       "    .dataframe thead th {\n",
       "        text-align: right;\n",
       "    }\n",
       "</style>\n",
       "<table border=\"1\" class=\"dataframe\">\n",
       "  <thead>\n",
       "    <tr style=\"text-align: right;\">\n",
       "      <th></th>\n",
       "      <th>user_id</th>\n",
       "      <th>order_number</th>\n",
       "      <th>days_since_prior_order</th>\n",
       "    </tr>\n",
       "  </thead>\n",
       "  <tbody>\n",
       "    <tr>\n",
       "      <th>0</th>\n",
       "      <td>1</td>\n",
       "      <td>11</td>\n",
       "      <td>14.0</td>\n",
       "    </tr>\n",
       "    <tr>\n",
       "      <th>1</th>\n",
       "      <td>2</td>\n",
       "      <td>15</td>\n",
       "      <td>30.0</td>\n",
       "    </tr>\n",
       "    <tr>\n",
       "      <th>2</th>\n",
       "      <td>3</td>\n",
       "      <td>13</td>\n",
       "      <td>11.0</td>\n",
       "    </tr>\n",
       "    <tr>\n",
       "      <th>3</th>\n",
       "      <td>4</td>\n",
       "      <td>6</td>\n",
       "      <td>30.0</td>\n",
       "    </tr>\n",
       "    <tr>\n",
       "      <th>4</th>\n",
       "      <td>5</td>\n",
       "      <td>5</td>\n",
       "      <td>6.0</td>\n",
       "    </tr>\n",
       "  </tbody>\n",
       "</table>\n",
       "</div>"
      ],
      "text/plain": [
       "   user_id  order_number  days_since_prior_order\n",
       "0        1            11                    14.0\n",
       "1        2            15                    30.0\n",
       "2        3            13                    11.0\n",
       "3        4             6                    30.0\n",
       "4        5             5                     6.0"
      ]
     },
     "execution_count": 4,
     "metadata": {},
     "output_type": "execute_result"
    }
   ],
   "source": [
    "users_df = pd.read_sql('select user_id,order_number,days_since_prior_order from orders where eval_set in (\"train\",\"test\") ', conn)\n",
    "users_df.head()"
   ]
  },
  {
   "cell_type": "code",
   "execution_count": null,
   "metadata": {},
   "outputs": [],
   "source": [
    "users_df = users_df.rename(columns={'days_since_prior_order':'next_purchase_day'})\n",
    "users_df = users_df.drop('order_number',axis=1)\n",
    "users_df.head()"
   ]
  },
  {
   "cell_type": "markdown",
   "metadata": {},
   "source": [
    "Now, we can use days_since_prior_order of the last order as our target label"
   ]
  },
  {
   "cell_type": "markdown",
   "metadata": {},
   "source": [
    "# Load order_products_prior/orders datasets and the products/depatments/aisles datasets into Dataframes and merge them"
   ]
  },
  {
   "cell_type": "code",
   "execution_count": null,
   "metadata": {},
   "outputs": [],
   "source": [
    "user_order_product_df = pd.read_sql('select * from order_products__prior op join orders o on o.order_id = op.order_id' , conn)\n",
    "user_order_product_df.head()"
   ]
  },
  {
   "cell_type": "code",
   "execution_count": null,
   "metadata": {},
   "outputs": [],
   "source": [
    "products_df = pd.read_sql('select * from products p join departments d on p.department_id = d.department_id join aisles a on p.aisle_id = a.aisle_id',conn)\n",
    "products_df.head()"
   ]
  },
  {
   "cell_type": "code",
   "execution_count": null,
   "metadata": {},
   "outputs": [],
   "source": [
    "user_order_product_df = pd.merge(user_order_product_df,products_df[['product_id','department_id','aisle_id']],on='product_id')\n",
    "user_order_product_df.head()"
   ]
  },
  {
   "cell_type": "markdown",
   "metadata": {},
   "source": [
    "cleanup user_order_product_df dataset"
   ]
  },
  {
   "cell_type": "code",
   "execution_count": null,
   "metadata": {},
   "outputs": [],
   "source": [
    "user_order_product_df=user_order_product_df.loc[:,~user_order_product_df.columns.duplicated()]\n",
    "user_order_product_df.head()"
   ]
  },
  {
   "cell_type": "markdown",
   "metadata": {},
   "source": [
    "# Get total order of prior set of order for each user"
   ]
  },
  {
   "cell_type": "code",
   "execution_count": null,
   "metadata": {},
   "outputs": [],
   "source": [
    "users_df['user_total_prior_orders'] = list(user_order_product_df.groupby(['user_id'])['order_number'].max())\n",
    "users_df.head()"
   ]
  },
  {
   "cell_type": "markdown",
   "metadata": {},
   "source": [
    "Check the Distribution of next_purchase_day vs number of users"
   ]
  },
  {
   "cell_type": "code",
   "execution_count": null,
   "metadata": {},
   "outputs": [],
   "source": [
    "users_df[['user_total_prior_orders','next_purchase_day']].hist(figsize=(20,10)) # Histogram for all features"
   ]
  },
  {
   "cell_type": "code",
   "execution_count": null,
   "metadata": {},
   "outputs": [],
   "source": [
    "plt.figure(figsize=(20,8))\n",
    "sns.countplot(x=users_df.next_purchase_day)\n",
    "\n",
    "plt.title(\"Distribution of next_purchase_day\", fontsize=10)\n",
    "plt.xlabel('', fontsize=16)\n",
    "plt.xticks(fontsize=12,rotation='vertical')\n",
    "plt.ylabel('Number of Users', fontsize=16)\n",
    "plt.yticks(fontsize=15)\n",
    ";"
   ]
  },
  {
   "cell_type": "code",
   "execution_count": null,
   "metadata": {},
   "outputs": [],
   "source": [
    "users_df.describe()"
   ]
  },
  {
   "cell_type": "markdown",
   "metadata": {},
   "source": [
    "# Create more Features"
   ]
  },
  {
   "cell_type": "markdown",
   "metadata": {},
   "source": [
    "Get total number of products for each order for each user and merge with user_id, days_since_prior_order, order dow, order_hour_of_day"
   ]
  },
  {
   "cell_type": "code",
   "execution_count": null,
   "metadata": {},
   "outputs": [],
   "source": [
    "prior_products_per_order = user_order_product_df.groupby(['order_id']).size().reset_index().rename(columns={0:'total_products'})\n",
    "prior_products_per_order.head()"
   ]
  },
  {
   "cell_type": "code",
   "execution_count": null,
   "metadata": {},
   "outputs": [],
   "source": [
    "prior_products_per_order = pd.merge(prior_products_per_order,user_order_product_df[['order_id','user_id','order_number','order_dow','order_hour_of_day','days_since_prior_order']],on=['order_id'])\n",
    "prior_products_per_order = prior_products_per_order.drop_duplicates()\n",
    "prior_products_per_order = prior_products_per_order.loc[:,~prior_products_per_order.columns.duplicated()]\n",
    "prior_products_per_order.head()"
   ]
  },
  {
   "cell_type": "code",
   "execution_count": null,
   "metadata": {},
   "outputs": [],
   "source": [
    "prior_products_per_order = prior_products_per_order.reset_index(drop=True)\n",
    "prior_products_per_order.head()"
   ]
  },
  {
   "cell_type": "markdown",
   "metadata": {},
   "source": [
    "# Get Number of products metrics for each user from prior orders"
   ]
  },
  {
   "cell_type": "code",
   "execution_count": null,
   "metadata": {},
   "outputs": [],
   "source": [
    "users_df['total_prior_products_count'] = list(prior_products_per_order.groupby(['user_id'])['total_products'].agg('sum'))\n",
    "users_df['total_prior_products_count_min'] = list(prior_products_per_order.groupby(['user_id'])['total_products'].min())\n",
    "users_df['total_prior_products_count_mean'] = list(prior_products_per_order.groupby(['user_id'])['total_products'].mean())\n",
    "users_df['total_prior_products_count_std'] = list(prior_products_per_order.groupby(['user_id'])['total_products'].std())\n",
    "users_df['total_prior_products_count_max'] = list(prior_products_per_order.groupby(['user_id'])['total_products'].max())\n",
    "users_df.head()"
   ]
  },
  {
   "cell_type": "markdown",
   "metadata": {},
   "source": [
    "# Get inactive days metrics for each user from prior orders"
   ]
  },
  {
   "cell_type": "code",
   "execution_count": null,
   "metadata": {},
   "outputs": [],
   "source": [
    "users_df['total_inactive_days'] = list(prior_products_per_order.groupby('user_id')['days_since_prior_order'].agg('sum'))\n",
    "users_df['inactive_days_min'] = list(prior_products_per_order.groupby(['user_id'])['days_since_prior_order'].min())\n",
    "users_df['inactive_days_mean'] = list(prior_products_per_order.groupby(['user_id'])['days_since_prior_order'].mean())\n",
    "users_df['inactive_days_std'] = list(prior_products_per_order.groupby(['user_id'])['days_since_prior_order'].std())\n",
    "users_df['inactive_days_max'] = list(prior_products_per_order.groupby(['user_id'])['days_since_prior_order'].max())\n",
    "\n",
    "users_df.head()"
   ]
  },
  {
   "cell_type": "markdown",
   "metadata": {},
   "source": [
    "# Get count of unique products purchased by user"
   ]
  },
  {
   "cell_type": "code",
   "execution_count": null,
   "metadata": {},
   "outputs": [],
   "source": [
    "users_df['unique_products_count'] = list(user_order_product_df.groupby('user_id')['product_id'].nunique().apply(pd.to_numeric, downcast='unsigned'))\n",
    "users_df.head()     "
   ]
  },
  {
   "cell_type": "markdown",
   "metadata": {},
   "source": [
    "# Get metrics of reordered products for each user"
   ]
  },
  {
   "cell_type": "code",
   "execution_count": null,
   "metadata": {},
   "outputs": [],
   "source": [
    "prior_products_per_order['reordered_products_count'] = list(user_order_product_df.groupby('order_id')['reordered'].agg('sum'))\n",
    "prior_products_per_order.head()"
   ]
  },
  {
   "cell_type": "code",
   "execution_count": null,
   "metadata": {},
   "outputs": [],
   "source": [
    "users_df['total_reordered_products_count'] = list(prior_products_per_order.groupby('user_id')['reordered_products_count'].agg('sum'))\n",
    "users_df['reordered_products_max'] = list(prior_products_per_order.groupby('user_id')['reordered_products_count'].agg('max'))\n",
    "users_df['reordered_products_mean'] = list(prior_products_per_order[prior_products_per_order.order_number>1].groupby('user_id')['reordered_products_count'].agg('mean'))\n",
    "users_df['reordered_products_std'] = list(prior_products_per_order[prior_products_per_order.order_number>1].groupby('user_id')['reordered_products_count'].agg('std'))\n",
    "users_df['reordered_products_min'] = list(prior_products_per_order[prior_products_per_order.order_number>1].groupby('user_id')['reordered_products_count'].agg('min'))\n",
    "users_df.head()"
   ]
  },
  {
   "cell_type": "code",
   "execution_count": null,
   "metadata": {},
   "outputs": [],
   "source": [
    "users_df['reordered_products_ratio'] = list(users_df['total_reordered_products_count']/users_df['total_prior_products_count'])\n",
    "users_df.head()"
   ]
  },
  {
   "cell_type": "markdown",
   "metadata": {},
   "source": [
    "# Get preferred day of the week to purchase for each user from prior orders"
   ]
  },
  {
   "cell_type": "markdown",
   "metadata": {},
   "source": [
    "cyclical encoding\n",
    "http://blog.davidkaleko.com/feature-engineering-cyclical-features.html\n",
    "https://stats.stackexchange.com/questions/126230/optimal-construction-of-day-feature-in-neural-networks"
   ]
  },
  {
   "cell_type": "code",
   "execution_count": null,
   "metadata": {},
   "outputs": [],
   "source": [
    "prior_products_per_order['sin_dow'] = np.sin(2*np.pi*prior_products_per_order.order_dow/7)\n",
    "prior_products_per_order['cos_dow'] = np.cos(2*np.pi*prior_products_per_order.order_dow/7)\n",
    "prior_products_per_order.head()"
   ]
  },
  {
   "cell_type": "code",
   "execution_count": null,
   "metadata": {},
   "outputs": [],
   "source": [
    "users_df['sin_dow_mean'] = list(prior_products_per_order.groupby('user_id')['sin_dow'].aggregate(circmean))\n",
    "users_df['cos_dow_mean'] = list(prior_products_per_order.groupby('user_id')['cos_dow'].aggregate(circmean))\n",
    "users_df.head()"
   ]
  },
  {
   "cell_type": "code",
   "execution_count": null,
   "metadata": {},
   "outputs": [],
   "source": [
    "users_df['sin_dow_var'] = list(prior_products_per_order.groupby('user_id')['sin_dow'].aggregate(circvar))\n",
    "users_df['cos_dow_var'] = list(prior_products_per_order.groupby('user_id')['cos_dow'].aggregate(circvar))\n",
    "users_df.head()"
   ]
  },
  {
   "cell_type": "code",
   "execution_count": 5,
   "metadata": {},
   "outputs": [],
   "source": [
    "prior_products_per_order = pd.read_csv('prior_products_per_order.csv')\n",
    "user_order_product_df = pd.read_csv('user_order_product_df.csv')"
   ]
  },
  {
   "cell_type": "code",
   "execution_count": 6,
   "metadata": {},
   "outputs": [
    {
     "data": {
      "text/html": [
       "<div>\n",
       "<style scoped>\n",
       "    .dataframe tbody tr th:only-of-type {\n",
       "        vertical-align: middle;\n",
       "    }\n",
       "\n",
       "    .dataframe tbody tr th {\n",
       "        vertical-align: top;\n",
       "    }\n",
       "\n",
       "    .dataframe thead th {\n",
       "        text-align: right;\n",
       "    }\n",
       "</style>\n",
       "<table border=\"1\" class=\"dataframe\">\n",
       "  <thead>\n",
       "    <tr style=\"text-align: right;\">\n",
       "      <th></th>\n",
       "      <th>Unnamed: 0</th>\n",
       "      <th>order_id</th>\n",
       "      <th>product_id</th>\n",
       "      <th>add_to_cart_order</th>\n",
       "      <th>reordered</th>\n",
       "      <th>user_id</th>\n",
       "      <th>eval_set</th>\n",
       "      <th>order_number</th>\n",
       "      <th>order_dow</th>\n",
       "      <th>order_hour_of_day</th>\n",
       "      <th>days_since_prior_order</th>\n",
       "      <th>department_id</th>\n",
       "      <th>aisle_id</th>\n",
       "      <th>is_perishable_products</th>\n",
       "      <th>is_food_product</th>\n",
       "      <th>is_non_food_product</th>\n",
       "    </tr>\n",
       "  </thead>\n",
       "  <tbody>\n",
       "    <tr>\n",
       "      <th>0</th>\n",
       "      <td>0</td>\n",
       "      <td>2</td>\n",
       "      <td>33120</td>\n",
       "      <td>1</td>\n",
       "      <td>1</td>\n",
       "      <td>202279</td>\n",
       "      <td>prior</td>\n",
       "      <td>3</td>\n",
       "      <td>5</td>\n",
       "      <td>9</td>\n",
       "      <td>8.0</td>\n",
       "      <td>16</td>\n",
       "      <td>86</td>\n",
       "      <td>1</td>\n",
       "      <td>1</td>\n",
       "      <td>0</td>\n",
       "    </tr>\n",
       "    <tr>\n",
       "      <th>1</th>\n",
       "      <td>1</td>\n",
       "      <td>26</td>\n",
       "      <td>33120</td>\n",
       "      <td>5</td>\n",
       "      <td>0</td>\n",
       "      <td>153404</td>\n",
       "      <td>prior</td>\n",
       "      <td>2</td>\n",
       "      <td>0</td>\n",
       "      <td>16</td>\n",
       "      <td>7.0</td>\n",
       "      <td>16</td>\n",
       "      <td>86</td>\n",
       "      <td>1</td>\n",
       "      <td>1</td>\n",
       "      <td>0</td>\n",
       "    </tr>\n",
       "    <tr>\n",
       "      <th>2</th>\n",
       "      <td>2</td>\n",
       "      <td>120</td>\n",
       "      <td>33120</td>\n",
       "      <td>13</td>\n",
       "      <td>0</td>\n",
       "      <td>23750</td>\n",
       "      <td>prior</td>\n",
       "      <td>11</td>\n",
       "      <td>6</td>\n",
       "      <td>8</td>\n",
       "      <td>10.0</td>\n",
       "      <td>16</td>\n",
       "      <td>86</td>\n",
       "      <td>1</td>\n",
       "      <td>1</td>\n",
       "      <td>0</td>\n",
       "    </tr>\n",
       "    <tr>\n",
       "      <th>3</th>\n",
       "      <td>3</td>\n",
       "      <td>327</td>\n",
       "      <td>33120</td>\n",
       "      <td>5</td>\n",
       "      <td>1</td>\n",
       "      <td>58707</td>\n",
       "      <td>prior</td>\n",
       "      <td>21</td>\n",
       "      <td>6</td>\n",
       "      <td>9</td>\n",
       "      <td>8.0</td>\n",
       "      <td>16</td>\n",
       "      <td>86</td>\n",
       "      <td>1</td>\n",
       "      <td>1</td>\n",
       "      <td>0</td>\n",
       "    </tr>\n",
       "    <tr>\n",
       "      <th>4</th>\n",
       "      <td>4</td>\n",
       "      <td>390</td>\n",
       "      <td>33120</td>\n",
       "      <td>28</td>\n",
       "      <td>1</td>\n",
       "      <td>166654</td>\n",
       "      <td>prior</td>\n",
       "      <td>48</td>\n",
       "      <td>0</td>\n",
       "      <td>12</td>\n",
       "      <td>9.0</td>\n",
       "      <td>16</td>\n",
       "      <td>86</td>\n",
       "      <td>1</td>\n",
       "      <td>1</td>\n",
       "      <td>0</td>\n",
       "    </tr>\n",
       "  </tbody>\n",
       "</table>\n",
       "</div>"
      ],
      "text/plain": [
       "   Unnamed: 0  order_id  product_id  add_to_cart_order  reordered  user_id  \\\n",
       "0           0         2       33120                  1          1   202279   \n",
       "1           1        26       33120                  5          0   153404   \n",
       "2           2       120       33120                 13          0    23750   \n",
       "3           3       327       33120                  5          1    58707   \n",
       "4           4       390       33120                 28          1   166654   \n",
       "\n",
       "  eval_set  order_number  order_dow  order_hour_of_day  \\\n",
       "0    prior             3          5                  9   \n",
       "1    prior             2          0                 16   \n",
       "2    prior            11          6                  8   \n",
       "3    prior            21          6                  9   \n",
       "4    prior            48          0                 12   \n",
       "\n",
       "   days_since_prior_order  department_id  aisle_id  is_perishable_products  \\\n",
       "0                     8.0             16        86                       1   \n",
       "1                     7.0             16        86                       1   \n",
       "2                    10.0             16        86                       1   \n",
       "3                     8.0             16        86                       1   \n",
       "4                     9.0             16        86                       1   \n",
       "\n",
       "   is_food_product  is_non_food_product  \n",
       "0                1                    0  \n",
       "1                1                    0  \n",
       "2                1                    0  \n",
       "3                1                    0  \n",
       "4                1                    0  "
      ]
     },
     "execution_count": 6,
     "metadata": {},
     "output_type": "execute_result"
    }
   ],
   "source": [
    "user_order_product_df.head()"
   ]
  },
  {
   "cell_type": "code",
   "execution_count": 7,
   "metadata": {},
   "outputs": [
    {
     "data": {
      "text/html": [
       "<div>\n",
       "<style scoped>\n",
       "    .dataframe tbody tr th:only-of-type {\n",
       "        vertical-align: middle;\n",
       "    }\n",
       "\n",
       "    .dataframe tbody tr th {\n",
       "        vertical-align: top;\n",
       "    }\n",
       "\n",
       "    .dataframe thead th {\n",
       "        text-align: right;\n",
       "    }\n",
       "</style>\n",
       "<table border=\"1\" class=\"dataframe\">\n",
       "  <thead>\n",
       "    <tr style=\"text-align: right;\">\n",
       "      <th></th>\n",
       "      <th>Unnamed: 0</th>\n",
       "      <th>order_id</th>\n",
       "      <th>total_products</th>\n",
       "      <th>user_id</th>\n",
       "      <th>order_number</th>\n",
       "      <th>order_dow</th>\n",
       "      <th>order_hour_of_day</th>\n",
       "      <th>days_since_prior_order</th>\n",
       "      <th>is_weekend</th>\n",
       "      <th>ordered in morning/afternoon/night</th>\n",
       "      <th>first_prod_dept_add_to_cart</th>\n",
       "    </tr>\n",
       "  </thead>\n",
       "  <tbody>\n",
       "    <tr>\n",
       "      <th>0</th>\n",
       "      <td>0</td>\n",
       "      <td>2</td>\n",
       "      <td>9</td>\n",
       "      <td>202279</td>\n",
       "      <td>3</td>\n",
       "      <td>5</td>\n",
       "      <td>9</td>\n",
       "      <td>8.0</td>\n",
       "      <td>0</td>\n",
       "      <td>0</td>\n",
       "      <td>16</td>\n",
       "    </tr>\n",
       "    <tr>\n",
       "      <th>1</th>\n",
       "      <td>1</td>\n",
       "      <td>3</td>\n",
       "      <td>8</td>\n",
       "      <td>205970</td>\n",
       "      <td>16</td>\n",
       "      <td>5</td>\n",
       "      <td>17</td>\n",
       "      <td>12.0</td>\n",
       "      <td>0</td>\n",
       "      <td>1</td>\n",
       "      <td>16</td>\n",
       "    </tr>\n",
       "    <tr>\n",
       "      <th>2</th>\n",
       "      <td>2</td>\n",
       "      <td>4</td>\n",
       "      <td>13</td>\n",
       "      <td>178520</td>\n",
       "      <td>36</td>\n",
       "      <td>1</td>\n",
       "      <td>9</td>\n",
       "      <td>7.0</td>\n",
       "      <td>1</td>\n",
       "      <td>0</td>\n",
       "      <td>3</td>\n",
       "    </tr>\n",
       "    <tr>\n",
       "      <th>3</th>\n",
       "      <td>3</td>\n",
       "      <td>5</td>\n",
       "      <td>26</td>\n",
       "      <td>156122</td>\n",
       "      <td>42</td>\n",
       "      <td>6</td>\n",
       "      <td>16</td>\n",
       "      <td>9.0</td>\n",
       "      <td>0</td>\n",
       "      <td>1</td>\n",
       "      <td>4</td>\n",
       "    </tr>\n",
       "    <tr>\n",
       "      <th>4</th>\n",
       "      <td>4</td>\n",
       "      <td>6</td>\n",
       "      <td>3</td>\n",
       "      <td>22352</td>\n",
       "      <td>4</td>\n",
       "      <td>1</td>\n",
       "      <td>12</td>\n",
       "      <td>30.0</td>\n",
       "      <td>1</td>\n",
       "      <td>0</td>\n",
       "      <td>7</td>\n",
       "    </tr>\n",
       "  </tbody>\n",
       "</table>\n",
       "</div>"
      ],
      "text/plain": [
       "   Unnamed: 0  order_id  total_products  user_id  order_number  order_dow  \\\n",
       "0           0         2               9   202279             3          5   \n",
       "1           1         3               8   205970            16          5   \n",
       "2           2         4              13   178520            36          1   \n",
       "3           3         5              26   156122            42          6   \n",
       "4           4         6               3    22352             4          1   \n",
       "\n",
       "   order_hour_of_day  days_since_prior_order  is_weekend  \\\n",
       "0                  9                     8.0           0   \n",
       "1                 17                    12.0           0   \n",
       "2                  9                     7.0           1   \n",
       "3                 16                     9.0           0   \n",
       "4                 12                    30.0           1   \n",
       "\n",
       "   ordered in morning/afternoon/night  first_prod_dept_add_to_cart  \n",
       "0                                   0                           16  \n",
       "1                                   1                           16  \n",
       "2                                   0                            3  \n",
       "3                                   1                            4  \n",
       "4                                   0                            7  "
      ]
     },
     "execution_count": 7,
     "metadata": {},
     "output_type": "execute_result"
    }
   ],
   "source": [
    "prior_products_per_order.head()"
   ]
  },
  {
   "cell_type": "markdown",
   "metadata": {},
   "source": [
    "dow > 0=Saturday, 1=Sunday, 2=Monday, 3=Tuesday, 4=Wednesday, 5=Thursday, 6=Friday\n",
    "here we split the week to 1:weekends (0=Saturday , 1=Sunday) and 0:weekday(2 to 6 == Monday to Friday)\n"
   ]
  },
  {
   "cell_type": "code",
   "execution_count": 8,
   "metadata": {},
   "outputs": [
    {
     "data": {
      "text/html": [
       "<div>\n",
       "<style scoped>\n",
       "    .dataframe tbody tr th:only-of-type {\n",
       "        vertical-align: middle;\n",
       "    }\n",
       "\n",
       "    .dataframe tbody tr th {\n",
       "        vertical-align: top;\n",
       "    }\n",
       "\n",
       "    .dataframe thead th {\n",
       "        text-align: right;\n",
       "    }\n",
       "</style>\n",
       "<table border=\"1\" class=\"dataframe\">\n",
       "  <thead>\n",
       "    <tr style=\"text-align: right;\">\n",
       "      <th></th>\n",
       "      <th>user_id</th>\n",
       "      <th>next_purchase_day</th>\n",
       "      <th>user_total_prior_orders</th>\n",
       "      <th>next_purchase_day_class</th>\n",
       "      <th>total_prior_products_count_std</th>\n",
       "      <th>total_prior_products_count_min</th>\n",
       "      <th>total_prior_products_count_mean</th>\n",
       "      <th>total_prior_products_count_max</th>\n",
       "      <th>total_inactive_days</th>\n",
       "      <th>inactive_days_min</th>\n",
       "      <th>...</th>\n",
       "      <th>reordered_products_max</th>\n",
       "      <th>reordered_products_mean</th>\n",
       "      <th>reordered_products_std</th>\n",
       "      <th>reordered_products_min</th>\n",
       "      <th>reordered_products_ratio</th>\n",
       "      <th>sin_dow_mean</th>\n",
       "      <th>cos_dow_mean</th>\n",
       "      <th>sin_dow_var</th>\n",
       "      <th>cos_dow_var</th>\n",
       "      <th>preferred_day_of_week</th>\n",
       "    </tr>\n",
       "  </thead>\n",
       "  <tbody>\n",
       "    <tr>\n",
       "      <th>0</th>\n",
       "      <td>1</td>\n",
       "      <td>14</td>\n",
       "      <td>10</td>\n",
       "      <td>0</td>\n",
       "      <td>1.523884</td>\n",
       "      <td>4</td>\n",
       "      <td>5.900000</td>\n",
       "      <td>9</td>\n",
       "      <td>176</td>\n",
       "      <td>0</td>\n",
       "      <td>...</td>\n",
       "      <td>6</td>\n",
       "      <td>4.555556</td>\n",
       "      <td>1.130388</td>\n",
       "      <td>3</td>\n",
       "      <td>0.694915</td>\n",
       "      <td>0.406078</td>\n",
       "      <td>-0.335216</td>\n",
       "      <td>0.152256</td>\n",
       "      <td>0.206802</td>\n",
       "      <td>2.5</td>\n",
       "    </tr>\n",
       "    <tr>\n",
       "      <th>1</th>\n",
       "      <td>2</td>\n",
       "      <td>30</td>\n",
       "      <td>14</td>\n",
       "      <td>0</td>\n",
       "      <td>5.717238</td>\n",
       "      <td>5</td>\n",
       "      <td>13.928571</td>\n",
       "      <td>26</td>\n",
       "      <td>198</td>\n",
       "      <td>3</td>\n",
       "      <td>...</td>\n",
       "      <td>14</td>\n",
       "      <td>7.153846</td>\n",
       "      <td>5.145324</td>\n",
       "      <td>0</td>\n",
       "      <td>0.476923</td>\n",
       "      <td>0.645213</td>\n",
       "      <td>-0.064170</td>\n",
       "      <td>0.138401</td>\n",
       "      <td>0.157277</td>\n",
       "      <td>1.5</td>\n",
       "    </tr>\n",
       "    <tr>\n",
       "      <th>2</th>\n",
       "      <td>3</td>\n",
       "      <td>11</td>\n",
       "      <td>12</td>\n",
       "      <td>0</td>\n",
       "      <td>2.103388</td>\n",
       "      <td>5</td>\n",
       "      <td>7.333333</td>\n",
       "      <td>11</td>\n",
       "      <td>133</td>\n",
       "      <td>7</td>\n",
       "      <td>...</td>\n",
       "      <td>7</td>\n",
       "      <td>5.000000</td>\n",
       "      <td>1.949359</td>\n",
       "      <td>1</td>\n",
       "      <td>0.625000</td>\n",
       "      <td>0.315896</td>\n",
       "      <td>0.441856</td>\n",
       "      <td>0.061697</td>\n",
       "      <td>0.289846</td>\n",
       "      <td>0.0</td>\n",
       "    </tr>\n",
       "    <tr>\n",
       "      <th>3</th>\n",
       "      <td>4</td>\n",
       "      <td>30</td>\n",
       "      <td>5</td>\n",
       "      <td>0</td>\n",
       "      <td>2.073644</td>\n",
       "      <td>2</td>\n",
       "      <td>3.600000</td>\n",
       "      <td>7</td>\n",
       "      <td>55</td>\n",
       "      <td>0</td>\n",
       "      <td>...</td>\n",
       "      <td>1</td>\n",
       "      <td>0.250000</td>\n",
       "      <td>0.500000</td>\n",
       "      <td>0</td>\n",
       "      <td>0.055556</td>\n",
       "      <td>-0.720348</td>\n",
       "      <td>-0.341978</td>\n",
       "      <td>0.029571</td>\n",
       "      <td>0.149928</td>\n",
       "      <td>4.5</td>\n",
       "    </tr>\n",
       "    <tr>\n",
       "      <th>4</th>\n",
       "      <td>5</td>\n",
       "      <td>6</td>\n",
       "      <td>4</td>\n",
       "      <td>0</td>\n",
       "      <td>3.095696</td>\n",
       "      <td>5</td>\n",
       "      <td>9.250000</td>\n",
       "      <td>12</td>\n",
       "      <td>40</td>\n",
       "      <td>10</td>\n",
       "      <td>...</td>\n",
       "      <td>8</td>\n",
       "      <td>4.666667</td>\n",
       "      <td>3.055050</td>\n",
       "      <td>2</td>\n",
       "      <td>0.378378</td>\n",
       "      <td>0.413242</td>\n",
       "      <td>-0.054888</td>\n",
       "      <td>0.037941</td>\n",
       "      <td>0.350560</td>\n",
       "      <td>3.0</td>\n",
       "    </tr>\n",
       "  </tbody>\n",
       "</table>\n",
       "<p>5 rows × 26 columns</p>\n",
       "</div>"
      ],
      "text/plain": [
       "   user_id  next_purchase_day  user_total_prior_orders  \\\n",
       "0        1                 14                       10   \n",
       "1        2                 30                       14   \n",
       "2        3                 11                       12   \n",
       "3        4                 30                        5   \n",
       "4        5                  6                        4   \n",
       "\n",
       "   next_purchase_day_class  total_prior_products_count_std  \\\n",
       "0                        0                        1.523884   \n",
       "1                        0                        5.717238   \n",
       "2                        0                        2.103388   \n",
       "3                        0                        2.073644   \n",
       "4                        0                        3.095696   \n",
       "\n",
       "   total_prior_products_count_min  total_prior_products_count_mean  \\\n",
       "0                               4                         5.900000   \n",
       "1                               5                        13.928571   \n",
       "2                               5                         7.333333   \n",
       "3                               2                         3.600000   \n",
       "4                               5                         9.250000   \n",
       "\n",
       "   total_prior_products_count_max  total_inactive_days  inactive_days_min  \\\n",
       "0                               9                  176                  0   \n",
       "1                              26                  198                  3   \n",
       "2                              11                  133                  7   \n",
       "3                               7                   55                  0   \n",
       "4                              12                   40                 10   \n",
       "\n",
       "   ...  reordered_products_max  reordered_products_mean  \\\n",
       "0  ...                       6                 4.555556   \n",
       "1  ...                      14                 7.153846   \n",
       "2  ...                       7                 5.000000   \n",
       "3  ...                       1                 0.250000   \n",
       "4  ...                       8                 4.666667   \n",
       "\n",
       "   reordered_products_std  reordered_products_min  reordered_products_ratio  \\\n",
       "0                1.130388                       3                  0.694915   \n",
       "1                5.145324                       0                  0.476923   \n",
       "2                1.949359                       1                  0.625000   \n",
       "3                0.500000                       0                  0.055556   \n",
       "4                3.055050                       2                  0.378378   \n",
       "\n",
       "   sin_dow_mean  cos_dow_mean  sin_dow_var  cos_dow_var  preferred_day_of_week  \n",
       "0      0.406078     -0.335216     0.152256     0.206802                    2.5  \n",
       "1      0.645213     -0.064170     0.138401     0.157277                    1.5  \n",
       "2      0.315896      0.441856     0.061697     0.289846                    0.0  \n",
       "3     -0.720348     -0.341978     0.029571     0.149928                    4.5  \n",
       "4      0.413242     -0.054888     0.037941     0.350560                    3.0  \n",
       "\n",
       "[5 rows x 26 columns]"
      ]
     },
     "execution_count": 8,
     "metadata": {},
     "output_type": "execute_result"
    }
   ],
   "source": [
    "users_df['preferred_day_of_week'] = (\n",
    "    list(prior_products_per_order.groupby('user_id')\n",
    "    ['order_dow']\n",
    "    .apply(lambda x: x.mode().median())\n",
    "))\n",
    "users_df.head()"
   ]
  },
  {
   "cell_type": "code",
   "execution_count": null,
   "metadata": {},
   "outputs": [],
   "source": [
    "prior_products_per_order['is_weekend'] = np.where(prior_products_per_order['order_dow'].isin([0,1]),1,0)\n",
    "prior_products_per_order.head()"
   ]
  },
  {
   "cell_type": "markdown",
   "metadata": {},
   "source": [
    "Now here we get the most day of the week (weekend or weekday) each user made an order by getting the mode of \"is_weekend\" column 1:weekends and 0:weekday"
   ]
  },
  {
   "cell_type": "code",
   "execution_count": 9,
   "metadata": {},
   "outputs": [
    {
     "data": {
      "text/html": [
       "<div>\n",
       "<style scoped>\n",
       "    .dataframe tbody tr th:only-of-type {\n",
       "        vertical-align: middle;\n",
       "    }\n",
       "\n",
       "    .dataframe tbody tr th {\n",
       "        vertical-align: top;\n",
       "    }\n",
       "\n",
       "    .dataframe thead th {\n",
       "        text-align: right;\n",
       "    }\n",
       "</style>\n",
       "<table border=\"1\" class=\"dataframe\">\n",
       "  <thead>\n",
       "    <tr style=\"text-align: right;\">\n",
       "      <th></th>\n",
       "      <th>user_id</th>\n",
       "      <th>next_purchase_day</th>\n",
       "      <th>user_total_prior_orders</th>\n",
       "      <th>next_purchase_day_class</th>\n",
       "      <th>total_prior_products_count_std</th>\n",
       "      <th>total_prior_products_count_min</th>\n",
       "      <th>total_prior_products_count_mean</th>\n",
       "      <th>total_prior_products_count_max</th>\n",
       "      <th>total_inactive_days</th>\n",
       "      <th>inactive_days_min</th>\n",
       "      <th>...</th>\n",
       "      <th>reordered_products_mean</th>\n",
       "      <th>reordered_products_std</th>\n",
       "      <th>reordered_products_min</th>\n",
       "      <th>reordered_products_ratio</th>\n",
       "      <th>sin_dow_mean</th>\n",
       "      <th>cos_dow_mean</th>\n",
       "      <th>sin_dow_var</th>\n",
       "      <th>cos_dow_var</th>\n",
       "      <th>preferred_day_of_week</th>\n",
       "      <th>is_weekend_preferred</th>\n",
       "    </tr>\n",
       "  </thead>\n",
       "  <tbody>\n",
       "    <tr>\n",
       "      <th>0</th>\n",
       "      <td>1</td>\n",
       "      <td>14</td>\n",
       "      <td>10</td>\n",
       "      <td>0</td>\n",
       "      <td>1.523884</td>\n",
       "      <td>4</td>\n",
       "      <td>5.900000</td>\n",
       "      <td>9</td>\n",
       "      <td>176</td>\n",
       "      <td>0</td>\n",
       "      <td>...</td>\n",
       "      <td>4.555556</td>\n",
       "      <td>1.130388</td>\n",
       "      <td>3</td>\n",
       "      <td>0.694915</td>\n",
       "      <td>0.406078</td>\n",
       "      <td>-0.335216</td>\n",
       "      <td>0.152256</td>\n",
       "      <td>0.206802</td>\n",
       "      <td>2.5</td>\n",
       "      <td>0.0</td>\n",
       "    </tr>\n",
       "    <tr>\n",
       "      <th>1</th>\n",
       "      <td>2</td>\n",
       "      <td>30</td>\n",
       "      <td>14</td>\n",
       "      <td>0</td>\n",
       "      <td>5.717238</td>\n",
       "      <td>5</td>\n",
       "      <td>13.928571</td>\n",
       "      <td>26</td>\n",
       "      <td>198</td>\n",
       "      <td>3</td>\n",
       "      <td>...</td>\n",
       "      <td>7.153846</td>\n",
       "      <td>5.145324</td>\n",
       "      <td>0</td>\n",
       "      <td>0.476923</td>\n",
       "      <td>0.645213</td>\n",
       "      <td>-0.064170</td>\n",
       "      <td>0.138401</td>\n",
       "      <td>0.157277</td>\n",
       "      <td>1.5</td>\n",
       "      <td>0.0</td>\n",
       "    </tr>\n",
       "    <tr>\n",
       "      <th>2</th>\n",
       "      <td>3</td>\n",
       "      <td>11</td>\n",
       "      <td>12</td>\n",
       "      <td>0</td>\n",
       "      <td>2.103388</td>\n",
       "      <td>5</td>\n",
       "      <td>7.333333</td>\n",
       "      <td>11</td>\n",
       "      <td>133</td>\n",
       "      <td>7</td>\n",
       "      <td>...</td>\n",
       "      <td>5.000000</td>\n",
       "      <td>1.949359</td>\n",
       "      <td>1</td>\n",
       "      <td>0.625000</td>\n",
       "      <td>0.315896</td>\n",
       "      <td>0.441856</td>\n",
       "      <td>0.061697</td>\n",
       "      <td>0.289846</td>\n",
       "      <td>0.0</td>\n",
       "      <td>1.0</td>\n",
       "    </tr>\n",
       "    <tr>\n",
       "      <th>3</th>\n",
       "      <td>4</td>\n",
       "      <td>30</td>\n",
       "      <td>5</td>\n",
       "      <td>0</td>\n",
       "      <td>2.073644</td>\n",
       "      <td>2</td>\n",
       "      <td>3.600000</td>\n",
       "      <td>7</td>\n",
       "      <td>55</td>\n",
       "      <td>0</td>\n",
       "      <td>...</td>\n",
       "      <td>0.250000</td>\n",
       "      <td>0.500000</td>\n",
       "      <td>0</td>\n",
       "      <td>0.055556</td>\n",
       "      <td>-0.720348</td>\n",
       "      <td>-0.341978</td>\n",
       "      <td>0.029571</td>\n",
       "      <td>0.149928</td>\n",
       "      <td>4.5</td>\n",
       "      <td>0.0</td>\n",
       "    </tr>\n",
       "    <tr>\n",
       "      <th>4</th>\n",
       "      <td>5</td>\n",
       "      <td>6</td>\n",
       "      <td>4</td>\n",
       "      <td>0</td>\n",
       "      <td>3.095696</td>\n",
       "      <td>5</td>\n",
       "      <td>9.250000</td>\n",
       "      <td>12</td>\n",
       "      <td>40</td>\n",
       "      <td>10</td>\n",
       "      <td>...</td>\n",
       "      <td>4.666667</td>\n",
       "      <td>3.055050</td>\n",
       "      <td>2</td>\n",
       "      <td>0.378378</td>\n",
       "      <td>0.413242</td>\n",
       "      <td>-0.054888</td>\n",
       "      <td>0.037941</td>\n",
       "      <td>0.350560</td>\n",
       "      <td>3.0</td>\n",
       "      <td>0.5</td>\n",
       "    </tr>\n",
       "  </tbody>\n",
       "</table>\n",
       "<p>5 rows × 27 columns</p>\n",
       "</div>"
      ],
      "text/plain": [
       "   user_id  next_purchase_day  user_total_prior_orders  \\\n",
       "0        1                 14                       10   \n",
       "1        2                 30                       14   \n",
       "2        3                 11                       12   \n",
       "3        4                 30                        5   \n",
       "4        5                  6                        4   \n",
       "\n",
       "   next_purchase_day_class  total_prior_products_count_std  \\\n",
       "0                        0                        1.523884   \n",
       "1                        0                        5.717238   \n",
       "2                        0                        2.103388   \n",
       "3                        0                        2.073644   \n",
       "4                        0                        3.095696   \n",
       "\n",
       "   total_prior_products_count_min  total_prior_products_count_mean  \\\n",
       "0                               4                         5.900000   \n",
       "1                               5                        13.928571   \n",
       "2                               5                         7.333333   \n",
       "3                               2                         3.600000   \n",
       "4                               5                         9.250000   \n",
       "\n",
       "   total_prior_products_count_max  total_inactive_days  inactive_days_min  \\\n",
       "0                               9                  176                  0   \n",
       "1                              26                  198                  3   \n",
       "2                              11                  133                  7   \n",
       "3                               7                   55                  0   \n",
       "4                              12                   40                 10   \n",
       "\n",
       "   ...  reordered_products_mean  reordered_products_std  \\\n",
       "0  ...                 4.555556                1.130388   \n",
       "1  ...                 7.153846                5.145324   \n",
       "2  ...                 5.000000                1.949359   \n",
       "3  ...                 0.250000                0.500000   \n",
       "4  ...                 4.666667                3.055050   \n",
       "\n",
       "   reordered_products_min  reordered_products_ratio  sin_dow_mean  \\\n",
       "0                       3                  0.694915      0.406078   \n",
       "1                       0                  0.476923      0.645213   \n",
       "2                       1                  0.625000      0.315896   \n",
       "3                       0                  0.055556     -0.720348   \n",
       "4                       2                  0.378378      0.413242   \n",
       "\n",
       "   cos_dow_mean  sin_dow_var  cos_dow_var  preferred_day_of_week  \\\n",
       "0     -0.335216     0.152256     0.206802                    2.5   \n",
       "1     -0.064170     0.138401     0.157277                    1.5   \n",
       "2      0.441856     0.061697     0.289846                    0.0   \n",
       "3     -0.341978     0.029571     0.149928                    4.5   \n",
       "4     -0.054888     0.037941     0.350560                    3.0   \n",
       "\n",
       "   is_weekend_preferred  \n",
       "0                   0.0  \n",
       "1                   0.0  \n",
       "2                   1.0  \n",
       "3                   0.0  \n",
       "4                   0.5  \n",
       "\n",
       "[5 rows x 27 columns]"
      ]
     },
     "execution_count": 9,
     "metadata": {},
     "output_type": "execute_result"
    }
   ],
   "source": [
    "users_df['is_weekend_preferred'] = (\n",
    "    list(prior_products_per_order.groupby('user_id')\n",
    "    ['is_weekend']\n",
    "    .apply(lambda x: x.mode().median())\n",
    "))\n",
    "users_df.head()"
   ]
  },
  {
   "cell_type": "markdown",
   "metadata": {},
   "source": [
    "# Get order hour of day  for each user from prior orders"
   ]
  },
  {
   "cell_type": "markdown",
   "metadata": {},
   "source": [
    "assign 0:morning hours 1:afternoon hours 2:night hours"
   ]
  },
  {
   "cell_type": "code",
   "execution_count": null,
   "metadata": {},
   "outputs": [],
   "source": [
    "col = 'order_hour_of_day'\n",
    "conditions = [prior_products_per_order[col]<=12,(prior_products_per_order[col]>12)& (prior_products_per_order[col]<=17), prior_products_per_order[col]>17 ]\n",
    "choices = ['1','2','3']\n",
    "\n",
    "prior_products_per_order['ordered_morning/afternoon/night']=np.select(conditions,choices,default=np.nan)\n",
    "prior_products_per_order.head()"
   ]
  },
  {
   "cell_type": "code",
   "execution_count": null,
   "metadata": {},
   "outputs": [],
   "source": [
    " users_df['preferred_time_of_day'] = (\n",
    "    list(prior_products_per_order.groupby('user_id')\n",
    "    ['ordered in morning/afternoon/night']\n",
    "    .apply(lambda x: x.mode().median())\n",
    "))\n",
    "users_df.head()"
   ]
  },
  {
   "cell_type": "markdown",
   "metadata": {},
   "source": [
    "#encoding-cyclical-features-24hour-time\n",
    "https://ianlondon.github.io/blog/encoding-cyclical-features-24hour-time/"
   ]
  },
  {
   "cell_type": "code",
   "execution_count": 10,
   "metadata": {},
   "outputs": [],
   "source": [
    "users_df = pd.read_csv('existing_users_df-new.csv')"
   ]
  },
  {
   "cell_type": "code",
   "execution_count": 13,
   "metadata": {},
   "outputs": [
    {
     "data": {
      "text/html": [
       "<div>\n",
       "<style scoped>\n",
       "    .dataframe tbody tr th:only-of-type {\n",
       "        vertical-align: middle;\n",
       "    }\n",
       "\n",
       "    .dataframe tbody tr th {\n",
       "        vertical-align: top;\n",
       "    }\n",
       "\n",
       "    .dataframe thead th {\n",
       "        text-align: right;\n",
       "    }\n",
       "</style>\n",
       "<table border=\"1\" class=\"dataframe\">\n",
       "  <thead>\n",
       "    <tr style=\"text-align: right;\">\n",
       "      <th></th>\n",
       "      <th>user_id</th>\n",
       "      <th>next_purchase_day</th>\n",
       "      <th>user_total_prior_orders</th>\n",
       "      <th>next_purchase_day_class</th>\n",
       "      <th>total_prior_products_count_std</th>\n",
       "      <th>total_prior_products_count_min</th>\n",
       "      <th>total_prior_products_count_mean</th>\n",
       "      <th>total_prior_products_count_max</th>\n",
       "      <th>total_inactive_days</th>\n",
       "      <th>inactive_days_min</th>\n",
       "      <th>...</th>\n",
       "      <th>food_products_min</th>\n",
       "      <th>total_non_food_products_count</th>\n",
       "      <th>non_food_products_max</th>\n",
       "      <th>non_food_products_mean</th>\n",
       "      <th>non_food_products_min</th>\n",
       "      <th>first_prod_dept_add_to_cart_mode</th>\n",
       "      <th>sin_hour_of_day_mean</th>\n",
       "      <th>cos_hour_of_day_mean</th>\n",
       "      <th>sin_hour_of_day_var</th>\n",
       "      <th>cos_hour_of_day_var</th>\n",
       "    </tr>\n",
       "  </thead>\n",
       "  <tbody>\n",
       "    <tr>\n",
       "      <th>0</th>\n",
       "      <td>1</td>\n",
       "      <td>14</td>\n",
       "      <td>10</td>\n",
       "      <td>0</td>\n",
       "      <td>1.523884</td>\n",
       "      <td>4</td>\n",
       "      <td>5.900000</td>\n",
       "      <td>9</td>\n",
       "      <td>176</td>\n",
       "      <td>0</td>\n",
       "      <td>...</td>\n",
       "      <td>4</td>\n",
       "      <td>0</td>\n",
       "      <td>0</td>\n",
       "      <td>0.0</td>\n",
       "      <td>0</td>\n",
       "      <td>7.0</td>\n",
       "      <td>0.372040</td>\n",
       "      <td>5.728287</td>\n",
       "      <td>0.558062</td>\n",
       "      <td>0.061666</td>\n",
       "    </tr>\n",
       "    <tr>\n",
       "      <th>1</th>\n",
       "      <td>2</td>\n",
       "      <td>30</td>\n",
       "      <td>14</td>\n",
       "      <td>0</td>\n",
       "      <td>5.717238</td>\n",
       "      <td>5</td>\n",
       "      <td>13.928571</td>\n",
       "      <td>26</td>\n",
       "      <td>198</td>\n",
       "      <td>3</td>\n",
       "      <td>...</td>\n",
       "      <td>5</td>\n",
       "      <td>0</td>\n",
       "      <td>0</td>\n",
       "      <td>0.0</td>\n",
       "      <td>0</td>\n",
       "      <td>19.0</td>\n",
       "      <td>0.366540</td>\n",
       "      <td>5.424379</td>\n",
       "      <td>0.122149</td>\n",
       "      <td>0.011310</td>\n",
       "    </tr>\n",
       "    <tr>\n",
       "      <th>2</th>\n",
       "      <td>3</td>\n",
       "      <td>11</td>\n",
       "      <td>12</td>\n",
       "      <td>0</td>\n",
       "      <td>2.103388</td>\n",
       "      <td>5</td>\n",
       "      <td>7.333333</td>\n",
       "      <td>11</td>\n",
       "      <td>133</td>\n",
       "      <td>7</td>\n",
       "      <td>...</td>\n",
       "      <td>5</td>\n",
       "      <td>0</td>\n",
       "      <td>0</td>\n",
       "      <td>0.0</td>\n",
       "      <td>0</td>\n",
       "      <td>16.0</td>\n",
       "      <td>5.426259</td>\n",
       "      <td>5.902420</td>\n",
       "      <td>0.020746</td>\n",
       "      <td>0.103490</td>\n",
       "    </tr>\n",
       "    <tr>\n",
       "      <th>3</th>\n",
       "      <td>4</td>\n",
       "      <td>30</td>\n",
       "      <td>5</td>\n",
       "      <td>0</td>\n",
       "      <td>2.073644</td>\n",
       "      <td>2</td>\n",
       "      <td>3.600000</td>\n",
       "      <td>7</td>\n",
       "      <td>55</td>\n",
       "      <td>0</td>\n",
       "      <td>...</td>\n",
       "      <td>2</td>\n",
       "      <td>0</td>\n",
       "      <td>0</td>\n",
       "      <td>0.0</td>\n",
       "      <td>0</td>\n",
       "      <td>5.0</td>\n",
       "      <td>6.143696</td>\n",
       "      <td>5.368745</td>\n",
       "      <td>0.135531</td>\n",
       "      <td>0.010715</td>\n",
       "    </tr>\n",
       "    <tr>\n",
       "      <th>4</th>\n",
       "      <td>5</td>\n",
       "      <td>6</td>\n",
       "      <td>4</td>\n",
       "      <td>0</td>\n",
       "      <td>3.095696</td>\n",
       "      <td>5</td>\n",
       "      <td>9.250000</td>\n",
       "      <td>12</td>\n",
       "      <td>40</td>\n",
       "      <td>10</td>\n",
       "      <td>...</td>\n",
       "      <td>5</td>\n",
       "      <td>0</td>\n",
       "      <td>0</td>\n",
       "      <td>0.0</td>\n",
       "      <td>0</td>\n",
       "      <td>14.5</td>\n",
       "      <td>5.552585</td>\n",
       "      <td>5.914400</td>\n",
       "      <td>0.175762</td>\n",
       "      <td>0.175343</td>\n",
       "    </tr>\n",
       "  </tbody>\n",
       "</table>\n",
       "<p>5 rows × 45 columns</p>\n",
       "</div>"
      ],
      "text/plain": [
       "   user_id  next_purchase_day  user_total_prior_orders  \\\n",
       "0        1                 14                       10   \n",
       "1        2                 30                       14   \n",
       "2        3                 11                       12   \n",
       "3        4                 30                        5   \n",
       "4        5                  6                        4   \n",
       "\n",
       "   next_purchase_day_class  total_prior_products_count_std  \\\n",
       "0                        0                        1.523884   \n",
       "1                        0                        5.717238   \n",
       "2                        0                        2.103388   \n",
       "3                        0                        2.073644   \n",
       "4                        0                        3.095696   \n",
       "\n",
       "   total_prior_products_count_min  total_prior_products_count_mean  \\\n",
       "0                               4                         5.900000   \n",
       "1                               5                        13.928571   \n",
       "2                               5                         7.333333   \n",
       "3                               2                         3.600000   \n",
       "4                               5                         9.250000   \n",
       "\n",
       "   total_prior_products_count_max  total_inactive_days  inactive_days_min  \\\n",
       "0                               9                  176                  0   \n",
       "1                              26                  198                  3   \n",
       "2                              11                  133                  7   \n",
       "3                               7                   55                  0   \n",
       "4                              12                   40                 10   \n",
       "\n",
       "   ...  food_products_min  total_non_food_products_count  \\\n",
       "0  ...                  4                              0   \n",
       "1  ...                  5                              0   \n",
       "2  ...                  5                              0   \n",
       "3  ...                  2                              0   \n",
       "4  ...                  5                              0   \n",
       "\n",
       "   non_food_products_max  non_food_products_mean  non_food_products_min  \\\n",
       "0                      0                     0.0                      0   \n",
       "1                      0                     0.0                      0   \n",
       "2                      0                     0.0                      0   \n",
       "3                      0                     0.0                      0   \n",
       "4                      0                     0.0                      0   \n",
       "\n",
       "   first_prod_dept_add_to_cart_mode  sin_hour_of_day_mean  \\\n",
       "0                               7.0              0.372040   \n",
       "1                              19.0              0.366540   \n",
       "2                              16.0              5.426259   \n",
       "3                               5.0              6.143696   \n",
       "4                              14.5              5.552585   \n",
       "\n",
       "   cos_hour_of_day_mean  sin_hour_of_day_var  cos_hour_of_day_var  \n",
       "0              5.728287             0.558062             0.061666  \n",
       "1              5.424379             0.122149             0.011310  \n",
       "2              5.902420             0.020746             0.103490  \n",
       "3              5.368745             0.135531             0.010715  \n",
       "4              5.914400             0.175762             0.175343  \n",
       "\n",
       "[5 rows x 45 columns]"
      ]
     },
     "execution_count": 13,
     "metadata": {},
     "output_type": "execute_result"
    }
   ],
   "source": [
    "prior_products_per_order['sin_order_hour_of_day'] = np.sin(2*np.pi*prior_products_per_order.order_hour_of_day/24)\n",
    "prior_products_per_order['cos_order_hour_of_day'] = np.cos(2*np.pi*prior_products_per_order.order_hour_of_day/24)\n",
    "users_df['sin_hour_of_day_mean'] = list(prior_products_per_order.groupby('user_id')['sin_order_hour_of_day'].aggregate(circmean))\n",
    "users_df['cos_hour_of_day_mean'] = list(prior_products_per_order.groupby('user_id')['cos_order_hour_of_day'].aggregate(circmean))\n",
    "users_df['sin_hour_of_day_var'] = list(prior_products_per_order.groupby('user_id')['sin_order_hour_of_day'].aggregate(circvar))\n",
    "users_df['cos_hour_of_day_var'] = list(prior_products_per_order.groupby('user_id')['cos_order_hour_of_day'].aggregate(circvar))\n",
    "\n",
    "users_df.head()\n"
   ]
  },
  {
   "cell_type": "markdown",
   "metadata": {},
   "source": [
    "# Get metrics of perishable products for each user"
   ]
  },
  {
   "cell_type": "markdown",
   "metadata": {},
   "source": [
    "perishable_products: \n",
    "Department_id, Department_name: 3,bakery 4,produce 12,meat seafood 16,dairy eggs 20,deli"
   ]
  },
  {
   "cell_type": "code",
   "execution_count": null,
   "metadata": {},
   "outputs": [],
   "source": [
    "perishable_department_id = [3,4,12,16,20]\n",
    "user_order_product_df['is_perishable_products'] = np.where(user_order_product_df.department_id.isin(perishable_department_id),1,0)\n",
    "user_order_product_df.head()"
   ]
  },
  {
   "cell_type": "code",
   "execution_count": null,
   "metadata": {},
   "outputs": [],
   "source": [
    "prior_products_per_order['perishable_products_count'] = list(user_order_product_df.groupby('order_id')['is_perishable_products'].agg('sum'))\n",
    "prior_products_per_order.head()"
   ]
  },
  {
   "cell_type": "code",
   "execution_count": null,
   "metadata": {},
   "outputs": [],
   "source": [
    "users_df['total_products_count'] = list(prior_products_per_order.groupby('user_id')['total_products'].agg('sum'))\n",
    "users_df['perishable_products_count'] = list(prior_products_per_order.groupby('user_id')['perishable_products_count'].agg('sum'))\n",
    "users_df['perishable_products_max'] = list(prior_products_per_order.groupby('user_id')['perishable_products_count'].agg('max'))\n",
    "users_df['perishable_products_average'] = list(prior_products_per_order.groupby('user_id')['perishable_products_count'].agg('mean'))\n",
    "users_df['perishable_products_min'] = list(prior_products_per_order.groupby('user_id')['perishable_products_count'].agg('min'))\n",
    "users_df.head()"
   ]
  },
  {
   "cell_type": "markdown",
   "metadata": {},
   "source": [
    "# Get metrics of food/nonfood products for each user"
   ]
  },
  {
   "cell_type": "code",
   "execution_count": null,
   "metadata": {},
   "outputs": [],
   "source": [
    "non_food_aisle_Id = [6, 11, 20, 22, 40, 41, 44, 47, 54, 55, 56, 60, 73, 74, \n",
    "        75, 80, 82, 85, 87, 97, 101, 102, 109, 114, 118, 126, \n",
    "        127, 132, 133]\n",
    "non_food_dept_Id = [2, 11, 17]\n",
    "user_order_product_df['is_food_product'] = np.where(user_order_product_df.department_id.isin(non_food_dept_Id) & \n",
    "                                                    user_order_product_df.aisle_id.isin(non_food_dept_Id),0,1)\n",
    "user_order_product_df.head()"
   ]
  },
  {
   "cell_type": "code",
   "execution_count": null,
   "metadata": {},
   "outputs": [],
   "source": [
    "prior_products_per_order['food_products_count'] = list(user_order_product_df.groupby('order_id')['is_food_product'].agg('sum'))\n",
    "prior_products_per_order.head()"
   ]
  },
  {
   "cell_type": "code",
   "execution_count": null,
   "metadata": {},
   "outputs": [],
   "source": [
    "users_df['total_food_products_count'] = list(prior_products_per_order.groupby('user_id')['food_products_count'].agg('sum'))\n",
    "users_df['food_products_max'] = list(prior_products_per_order.groupby('user_id')['food_products_count'].agg('max'))\n",
    "users_df['food_products_mean'] = list(prior_products_per_order.groupby('user_id')['food_products_count'].agg('mean'))\n",
    "users_df['food_products_min'] = list(prior_products_per_order.groupby('user_id')['food_products_count'].agg('min'))\n",
    "users_df.head()"
   ]
  },
  {
   "cell_type": "code",
   "execution_count": null,
   "metadata": {},
   "outputs": [],
   "source": [
    "user_order_product_df['is_non_food_product'] = np.where(user_order_product_df['is_food_product'],0,1) \n",
    "prior_products_per_order['non_food_products_count'] = list(user_order_product_df.groupby('order_id')['is_non_food_product'].agg('sum'))\n",
    "users_df['total_non_food_products_count'] = list(prior_products_per_order.groupby('user_id')['non_food_products_count'].agg('sum'))\n",
    "users_df['non_food_products_max'] = list(prior_products_per_order.groupby('user_id')['non_food_products_count'].agg('max'))\n",
    "users_df['non_food_products_mean'] = list(prior_products_per_order.groupby('user_id')['non_food_products_count'].agg('mean'))\n",
    "users_df['non_food_products_min'] = list(prior_products_per_order.groupby('user_id')['non_food_products_count'].agg('min'))\n",
    "users_df.head()"
   ]
  },
  {
   "cell_type": "markdown",
   "metadata": {},
   "source": [
    "# Get mode of department of first item added to cart"
   ]
  },
  {
   "cell_type": "code",
   "execution_count": null,
   "metadata": {},
   "outputs": [],
   "source": [
    "prior_products_per_order['first_prod_dept_add_to_cart'] = list(user_order_product_df[user_order_product_df.add_to_cart_order==1].sort_values(by=['order_id'],ascending=True)['department_id'])"
   ]
  },
  {
   "cell_type": "code",
   "execution_count": null,
   "metadata": {},
   "outputs": [],
   "source": [
    "first_order_df = user_order_product_df[user_order_product_df.order_number==1]\n",
    "first_order_df = first_order_df[first_order_df.add_to_cart_order==1]\n",
    "first_order_df.head()"
   ]
  },
  {
   "cell_type": "code",
   "execution_count": null,
   "metadata": {},
   "outputs": [],
   "source": [
    "first_order_df = first_order_df[['user_id', 'department_id']]\n",
    "first_order_df= first_order_df.sort_values(by=['user_id'],ascending=True)"
   ]
  },
  {
   "cell_type": "code",
   "execution_count": null,
   "metadata": {},
   "outputs": [],
   "source": [
    " users_df['first_prod_dept_add_to_cart_mode'] = (\n",
    "    list(prior_products_per_order.groupby('user_id')\n",
    "    ['first_prod_dept_add_to_cart']\n",
    "    .apply(lambda x: x.mode().median())\n",
    "))\n",
    "users_df.head()"
   ]
  },
  {
   "cell_type": "code",
   "execution_count": null,
   "metadata": {},
   "outputs": [],
   "source": [
    "users_df['first_prod_dept_add_to_cart_mode'] = list(prior_products_per_order.groupby('user_id')['first_prod_dept_add_to_cart'].apply(lambda x: x.mode() if len(x)==1 else 0)) "
   ]
  },
  {
   "cell_type": "markdown",
   "metadata": {},
   "source": [
    "# Divide the users into 3 classes based on next purchase day"
   ]
  },
  {
   "cell_type": "code",
   "execution_count": 17,
   "metadata": {},
   "outputs": [
    {
     "data": {
      "text/html": [
       "<div>\n",
       "<style scoped>\n",
       "    .dataframe tbody tr th:only-of-type {\n",
       "        vertical-align: middle;\n",
       "    }\n",
       "\n",
       "    .dataframe tbody tr th {\n",
       "        vertical-align: top;\n",
       "    }\n",
       "\n",
       "    .dataframe thead th {\n",
       "        text-align: right;\n",
       "    }\n",
       "</style>\n",
       "<table border=\"1\" class=\"dataframe\">\n",
       "  <thead>\n",
       "    <tr style=\"text-align: right;\">\n",
       "      <th></th>\n",
       "      <th>count</th>\n",
       "      <th>mean</th>\n",
       "      <th>std</th>\n",
       "      <th>min</th>\n",
       "      <th>25%</th>\n",
       "      <th>50%</th>\n",
       "      <th>75%</th>\n",
       "      <th>max</th>\n",
       "    </tr>\n",
       "    <tr>\n",
       "      <th>next_purchase_day_3class</th>\n",
       "      <th></th>\n",
       "      <th></th>\n",
       "      <th></th>\n",
       "      <th></th>\n",
       "      <th></th>\n",
       "      <th></th>\n",
       "      <th></th>\n",
       "      <th></th>\n",
       "    </tr>\n",
       "  </thead>\n",
       "  <tbody>\n",
       "    <tr>\n",
       "      <th>0</th>\n",
       "      <td>58593.0</td>\n",
       "      <td>4.466592</td>\n",
       "      <td>2.199556</td>\n",
       "      <td>0.0</td>\n",
       "      <td>3.0</td>\n",
       "      <td>5.0</td>\n",
       "      <td>6.0</td>\n",
       "      <td>7.0</td>\n",
       "    </tr>\n",
       "    <tr>\n",
       "      <th>1</th>\n",
       "      <td>84430.0</td>\n",
       "      <td>16.119886</td>\n",
       "      <td>6.209558</td>\n",
       "      <td>8.0</td>\n",
       "      <td>11.0</td>\n",
       "      <td>15.0</td>\n",
       "      <td>21.0</td>\n",
       "      <td>29.0</td>\n",
       "    </tr>\n",
       "    <tr>\n",
       "      <th>2</th>\n",
       "      <td>63186.0</td>\n",
       "      <td>30.000000</td>\n",
       "      <td>0.000000</td>\n",
       "      <td>30.0</td>\n",
       "      <td>30.0</td>\n",
       "      <td>30.0</td>\n",
       "      <td>30.0</td>\n",
       "      <td>30.0</td>\n",
       "    </tr>\n",
       "  </tbody>\n",
       "</table>\n",
       "</div>"
      ],
      "text/plain": [
       "                            count       mean       std   min   25%   50%  \\\n",
       "next_purchase_day_3class                                                   \n",
       "0                         58593.0   4.466592  2.199556   0.0   3.0   5.0   \n",
       "1                         84430.0  16.119886  6.209558   8.0  11.0  15.0   \n",
       "2                         63186.0  30.000000  0.000000  30.0  30.0  30.0   \n",
       "\n",
       "                           75%   max  \n",
       "next_purchase_day_3class              \n",
       "0                          6.0   7.0  \n",
       "1                         21.0  29.0  \n",
       "2                         30.0  30.0  "
      ]
     },
     "execution_count": 17,
     "metadata": {},
     "output_type": "execute_result"
    }
   ],
   "source": [
    "users_df['next_purchase_day_3class'] = 0\n",
    "users_df.loc[users_df.next_purchase_day>7,'next_purchase_day_3class'] = 1\n",
    "users_df.loc[users_df.next_purchase_day>29,'next_purchase_day_3class'] = 2\n",
    "\n",
    "users_df.groupby('next_purchase_day_3class')['next_purchase_day'].describe()"
   ]
  },
  {
   "cell_type": "code",
   "execution_count": 22,
   "metadata": {},
   "outputs": [
    {
     "name": "stdout",
     "output_type": "stream",
     "text": [
      "1    84430\n",
      "2    63186\n",
      "0    58593\n",
      "Name: next_purchase_day_3class, dtype: int64\n"
     ]
    },
    {
     "data": {
      "image/png": "[encoded data removed]",
      "text/plain": [
       "<Figure size 360x360 with 1 Axes>"
      ]
     },
     "metadata": {},
     "output_type": "display_data"
    }
   ],
   "source": [
    "# Data to plot\n",
    "sizes = users_df['next_purchase_day_3class'].value_counts()\n",
    "print(sizes)\n",
    "colors = [\"blue\",\"orange\",\"green\"] \n",
    "plt.rcParams['figure.figsize'] = 5,5\n",
    "# Plot\n",
    "plt.pie(sizes, explode=None, labels=[ '8-29 days', '30+ days', '0-7 days'], colors=colors,\n",
    "        autopct='%1.1f%%', shadow=True, startangle=270,)\n",
    "plt.title('next_purchase_day distribution Percentage of Users')\n",
    "plt.show()"
   ]
  },
  {
   "cell_type": "code",
   "execution_count": 19,
   "metadata": {},
   "outputs": [
    {
     "data": {
      "text/plain": [
       "<matplotlib.axes._subplots.AxesSubplot at 0x1bf00169978>"
      ]
     },
     "execution_count": 19,
     "metadata": {},
     "output_type": "execute_result"
    },
    {
     "data": {
      "image/png": "[encoded data removed]",
      "text/plain": [
       "<Figure size 360x360 with 1 Axes>"
      ]
     },
     "metadata": {
      "needs_background": "light"
     },
     "output_type": "display_data"
    }
   ],
   "source": [
    "sns.countplot(users_df['next_purchase_day_3class'], label = \"Count\")"
   ]
  },
  {
   "cell_type": "code",
   "execution_count": 23,
   "metadata": {},
   "outputs": [],
   "source": [
    "users_df.to_csv('existing_users_3classes_df.csv')\n",
    "#prior_products_per_order.to_csv('prior_products_per_order.csv')\n",
    "#user_order_product_df.to_csv('user_order_product_df.csv')"
   ]
  },
  {
   "cell_type": "code",
   "execution_count": 24,
   "metadata": {},
   "outputs": [],
   "source": [
    "users_df.to_pickle('existing_users_3classes_df.pickle')\n",
    "#prior_products_per_order.to_pickle('prior_products_per_order.pickle')\n",
    "#user_order_product_df.to_pickle('user_order_product_df.pickle')"
   ]
  },
  {
   "cell_type": "markdown",
   "metadata": {},
   "source": [
    "# Creating Additional Features after feature importance"
   ]
  },
  {
   "cell_type": "markdown",
   "metadata": {},
   "source": [
    "These new features focus more on the most recent orders for each user (last 3 orders) and get the days since prior order for each and the mean"
   ]
  },
  {
   "cell_type": "code",
   "execution_count": null,
   "metadata": {},
   "outputs": [],
   "source": [
    "orders_df = pd.read_sql('select user_id,order_number ,days_since_prior_order from orders where eval_set = \"prior\"', conn)"
   ]
  },
  {
   "cell_type": "code",
   "execution_count": null,
   "metadata": {},
   "outputs": [],
   "source": [
    "orders_df['user_last_order_number'] = (orders_df.sort_values(by=['user_id','order_number'],ascending=False).groupby('user_id',as_index=False)['order_number'].nth(0))\n",
    "(orders_df['user_last_order_number'])\n",
    "orders_df['before_last'] = (orders_df['user_last_order_number']-1).shift(-2)\n",
    "orders_df['before_before_last'] = (orders_df['user_last_order_number']-2).shift(-2)\n"
   ]
  },
  {
   "cell_type": "code",
   "execution_count": null,
   "metadata": {},
   "outputs": [],
   "source": [
    "orders_df['user_days_between_last_2_orders'] = (np.where(orders_df['order_number'] == \n",
    "                                                      orders_df['user_last_order_number'],\n",
    "                                                      orders_df['days_since_prior_order'],\n",
    "                                                      np.nan))\n",
    "orders_df['user_days_between_before_before_last_2_orders'] = (np.where(orders_df['order_number'] == \n",
    "                                                      orders_df['before_last'],\n",
    "                                                      orders_df['days_since_prior_order'],\n",
    "                                                      np.nan))\n",
    "orders_df['user_days_between_before_before_last_2_orders'] = (np.where(orders_df['order_number'] == \n",
    "                                                      orders_df['before_before_last'],\n",
    "                                                      orders_df['days_since_prior_order'],\n",
    "                                                      np.nan))\n",
    "orders_df.head(12)"
   ]
  },
  {
   "cell_type": "code",
   "execution_count": null,
   "metadata": {},
   "outputs": [],
   "source": [
    "users_df['days_since_prior_order_1'] = list(orders_df.groupby('user_id')['user_days_between_last_2_orders'].median())\n",
    "users_df['days_since_prior_order_2'] = list(orders_df.groupby('user_id')['user_days_between_before_last_2_orders'].median())\n",
    "users_df['days_since_prior_order_3'] = list(orders_df.groupby('user_id')['user_days_between_before_before_last_2_orders'].median())"
   ]
  },
  {
   "cell_type": "code",
   "execution_count": null,
   "metadata": {},
   "outputs": [],
   "source": [
    "users_df['days_between_last_3_orders_mean'] = (users_df['days_since_prior_order_1']+users_df['days_since_prior_order_2']+users_df['days_since_prior_order_3'])/3\n",
    "users_df.head()"
   ]
  },
  {
   "cell_type": "code",
   "execution_count": null,
   "metadata": {},
   "outputs": [],
   "source": [
    "users_df.to_pickle('existing_users_3classes_df-updatedfeatures.pickle')"
   ]
  },
  {
   "cell_type": "markdown",
   "metadata": {},
   "source": [
    "# Divide the users into 2 classes based on next purchase day"
   ]
  },
  {
   "cell_type": "code",
   "execution_count": null,
   "metadata": {},
   "outputs": [],
   "source": [
    "users_df['next_purchase_day_2class'] = 0\n",
    "users_df.loc[users_df.next_purchase_day>7,'next_purchase_day_2class'] = 1\n",
    "users_df.groupby('next_purchase_day_2class')['next_purchase_day'].describe()"
   ]
  },
  {
   "cell_type": "code",
   "execution_count": null,
   "metadata": {},
   "outputs": [],
   "source": [
    "# Data to plot\n",
    "sizes = users_df['next_purchase_day_2class'].value_counts()\n",
    "print(sizes)\n",
    "colors = [\"blue\",\"orange\"] \n",
    "plt.rcParams['figure.figsize'] = 5,5\n",
    "# Plot\n",
    "plt.pie(sizes, explode=None, labels=[ '>14 days', '<=14 days'], colors=colors,\n",
    "        autopct='%1.1f%%', shadow=True, startangle=270,)\n",
    "plt.title('next_purchase_day distribution Percentage of Users')\n",
    "plt.show()"
   ]
  },
  {
   "cell_type": "code",
   "execution_count": null,
   "metadata": {},
   "outputs": [],
   "source": [
    "users_df.to_pickle('existing_users_2classes_df.pickle')"
   ]
  }
 ],
 "metadata": {
  "kernelspec": {
   "display_name": "Python 3",
   "language": "python",
   "name": "python3"
  },
  "language_info": {
   "codemirror_mode": {
    "name": "ipython",
    "version": 3
   },
   "file_extension": ".py",
   "mimetype": "text/x-python",
   "name": "python",
   "nbconvert_exporter": "python",
   "pygments_lexer": "ipython3",
   "version": "3.7.3"
  }
 },
 "nbformat": 4,
 "nbformat_minor": 2
}
