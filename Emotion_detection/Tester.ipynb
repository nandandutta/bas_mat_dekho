{
 "cells": [
  {
   "cell_type": "code",
   "execution_count": 1,
   "metadata": {},
   "outputs": [
    {
     "name": "stderr",
     "output_type": "stream",
     "text": [
      "Using TensorFlow backend.\n"
     ]
    }
   ],
   "source": [
    "from __future__ import division\n",
    "from keras.models import Sequential\n",
    "from keras.layers import Dense\n",
    "from keras.models import model_from_json\n",
    "import numpy\n",
    "import os\n",
    "import numpy as np\n",
    "import cv2"
   ]
  },
  {
   "cell_type": "code",
   "execution_count": 2,
   "metadata": {},
   "outputs": [],
   "source": [
    "#loading the model\n",
    "json_file = open('emotion.json', 'r')\n",
    "loaded_model_json = json_file.read()"
   ]
  },
  {
   "cell_type": "code",
   "execution_count": 3,
   "metadata": {},
   "outputs": [
    {
     "name": "stderr",
     "output_type": "stream",
     "text": [
      "WARNING: Logging before flag parsing goes to stderr.\n",
      "W0607 12:02:35.612021 15472 deprecation_wrapper.py:119] From C:\\Users\\Administrator\\.conda\\envs\\tensorflow\\lib\\site-packages\\keras\\backend\\tensorflow_backend.py:517: The name tf.placeholder is deprecated. Please use tf.compat.v1.placeholder instead.\n",
      "\n",
      "W0607 12:02:35.640006 15472 deprecation_wrapper.py:119] From C:\\Users\\Administrator\\.conda\\envs\\tensorflow\\lib\\site-packages\\keras\\backend\\tensorflow_backend.py:4138: The name tf.random_uniform is deprecated. Please use tf.random.uniform instead.\n",
      "\n",
      "W0607 12:02:35.678982 15472 deprecation_wrapper.py:119] From C:\\Users\\Administrator\\.conda\\envs\\tensorflow\\lib\\site-packages\\keras\\backend\\tensorflow_backend.py:3976: The name tf.nn.max_pool is deprecated. Please use tf.nn.max_pool2d instead.\n",
      "\n",
      "W0607 12:02:35.685978 15472 deprecation_wrapper.py:119] From C:\\Users\\Administrator\\.conda\\envs\\tensorflow\\lib\\site-packages\\keras\\backend\\tensorflow_backend.py:131: The name tf.get_default_graph is deprecated. Please use tf.compat.v1.get_default_graph instead.\n",
      "\n",
      "W0607 12:02:35.688977 15472 deprecation_wrapper.py:119] From C:\\Users\\Administrator\\.conda\\envs\\tensorflow\\lib\\site-packages\\keras\\backend\\tensorflow_backend.py:133: The name tf.placeholder_with_default is deprecated. Please use tf.compat.v1.placeholder_with_default instead.\n",
      "\n",
      "W0607 12:02:35.706986 15472 deprecation.py:506] From C:\\Users\\Administrator\\.conda\\envs\\tensorflow\\lib\\site-packages\\keras\\backend\\tensorflow_backend.py:3445: calling dropout (from tensorflow.python.ops.nn_ops) with keep_prob is deprecated and will be removed in a future version.\n",
      "Instructions for updating:\n",
      "Please use `rate` instead of `keep_prob`. Rate should be set to `rate = 1 - keep_prob`.\n",
      "W0607 12:02:35.958842 15472 deprecation_wrapper.py:119] From C:\\Users\\Administrator\\.conda\\envs\\tensorflow\\lib\\site-packages\\keras\\backend\\tensorflow_backend.py:174: The name tf.get_default_session is deprecated. Please use tf.compat.v1.get_default_session instead.\n",
      "\n"
     ]
    },
    {
     "name": "stdout",
     "output_type": "stream",
     "text": [
      "Loaded model from disk\n"
     ]
    }
   ],
   "source": [
    "json_file.close()\n",
    "loaded_model = model_from_json(loaded_model_json)\n",
    "# load weights into new model\n",
    "loaded_model.load_weights(\"emotion.h5\")\n",
    "print(\"Loaded model from disk\")"
   ]
  },
  {
   "cell_type": "code",
   "execution_count": 4,
   "metadata": {},
   "outputs": [],
   "source": [
    "#setting image resizing parameters\n",
    "WIDTH = 48\n",
    "HEIGHT = 48\n",
    "x=None\n",
    "y=None\n",
    "labels = ['Angry', 'Disgust', 'Fear', 'Happy', 'Sad', 'Surprise', 'Neutral']"
   ]
  },
  {
   "cell_type": "code",
   "execution_count": 5,
   "metadata": {},
   "outputs": [
    {
     "name": "stdout",
     "output_type": "stream",
     "text": [
      "Emotion: Neutral\n",
      "Emotion: Neutral\n",
      "Emotion: Neutral\n",
      "Emotion: Neutral\n",
      "Emotion: Neutral\n",
      "Emotion: Sad\n",
      "Emotion: Neutral\n",
      "Emotion: Happy\n",
      "Emotion: Angry\n",
      "Emotion: Neutral\n",
      "Emotion: Happy\n",
      "Emotion: Neutral\n",
      "Emotion: Neutral\n",
      "Emotion: Neutral\n",
      "Emotion: Neutral\n",
      "Emotion: Neutral\n",
      "Emotion: Neutral\n",
      "Emotion: Neutral\n",
      "Emotion: Neutral\n",
      "Emotion: Neutral\n",
      "Emotion: Happy\n",
      "Emotion: Fear\n",
      "Emotion: Fear\n",
      "Emotion: Neutral\n",
      "Emotion: Neutral\n",
      "Emotion: Neutral\n",
      "Emotion: Neutral\n",
      "Emotion: Neutral\n",
      "Emotion: Neutral\n",
      "Emotion: Happy\n",
      "Emotion: Neutral\n",
      "Emotion: Neutral\n",
      "Emotion: Neutral\n",
      "Emotion: Neutral\n",
      "Emotion: Happy\n",
      "Emotion: Neutral\n",
      "Emotion: Happy\n",
      "Emotion: Neutral\n",
      "Emotion: Happy\n",
      "Emotion: Fear\n",
      "Emotion: Sad\n",
      "Emotion: Happy\n",
      "Emotion: Sad\n",
      "Emotion: Fear\n",
      "Emotion: Neutral\n",
      "Emotion: Happy\n",
      "Emotion: Happy\n",
      "Emotion: Happy\n",
      "Emotion: Fear\n",
      "Emotion: Happy\n",
      "Emotion: Neutral\n",
      "Emotion: Neutral\n",
      "Emotion: Neutral\n",
      "Emotion: Neutral\n",
      "Emotion: Happy\n",
      "Emotion: Happy\n",
      "Emotion: Happy\n",
      "Emotion: Happy\n",
      "Emotion: Neutral\n",
      "Emotion: Neutral\n",
      "Emotion: Neutral\n",
      "Emotion: Happy\n",
      "Emotion: Neutral\n",
      "Emotion: Neutral\n",
      "Emotion: Neutral\n",
      "Emotion: Neutral\n",
      "Emotion: Neutral\n",
      "Emotion: Neutral\n",
      "Emotion: Happy\n",
      "Emotion: Neutral\n",
      "Emotion: Neutral\n",
      "Emotion: Neutral\n",
      "Emotion: Happy\n",
      "Emotion: Neutral\n",
      "Emotion: Neutral\n",
      "Emotion: Happy\n",
      "Emotion: Neutral\n",
      "Emotion: Neutral\n",
      "Emotion: Neutral\n",
      "Emotion: Happy\n",
      "Emotion: Neutral\n"
     ]
    }
   ],
   "source": [
    "#loading image\n",
    "cap = cv2.VideoCapture(0)\n",
    "sampleNum = 0\n",
    "face_cascade = cv2.CascadeClassifier('haarcascade_frontalface_default.xml')\n",
    "while True:\n",
    "  ret, img = cap.read()\n",
    "  gray = cv2.cvtColor(img, cv2.COLOR_BGR2GRAY)\n",
    "  faces = face_cascade.detectMultiScale(gray, 1.3, 5)\n",
    "  for (x,y,w,h) in faces:\n",
    "    sampleNum = sampleNum+1\n",
    "    cv2.rectangle(img, (x,y), (x+w, y+h), (255,0,0), 2)\n",
    "    roi_gray = gray[y:y + h, x:x + w]\n",
    "    cropped_img = np.expand_dims(np.expand_dims(cv2.resize(roi_gray, (48, 48)), -1), 0)\n",
    "    cv2.normalize(cropped_img, cropped_img, alpha=0, beta=1, norm_type=cv2.NORM_L2, dtype=cv2.CV_32F)\n",
    "    #predicting the emotion\n",
    "    yhat= loaded_model.predict(cropped_img)\n",
    "    cv2.putText(img, labels[int(np.argmax(yhat))], (x, y), cv2.FONT_HERSHEY_SIMPLEX, 0.8, (0, 255, 0), 1, cv2.LINE_AA)\n",
    "    print(\"Emotion: \"+labels[int(np.argmax(yhat))])\n",
    "    cv2.waitKey(100)\n",
    "  cv2.imshow('img',img)\n",
    "  cv2.waitKey(1);\n",
    "  if sampleNum > 80:\n",
    "    break\n",
    "cv2.destroyAllWindows()"
   ]
  }
 ],
 "metadata": {
  "kernelspec": {
   "display_name": "Python 3",
   "language": "python",
   "name": "python3"
  },
  "language_info": {
   "codemirror_mode": {
    "name": "ipython",
    "version": 3
   },
   "file_extension": ".py",
   "mimetype": "text/x-python",
   "name": "python",
   "nbconvert_exporter": "python",
   "pygments_lexer": "ipython3",
   "version": "3.7.3"
  }
 },
 "nbformat": 4,
 "nbformat_minor": 2
}
