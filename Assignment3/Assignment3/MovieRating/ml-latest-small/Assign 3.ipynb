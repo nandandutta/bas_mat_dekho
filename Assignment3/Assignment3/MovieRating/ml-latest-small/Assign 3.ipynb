{
 "cells": [
  {
   "cell_type": "markdown",
   "metadata": {},
   "source": [
    "# Assignment 3"
   ]
  },
  {
   "cell_type": "code",
   "execution_count": 1,
   "metadata": {},
   "outputs": [],
   "source": [
    "import pandas as pd\n",
    "import numpy as np\n",
    "from surprise import KNNWithMeans,Dataset, accuracy,Reader\n",
    "from surprise.model_selection import train_test_split"
   ]
  },
  {
   "cell_type": "code",
   "execution_count": 2,
   "metadata": {},
   "outputs": [],
   "source": [
    "ratings = pd.read_csv(r\"C:\\Users\\Administrator\\Desktop\\machine\\Assignment3\\ml-latest-small\\ratings.csv\")\n",
    "movies = pd.read_csv(r\"C:\\Users\\Administrator\\Desktop\\machine\\Assignment3\\ml-latest-small\\movies.csv\")\n",
    "tags = pd.read_csv(r\"C:\\Users\\Administrator\\Desktop\\machine\\Assignment3\\ml-latest-small\\tags.csv\")\n",
    "links = pd.read_csv(r\"C:\\Users\\Administrator\\Desktop\\machine\\Assignment3\\ml-latest-small\\links.csv\")"
   ]
  },
  {
   "cell_type": "code",
   "execution_count": 3,
   "metadata": {},
   "outputs": [
    {
     "data": {
      "text/plain": [
       "(100836, 4)"
      ]
     },
     "execution_count": 3,
     "metadata": {},
     "output_type": "execute_result"
    }
   ],
   "source": [
    "ratings.shape"
   ]
  },
  {
   "cell_type": "code",
   "execution_count": 4,
   "metadata": {},
   "outputs": [
    {
     "data": {
      "text/plain": [
       "(9742, 3)"
      ]
     },
     "execution_count": 4,
     "metadata": {},
     "output_type": "execute_result"
    }
   ],
   "source": [
    "movies.shape"
   ]
  },
  {
   "cell_type": "code",
   "execution_count": 5,
   "metadata": {},
   "outputs": [
    {
     "data": {
      "text/plain": [
       "(3683, 4)"
      ]
     },
     "execution_count": 5,
     "metadata": {},
     "output_type": "execute_result"
    }
   ],
   "source": [
    "tags.shape"
   ]
  },
  {
   "cell_type": "code",
   "execution_count": 6,
   "metadata": {},
   "outputs": [
    {
     "data": {
      "text/plain": [
       "(9742, 3)"
      ]
     },
     "execution_count": 6,
     "metadata": {},
     "output_type": "execute_result"
    }
   ],
   "source": [
    "links.shape"
   ]
  },
  {
   "cell_type": "markdown",
   "metadata": {},
   "source": [
    "## 1. Create recommender system using ratings.csv file. "
   ]
  },
  {
   "cell_type": "code",
   "execution_count": 7,
   "metadata": {},
   "outputs": [
    {
     "data": {
      "text/html": [
       "<div>\n",
       "<style scoped>\n",
       "    .dataframe tbody tr th:only-of-type {\n",
       "        vertical-align: middle;\n",
       "    }\n",
       "\n",
       "    .dataframe tbody tr th {\n",
       "        vertical-align: top;\n",
       "    }\n",
       "\n",
       "    .dataframe thead th {\n",
       "        text-align: right;\n",
       "    }\n",
       "</style>\n",
       "<table border=\"1\" class=\"dataframe\">\n",
       "  <thead>\n",
       "    <tr style=\"text-align: right;\">\n",
       "      <th></th>\n",
       "      <th>userId</th>\n",
       "      <th>movieId</th>\n",
       "      <th>rating</th>\n",
       "      <th>timestamp</th>\n",
       "    </tr>\n",
       "  </thead>\n",
       "  <tbody>\n",
       "    <tr>\n",
       "      <th>0</th>\n",
       "      <td>1</td>\n",
       "      <td>1</td>\n",
       "      <td>4.0</td>\n",
       "      <td>964982703</td>\n",
       "    </tr>\n",
       "    <tr>\n",
       "      <th>1</th>\n",
       "      <td>1</td>\n",
       "      <td>3</td>\n",
       "      <td>4.0</td>\n",
       "      <td>964981247</td>\n",
       "    </tr>\n",
       "    <tr>\n",
       "      <th>2</th>\n",
       "      <td>1</td>\n",
       "      <td>6</td>\n",
       "      <td>4.0</td>\n",
       "      <td>964982224</td>\n",
       "    </tr>\n",
       "    <tr>\n",
       "      <th>3</th>\n",
       "      <td>1</td>\n",
       "      <td>47</td>\n",
       "      <td>5.0</td>\n",
       "      <td>964983815</td>\n",
       "    </tr>\n",
       "    <tr>\n",
       "      <th>4</th>\n",
       "      <td>1</td>\n",
       "      <td>50</td>\n",
       "      <td>5.0</td>\n",
       "      <td>964982931</td>\n",
       "    </tr>\n",
       "  </tbody>\n",
       "</table>\n",
       "</div>"
      ],
      "text/plain": [
       "   userId  movieId  rating  timestamp\n",
       "0       1        1     4.0  964982703\n",
       "1       1        3     4.0  964981247\n",
       "2       1        6     4.0  964982224\n",
       "3       1       47     5.0  964983815\n",
       "4       1       50     5.0  964982931"
      ]
     },
     "execution_count": 7,
     "metadata": {},
     "output_type": "execute_result"
    }
   ],
   "source": [
    "ratings.head()"
   ]
  },
  {
   "cell_type": "code",
   "execution_count": 11,
   "metadata": {},
   "outputs": [],
   "source": [
    "reader = Reader(rating_scale=(1,5))\n",
    "\n",
    "data = Dataset.load_from_df(ratings[[\"userId\",\"movieId\",\"rating\"]],reader)"
   ]
  },
  {
   "cell_type": "code",
   "execution_count": 12,
   "metadata": {},
   "outputs": [
    {
     "name": "stdout",
     "output_type": "stream",
     "text": [
      "Computing the msd similarity matrix...\n",
      "Done computing similarity matrix.\n",
      "RMSE: 0.7172\n",
      "RMSE = 0.7171845176760988\n"
     ]
    }
   ],
   "source": [
    "[trainset,testset] = train_test_split(data,test_size=.15,shuffle=True)\n",
    "\n",
    "recom = KNNWithMeans(k=70, sim_options={\"Name\":\"Cosine\",\"user_based\":True})\n",
    "\n",
    "recom.fit(data.build_full_trainset())\n",
    "\n",
    "test_pred = recom.test(testset)\n",
    "\n",
    "RMSE = accuracy.rmse(test_pred)\n",
    "\n",
    "print(\"RMSE =\",RMSE)"
   ]
  },
  {
   "cell_type": "markdown",
   "metadata": {},
   "source": [
    "## 2.Display predicted rating for a particular userID and MovieID combinations (both taken as keyboard input)"
   ]
  },
  {
   "cell_type": "code",
   "execution_count": 13,
   "metadata": {},
   "outputs": [
    {
     "name": "stdout",
     "output_type": "stream",
     "text": [
      "Enter user ID: 50\n",
      "Enter movie ID: 50\n",
      "The rating value for  userID: 50 and movieID: 50 is : 3.45\n"
     ]
    }
   ],
   "source": [
    "userID = int(input(\"Enter user ID: \"))\n",
    "movieID = int(input(\"Enter movie ID: \"))\n",
    "print(\"The rating value for  userID:\",userID, \"and\", \"movieID:\",movieID, \"is :\",round((recom.predict(userID,movieID)[3]),2))"
   ]
  },
  {
   "cell_type": "markdown",
   "metadata": {},
   "source": [
    "## 3. Recommend a user to watch top 10 movies, which has not watched yet (as per his rating predictions).Take userID as a keyboard input. Fix the threshold rating as 2.5"
   ]
  },
  {
   "cell_type": "code",
   "execution_count": 17,
   "metadata": {},
   "outputs": [
    {
     "name": "stdout",
     "output_type": "stream",
     "text": [
      "Enter the user id:300\n",
      "\n",
      "\n",
      "Sugested 10 movies for user 300 are listed below\n",
      "1 --> On the Beach (1959)\n",
      "2 --> The Big Bus (1976)\n",
      "3 --> Galaxy of Terror (Quest) (1981)\n",
      "4 --> Looker (1981)\n",
      "5 --> Alien Contamination (1980)\n",
      "6 --> Master of the Flying Guillotine (Du bi quan wang da po xue di zi) (1975)\n",
      "7 --> Jetée, La (1962)\n",
      "8 --> Unfaithfully Yours (1948)\n",
      "9 --> Match Factory Girl, The (Tulitikkutehtaan tyttö) (1990)\n",
      "10 --> Strictly Sexual (2008)\n"
     ]
    }
   ],
   "source": [
    "movies_lst = {} \n",
    "user_id = int(input(\"Enter the user id:\"))\n",
    "for movies_id in range(1,193609):\n",
    "    if recom.predict(user_id,mov_id)[3] > 2.5:\n",
    "        movies_lst[movies_id] = recom.predict(user_id,movies_id)[3]\n",
    "        \n",
    "        \n",
    "# finding 10 highest values in a Dictionary    \n",
    "  \n",
    "from collections import Counter\n",
    "k = Counter(mov_lst)\n",
    "\n",
    "high = k.most_common(10)\n",
    "print(\"\\n\")\n",
    "print(\"Sugested 10 movies for user {0} are listed below\".format(user_id))\n",
    "for i in range(10):\n",
    "    print(i+1,\"-->\",list(movies[movies.movieId==high[i][0]][\"title\"])[0])"
   ]
  },
  {
   "cell_type": "markdown",
   "metadata": {},
   "source": [
    "## 4.Display the MovieID, IMDB ID, Average User Rating (excluding predictions), genres and tag of all the movies found in Step 3 as a data frame"
   ]
  },
  {
   "cell_type": "code",
   "execution_count": 44,
   "metadata": {},
   "outputs": [],
   "source": [
    "avg_rating = {}\n",
    "for i in range(1,193609):\n",
    "    if (i==44)|(i==46)|(i==48):\n",
    "        pass\n",
    "    else:\n",
    "        avg_rating[i] = round((ratings[ratings.movieId == i]['rating'].mean()),2)"
   ]
  },
  {
   "cell_type": "code",
   "execution_count": 45,
   "metadata": {},
   "outputs": [
    {
     "data": {
      "text/html": [
       "<div>\n",
       "<style scoped>\n",
       "    .dataframe tbody tr th:only-of-type {\n",
       "        vertical-align: middle;\n",
       "    }\n",
       "\n",
       "    .dataframe tbody tr th {\n",
       "        vertical-align: top;\n",
       "    }\n",
       "\n",
       "    .dataframe thead th {\n",
       "        text-align: right;\n",
       "    }\n",
       "</style>\n",
       "<table border=\"1\" class=\"dataframe\">\n",
       "  <thead>\n",
       "    <tr style=\"text-align: right;\">\n",
       "      <th></th>\n",
       "      <th>movieId</th>\n",
       "      <th>rating</th>\n",
       "      <th>tag</th>\n",
       "      <th>imdbId</th>\n",
       "      <th>genres</th>\n",
       "    </tr>\n",
       "  </thead>\n",
       "  <tbody>\n",
       "    <tr>\n",
       "      <th>0</th>\n",
       "      <td>1</td>\n",
       "      <td>4.0</td>\n",
       "      <td>pixar</td>\n",
       "      <td>114709</td>\n",
       "      <td>Adventure|Animation|Children|Comedy|Fantasy</td>\n",
       "    </tr>\n",
       "    <tr>\n",
       "      <th>1</th>\n",
       "      <td>1</td>\n",
       "      <td>4.0</td>\n",
       "      <td>pixar</td>\n",
       "      <td>114709</td>\n",
       "      <td>Adventure|Animation|Children|Comedy|Fantasy</td>\n",
       "    </tr>\n",
       "    <tr>\n",
       "      <th>2</th>\n",
       "      <td>1</td>\n",
       "      <td>4.0</td>\n",
       "      <td>fun</td>\n",
       "      <td>114709</td>\n",
       "      <td>Adventure|Animation|Children|Comedy|Fantasy</td>\n",
       "    </tr>\n",
       "    <tr>\n",
       "      <th>3</th>\n",
       "      <td>3</td>\n",
       "      <td>4.0</td>\n",
       "      <td>moldy</td>\n",
       "      <td>113228</td>\n",
       "      <td>Comedy|Romance</td>\n",
       "    </tr>\n",
       "    <tr>\n",
       "      <th>4</th>\n",
       "      <td>3</td>\n",
       "      <td>4.0</td>\n",
       "      <td>old</td>\n",
       "      <td>113228</td>\n",
       "      <td>Comedy|Romance</td>\n",
       "    </tr>\n",
       "  </tbody>\n",
       "</table>\n",
       "</div>"
      ],
      "text/plain": [
       "   movieId  rating    tag  imdbId                                       genres\n",
       "0        1     4.0  pixar  114709  Adventure|Animation|Children|Comedy|Fantasy\n",
       "1        1     4.0  pixar  114709  Adventure|Animation|Children|Comedy|Fantasy\n",
       "2        1     4.0    fun  114709  Adventure|Animation|Children|Comedy|Fantasy\n",
       "3        3     4.0  moldy  113228                               Comedy|Romance\n",
       "4        3     4.0    old  113228                               Comedy|Romance"
      ]
     },
     "execution_count": 45,
     "metadata": {},
     "output_type": "execute_result"
    }
   ],
   "source": [
    "df = pd.merge(ratings[[\"movieId\",\"rating\"]],tags[[\"movieId\",\"tag\"]],how=\"left\",on=\"movieId\")\n",
    "\n",
    "df2 = pd.merge(df,links[[\"movieId\",\"imdbId\"]],how=\"left\",on=\"movieId\")\n",
    "df3 = pd.merge(df2,movies[[\"movieId\",\"genres\"]],how=\"left\",on=\"movieId\")\n",
    "df3.head()"
   ]
  },
  {
   "cell_type": "code",
   "execution_count": 46,
   "metadata": {},
   "outputs": [],
   "source": [
    "ls = []\n",
    "for i in range(10):\n",
    "    ls.append(high[i][0])\n",
    "df4 = df3[df3[\"movieId\"].isin(ls)]\n",
    "\n",
    "\n",
    "df4 = df4.drop(\"rating\",axis=1)"
   ]
  },
  {
   "cell_type": "code",
   "execution_count": 47,
   "metadata": {},
   "outputs": [],
   "source": [
    "id_ratings_pair = [(x,y) for x,y in avg_rating.items() if x in ls]\n",
    "\n",
    "new_ratings = []\n",
    "for i in range(len(id_ratings_pair)):\n",
    "    new_ratings.append(id_ratings_pair[i][1])\n"
   ]
  },
  {
   "cell_type": "code",
   "execution_count": 48,
   "metadata": {},
   "outputs": [
    {
     "data": {
      "text/plain": [
       "[4.5, 5.0, 5.0, 4.5, 5.0, 4.5, 4.5, 5.0, 5.0, 5.0]"
      ]
     },
     "execution_count": 48,
     "metadata": {},
     "output_type": "execute_result"
    }
   ],
   "source": [
    "new_ratings"
   ]
  },
  {
   "cell_type": "code",
   "execution_count": null,
   "metadata": {},
   "outputs": [],
   "source": []
  }
 ],
 "metadata": {
  "kernelspec": {
   "display_name": "Python 3",
   "language": "python",
   "name": "python3"
  },
  "language_info": {
   "codemirror_mode": {
    "name": "ipython",
    "version": 3
   },
   "file_extension": ".py",
   "mimetype": "text/x-python",
   "name": "python",
   "nbconvert_exporter": "python",
   "pygments_lexer": "ipython3",
   "version": "3.7.3"
  }
 },
 "nbformat": 4,
 "nbformat_minor": 2
}
