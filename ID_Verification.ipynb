{
 "cells": [
  {
   "cell_type": "code",
   "execution_count": null,
   "metadata": {},
   "outputs": [],
   "source": [
    "import cv2, pytesseract, re, json, sys, requests\n",
    "from flask import Flask,render_template,url_for,request\n",
    "import re\n",
    "import pandas as pd\n",
    "import numpy as np\n",
    "import spacy\n",
    "from spacy import displacy\n",
    "import en_core_web_sm\n",
    "nlp = spacy.load('en_core_web_sm')\n",
    "from PIL import Image"
   ]
  },
  {
   "cell_type": "code",
   "execution_count": null,
   "metadata": {},
   "outputs": [],
   "source": [
    "pytesseract.pytesseract.tesseract_cmd = 'C:/Program Files/Tesseract-OCR/tesseract'\n",
    "TESSDATA_PREFIX = 'C:/Program Files/Tesseract-O'"
   ]
  },
  {
   "cell_type": "code",
   "execution_count": null,
   "metadata": {},
   "outputs": [],
   "source": [
    "def ocr_core(file):\n",
    "    #img = cv2.imdecode(np.fromstring(request.files['file'].read(), np.uint8), cv2.IMREAD_UNCHANGED)\n",
    "    img = cv2.imread(file)\n",
    "    img=cv2.resize(img,None,fx=0.4,fy=0.4)\n",
    "    img1 = cv2.cvtColor(img, cv2.COLOR_BGR2GRAY)\n",
    "    img2 = cv2.adaptiveThreshold(img1, 255, cv2.ADAPTIVE_THRESH_GAUSSIAN_C, cv2.THRESH_BINARY, 65, 2)\n",
    "    config=\"--psm 3\"\n",
    "    OCR_extraction = pytesseract.image_to_string(img)\n",
    "    return OCR_extraction"
   ]
  },
  {
   "cell_type": "code",
   "execution_count": null,
   "metadata": {},
   "outputs": [],
   "source": [
    "print(ocr_core('Pan.jpg'))"
   ]
  },
  {
   "cell_type": "code",
   "execution_count": null,
   "metadata": {},
   "outputs": [],
   "source": [
    "# define a folder to store and later serve the images\n",
    "UPLOAD_FOLDER = '/static/uploads/'\n",
    "# allow files of a specific type\n",
    "ALLOWED_EXTENSIONS = set(['png', 'jpg', 'jpeg'])"
   ]
  },
  {
   "cell_type": "code",
   "execution_count": null,
   "metadata": {},
   "outputs": [],
   "source": [
    "app = Flask(__name__)\n",
    "app.config['UPLOAD_FOLDER'] = UPLOAD_FOLDER\n",
    "# function to check the file extension\n",
    "def allowed_file(filename):\n",
    "    return '.' in filename and \\\n",
    "           filename.rsplit('.', 1)[1].lower() in ALLOWED_EXTENSIONS"
   ]
  },
  {
   "cell_type": "code",
   "execution_count": null,
   "metadata": {},
   "outputs": [],
   "source": [
    "'''@app.route('/')\n",
    "def upload():\n",
    "    return render_template(\"index.html\")'''"
   ]
  },
  {
   "cell_type": "code",
   "execution_count": null,
   "metadata": {},
   "outputs": [],
   "source": [
    "# route and function to handle the upload page\n",
    "@app.route('/', methods=['GET', 'POST'])\n",
    "def uploa():\n",
    "    global file,file1\n",
    "    #file=request.file\n",
    "    file1=request.files\n",
    "    if request.method == 'POST':\n",
    "        # check if there is a file in the request\n",
    "        if 'file' not in request.files:\n",
    "            return render_template('upload.html', msg='No file selected')\n",
    "            #file = request.files['file']\n",
    "        # if no file is selected\n",
    "       # if file.filename == '':\n",
    "           # return render_template('upload.html', msg='No file selected')\n",
    "\n",
    "        if file1['file'] and allowed_file(file1['file'].filename):\n",
    "            OCR_extraction = ocr_core(file1)\n",
    "\n",
    "            return render_template('upload.html',\n",
    "                                   msg='Successfully processed',\n",
    "                                   extracted_text=OCR_extraction,\n",
    "                                   img_src=UPLOAD_FOLDER + file.filename)\n",
    "    elif request.method == 'GET':\n",
    "        return render_template('upload.html')"
   ]
  },
  {
   "cell_type": "code",
   "execution_count": null,
   "metadata": {},
   "outputs": [],
   "source": [
    "file1['file'].filename"
   ]
  },
  {
   "cell_type": "code",
   "execution_count": null,
   "metadata": {},
   "outputs": [],
   "source": [
    "if __name__ == '__main__':\n",
    "    app.run()"
   ]
  },
  {
   "cell_type": "code",
   "execution_count": null,
   "metadata": {},
   "outputs": [],
   "source": []
  },
  {
   "cell_type": "code",
   "execution_count": null,
   "metadata": {},
   "outputs": [],
   "source": []
  },
  {
   "cell_type": "code",
   "execution_count": null,
   "metadata": {},
   "outputs": [],
   "source": []
  },
  {
   "cell_type": "code",
   "execution_count": null,
   "metadata": {},
   "outputs": [],
   "source": [
    "@app.route('/process',methods=[\"POST\"])\n",
    "def process():\n",
    "    if request.method == 'POST':\n",
    "        img = request.form['image']\n",
    "        img = cv2.imread(\"img\")\n",
    "        img = cv2.cvtColor(img, cv2.COLOR_BGR2GRAY)\n",
    "        img = cv2.GaussianBlur(img,(5,5),0)\n",
    "        img = cv2.threshold(img, 100, 255, cv2.THRESH_OTSU | cv2.THRESH_BINARY)[1]\n",
    "        OCR_extraction = pytesseract.image_to_string(img)\n",
    "    return render_template(\"index.html\",results=OCR_extraction)"
   ]
  },
  {
   "cell_type": "code",
   "execution_count": null,
   "metadata": {},
   "outputs": [],
   "source": [
    "if __name__ == '__main__':\n",
    "    app.run()"
   ]
  },
  {
   "cell_type": "code",
   "execution_count": null,
   "metadata": {},
   "outputs": [],
   "source": []
  }
 ],
 "metadata": {
  "kernelspec": {
   "display_name": "Python 3",
   "language": "python",
   "name": "python3"
  },
  "language_info": {
   "codemirror_mode": {
    "name": "ipython",
    "version": 3
   },
   "file_extension": ".py",
   "mimetype": "text/x-python",
   "name": "python",
   "nbconvert_exporter": "python",
   "pygments_lexer": "ipython3",
   "version": "3.7.3"
  }
 },
 "nbformat": 4,
 "nbformat_minor": 2
}
